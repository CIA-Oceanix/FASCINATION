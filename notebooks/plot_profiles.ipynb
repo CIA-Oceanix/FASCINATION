{
 "cells": [
  {
   "cell_type": "code",
   "execution_count": 1,
   "metadata": {},
   "outputs": [],
   "source": [
    "import os \n",
    "\n",
    "#sys.path.insert(0,\"/homes/o23gauvr/Documents/thèse/code/FASCINATION/\")\n",
    "running_path = \"/homes/o23gauvr/Documents/thèse/code/FASCINATION/\"\n",
    "os.chdir(running_path)"
   ]
  },
  {
   "cell_type": "code",
   "execution_count": 2,
   "metadata": {},
   "outputs": [
    {
     "name": "stderr",
     "output_type": "stream",
     "text": [
      "Matplotlib is building the font cache; this may take a moment.\n"
     ]
    }
   ],
   "source": [
    "import torch\n",
    "import matplotlib.pyplot as plt\n",
    "import torch.nn.functional as F\n",
    "import hydra\n",
    "import pickle\n",
    "from src.utils import get_cfg_from_ckpt_path\n",
    "from sklearn.decomposition import PCA\n",
    "import numpy as np\n",
    "from tqdm import tqdm\n",
    "\n",
    "from src.utils import *\n"
   ]
  },
  {
   "cell_type": "code",
   "execution_count": 3,
   "metadata": {},
   "outputs": [],
   "source": [
    "plt.style.use('ggplot')"
   ]
  },
  {
   "cell_type": "code",
   "execution_count": 4,
   "metadata": {},
   "outputs": [],
   "source": [
    "cmap = plt.get_cmap('viridis')"
   ]
  },
  {
   "cell_type": "code",
   "execution_count": 5,
   "metadata": {},
   "outputs": [],
   "source": [
    "gpu = None\n",
    "    \n",
    "if torch.cuda.is_available() and gpu is not None:\n",
    "##This may not be necessary outside the notebook\n",
    "    dev = f\"cuda:{gpu}\"\n",
    "else:\n",
    "    dev = \"cpu\"\n",
    "\n",
    "device = torch.device(dev)"
   ]
  },
  {
   "cell_type": "code",
   "execution_count": 6,
   "metadata": {},
   "outputs": [
    {
     "name": "stderr",
     "output_type": "stream",
     "text": [
      "/Odyssey/private/o23gauvr/miniconda3/envs/fsc_env/lib/python3.12/site-packages/sklearn/base.py:376: InconsistentVersionWarning: Trying to unpickle estimator PCA from version 1.4.0 when using version 1.5.1. This might lead to breaking code or invalid results. Use at your own risk. For more info please refer to:\n",
      "https://scikit-learn.org/stable/model_persistence.html#security-maintainability-limitations\n",
      "  warnings.warn(\n"
     ]
    }
   ],
   "source": [
    "load_pca = True\n",
    "\n",
    "if load_pca:\n",
    "    with open(\"pickle/trained_pca_on_dm_3D_norm_False.pkl\", \"rb\") as file:\n",
    "        pca_dict = pickle.load(file)   \n",
    "else:\n",
    "    pca_dict = {}"
   ]
  },
  {
   "cell_type": "code",
   "execution_count": 7,
   "metadata": {},
   "outputs": [
    {
     "name": "stdout",
     "output_type": "stream",
     "text": [
      "Initializing datamodule\n"
     ]
    }
   ],
   "source": [
    "try:\n",
    "    if dm_dict:\n",
    "        print(\"Not reloading datamodule\")\n",
    "\n",
    "except:\n",
    "    \n",
    "    dm_dict = {}\n",
    "    n_components = 0\n",
    "    print(\"Initializing datamodule\")"
   ]
  },
  {
   "cell_type": "markdown",
   "metadata": {},
   "source": [
    "# Useful functions"
   ]
  },
  {
   "cell_type": "code",
   "execution_count": 8,
   "metadata": {},
   "outputs": [],
   "source": [
    "\n",
    "def plot_unorm_ssp_2D(unorm_test_truth_ssp_arr,\n",
    "                      unorm_test_pca_ssp_arr,\n",
    "                      unorm_test_ae_ssp_arr, \n",
    "                      dm,\n",
    "                      bottleneck_shape_tuple,\n",
    "                      t,\n",
    "                      lat):\n",
    "    \n",
    "    \n",
    "    depth_array = dm.depth_array\n",
    "    coords = dm.coords\n",
    "    \n",
    "    unorm_test_truth_ssp_arr_2D = unorm_test_truth_ssp_arr[t,:,lat,:]\n",
    "    unorm_test_ae_ssp_arr_2D = unorm_test_ae_ssp_arr[t,:,lat,:]\n",
    "    unorm_test_pca_ssp_arr_2D = unorm_test_pca_ssp_arr[t,:,lat,:]\n",
    "    \n",
    "    \n",
    "    fig,axs = plt.subplots(1,3,figsize=(25,6), gridspec_kw={'width_ratios': [1, 1, 1]})\n",
    "\n",
    "    im1 = axs[0].imshow(unorm_test_truth_ssp_arr_2D, cmap=cmap, aspect = \"equal\")  \n",
    "    im2 = axs[1].imshow(unorm_test_pca_ssp_arr_2D, cmap=cmap, aspect = \"equal\")\n",
    "    im3 = axs[2].imshow(unorm_test_ae_ssp_arr_2D, cmap=cmap, aspect = \"equal\")\n",
    "    \n",
    "    \n",
    "\n",
    "    ecs_truth_idx_2D = np.argmax(unorm_test_truth_ssp_arr_2D,axis=0)\n",
    "    ecs_truth_2D = depth_array[ecs_truth_idx_2D]\n",
    "    \n",
    "    ecs_pca_idx_2D = np.argmax(unorm_test_pca_ssp_arr_2D,axis=0)\n",
    "    ecs_pca_2D = depth_array[ecs_pca_idx_2D]\n",
    "    \n",
    "    ecs_ae_idx_2D = np.argmax(unorm_test_ae_ssp_arr_2D,axis=0)\n",
    "    ecs_ae_2D = depth_array[ecs_ae_idx_2D]\n",
    "\n",
    "    axs[0].plot(ecs_truth_idx_2D, label = \"ECS\")\n",
    "    axs[1].plot(ecs_pca_idx_2D, label = f\"ECS RMSE={np.sqrt(np.mean((ecs_truth_2D-ecs_pca_2D)**2)):.2f}m\")\n",
    "    axs[2].plot(ecs_ae_idx_2D, label = f\"ECS RMSE ={np.sqrt(np.mean((ecs_truth_2D-ecs_ae_2D)**2)):.2f}m\")\n",
    "    \n",
    "    \n",
    "\n",
    "\n",
    "    y_tick_indices = np.linspace(0, len(depth_array) - 1, 5, dtype=int)\n",
    "    y_tick_values = depth_array[y_tick_indices]\n",
    "\n",
    "    x_tick_indices = np.linspace(0, len(coords[\"lon\"].data) - 1, 10, dtype=int)\n",
    "    x_tick_values = coords[\"lon\"].data[x_tick_indices]\n",
    "    \n",
    "    \n",
    "    \n",
    "    \n",
    "    for ax in axs[:]:\n",
    "\n",
    "        ax.set_yticks(y_tick_indices)\n",
    "        ax.set_yticklabels([str(y) for y in y_tick_values.astype((np.int16))])\n",
    "        \n",
    "        ax.set_xticks(x_tick_indices)\n",
    "        ax.set_xticklabels([str(y) for y in x_tick_values.astype((np.int16))])\n",
    "        ax.grid(False)\n",
    "        \n",
    "        ax.set_xlabel(\"Longitude (°)\")\n",
    "        ax.legend(loc = \"lower left\")\n",
    "        \n",
    "\n",
    "    ae_bottleneck_shape,n_components = bottleneck_shape_tuple\n",
    "    compression_rate_pca = len(depth_array)/n_components\n",
    "    compression_rate_ae = np.prod(dm.test_shape)/np.prod(ae_bottleneck_shape)\n",
    "\n",
    "    axs[0].set_title(\"Ground truth\", fontsize = 10)\n",
    "    axs[1].set_title(f\"PCA reconstruction\\n{n_components} depth components, compression rate: {np.round(compression_rate_pca,2)} \\nRMSE={np.sqrt(np.mean((unorm_test_truth_ssp_arr_2D-unorm_test_pca_ssp_arr_2D)**2)):.8f}m\", fontsize = 10) #/np.sum(ssp_truth_unorm_test_arr**2))*100\n",
    "    axs[2].set_title(f\"AE reconstruction\\nbottleneck shape:{list(ae_bottleneck_shape)}, compression rate: {np.round(compression_rate_ae,2)} \\nRMSE={np.sqrt(np.mean((unorm_test_truth_ssp_arr_2D-unorm_test_ae_ssp_arr_2D)**2)):.8f}m\", fontsize = 10) #/np.sum(ssp_truth_unorm_test_arr**2))*100\n",
    "\n",
    "    axs[0].set_ylabel('Depth (m)')\n",
    "\n",
    "\n",
    "    cbar = fig.colorbar(im3, ax=axs.ravel().tolist(), shrink = 0.5, aspect=12, pad = 0.02)\n",
    "    cbar.set_label(\"m/s\")\n",
    "\n",
    "    min_val, max_val = im3.get_clim()\n",
    "    ticks = np.linspace(min_val, max_val, 4)\n",
    "    cbar.set_ticks(ticks)\n",
    "    cbar.set_ticklabels([f'{tick:.0f}' for tick in ticks])\n",
    "\n",
    "    #fig.tight_layout()\n",
    "\n",
    "    fig.suptitle(f\"Sound Speed reconstruction\",x = 0.45, y = 0.80)\n",
    "    \n",
    "    \n"
   ]
  },
  {
   "cell_type": "code",
   "execution_count": 9,
   "metadata": {},
   "outputs": [],
   "source": [
    "def plot_norm_ssp_2D(norm_test_truth_ssp_arr,\n",
    "                     norm_test_ae_ssp_arr, \n",
    "                     dm,\n",
    "                     ae_bottleneck_shape,\n",
    "                     t,\n",
    "                     lat):\n",
    "    \n",
    "    \n",
    "    coords = dm.coords\n",
    "    \n",
    "    \n",
    "    norm_test_truth_ssp_arr_2D = norm_test_truth_ssp_arr[t,:,lat,:]\n",
    "    norm_test_ae_ssp_arr_2D = norm_test_ae_ssp_arr[t,:,lat,:]\n",
    "    \n",
    "    \n",
    "    fig,axs = plt.subplots(1,2,figsize=(19,7), gridspec_kw={'width_ratios': [1, 1]})\n",
    "\n",
    "    im1 = axs[0].imshow(norm_test_truth_ssp_arr_2D, cmap=cmap, aspect = \"equal\")  \n",
    "    im2 = axs[1].imshow(norm_test_ae_ssp_arr_2D, cmap=cmap, aspect = \"equal\")\n",
    "    \n",
    "    \n",
    "\n",
    "    # ecs_truth_idx_2D = np.argmax(norm_test_truth_ssp_arr_2D,axis=0)\n",
    "    # ecs_truth_2D = depth_array[ecs_truth_idx_2D]\n",
    "    \n",
    "    # ecs_ae_idx_2D = np.argmax(norm_test_ae_ssp_arr_2D,axis=0)\n",
    "    # ecs_ae_2D = depth_array[ecs_truth_idx_2D]\n",
    "\n",
    "    # axs[0].plot(ecs_truth_idx_2D, label = \"ECS\")\n",
    "    # axs[1].plot(ecs_ae_idx_2D, label = f\"ECS RMSE ={np.sqrt(np.mean((ecs_truth_2D-ecs_ae_2D)**2)):.2f}m\")\n",
    "    \n",
    "    \n",
    "\n",
    "\n",
    "    y_tick_indices = np.linspace(0, len(coords[\"z\"].data) - 1, 5, dtype=int)\n",
    "    y_tick_values = coords[\"z\"].data[y_tick_indices]\n",
    "\n",
    "    x_tick_indices = np.linspace(0, len(coords[\"lon\"].data) - 1, 10, dtype=int)\n",
    "    x_tick_values = coords[\"lon\"].data[x_tick_indices]\n",
    "    \n",
    "    \n",
    "    \n",
    "    \n",
    "    for ax in axs[:]:\n",
    "        \n",
    "        ax.set_yticks(y_tick_indices)\n",
    "        ax.set_yticklabels([str(y) for y in y_tick_values.astype((np.int16))])\n",
    "        \n",
    "        ax.set_xticks(x_tick_indices)\n",
    "        ax.set_xticklabels([str(y) for y in x_tick_values.astype((np.int16))])\n",
    "        ax.grid(False)\n",
    "        \n",
    "        ax.set_xlabel(\"Longitude (°)\")\n",
    "\n",
    "\n",
    "    compression_rate_ae = np.prod(dm.test_shape)/np.prod(ae_bottleneck_shape)\n",
    "\n",
    "    axs[0].set_title(\"Ground truth\", fontsize = 10)\n",
    "    axs[1].set_title(f\"AE reconstruction\\nbottleneck shape:{list(ae_bottleneck_shape)}, compression rate: {np.round(compression_rate_ae,2)} \\nRMSE={np.sqrt(np.mean((norm_test_truth_ssp_arr_2D-norm_test_ae_ssp_arr_2D)**2)):.8f}\", fontsize = 10) #/np.sum(ssp_truth_norm_test_arr**2))*100\n",
    "\n",
    "    axs[0].set_ylabel('z')\n",
    "\n",
    "\n",
    "    cbar = fig.colorbar(im2, ax=axs.ravel().tolist(), shrink = 0.5, aspect=12, pad = 0.02)\n",
    "    cbar.set_label(\"normalized\")\n",
    "\n",
    "    min_val, max_val = im2.get_clim()\n",
    "    ticks = np.linspace(min_val, max_val, 4)\n",
    "    cbar.set_ticks(ticks)\n",
    "    cbar.set_ticklabels([f'{tick:.0f}' for tick in ticks])\n",
    "\n",
    "    #fig.tight_layout()\n",
    "\n",
    "    fig.suptitle(f\"Normalized Sound Speed reconstruction\",x = 0.45, y = 0.80)\n",
    "    \n",
    "    \n"
   ]
  },
  {
   "cell_type": "code",
   "execution_count": 10,
   "metadata": {},
   "outputs": [],
   "source": [
    "def plot_imgs_depth_lon_filtered_2D(ssp_truth_unorm_test_arr,\n",
    "                                    ssp_ae_unorm_test_arr,  \n",
    "                                    ssp_3D_median,\n",
    "                                    ecs_truth,\n",
    "                                    ecs_pred_ae,\n",
    "                                    ecs_pred_ae_median,\n",
    "                                    depth_array,\n",
    "                                    coords,\n",
    "                                    compression_rate_ae, \n",
    "                                    bottleneck_shape,\n",
    "                                    median_kernel):\n",
    "    \n",
    "    fig,axs = plt.subplots(1,3,figsize=(25,6), gridspec_kw={'width_ratios': [1, 1, 1]})\n",
    "\n",
    "    im1 = axs[0].imshow(ssp_truth_unorm_test_arr, cmap=cmap, aspect = \"equal\")  \n",
    "    im2 = axs[1].imshow(ssp_ae_unorm_test_arr, cmap=cmap, aspect = \"equal\")\n",
    "    im3 = axs[2].imshow(ssp_3D_median, cmap=cmap, aspect = \"equal\")\n",
    "\n",
    "\n",
    "    y_tick_indices = np.linspace(0, len(depth_array) - 1, 5, dtype=int)\n",
    "    y_tick_values = depth_array[y_tick_indices]\n",
    "\n",
    "    x_tick_indices = np.linspace(0, len(coords[\"lon\"].data) - 1, 10, dtype=int)\n",
    "    x_tick_values = coords[\"lon\"].data[x_tick_indices]\n",
    "    \n",
    "\n",
    "    indices_ecs_truth = np.searchsorted(depth_array, ecs_truth.detach().cpu().numpy())\n",
    "    indices_ecs_ae = np.searchsorted(depth_array, ecs_pred_ae.detach().cpu().numpy())\n",
    "    indices_ecs_ae_median  = np.searchsorted(depth_array, ecs_pred_ae_median.flatten().detach().cpu().numpy())\n",
    "\n",
    "\n",
    "    axs[0].plot(indices_ecs_truth, label = \"ECS\")\n",
    "    axs[1].plot(indices_ecs_ae, label = f\"ECS RMSE={np.round(torch.sqrt(torch.mean((ecs_truth-ecs_pred_ae)**2)).item(),2)}m\")\n",
    "    axs[2].plot(indices_ecs_ae_median, label = f\"ECS RMSE ={np.round(torch.sqrt(torch.mean((ecs_truth-ecs_pred_ae_median)**2)).item(),2)}m\")\n",
    "\n",
    "\n",
    "    for ax in axs[:]:\n",
    "        ax.set_yticks(y_tick_indices)\n",
    "        ax.set_yticklabels([str(y) for y in y_tick_values.astype((np.int16))])\n",
    "        \n",
    "        ax.set_xticks(x_tick_indices)\n",
    "        ax.set_xticklabels([str(y) for y in x_tick_values.astype((np.int16))])\n",
    "        ax.grid(False)\n",
    "        \n",
    "        ax.set_xlabel(\"Longitude (°)\")\n",
    "        ax.legend(loc = \"lower left\")\n",
    "        \n",
    "        #ax.invert_yaxis() \n",
    "\n",
    "    axs[0].set_title(\"Ground truth\", fontsize = 10)\n",
    "    axs[1].set_title(f\"AE reconstruction\\n \\nRMSE={np.round(np.sqrt(np.mean((ssp_truth_unorm_test_arr-ssp_ae_unorm_test_arr)**2)),8)}m\", fontsize = 10) #/np.sum(ssp_truth_unorm_test_arr**2))*100\n",
    "    axs[2].set_title(f\"AE filtered reconstruction\\n median filter kernel size: {median_kernel} \\nRMSE={np.round(np.sqrt(np.mean((ssp_truth_unorm_test_arr-ssp_3D_median)**2)),8)}m\", fontsize = 10) #/np.sum(ssp_truth_unorm_test_arr**2))*100\n",
    "\n",
    "    axs[0].set_ylabel('Depth (m)')\n",
    "\n",
    "\n",
    "    cbar = fig.colorbar(im3, ax=axs.ravel().tolist(), shrink = 0.5, aspect=12, pad = 0.02)\n",
    "    cbar.set_label(\"m/s\")\n",
    "\n",
    "    min_val, max_val = im3.get_clim()\n",
    "    ticks = np.linspace(min_val, max_val, 4)\n",
    "    cbar.set_ticks(ticks)\n",
    "    cbar.set_ticklabels([f'{tick:.0f}' for tick in ticks])\n",
    "\n",
    "    #fig.tight_layout()\n",
    "\n",
    "    fig.suptitle(f\"Sound Speed reconstruction\\nbottleneck shape:{list(bottleneck_shape)}, compression rate: {np.round(compression_rate_ae,2)}\",x = 0.45, y = 0.85)\n"
   ]
  },
  {
   "cell_type": "code",
   "execution_count": 11,
   "metadata": {},
   "outputs": [],
   "source": [
    "\n",
    "def plot_unorm_ssp_profiles(unorm_test_truth_ssp_arr,\n",
    "                            unorm_test_pca_ssp_arr,\n",
    "                            unorm_test_ae_ssp_arr, \n",
    "                            dm,\n",
    "                            bottleneck_shape_tuple,\n",
    "                            t,\n",
    "                            lat,\n",
    "                            lon):\n",
    "    \n",
    "    \n",
    "    depth_array = dm.depth_array\n",
    "    \n",
    "\n",
    "    \n",
    "    unorm_test_truth_ssp_arr_profile = unorm_test_truth_ssp_arr[t,:,lat,lon]\n",
    "    unorm_test_ae_ssp_arr_profile = unorm_test_ae_ssp_arr[t,:,lat,lon]\n",
    "    unorm_test_pca_ssp_arr_profile = unorm_test_pca_ssp_arr[t,:,lat,lon]\n",
    "    \n",
    "    \n",
    "    fig,axs = plt.subplots(1,3,figsize=(23,6), gridspec_kw={'width_ratios': [1, 1, 1]})\n",
    "\n",
    "    axs[0].plot(unorm_test_truth_ssp_arr_profile, depth_array, c = \"navy\")  \n",
    "    axs[1].plot(unorm_test_pca_ssp_arr_profile, depth_array, c=\"navy\")\n",
    "    axs[2].plot(unorm_test_ae_ssp_arr_profile, depth_array, c =\"navy\")\n",
    "\n",
    "\n",
    "    ecs_truth_idx = np.argmax(unorm_test_truth_ssp_arr_profile,axis=0)\n",
    "    ecs_truth = depth_array[ecs_truth_idx]\n",
    "    \n",
    "    ecs_pca_idx = np.argmax(unorm_test_pca_ssp_arr_profile,axis=0)\n",
    "    ecs_pca = depth_array[ecs_pca_idx]\n",
    "    \n",
    "    ecs_ae_idx = np.argmax(unorm_test_ae_ssp_arr_profile,axis=0)\n",
    "    ecs_ae = depth_array[ecs_ae_idx]\n",
    "\n",
    "\n",
    "    xmin, xmax = axs[0].get_xlim()\n",
    "    axs[0].hlines(ecs_truth, xmin=xmin, xmax=xmax, label = f\"ECS={int(ecs_truth)}m\", colors = \"coral\")\n",
    "    \n",
    "    xmin, xmax = axs[1].get_xlim()\n",
    "    axs[1].hlines(ecs_pca, xmin=xmin, xmax=xmax, label = f\"ECS={int(ecs_pca)}m\", colors = \"coral\")\n",
    "\n",
    "    xmin, xmax = axs[2].get_xlim()\n",
    "    axs[2].hlines(ecs_ae, xmin=xmin, xmax=xmax, label = f\"ECS={int(ecs_ae)}m\", colors = \"coral\")\n",
    "\n",
    "\n",
    "\n",
    "\n",
    "    for ax in axs[:]:\n",
    "\n",
    "        ax.legend(loc = \"lower right\")\n",
    "        ax.set_xlabel(\"Sound Speed (°)\")\n",
    "        \n",
    "        ax.invert_yaxis() \n",
    "        \n",
    "\n",
    "    ae_bottleneck_shape,n_components = bottleneck_shape_tuple\n",
    "    compression_rate_pca = len(depth_array)/n_components\n",
    "    compression_rate_ae = np.prod(dm.test_shape)/np.prod(ae_bottleneck_shape)\n",
    "    \n",
    "    axs[0].set_title(\"Ground truth\", fontsize = 10)\n",
    "    axs[1].set_title(f\"PCA reconstruction\\n{n_components} depth components, compression rate: {np.round(compression_rate_pca,2)} \\nRMSE={np.sqrt(np.mean((unorm_test_truth_ssp_arr_profile-unorm_test_pca_ssp_arr_profile)**2)):.8f}m\", fontsize = 10)\n",
    "    axs[2].set_title(f\"AE reconstruction\\nbottleneck shape:{list(ae_bottleneck_shape)}, compression rate: {np.round(compression_rate_ae,2)} \\nRMSE={np.sqrt(np.mean((unorm_test_truth_ssp_arr_profile-unorm_test_ae_ssp_arr_profile)**2)):.8f}m\", fontsize = 10)\n",
    "\n",
    "\n",
    "\n",
    "    axs[0].set_ylabel('Depth (m)')\n",
    "\n",
    "\n",
    "    fig.suptitle(f\"Sound Speed Profiles reconstruction\",x = 0.5, y = 1.05)\n",
    "    \n",
    "    "
   ]
  },
  {
   "cell_type": "code",
   "execution_count": null,
   "metadata": {},
   "outputs": [],
   "source": []
  },
  {
   "cell_type": "code",
   "execution_count": null,
   "metadata": {},
   "outputs": [],
   "source": []
  },
  {
   "cell_type": "code",
   "execution_count": 12,
   "metadata": {},
   "outputs": [],
   "source": [
    "\n",
    "def plot_norm_ssp_profiles(norm_test_truth_ssp_arr,\n",
    "                           norm_test_ae_ssp_arr, \n",
    "                           dm,\n",
    "                           ae_bottleneck_shape,\n",
    "                           t,\n",
    "                           lat,\n",
    "                           lon):\n",
    "    \n",
    "    \n",
    "    coords = dm.coords\n",
    "    z_array = coords[\"z\"].data\n",
    "    \n",
    "    norm_test_truth_ssp_arr_profile = norm_test_truth_ssp_arr[t,:,lat,lon]\n",
    "    norm_test_ae_ssp_arr_profile = norm_test_ae_ssp_arr[t,:,lat,lon]\n",
    "    \n",
    "    \n",
    "    fig,axs = plt.subplots(1,2,figsize=(14,6), gridspec_kw={'width_ratios': [1,1]})\n",
    "\n",
    "    axs[0].plot(norm_test_truth_ssp_arr_profile, z_array, c = \"navy\")  \n",
    "    axs[1].plot(norm_test_ae_ssp_arr_profile, z_array, c =\"navy\")\n",
    "\n",
    "\n",
    "\n",
    "    for ax in axs[:]:\n",
    "\n",
    "        ax.set_xlabel(\"Sound Speed (°)\")\n",
    "        \n",
    "        ax.invert_yaxis() \n",
    "        \n",
    "\n",
    "    compression_rate_ae = np.prod(dm.test_shape)/np.prod(ae_bottleneck_shape)\n",
    "    \n",
    "    axs[0].set_title(\"Ground truth\", fontsize = 10)\n",
    "    axs[1].set_title(f\"AE reconstruction\\nbottleneck shape:{list(ae_bottleneck_shape)}, compression rate: {np.round(compression_rate_ae,2)} \\nRMSE={np.sqrt(np.mean((norm_test_truth_ssp_arr_profile-norm_test_ae_ssp_arr_profile)**2)):.8f}\", fontsize = 10)\n",
    "\n",
    "\n",
    "\n",
    "    axs[0].set_ylabel('z')\n",
    "\n",
    "\n",
    "    fig.suptitle(f\"Normalized Sound Speed Profiles reconstruction\",x = 0.5, y = 1.05)\n",
    "    \n",
    "    "
   ]
  },
  {
   "cell_type": "code",
   "execution_count": 13,
   "metadata": {},
   "outputs": [],
   "source": [
    "def plot_ssp_filtered_2D(ssp_truth_unorm_test_arr,ssp_ae_unorm_test_arr, \n",
    "                         ssp_3D_median,\n",
    "                         ecs_truth, \n",
    "                         ecs_pred_ae, \n",
    "                         ecs_pred_ae_median,\n",
    "                         depth_array,\n",
    "                         lon,\n",
    "                         compression_rate_ae, \n",
    "                         bottleneck_shape,\n",
    "                         median_kernel):\n",
    "        \n",
    "    fig,axs = plt.subplots(1,3,figsize=(23,6), gridspec_kw={'width_ratios': [1, 1, 1]})\n",
    "\n",
    "    im1 = axs[0].plot(ssp_truth_unorm_test_arr[:,lon], depth_array, c = \"navy\")  \n",
    "    im2 = axs[1].plot(ssp_ae_unorm_test_arr[:,lon], depth_array, c =\"navy\")\n",
    "    im3 = axs[2].plot(ssp_3D_median[:,lon], depth_array, c=\"navy\")\n",
    "\n",
    "\n",
    "\n",
    "    xmin, xmax = axs[0].get_xlim()\n",
    "    axs[0].hlines(ecs_truth[lon].detach().cpu(), xmin=xmin, xmax=xmax, label = f\"ECS={int(ecs_truth[lon])}m\", colors = \"coral\")\n",
    "    \n",
    "    xmin, xmax = axs[1].get_xlim()\n",
    "    axs[1].hlines(ecs_pred_ae[lon].detach().cpu(), xmin=xmin, xmax=xmax, label = f\"ECS={int(ecs_pred_ae[lon])}m\", colors = \"coral\")\n",
    "    \n",
    "\n",
    "    \n",
    "    xmin, xmax = axs[2].get_xlim()\n",
    "    axs[2].hlines(ecs_pred_ae_median[lon].detach().cpu(), xmin=xmin, xmax=xmax, label = f\"ECS={int(ecs_pred_ae_median[lon])}m\", colors = \"coral\")\n",
    "\n",
    "\n",
    "\n",
    "\n",
    "    for ax in axs[:]:\n",
    "\n",
    "        ax.legend(loc = \"lower right\")\n",
    "        ax.set_xlabel(\"Sound Speed (°)\")\n",
    "        \n",
    "        ax.invert_yaxis() \n",
    "        \n",
    "\n",
    "\n",
    "    axs[0].set_title(\"Ground truth\", fontsize = 10)\n",
    "    axs[1].set_title(f\"AE reconstruction\\n \\nRMSE={np.round(np.sqrt(np.mean((ssp_truth_unorm_test_arr[:,lon]-ssp_ae_unorm_test_arr[:,lon])**2)),8)}m\", fontsize = 10)\n",
    "    axs[2].set_title(f\"AE filtered reconstruction\\n median filter kernel size: {median_kernel} \\nRMSE={np.round(np.sqrt(np.mean((ssp_truth_unorm_test_arr[:,lon]-ssp_3D_median[:,lon])**2)),8)}m\", fontsize = 10)\n",
    "\n",
    "\n",
    "\n",
    "\n",
    "    fig.suptitle(f\"Sound Speed reconstruction\\nbottleneck shape:{list(bottleneck_shape)}, compression rate: {np.round(compression_rate_ae,2)}\", y = 1.05)"
   ]
  },
  {
   "cell_type": "code",
   "execution_count": 14,
   "metadata": {},
   "outputs": [],
   "source": [
    "def plot_ssp_above_depth_2D(ssp_truth_unorm_test_arr,\n",
    "                            ssp_pca_unorm_test_arr,\n",
    "                            ssp_ae_unorm_test_arr, \n",
    "                            ecs_truth, \n",
    "                            ecs_pred_pca, \n",
    "                            ecs_pred_ae, \n",
    "                            depth_array,\n",
    "                            n_components,\n",
    "                            lon, \n",
    "                            compression_rate_pca, \n",
    "                            compression_rate_ae, \n",
    "                            bottleneck_shape):\n",
    "    \n",
    "    depth_max = max(ecs_truth[lon],ecs_pred_ae[lon],ecs_pred_pca[lon]).item() \n",
    "    depth_max = np.ceil(depth_max + 0.5*depth_max)\n",
    "    fig,axs = plt.subplots(1,3,figsize=(23,6), gridspec_kw={'width_ratios': [1, 1, 1]})\n",
    "    depth_idx = np.argmax(depth_array > depth_max)\n",
    "\n",
    "    axs[0].plot(ssp_truth_unorm_test_arr[:depth_idx,lon], depth_array[:depth_idx], c = \"navy\")  \n",
    "    axs[1].plot(ssp_pca_unorm_test_arr[:depth_idx,lon], depth_array[:depth_idx], c =\"navy\")   \n",
    "    axs[2].plot(ssp_ae_unorm_test_arr[:depth_idx,lon], depth_array[:depth_idx], c=\"navy\")\n",
    "\n",
    "\n",
    "    xmin, xmax = axs[0].get_xlim()\n",
    "    axs[0].hlines(ecs_truth[lon].detach().cpu(), xmin=xmin, xmax=xmax, label = f\"ECS={int(ecs_truth[lon])}m\", colors = \"coral\")\n",
    "    \n",
    "    xmin, xmax = axs[1].get_xlim()\n",
    "    axs[1].hlines(ecs_pred_pca[lon].detach().cpu(), xmin=xmin, xmax=xmax, label = f\"ECS={int(ecs_pred_pca[lon])}m\", colors = \"coral\")\n",
    "    \n",
    "    xmin, xmax = axs[2].get_xlim()\n",
    "    axs[2].hlines(ecs_pred_ae[lon].detach().cpu(), xmin=xmin, xmax=xmax, label = f\"ECS={int(ecs_pred_ae[lon])}m\", colors = \"coral\")\n",
    "\n",
    "\n",
    "    for ax in axs[:]:\n",
    "\n",
    "        ax.legend(loc = \"lower right\")\n",
    "        ax.set_xlabel(\"Sound Speed (°)\")\n",
    "        \n",
    "        ax.invert_yaxis() \n",
    "        \n",
    "\n",
    "    axs[0].set_title(\"Ground truth\", fontsize = 10)\n",
    "    axs[1].set_title(f\"PCA reconstruction\\n{n_components} depth components, compression rate: {np.round(compression_rate_pca,2)} \\nRMSE={np.round(np.sqrt(np.mean((ssp_truth_unorm_test_arr[:depth_idx,lon]-ssp_pca_unorm_test_arr[:depth_idx,lon])**2)),8)}m\", fontsize = 10)\n",
    "    axs[2].set_title(f\"AE reconstruction\\nbottleneck shape:{list(bottleneck_shape)}, compression rate: {np.round(compression_rate_ae,2)} \\nRMSE={np.round(np.sqrt(np.mean((ssp_truth_unorm_test_arr[:depth_idx,lon]-ssp_ae_unorm_test_arr[:depth_idx,lon])**2)),8)}m\", fontsize = 10)\n",
    "\n",
    "\n",
    "\n",
    "    axs[0].set_ylabel('Depth (m)')\n",
    "\n",
    "\n",
    "    fig.suptitle(f\"Sound Speed Profiles reconstruction in the first {int(depth_array[depth_idx])} m\", fontsize = 15, y = 1.05)"
   ]
  },
  {
   "cell_type": "code",
   "execution_count": 15,
   "metadata": {},
   "outputs": [],
   "source": [
    "def plot_ssp_filtered_above_depth_2D(ssp_truth_unorm_test_arr,\n",
    "                                     ssp_ae_unorm_test_arr, \n",
    "                                     ssp_3D_median,\n",
    "                                     ecs_truth, \n",
    "                                     ecs_pred_ae, \n",
    "                                     ecs_pred_ae_median,\n",
    "                                     depth_array,\n",
    "                                     lon,\n",
    "                                     compression_rate_ae, \n",
    "                                     bottleneck_shape,\n",
    "                                     median_kernel):\n",
    "        \n",
    "\n",
    "    depth_max = max(ecs_truth[lon],ecs_pred_ae[lon],ecs_pred_ae_median[lon]).item() \n",
    "    depth_max = np.ceil(depth_max + 0.5*depth_max)\n",
    "    fig,axs = plt.subplots(1,3,figsize=(23,6), gridspec_kw={'width_ratios': [1, 1, 1]})\n",
    "    depth_idx = np.argmax(depth_array > depth_max)\n",
    "\n",
    "\n",
    "    im1 = axs[0].plot(ssp_truth_unorm_test_arr[:depth_idx,lon], depth_array[:depth_idx], c = \"navy\")  \n",
    "    im2 = axs[1].plot(ssp_ae_unorm_test_arr[:depth_idx,lon], depth_array[:depth_idx], c =\"navy\")\n",
    "    im3 = axs[2].plot(ssp_3D_median[:depth_idx,lon], depth_array[:depth_idx], c=\"navy\")\n",
    "\n",
    "\n",
    "\n",
    "    xmin, xmax = axs[0].get_xlim()\n",
    "    axs[0].hlines(ecs_truth[lon].detach().cpu(), xmin=xmin, xmax=xmax, label = f\"ECS={int(ecs_truth[lon])}m\", colors = \"coral\")\n",
    "    \n",
    "    xmin, xmax = axs[1].get_xlim()\n",
    "    axs[1].hlines(ecs_pred_ae[lon].detach().cpu(), xmin=xmin, xmax=xmax, label = f\"ECS={int(ecs_pred_ae[lon])}m\", colors = \"coral\")\n",
    "    \n",
    "    xmin, xmax = axs[2].get_xlim()\n",
    "    axs[2].hlines(ecs_pred_ae_median[lon].detach().cpu(), xmin=xmin, xmax=xmax, label = f\"ECS={int(ecs_pred_ae_median[lon])}m\", colors = \"coral\")\n",
    "\n",
    "\n",
    "\n",
    "    for ax in axs[:]:\n",
    "\n",
    "        ax.legend(loc = \"lower right\")\n",
    "        ax.set_xlabel(\"Sound Speed (°)\")\n",
    "        \n",
    "        ax.invert_yaxis() \n",
    "        \n",
    "\n",
    "\n",
    "    axs[0].set_title(\"Ground truth\", fontsize = 10)\n",
    "    axs[1].set_title(f\"AE reconstruction\\n \\nRMSE={np.round(np.sqrt(np.mean((ssp_truth_unorm_test_arr[:depth_idx,lon]-ssp_ae_unorm_test_arr[:depth_idx,lon])**2)),8)}m\", fontsize = 10) #/np.sum(ssp_truth_unorm_test_arr[:depth_idx,lon]**2))*100\n",
    "    axs[2].set_title(f\"AE filtered reconstruction\\n median filter kernel size: {median_kernel} \\nRMSE={np.round(np.sqrt(np.mean((ssp_truth_unorm_test_arr[:depth_idx,lon]-ssp_3D_median[:depth_idx,lon])**2)),8)}m\", fontsize = 10) #/np.sum(ssp_truth_unorm_test_arr[:depth_idx,lon]**2))*100\n",
    "\n",
    "\n",
    "\n",
    "\n",
    "    fig.suptitle(f\"Sound Speed reconstruction in the first {int(depth_array[depth_idx])} m\\nbottleneck shape:{list(bottleneck_shape)}, compression rate: {np.round(compression_rate_ae,2)}\", y = 1.05)"
   ]
  },
  {
   "cell_type": "code",
   "execution_count": 16,
   "metadata": {},
   "outputs": [],
   "source": [
    "def plot_ae_ssp_above_depth_2D(ssp_ae_unorm_test_arr,\n",
    "                               ecs_pred_ae, \n",
    "                               depth_max,\n",
    "                               depth_array,\n",
    "                               lon,\n",
    "                               compression_rate_ae, \n",
    "                               bottleneck_shape):\n",
    "    \n",
    "    \n",
    "    fig,axs = plt.subplots(1,1,figsize=(8,6))\n",
    "    depth_idx = np.argmax(depth_array > depth_max)\n",
    "\n",
    "    axs.plot(ssp_ae_unorm_test_arr[:depth_idx,lon], depth_array[:depth_idx], c=\"navy\")\n",
    "\n",
    "    indices_ecs_ae_max = ssp_ae_unorm_test_arr[:,lon].argmax(axis=0)\n",
    "\n",
    "    xmin, xmax = axs.get_xlim()\n",
    "    axs.hlines(ecs_pred_ae[lon].detach().cpu(), xmin=xmin, xmax=xmax, label = f\"ECS={int(ecs_pred_ae[lon])}m\", colors = \"coral\")\n",
    "\n",
    "    axs.legend(loc = \"lower right\")\n",
    "    axs.set_xlabel(\"Sound Speed (°)\")\n",
    "\n",
    "    axs.invert_yaxis() \n",
    "        \n",
    "\n",
    "    axs.set_title(f\"bottleneck shape:{list(bottleneck_shape)}, compression rate: {np.round(compression_rate_ae,2)}\", fontsize = 10)\n",
    "\n",
    "\n",
    "    axs.set_ylabel('Depth (m)')\n",
    "\n",
    "\n",
    "    fig.suptitle(f\"Sound Speed Profiles AE reconstruction in the first {int(depth_array[depth_idx])}m\",x = 0.5, y = 1)\n",
    "        "
   ]
  },
  {
   "cell_type": "code",
   "execution_count": 17,
   "metadata": {},
   "outputs": [],
   "source": [
    "def plot_ae_filtered_ssp_above_depth_2D(ssp_3D_median, \n",
    "                                        ecs_pred_ae_median,depth_max,\n",
    "                                        depth_array,\n",
    "                                        lon,\n",
    "                                        compression_rate_ae, \n",
    "                                        bottleneck_shape,median_kernel):\n",
    "    \n",
    "    \n",
    "    fig,axs = plt.subplots(1,1,figsize=(8,6))\n",
    "    depth_idx = np.argmax(depth_array > depth_max)\n",
    "\n",
    "    axs.plot(ssp_3D_median[:depth_idx,lon], depth_array[:depth_idx], c=\"navy\")\n",
    "\n",
    "    indices_ecs_ae_max = ssp_3D_median[:,lon].argmax(axis=0)\n",
    "\n",
    "    xmin, xmax = axs.get_xlim()\n",
    "    axs.hlines(ecs_pred_ae_median[lon].detach().cpu(), xmin=xmin, xmax=xmax, label = f\"ECS={int(ecs_pred_ae_median[lon])}m\", colors = \"coral\")\n",
    "\n",
    "    axs.legend(loc = \"lower right\")\n",
    "    axs.set_xlabel(\"Sound Speed (°)\")\n",
    "\n",
    "    axs.invert_yaxis() \n",
    "        \n",
    "\n",
    "    axs.set_title(f\"bottleneck shape:{list(bottleneck_shape)}, compression rate: {np.round(compression_rate_ae,2)}\", fontsize = 10)\n",
    "\n",
    "\n",
    "    axs.set_ylabel('Depth (m)')\n",
    "\n",
    "\n",
    "    fig.suptitle(f\"Sound Speed Profiles AE reconstruction in the first {int(depth_array[depth_idx])}m\\n  median filter kernel size: {median_kernel}\",x = 0.5, y = 1)\n",
    "        "
   ]
  },
  {
   "cell_type": "markdown",
   "metadata": {},
   "source": [
    "# Plot model"
   ]
  },
  {
   "cell_type": "code",
   "execution_count": 18,
   "metadata": {},
   "outputs": [],
   "source": [
    "ckpt_list =  []\n",
    "#ckpt_list.extend(list(Path(\"outputs/AE/AE_CNN_3D/dataset_output/8_channels_spatial_pooling_with_pca_pre_treatment_bis/pred_0.5_grad_0_max_pos_0.8_max_value_0.1_fft_0.05_weighted_1_inflection_pos_0_inflection_value_0\").rglob('*.ckpt')))\n",
    "ckpt_list.extend(list(Path(\"outputs/AE/AE_CNN_3D/dataset_output/8_channels_all_pooling\").rglob('*.ckpt')))\n",
    "ckpt_list.extend(list(Path(\"outputs/AE/AE_CNN_3D/dataset_output/8_channels_spatial_pooling\").rglob('*.ckpt')))\n",
    "ckpt_list.extend(list(Path(\"outputs/AE/AE_CNN_3D/dataset_output/8_channels_depth_pooling\").rglob('*.ckpt')))"
   ]
  },
  {
   "cell_type": "code",
   "execution_count": 19,
   "metadata": {},
   "outputs": [
    {
     "ename": "NameError",
     "evalue": "name 'ckpt_path' is not defined",
     "output_type": "error",
     "traceback": [
      "\u001b[0;31m---------------------------------------------------------------------------\u001b[0m",
      "\u001b[0;31mNameError\u001b[0m                                 Traceback (most recent call last)",
      "Cell \u001b[0;32mIn[19], line 1\u001b[0m\n\u001b[0;32m----> 1\u001b[0m load_model(\u001b[43mckpt_path\u001b[49m, dm, device, verbose \u001b[38;5;241m=\u001b[39m \u001b[38;5;28;01mTrue\u001b[39;00m)   \n",
      "\u001b[0;31mNameError\u001b[0m: name 'ckpt_path' is not defined"
     ]
    }
   ],
   "source": [
    "load_model(ckpt_path, dm, device, verbose = True)   "
   ]
  },
  {
   "cell_type": "code",
   "execution_count": null,
   "metadata": {},
   "outputs": [
    {
     "name": "stderr",
     "output_type": "stream",
     "text": [
      "  0%|          | 0/30 [00:00<?, ?it/s]"
     ]
    },
    {
     "name": "stdout",
     "output_type": "stream",
     "text": [
      "Model: outputs/AE/AE_CNN_3D/dataset_output/8_channels_all_pooling/pred_0.01_grad_10000_max_pos_0.01_max_value_0.05_fft_0.05_weighted_1_inflection_pos_0.01_inflection_value_0.05/depth_pre_treatment_none_n_components_107/channels_[1, 8, 8, 8, 8]/upsample_mode_trilinear/linear_later_False_lattent_size_50/1_conv_per_layer/padding_reflect/interp_size_0/pooling_Max_on_dim_all/final_upsample_upsample_pooling/act_fn_Elu_final_act_fn_Linear/lr_0.001/normalization_mean_std/manage_nan_suppress/n_profiles_None/2024-11-27_06-22/checkpoints/val_loss=9.01-epoch=25.ckpt\n",
      "Inititing datamodule; Generating train and test datasets\n"
     ]
    },
    {
     "name": "stderr",
     "output_type": "stream",
     "text": [
      "  3%|▎         | 1/30 [03:27<1:40:22, 207.67s/it]"
     ]
    },
    {
     "name": "stdout",
     "output_type": "stream",
     "text": [
      "Can't load model \n",
      "Model: outputs/AE/AE_CNN_3D/dataset_output/8_channels_all_pooling/pred_0.01_grad_10000_max_pos_0.01_max_value_0.05_fft_0.05_weighted_1_inflection_pos_0.01_inflection_value_0.05/depth_pre_treatment_none_n_components_107/channels_[1, 8]/upsample_mode_trilinear/linear_later_False_lattent_size_50/1_conv_per_layer/padding_reflect/interp_size_0/pooling_None_on_dim_all/final_upsample_upsample_pooling/act_fn_Elu_final_act_fn_Linear/lr_0.001/normalization_mean_std/manage_nan_suppress/n_profiles_None/2024-11-27_07-55/checkpoints/val_loss=63.39-epoch=02.ckpt\n"
     ]
    },
    {
     "name": "stderr",
     "output_type": "stream",
     "text": [
      "  7%|▋         | 2/30 [03:28<40:02, 85.79s/it]   "
     ]
    },
    {
     "name": "stdout",
     "output_type": "stream",
     "text": [
      "Can't load model \n",
      "Model: outputs/AE/AE_CNN_3D/dataset_output/8_channels_all_pooling/pred_0.01_grad_10000_max_pos_0.01_max_value_0.05_fft_0.05_weighted_1_inflection_pos_0.01_inflection_value_0.05/depth_pre_treatment_none_n_components_107/channels_[1, 8]/upsample_mode_trilinear/linear_later_False_lattent_size_50/1_conv_per_layer/padding_reflect/interp_size_0/pooling_Max_on_dim_all/final_upsample_upsample_pooling/act_fn_Elu_final_act_fn_Linear/lr_0.001/normalization_mean_std/manage_nan_suppress/n_profiles_None/2024-11-27_03-36/checkpoints/val_loss=62.21-epoch=18.ckpt\n"
     ]
    },
    {
     "name": "stderr",
     "output_type": "stream",
     "text": [
      " 10%|█         | 3/30 [03:28<21:04, 46.83s/it]"
     ]
    },
    {
     "name": "stdout",
     "output_type": "stream",
     "text": [
      "Can't load model \n",
      "Model: outputs/AE/AE_CNN_3D/dataset_output/8_channels_all_pooling/pred_0.01_grad_10000_max_pos_0.01_max_value_0.05_fft_0.05_weighted_1_inflection_pos_0.01_inflection_value_0.05/depth_pre_treatment_none_n_components_107/channels_[1, 8, 8, 8]/upsample_mode_trilinear/linear_later_False_lattent_size_50/1_conv_per_layer/padding_reflect/interp_size_0/pooling_Max_on_dim_all/final_upsample_upsample_pooling/act_fn_Elu_final_act_fn_Linear/lr_0.001/normalization_mean_std/manage_nan_suppress/n_profiles_None/2024-11-27_04-53/checkpoints/val_loss=6.91-epoch=21.ckpt\n"
     ]
    },
    {
     "name": "stderr",
     "output_type": "stream",
     "text": [
      " 13%|█▎        | 4/30 [03:29<12:22, 28.54s/it]"
     ]
    },
    {
     "name": "stdout",
     "output_type": "stream",
     "text": [
      "Can't load model \n",
      "Model: outputs/AE/AE_CNN_3D/dataset_output/8_channels_all_pooling/pred_0.01_grad_10000_max_pos_0.01_max_value_0.05_fft_0.05_weighted_1_inflection_pos_0.01_inflection_value_0.05/depth_pre_treatment_none_n_components_107/channels_[1, 8, 8]/upsample_mode_trilinear/linear_later_False_lattent_size_50/1_conv_per_layer/padding_reflect/interp_size_0/pooling_Max_on_dim_all/final_upsample_upsample_pooling/act_fn_Elu_final_act_fn_Linear/lr_0.001/normalization_mean_std/manage_nan_suppress/n_profiles_None/2024-11-27_02-05/checkpoints/val_loss=5.58-epoch=04.ckpt\n"
     ]
    },
    {
     "name": "stderr",
     "output_type": "stream",
     "text": [
      " 17%|█▋        | 5/30 [03:29<07:40, 18.43s/it]"
     ]
    },
    {
     "name": "stdout",
     "output_type": "stream",
     "text": [
      "Can't load model \n",
      "Model: outputs/AE/AE_CNN_3D/dataset_output/8_channels_all_pooling/pred_1_grad_0_max_pos_0_max_value_0_fft_0_weighted_0_inflection_pos_0_inflection_value_0/depth_pre_treatment_none_n_components_107/channels_[1, 8, 8, 8, 8]/upsample_mode_trilinear/linear_later_False_lattent_size_50/1_conv_per_layer/padding_reflect/interp_size_0/pooling_Max_on_dim_all/final_upsample_upsample_pooling/act_fn_Elu_final_act_fn_Linear/lr_0.001/normalization_mean_std/manage_nan_suppress/n_profiles_None/2024-11-27_07-10/checkpoints/val_loss=0.20-epoch=39.ckpt\n"
     ]
    },
    {
     "name": "stderr",
     "output_type": "stream",
     "text": [
      " 20%|██        | 6/30 [03:30<04:55, 12.32s/it]"
     ]
    },
    {
     "name": "stdout",
     "output_type": "stream",
     "text": [
      "Can't load model \n",
      "Model: outputs/AE/AE_CNN_3D/dataset_output/8_channels_all_pooling/pred_1_grad_0_max_pos_0_max_value_0_fft_0_weighted_0_inflection_pos_0_inflection_value_0/depth_pre_treatment_none_n_components_107/channels_[1, 8]/upsample_mode_trilinear/linear_later_False_lattent_size_50/1_conv_per_layer/padding_reflect/interp_size_0/pooling_None_on_dim_all/final_upsample_upsample_pooling/act_fn_Elu_final_act_fn_Linear/lr_0.001/normalization_mean_std/manage_nan_suppress/n_profiles_None/2024-11-27_08-39/checkpoints/val_loss=0.17-epoch=37.ckpt\n"
     ]
    },
    {
     "name": "stderr",
     "output_type": "stream",
     "text": [
      " 23%|██▎       | 7/30 [03:30<03:14,  8.46s/it]"
     ]
    },
    {
     "name": "stdout",
     "output_type": "stream",
     "text": [
      "Can't load model \n",
      "Model: outputs/AE/AE_CNN_3D/dataset_output/8_channels_all_pooling/pred_1_grad_0_max_pos_0_max_value_0_fft_0_weighted_0_inflection_pos_0_inflection_value_0/depth_pre_treatment_none_n_components_107/channels_[1, 8]/upsample_mode_trilinear/linear_later_False_lattent_size_50/1_conv_per_layer/padding_reflect/interp_size_0/pooling_Max_on_dim_all/final_upsample_upsample_pooling/act_fn_Elu_final_act_fn_Linear/lr_0.001/normalization_mean_std/manage_nan_suppress/n_profiles_None/2024-11-27_04-16/checkpoints/val_loss=0.18-epoch=39.ckpt\n"
     ]
    },
    {
     "name": "stderr",
     "output_type": "stream",
     "text": [
      " 27%|██▋       | 8/30 [03:31<02:10,  5.93s/it]"
     ]
    },
    {
     "name": "stdout",
     "output_type": "stream",
     "text": [
      "Can't load model \n",
      "Model: outputs/AE/AE_CNN_3D/dataset_output/8_channels_all_pooling/pred_1_grad_0_max_pos_0_max_value_0_fft_0_weighted_0_inflection_pos_0_inflection_value_0/depth_pre_treatment_none_n_components_107/channels_[1, 8, 8, 8]/upsample_mode_trilinear/linear_later_False_lattent_size_50/1_conv_per_layer/padding_reflect/interp_size_0/pooling_Max_on_dim_all/final_upsample_upsample_pooling/act_fn_Elu_final_act_fn_Linear/lr_0.001/normalization_mean_std/manage_nan_suppress/n_profiles_None/2024-11-27_05-39/checkpoints/val_loss=2.01-epoch=07.ckpt\n"
     ]
    },
    {
     "name": "stderr",
     "output_type": "stream",
     "text": [
      " 30%|███       | 9/30 [03:31<01:28,  4.24s/it]"
     ]
    },
    {
     "name": "stdout",
     "output_type": "stream",
     "text": [
      "Can't load model \n",
      "Model: outputs/AE/AE_CNN_3D/dataset_output/8_channels_all_pooling/pred_1_grad_0_max_pos_0_max_value_0_fft_0_weighted_0_inflection_pos_0_inflection_value_0/depth_pre_treatment_none_n_components_107/channels_[1, 8, 8]/upsample_mode_trilinear/linear_later_False_lattent_size_50/1_conv_per_layer/padding_reflect/interp_size_0/pooling_Max_on_dim_all/final_upsample_upsample_pooling/act_fn_Elu_final_act_fn_Linear/lr_0.001/normalization_mean_std/manage_nan_suppress/n_profiles_None/2024-11-27_02-53/checkpoints/val_loss=0.18-epoch=39.ckpt\n"
     ]
    },
    {
     "name": "stderr",
     "output_type": "stream",
     "text": [
      " 33%|███▎      | 10/30 [03:32<01:01,  3.08s/it]"
     ]
    },
    {
     "name": "stdout",
     "output_type": "stream",
     "text": [
      "Can't load model \n",
      "Model: outputs/AE/AE_CNN_3D/dataset_output/8_channels_spatial_pooling/pred_0.01_grad_10000_max_pos_0.01_max_value_0.05_fft_0.05_weighted_1_inflection_pos_0.01_inflection_value_0.05/depth_pre_treatment_none_n_components_107/channels_[1, 8, 8, 8, 8]/upsample_mode_trilinear/linear_later_False_lattent_size_50/1_conv_per_layer/padding_reflect/interp_size_0/pooling_Max_on_dim_spatial/final_upsample_upsample_pooling/act_fn_Elu_final_act_fn_Linear/lr_0.001/normalization_mean_std/manage_nan_suppress/n_profiles_None/2024-11-27_05-54/checkpoints/val_loss=2.95-epoch=13.ckpt\n"
     ]
    },
    {
     "name": "stderr",
     "output_type": "stream",
     "text": [
      " 37%|███▋      | 11/30 [03:32<00:43,  2.28s/it]"
     ]
    },
    {
     "name": "stdout",
     "output_type": "stream",
     "text": [
      "Can't load model \n",
      "Model: outputs/AE/AE_CNN_3D/dataset_output/8_channels_spatial_pooling/pred_0.01_grad_10000_max_pos_0.01_max_value_0.05_fft_0.05_weighted_1_inflection_pos_0.01_inflection_value_0.05/depth_pre_treatment_none_n_components_107/channels_[1, 8]/upsample_mode_trilinear/linear_later_False_lattent_size_50/1_conv_per_layer/padding_reflect/interp_size_0/pooling_None_on_dim_spatial/final_upsample_upsample_pooling/act_fn_Elu_final_act_fn_Linear/lr_0.001/normalization_mean_std/manage_nan_suppress/n_profiles_None/2024-11-27_07-15/checkpoints/val_loss=66.92-epoch=00.ckpt\n"
     ]
    },
    {
     "name": "stderr",
     "output_type": "stream",
     "text": [
      " 40%|████      | 12/30 [03:33<00:31,  1.75s/it]"
     ]
    },
    {
     "name": "stdout",
     "output_type": "stream",
     "text": [
      "Can't load model \n",
      "Model: outputs/AE/AE_CNN_3D/dataset_output/8_channels_spatial_pooling/pred_0.01_grad_10000_max_pos_0.01_max_value_0.05_fft_0.05_weighted_1_inflection_pos_0.01_inflection_value_0.05/depth_pre_treatment_none_n_components_107/channels_[1, 8]/upsample_mode_trilinear/linear_later_False_lattent_size_50/1_conv_per_layer/padding_reflect/interp_size_0/pooling_Max_on_dim_spatial/final_upsample_upsample_pooling/act_fn_Elu_final_act_fn_Linear/lr_0.001/normalization_mean_std/manage_nan_suppress/n_profiles_None/2024-11-27_03-26/checkpoints/val_loss=66.81-epoch=00.ckpt\n"
     ]
    },
    {
     "name": "stderr",
     "output_type": "stream",
     "text": [
      " 43%|████▎     | 13/30 [03:33<00:23,  1.37s/it]"
     ]
    },
    {
     "name": "stdout",
     "output_type": "stream",
     "text": [
      "Can't load model \n",
      "Model: outputs/AE/AE_CNN_3D/dataset_output/8_channels_spatial_pooling/pred_0.01_grad_10000_max_pos_0.01_max_value_0.05_fft_0.05_weighted_1_inflection_pos_0.01_inflection_value_0.05/depth_pre_treatment_none_n_components_107/channels_[1, 8, 8, 8]/upsample_mode_trilinear/linear_later_False_lattent_size_50/1_conv_per_layer/padding_reflect/interp_size_0/pooling_Max_on_dim_spatial/final_upsample_upsample_pooling/act_fn_Elu_final_act_fn_Linear/lr_0.001/normalization_mean_std/manage_nan_suppress/n_profiles_None/2024-11-27_04-35/checkpoints/val_loss=66.93-epoch=03.ckpt\n"
     ]
    },
    {
     "name": "stderr",
     "output_type": "stream",
     "text": [
      " 47%|████▋     | 14/30 [03:34<00:17,  1.10s/it]"
     ]
    },
    {
     "name": "stdout",
     "output_type": "stream",
     "text": [
      "Can't load model \n",
      "Model: outputs/AE/AE_CNN_3D/dataset_output/8_channels_spatial_pooling/pred_0.01_grad_10000_max_pos_0.01_max_value_0.05_fft_0.05_weighted_1_inflection_pos_0.01_inflection_value_0.05/depth_pre_treatment_none_n_components_107/channels_[1, 8, 8]/upsample_mode_trilinear/linear_later_False_lattent_size_50/1_conv_per_layer/padding_reflect/interp_size_0/pooling_Max_on_dim_spatial/final_upsample_upsample_pooling/act_fn_Elu_final_act_fn_Linear/lr_0.001/normalization_mean_std/manage_nan_suppress/n_profiles_None/2024-11-27_02-05/checkpoints/val_loss=64.68-epoch=17.ckpt\n"
     ]
    },
    {
     "name": "stderr",
     "output_type": "stream",
     "text": [
      " 50%|█████     | 15/30 [03:34<00:13,  1.10it/s]"
     ]
    },
    {
     "name": "stdout",
     "output_type": "stream",
     "text": [
      "Can't load model \n",
      "Model: outputs/AE/AE_CNN_3D/dataset_output/8_channels_spatial_pooling/pred_1_grad_0_max_pos_0_max_value_0_fft_0_weighted_0_inflection_pos_0_inflection_value_0/depth_pre_treatment_none_n_components_107/channels_[1, 8, 8, 8, 8]/upsample_mode_trilinear/linear_later_False_lattent_size_50/1_conv_per_layer/padding_reflect/interp_size_0/pooling_Max_on_dim_spatial/final_upsample_upsample_pooling/act_fn_Elu_final_act_fn_Linear/lr_0.001/normalization_mean_std/manage_nan_suppress/n_profiles_None/2024-11-27_06-37/checkpoints/val_loss=0.19-epoch=38.ckpt\n"
     ]
    },
    {
     "name": "stderr",
     "output_type": "stream",
     "text": [
      " 53%|█████▎    | 16/30 [03:35<00:11,  1.27it/s]"
     ]
    },
    {
     "name": "stdout",
     "output_type": "stream",
     "text": [
      "Can't load model \n",
      "Model: outputs/AE/AE_CNN_3D/dataset_output/8_channels_spatial_pooling/pred_1_grad_0_max_pos_0_max_value_0_fft_0_weighted_0_inflection_pos_0_inflection_value_0/depth_pre_treatment_none_n_components_107/channels_[1, 8]/upsample_mode_trilinear/linear_later_False_lattent_size_50/1_conv_per_layer/padding_reflect/interp_size_0/pooling_None_on_dim_spatial/final_upsample_upsample_pooling/act_fn_Elu_final_act_fn_Linear/lr_0.001/normalization_mean_std/manage_nan_suppress/n_profiles_None/2024-11-27_07-54/checkpoints/val_loss=0.17-epoch=39.ckpt\n"
     ]
    },
    {
     "name": "stderr",
     "output_type": "stream",
     "text": [
      " 57%|█████▋    | 17/30 [03:35<00:09,  1.40it/s]"
     ]
    },
    {
     "name": "stdout",
     "output_type": "stream",
     "text": [
      "Can't load model \n",
      "Model: outputs/AE/AE_CNN_3D/dataset_output/8_channels_spatial_pooling/pred_1_grad_0_max_pos_0_max_value_0_fft_0_weighted_0_inflection_pos_0_inflection_value_0/depth_pre_treatment_none_n_components_107/channels_[1, 8]/upsample_mode_trilinear/linear_later_False_lattent_size_50/1_conv_per_layer/padding_reflect/interp_size_0/pooling_Max_on_dim_spatial/final_upsample_upsample_pooling/act_fn_Elu_final_act_fn_Linear/lr_0.001/normalization_mean_std/manage_nan_suppress/n_profiles_None/2024-11-27_04-03/checkpoints/val_loss=0.18-epoch=39.ckpt\n"
     ]
    },
    {
     "name": "stderr",
     "output_type": "stream",
     "text": [
      " 60%|██████    | 18/30 [03:36<00:07,  1.53it/s]"
     ]
    },
    {
     "name": "stdout",
     "output_type": "stream",
     "text": [
      "Can't load model \n",
      "Model: outputs/AE/AE_CNN_3D/dataset_output/8_channels_spatial_pooling/pred_1_grad_0_max_pos_0_max_value_0_fft_0_weighted_0_inflection_pos_0_inflection_value_0/depth_pre_treatment_none_n_components_107/channels_[1, 8, 8, 8]/upsample_mode_trilinear/linear_later_False_lattent_size_50/1_conv_per_layer/padding_reflect/interp_size_0/pooling_Max_on_dim_spatial/final_upsample_upsample_pooling/act_fn_Elu_final_act_fn_Linear/lr_0.001/normalization_mean_std/manage_nan_suppress/n_profiles_None/2024-11-27_05-15/checkpoints/val_loss=0.17-epoch=39.ckpt\n"
     ]
    },
    {
     "name": "stderr",
     "output_type": "stream",
     "text": [
      " 63%|██████▎   | 19/30 [03:36<00:06,  1.62it/s]"
     ]
    },
    {
     "name": "stdout",
     "output_type": "stream",
     "text": [
      "Can't load model \n",
      "Model: outputs/AE/AE_CNN_3D/dataset_output/8_channels_spatial_pooling/pred_1_grad_0_max_pos_0_max_value_0_fft_0_weighted_0_inflection_pos_0_inflection_value_0/depth_pre_treatment_none_n_components_107/channels_[1, 8, 8]/upsample_mode_trilinear/linear_later_False_lattent_size_50/1_conv_per_layer/padding_reflect/interp_size_0/pooling_Max_on_dim_spatial/final_upsample_upsample_pooling/act_fn_Elu_final_act_fn_Linear/lr_0.001/normalization_mean_std/manage_nan_suppress/n_profiles_None/2024-11-27_02-48/checkpoints/val_loss=0.17-epoch=39.ckpt\n"
     ]
    },
    {
     "name": "stderr",
     "output_type": "stream",
     "text": [
      " 67%|██████▋   | 20/30 [03:37<00:05,  1.68it/s]"
     ]
    },
    {
     "name": "stdout",
     "output_type": "stream",
     "text": [
      "Can't load model \n",
      "Model: outputs/AE/AE_CNN_3D/dataset_output/8_channels_depth_pooling/pred_0.01_grad_10000_max_pos_0.01_max_value_0.05_fft_0.05_weighted_1_inflection_pos_0.01_inflection_value_0.05/depth_pre_treatment_none_n_components_107/channels_[1, 8, 8, 8, 8]/upsample_mode_trilinear/linear_later_False_lattent_size_50/1_conv_per_layer/padding_reflect/interp_size_0/pooling_Max_on_dim_depth/final_upsample_upsample_pooling/act_fn_Elu_final_act_fn_Linear/lr_0.001/normalization_mean_std/manage_nan_suppress/n_profiles_None/2024-11-27_05-54/checkpoints/val_loss=8.41-epoch=39.ckpt\n"
     ]
    },
    {
     "name": "stderr",
     "output_type": "stream",
     "text": [
      " 70%|███████   | 21/30 [03:37<00:05,  1.72it/s]"
     ]
    },
    {
     "name": "stdout",
     "output_type": "stream",
     "text": [
      "Can't load model \n",
      "Model: outputs/AE/AE_CNN_3D/dataset_output/8_channels_depth_pooling/pred_0.01_grad_10000_max_pos_0.01_max_value_0.05_fft_0.05_weighted_1_inflection_pos_0.01_inflection_value_0.05/depth_pre_treatment_none_n_components_107/channels_[1, 8]/upsample_mode_trilinear/linear_later_False_lattent_size_50/1_conv_per_layer/padding_reflect/interp_size_0/pooling_None_on_dim_depth/final_upsample_upsample_pooling/act_fn_Elu_final_act_fn_Linear/lr_0.001/normalization_mean_std/manage_nan_suppress/n_profiles_None/2024-11-27_07-16/checkpoints/val_loss=2.72-epoch=05.ckpt\n"
     ]
    },
    {
     "name": "stderr",
     "output_type": "stream",
     "text": [
      " 73%|███████▎  | 22/30 [03:38<00:04,  1.79it/s]"
     ]
    },
    {
     "name": "stdout",
     "output_type": "stream",
     "text": [
      "Can't load model \n",
      "Model: outputs/AE/AE_CNN_3D/dataset_output/8_channels_depth_pooling/pred_0.01_grad_10000_max_pos_0.01_max_value_0.05_fft_0.05_weighted_1_inflection_pos_0.01_inflection_value_0.05/depth_pre_treatment_none_n_components_107/channels_[1, 8]/upsample_mode_trilinear/linear_later_False_lattent_size_50/1_conv_per_layer/padding_reflect/interp_size_0/pooling_Max_on_dim_depth/final_upsample_upsample_pooling/act_fn_Elu_final_act_fn_Linear/lr_0.001/normalization_mean_std/manage_nan_suppress/n_profiles_None/2024-11-27_03-26/checkpoints/val_loss=3.37-epoch=00.ckpt\n"
     ]
    },
    {
     "name": "stderr",
     "output_type": "stream",
     "text": [
      " 77%|███████▋  | 23/30 [03:38<00:03,  1.85it/s]"
     ]
    },
    {
     "name": "stdout",
     "output_type": "stream",
     "text": [
      "Can't load model \n",
      "Model: outputs/AE/AE_CNN_3D/dataset_output/8_channels_depth_pooling/pred_0.01_grad_10000_max_pos_0.01_max_value_0.05_fft_0.05_weighted_1_inflection_pos_0.01_inflection_value_0.05/depth_pre_treatment_none_n_components_107/channels_[1, 8, 8, 8]/upsample_mode_trilinear/linear_later_False_lattent_size_50/1_conv_per_layer/padding_reflect/interp_size_0/pooling_Max_on_dim_depth/final_upsample_upsample_pooling/act_fn_Elu_final_act_fn_Linear/lr_0.001/normalization_mean_std/manage_nan_suppress/n_profiles_None/2024-11-27_04-34/checkpoints/val_loss=63.22-epoch=00.ckpt\n"
     ]
    },
    {
     "name": "stderr",
     "output_type": "stream",
     "text": [
      " 80%|████████  | 24/30 [03:39<00:03,  1.91it/s]"
     ]
    },
    {
     "name": "stdout",
     "output_type": "stream",
     "text": [
      "Can't load model \n",
      "Model: outputs/AE/AE_CNN_3D/dataset_output/8_channels_depth_pooling/pred_0.01_grad_10000_max_pos_0.01_max_value_0.05_fft_0.05_weighted_1_inflection_pos_0.01_inflection_value_0.05/depth_pre_treatment_none_n_components_107/channels_[1, 8, 8]/upsample_mode_trilinear/linear_later_False_lattent_size_50/1_conv_per_layer/padding_reflect/interp_size_0/pooling_Max_on_dim_depth/final_upsample_upsample_pooling/act_fn_Elu_final_act_fn_Linear/lr_0.001/normalization_mean_std/manage_nan_suppress/n_profiles_None/2024-11-27_02-05/checkpoints/val_loss=6.56-epoch=02.ckpt\n"
     ]
    },
    {
     "name": "stderr",
     "output_type": "stream",
     "text": [
      " 83%|████████▎ | 25/30 [03:39<00:02,  1.93it/s]"
     ]
    },
    {
     "name": "stdout",
     "output_type": "stream",
     "text": [
      "Can't load model \n",
      "Model: outputs/AE/AE_CNN_3D/dataset_output/8_channels_depth_pooling/pred_1_grad_0_max_pos_0_max_value_0_fft_0_weighted_0_inflection_pos_0_inflection_value_0/depth_pre_treatment_none_n_components_107/channels_[1, 8, 8, 8, 8]/upsample_mode_trilinear/linear_later_False_lattent_size_50/1_conv_per_layer/padding_reflect/interp_size_0/pooling_Max_on_dim_depth/final_upsample_upsample_pooling/act_fn_Elu_final_act_fn_Linear/lr_0.001/normalization_mean_std/manage_nan_suppress/n_profiles_None/2024-11-27_06-37/checkpoints/val_loss=0.17-epoch=39.ckpt\n"
     ]
    },
    {
     "name": "stderr",
     "output_type": "stream",
     "text": [
      " 87%|████████▋ | 26/30 [03:40<00:02,  1.99it/s]"
     ]
    },
    {
     "name": "stdout",
     "output_type": "stream",
     "text": [
      "Can't load model \n",
      "Model: outputs/AE/AE_CNN_3D/dataset_output/8_channels_depth_pooling/pred_1_grad_0_max_pos_0_max_value_0_fft_0_weighted_0_inflection_pos_0_inflection_value_0/depth_pre_treatment_none_n_components_107/channels_[1, 8]/upsample_mode_trilinear/linear_later_False_lattent_size_50/1_conv_per_layer/padding_reflect/interp_size_0/pooling_None_on_dim_depth/final_upsample_upsample_pooling/act_fn_Elu_final_act_fn_Linear/lr_0.001/normalization_mean_std/manage_nan_suppress/n_profiles_None/2024-11-27_07-54/checkpoints/val_loss=0.17-epoch=39.ckpt\n"
     ]
    },
    {
     "name": "stderr",
     "output_type": "stream",
     "text": [
      " 90%|█████████ | 27/30 [03:40<00:01,  1.96it/s]"
     ]
    },
    {
     "name": "stdout",
     "output_type": "stream",
     "text": [
      "Can't load model \n",
      "Model: outputs/AE/AE_CNN_3D/dataset_output/8_channels_depth_pooling/pred_1_grad_0_max_pos_0_max_value_0_fft_0_weighted_0_inflection_pos_0_inflection_value_0/depth_pre_treatment_none_n_components_107/channels_[1, 8]/upsample_mode_trilinear/linear_later_False_lattent_size_50/1_conv_per_layer/padding_reflect/interp_size_0/pooling_Max_on_dim_depth/final_upsample_upsample_pooling/act_fn_Elu_final_act_fn_Linear/lr_0.001/normalization_mean_std/manage_nan_suppress/n_profiles_None/2024-11-27_04-02/checkpoints/val_loss=0.17-epoch=39.ckpt\n"
     ]
    },
    {
     "name": "stderr",
     "output_type": "stream",
     "text": [
      " 93%|█████████▎| 28/30 [03:41<00:01,  1.98it/s]"
     ]
    },
    {
     "name": "stdout",
     "output_type": "stream",
     "text": [
      "Can't load model \n",
      "Model: outputs/AE/AE_CNN_3D/dataset_output/8_channels_depth_pooling/pred_1_grad_0_max_pos_0_max_value_0_fft_0_weighted_0_inflection_pos_0_inflection_value_0/depth_pre_treatment_none_n_components_107/channels_[1, 8, 8, 8]/upsample_mode_trilinear/linear_later_False_lattent_size_50/1_conv_per_layer/padding_reflect/interp_size_0/pooling_Max_on_dim_depth/final_upsample_upsample_pooling/act_fn_Elu_final_act_fn_Linear/lr_0.001/normalization_mean_std/manage_nan_suppress/n_profiles_None/2024-11-27_05-15/checkpoints/val_loss=0.17-epoch=39.ckpt\n"
     ]
    },
    {
     "name": "stderr",
     "output_type": "stream",
     "text": [
      " 97%|█████████▋| 29/30 [03:41<00:00,  2.01it/s]"
     ]
    },
    {
     "name": "stdout",
     "output_type": "stream",
     "text": [
      "Can't load model \n",
      "Model: outputs/AE/AE_CNN_3D/dataset_output/8_channels_depth_pooling/pred_1_grad_0_max_pos_0_max_value_0_fft_0_weighted_0_inflection_pos_0_inflection_value_0/depth_pre_treatment_none_n_components_107/channels_[1, 8, 8]/upsample_mode_trilinear/linear_later_False_lattent_size_50/1_conv_per_layer/padding_reflect/interp_size_0/pooling_Max_on_dim_depth/final_upsample_upsample_pooling/act_fn_Elu_final_act_fn_Linear/lr_0.001/normalization_mean_std/manage_nan_suppress/n_profiles_None/2024-11-27_02-47/checkpoints/val_loss=0.17-epoch=39.ckpt\n"
     ]
    },
    {
     "name": "stderr",
     "output_type": "stream",
     "text": [
      "100%|██████████| 30/30 [03:42<00:00,  7.41s/it]"
     ]
    },
    {
     "name": "stdout",
     "output_type": "stream",
     "text": [
      "Can't load model \n"
     ]
    },
    {
     "name": "stderr",
     "output_type": "stream",
     "text": [
      "\n"
     ]
    }
   ],
   "source": [
    "t,lat = 10,10\n",
    "lon = 100\n",
    "\n",
    "\n",
    "for ckpt_path in tqdm(ckpt_list):\n",
    "    ckpt_path = str(ckpt_path)\n",
    "\n",
    "    print(f\"Model: {ckpt_path}\")\n",
    "    \n",
    "    \n",
    "    \n",
    "    try:\n",
    "        cfg = get_cfg_from_ckpt_path(ckpt_path, pprint = False)        \n",
    "\n",
    "    except:\n",
    "        print(f\"Can't load config\")\n",
    "        continue\n",
    "    \n",
    "    \n",
    "   \n",
    "    \n",
    "    if cfg.datamodule in list(dm_dict.keys()):\n",
    "        dm = dm_dict[cfg.datamodule]\n",
    "        test_truth_ssp_arr, test_ssp_truth_tens, dm = loading_datamodule_phase(dm,device,phase=\"test\")\n",
    "    \n",
    "    else:\n",
    "\n",
    "        print(\"Inititing datamodule; Generating train and test datasets\")\n",
    "        \n",
    "        dm = hydra.utils.call(cfg.datamodule)  \n",
    "        test_truth_ssp_arr, test_ssp_truth_tens, dm = loading_datamodule_phase(dm,device,phase=\"test\")\n",
    "        dm_dict[cfg.datamodule] = dm\n",
    "        \n",
    "\n",
    "    \n",
    "    try:\n",
    "        lit_model = load_model(ckpt_path, dm, device, verbose = True)    \n",
    "    except:\n",
    "        print(\"Can't load model \")\n",
    "        continue\n",
    "\n",
    "    test_ae_ssp_arr = lit_model(test_ssp_truth_tens).detach().cpu().numpy()\n",
    "    ae_bottleneck_shape = lit_model.model_AE.bottleneck_shape\n",
    "    \n",
    "       \n",
    "    unorm_test_truth_ssp_arr = unorm_ssp_arr_3D(test_truth_ssp_arr,dm)\n",
    "    unorm_test_ae_ssp_arr = unorm_ssp_arr_3D(test_ae_ssp_arr,dm)\n",
    "    \n",
    "    unorm_ssp_shape = unorm_test_truth_ssp_arr.shape\n",
    "\n",
    "    \n",
    "    n_components = min(ae_bottleneck_shape[2],unorm_ssp_shape[1])\n",
    "    pca = pca_dict[n_components]\n",
    "    unorm_test_pca_ssp_arr = pca.inverse_transform(pca.transform(unorm_test_truth_ssp_arr.transpose(0,2,3,1).reshape(-1,unorm_ssp_shape[1]))).reshape(unorm_ssp_shape[0],unorm_ssp_shape[2],unorm_ssp_shape[3],unorm_ssp_shape[1]).transpose(0,3,1,2)\n",
    "        \n",
    "    \n",
    "    bottleneck_shape_tuple = (ae_bottleneck_shape,n_components)\n",
    "\n",
    "    plot_unorm_ssp_2D(unorm_test_truth_ssp_arr,\n",
    "                    unorm_test_pca_ssp_arr,\n",
    "                    unorm_test_ae_ssp_arr, \n",
    "                    dm,\n",
    "                    bottleneck_shape_tuple,\n",
    "                    t,\n",
    "                    lat)\n",
    "\n",
    "\n",
    "    plot_unorm_ssp_profiles(unorm_test_truth_ssp_arr,\n",
    "                            unorm_test_pca_ssp_arr,\n",
    "                            unorm_test_ae_ssp_arr, \n",
    "                            dm,\n",
    "                            bottleneck_shape_tuple,\n",
    "                            t,\n",
    "                            lat,\n",
    "                            lon)\n",
    "\n",
    "    plot_norm_ssp_2D(test_truth_ssp_arr,\n",
    "                    test_ae_ssp_arr, \n",
    "                    dm,\n",
    "                    ae_bottleneck_shape,\n",
    "                    t,\n",
    "                    lat)\n",
    "\n",
    "\n",
    "    plot_norm_ssp_profiles(test_truth_ssp_arr,\n",
    "                        test_ae_ssp_arr, \n",
    "                        dm,\n",
    "                        ae_bottleneck_shape,\n",
    "                        t,\n",
    "                        lat,\n",
    "                        lon)\n",
    "    \n",
    "    plt.show()\n"
   ]
  },
  {
   "cell_type": "code",
   "execution_count": null,
   "metadata": {},
   "outputs": [
    {
     "name": "stdout",
     "output_type": "stream",
     "text": [
      "Unexpected exception formatting exception. Falling back to standard exception\n"
     ]
    },
    {
     "name": "stderr",
     "output_type": "stream",
     "text": [
      "Traceback (most recent call last):\n",
      "  File \"/DATASET/envs/o23gauvr/miniconda3/envs/fsc_env/lib/python3.11/site-packages/IPython/core/interactiveshell.py\", line 3553, in run_code\n",
      "  File \"/tmp/ipykernel_2865654/385130171.py\", line 1, in <module>\n",
      "    bottleneck_shape_tuple\n",
      "NameError: name 'bottleneck_shape_tuple' is not defined\n",
      "\n",
      "During handling of the above exception, another exception occurred:\n",
      "\n",
      "Traceback (most recent call last):\n",
      "  File \"/DATASET/envs/o23gauvr/miniconda3/envs/fsc_env/lib/python3.11/site-packages/pygments/styles/__init__.py\", line 45, in get_style_by_name\n",
      "ModuleNotFoundError: No module named 'pygments.styles.default'\n",
      "\n",
      "During handling of the above exception, another exception occurred:\n",
      "\n",
      "Traceback (most recent call last):\n",
      "  File \"/DATASET/envs/o23gauvr/miniconda3/envs/fsc_env/lib/python3.11/site-packages/IPython/core/interactiveshell.py\", line 2144, in showtraceback\n",
      "  File \"/DATASET/envs/o23gauvr/miniconda3/envs/fsc_env/lib/python3.11/site-packages/IPython/core/ultratb.py\", line 1448, in structured_traceback\n",
      "  File \"/DATASET/envs/o23gauvr/miniconda3/envs/fsc_env/lib/python3.11/site-packages/IPython/core/ultratb.py\", line 1339, in structured_traceback\n",
      "  File \"/DATASET/envs/o23gauvr/miniconda3/envs/fsc_env/lib/python3.11/site-packages/IPython/core/ultratb.py\", line 1186, in structured_traceback\n",
      "  File \"/DATASET/envs/o23gauvr/miniconda3/envs/fsc_env/lib/python3.11/site-packages/IPython/core/ultratb.py\", line 1076, in format_exception_as_a_whole\n",
      "  File \"/DATASET/envs/o23gauvr/miniconda3/envs/fsc_env/lib/python3.11/site-packages/IPython/core/ultratb.py\", line 1127, in get_records\n",
      "  File \"/DATASET/envs/o23gauvr/miniconda3/envs/fsc_env/lib/python3.11/site-packages/pygments/styles/__init__.py\", line 47, in get_style_by_name\n",
      "pygments.util.ClassNotFound: Could not find style module 'pygments.styles.default', though it should be builtin.\n"
     ]
    }
   ],
   "source": [
    "bottleneck_shape_tuple"
   ]
  },
  {
   "cell_type": "code",
   "execution_count": null,
   "metadata": {},
   "outputs": [],
   "source": [
    "compression_rate_pca = len(dm.depth_array)/n_components\n",
    "compression_rate_ae = np.prod(dm.test_shape)/np.prod(ae_bottleneck_shape)\n"
   ]
  },
  {
   "cell_type": "code",
   "execution_count": null,
   "metadata": {},
   "outputs": [
    {
     "data": {
      "text/plain": [
       "1.9772727272727273"
      ]
     },
     "execution_count": 50,
     "metadata": {},
     "output_type": "execute_result"
    }
   ],
   "source": [
    "compression_rate_ae"
   ]
  },
  {
   "cell_type": "code",
   "execution_count": null,
   "metadata": {},
   "outputs": [
    {
     "data": {
      "text/plain": [
       "165327840"
      ]
     },
     "execution_count": 51,
     "metadata": {},
     "output_type": "execute_result"
    }
   ],
   "source": [
    "np.prod(dm.test_shape)"
   ]
  },
  {
   "cell_type": "code",
   "execution_count": null,
   "metadata": {},
   "outputs": [
    {
     "data": {
      "text/plain": [
       "(37, 107, 174, 240)"
      ]
     },
     "execution_count": 52,
     "metadata": {},
     "output_type": "execute_result"
    }
   ],
   "source": [
    "dm.test_data_da.shape"
   ]
  },
  {
   "cell_type": "code",
   "execution_count": null,
   "metadata": {},
   "outputs": [
    {
     "data": {
      "text/plain": [
       "83614080"
      ]
     },
     "execution_count": 53,
     "metadata": {},
     "output_type": "execute_result"
    }
   ],
   "source": [
    "np.prod(ae_bottleneck_shape)"
   ]
  },
  {
   "cell_type": "code",
   "execution_count": null,
   "metadata": {},
   "outputs": [
    {
     "data": {
      "text/plain": [
       "torch.Size([37, 8, 107, 44, 60])"
      ]
     },
     "execution_count": 54,
     "metadata": {},
     "output_type": "execute_result"
    }
   ],
   "source": [
    "ae_bottleneck_shape"
   ]
  },
  {
   "cell_type": "code",
   "execution_count": null,
   "metadata": {},
   "outputs": [
    {
     "data": {
      "text/plain": [
       "7814400"
      ]
     },
     "execution_count": 55,
     "metadata": {},
     "output_type": "execute_result"
    }
   ],
   "source": [
    "37*8*10*44*60"
   ]
  },
  {
   "cell_type": "code",
   "execution_count": null,
   "metadata": {},
   "outputs": [
    {
     "data": {
      "text/plain": [
       "165327840"
      ]
     },
     "execution_count": 56,
     "metadata": {},
     "output_type": "execute_result"
    }
   ],
   "source": [
    "37*1*107*174*240"
   ]
  },
  {
   "cell_type": "code",
   "execution_count": null,
   "metadata": {},
   "outputs": [],
   "source": []
  },
  {
   "cell_type": "code",
   "execution_count": null,
   "metadata": {},
   "outputs": [],
   "source": []
  },
  {
   "cell_type": "code",
   "execution_count": null,
   "metadata": {},
   "outputs": [],
   "source": []
  },
  {
   "cell_type": "code",
   "execution_count": null,
   "metadata": {},
   "outputs": [],
   "source": []
  }
 ],
 "metadata": {
  "kernelspec": {
   "display_name": "fsc_env",
   "language": "python",
   "name": "python3"
  },
  "language_info": {
   "codemirror_mode": {
    "name": "ipython",
    "version": 3
   },
   "file_extension": ".py",
   "mimetype": "text/x-python",
   "name": "python",
   "nbconvert_exporter": "python",
   "pygments_lexer": "ipython3",
   "version": "3.12.7"
  }
 },
 "nbformat": 4,
 "nbformat_minor": 2
}
