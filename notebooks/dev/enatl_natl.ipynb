{
 "cells": [
  {
   "cell_type": "code",
   "execution_count": 1,
   "metadata": {},
   "outputs": [],
   "source": [
    "import torch\n",
    "import xarray as xr\n",
    "import numpy as np \n",
    "import hydra\n",
    "import yaml\n",
    "import inspect\n",
    "from IPython.display import Markdown, display\n",
    "from omegaconf import OmegaConf\n",
    "import pytorch_lightning as pl\n",
    "from collections import namedtuple\n",
    "import functools as ft\n",
    "from src.data import AugmentedDataset, XrDataset"
   ]
  },
  {
   "cell_type": "code",
   "execution_count": 2,
   "metadata": {},
   "outputs": [
    {
     "name": "stdout",
     "output_type": "stream",
     "text": [
      "cuda:0\n"
     ]
    }
   ],
   "source": [
    "gpu = 0  #*gpu:Union[None,int]\n",
    "\n",
    "if torch.cuda.is_available() and gpu is not None:\n",
    "  dev = f\"cuda:{gpu}\"\n",
    "else:\n",
    "  dev = \"cpu\"\n",
    "device = torch.device(dev)\n",
    "\n",
    "print(device)\n",
    "\n",
    "#torch.set_default_device(device)"
   ]
  },
  {
   "cell_type": "markdown",
   "metadata": {},
   "source": [
    "# eNATL vs NATL"
   ]
  },
  {
   "cell_type": "code",
   "execution_count": 3,
   "metadata": {},
   "outputs": [],
   "source": [
    "#sound_speed_path_nan_filled = \"/DATASET/envs/o23gauvr/ss_depth_features_weighted_mean_filled.nc\"\n",
    "sound_speed_path_enatl = \"/DATASET/eNATL/eNATL60_BLB002_sound_speed_regrid_0_1000m.nc\"\n",
    "input_da_enatl = xr.open_dataset(sound_speed_path_enatl)\n",
    "coords_enatl = input_da_enatl.coords\n"
   ]
  },
  {
   "cell_type": "code",
   "execution_count": 4,
   "metadata": {},
   "outputs": [],
   "source": [
    "#sound_speed_path_nan_filled = \"/DATASET/envs/o23gauvr/ss_depth_features_weighted_mean_filled.nc\"\n",
    "sound_speed_path_natl = \"/DATASET/NATL/NATL60GULF-CJM165_sound_speed_regrid_0_1000m.nc\"\n",
    "input_da_natl = xr.open_dataset(sound_speed_path_natl)\n",
    "coords_natl = input_da_natl.coords"
   ]
  },
  {
   "cell_type": "code",
   "execution_count": 5,
   "metadata": {},
   "outputs": [
    {
     "name": "stdout",
     "output_type": "stream",
     "text": [
      "eNATL latitude: [32.0,43.95]\n",
      "NATL latitude: [32.0,43.95]\n"
     ]
    }
   ],
   "source": [
    "print(f\"eNATL latitude: [{np.round(coords_enatl['lat'].values.min(),2)},{np.round(coords_enatl['lat'].values.max(),2)}]\")\n",
    "print(f\"NATL latitude: [{np.round(coords_natl['lat'].values.min(),2)},{np.round(coords_natl['lat'].values.max(),2)}]\")"
   ]
  },
  {
   "cell_type": "code",
   "execution_count": 6,
   "metadata": {},
   "outputs": [
    {
     "name": "stdout",
     "output_type": "stream",
     "text": [
      "eNATL longitude: [-65.95,-54.0]\n",
      "NATL longitude: [-65.95,-54.0]\n"
     ]
    }
   ],
   "source": [
    "print(f\"eNATL longitude: [{np.round(coords_enatl['lon'].values.min(),2)},{np.round(coords_enatl['lon'].values.max(),2)}]\")\n",
    "print(f\"NATL longitude: [{np.round(coords_natl['lon'].values.min(),2)},{np.round(coords_natl['lon'].values.max(),2)}]\")"
   ]
  },
  {
   "cell_type": "code",
   "execution_count": 7,
   "metadata": {},
   "outputs": [
    {
     "name": "stdout",
     "output_type": "stream",
     "text": [
      " eNATL min: 1459.0439165829073, eNATL max: 1545.8698054910844\n",
      " NATL min: 1421.348940011407, NATL max: 1546.862179034367\n"
     ]
    }
   ],
   "source": [
    "print(f\" eNATL min: {np.nanmin(input_da_enatl.celerity.values)}, eNATL max: {np.nanmax(input_da_enatl.celerity.values)}\")\n",
    "print(f\" NATL min: {np.nanmin(input_da_natl.celerity.values)}, NATL max: {np.nanmax(input_da_natl.celerity.values)}\")\n"
   ]
  },
  {
   "cell_type": "markdown",
   "metadata": {},
   "source": [
    "we take a domain: {lat= slice(31,43), lon=slice(-64,-55)}\n",
    "\n",
    "choice: cut domains of 1° on each side"
   ]
  },
  {
   "cell_type": "code",
   "execution_count": 8,
   "metadata": {},
   "outputs": [
    {
     "name": "stdout",
     "output_type": "stream",
     "text": [
      " eNATL mean: 1513.9706701708644, eNATL std: 15.007288853760143\n",
      " NATL mean: 1511.844605664954, NATL std: 15.242737332216553\n"
     ]
    }
   ],
   "source": [
    "print(f\" eNATL mean: {np.nanmean(input_da_enatl.celerity.values)}, eNATL std: {np.nanstd(input_da_enatl.celerity.values)}\")\n",
    "print(f\" NATL mean: {np.nanmean(input_da_natl.celerity.values)}, NATL std: {np.nanstd(input_da_natl.celerity.values)}\")"
   ]
  },
  {
   "cell_type": "markdown",
   "metadata": {},
   "source": [
    "# Data module"
   ]
  },
  {
   "cell_type": "markdown",
   "metadata": {},
   "source": [
    "## feature devellopment"
   ]
  },
  {
   "cell_type": "code",
   "execution_count": 9,
   "metadata": {},
   "outputs": [],
   "source": [
    "def pprint_cfg(cfg):\n",
    "    display(Markdown(\"\"\"```yaml\\n\\n\"\"\" +yaml.dump(OmegaConf.to_container(cfg), default_flow_style=None, indent=2)+\"\"\"\\n\\n```\"\"\"))\n",
    "\n",
    "def get_cfg(cfg_name):\n",
    "    with hydra.initialize('./config/xp', version_base='1.3'):\n",
    "        cfg = hydra.compose(config_name = cfg_name)\n",
    "    pprint_cfg(cfg)\n",
    "    return hydra.utils.call(cfg)\n"
   ]
  },
  {
   "cell_type": "code",
   "execution_count": 10,
   "metadata": {},
   "outputs": [
    {
     "data": {
      "text/markdown": [
       "```yaml\n",
       "\n",
       "dm:\n",
       "  accoustic_var: [cutoff_freq, ecs]\n",
       "  dl_kw: {batch_size: 4, num_workers: 1}\n",
       "  xrds_kw:\n",
       "    patch_dims: {lat: 240, lon: 240, time: 15}\n",
       "    strides: {lat: 240, lon: 240, time: 1}\n",
       "entrypoints: {train_dm: '${train_dm}'}\n",
       "paths:\n",
       "  accoustic: {test: /DATASET/NATL/NATL60GULF-CJM165_cutoff_freq_regrid_0_1000m.nc,\n",
       "    train: /DATASET/eNATL/eNATL60_BLB002_cutoff_freq_regrid_0_1000m.nc}\n",
       "  celerity: {test: /DATASET/NATL/NATL60GULF-CJM165_sound_speed_regrid_0_1000m.nc,\n",
       "    train: /DATASET/eNATL/eNATL60_BLB002_sound_speed_regrid_0_1000m.nc}\n",
       "spatial_domain:\n",
       "  lat:\n",
       "    _args_: [31, 43]\n",
       "    _target_: builtins.slice\n",
       "  lon:\n",
       "    _args_: [-64, -55]\n",
       "    _target_: builtins.slice\n",
       "test_dm:\n",
       "  dl_kw: ${dm.dl_kw}\n",
       "  input_da: {accoustic_path: '${paths.accoustic.test}', accoustic_var: '${dm.accoustic_var}',\n",
       "    celerity_path: '${paths.celerity.test}', spatial_domain: '${spatial_domain}'}\n",
       "  norm_stats: {mean: 1511.844605664954, std: 15.242737332216553}\n",
       "  time_domain:\n",
       "    test:\n",
       "      time:\n",
       "        _args_: ['2012-10-01', '2013-09-30']\n",
       "        _target_: builtins.slice\n",
       "    train: null\n",
       "    val: null\n",
       "  xrds_kw: {patch_dims: '${dm.xrds_kw.patch_dims}', strides: '${dm.xrds_kw.strides}'}\n",
       "train_dm:\n",
       "  dl_kw: ${dm.dl_kw}\n",
       "  input_da: {accoustic_path: '${paths.accoustic.train}', accoustic_var: '${dm.accoustic_var}',\n",
       "    celerity_path: '${paths.celerity.train}', spatial_domain: '${spatial_domain}'}\n",
       "  norm_stats: {mean: 1513.9706701708644, std: 15.007288853760143}\n",
       "  time_domain:\n",
       "    test: null\n",
       "    train:\n",
       "      time:\n",
       "        _args_: ['2009-08-12', '2010-06-30']\n",
       "        _target_: builtins.slice\n",
       "    val:\n",
       "      time:\n",
       "        _args_: ['2009-07-01', '2009-08-11']\n",
       "        _target_: builtins.slice\n",
       "  xrds_kw: {patch_dims: '${dm.xrds_kw.patch_dims}', strides: '${dm.xrds_kw.strides}'}\n",
       "\n",
       "\n",
       "```"
      ],
      "text/plain": [
       "<IPython.core.display.Markdown object>"
      ]
     },
     "metadata": {},
     "output_type": "display_data"
    }
   ],
   "source": [
    "cfg = get_cfg(\"enatl_natl\")"
   ]
  },
  {
   "cell_type": "code",
   "execution_count": 11,
   "metadata": {},
   "outputs": [
    {
     "ename": "NameError",
     "evalue": "name 'BaseDataModule' is not defined",
     "output_type": "error",
     "traceback": [
      "\u001b[0;31m---------------------------------------------------------------------------\u001b[0m",
      "\u001b[0;31mNameError\u001b[0m                                 Traceback (most recent call last)",
      "Cell \u001b[0;32mIn[11], line 1\u001b[0m\n\u001b[0;32m----> 1\u001b[0m \u001b[38;5;28;01mclass\u001b[39;00m \u001b[38;5;21;01mTransfertDataModule\u001b[39;00m(\u001b[43mBaseDataModule\u001b[49m):\n\u001b[1;32m      2\u001b[0m     \u001b[38;5;28;01mdef\u001b[39;00m \u001b[38;5;21m__init__\u001b[39m(\u001b[38;5;28mself\u001b[39m, \u001b[38;5;241m*\u001b[39margs, \u001b[38;5;241m*\u001b[39m\u001b[38;5;241m*\u001b[39mkwargs):\n\u001b[1;32m      3\u001b[0m         \u001b[38;5;28msuper\u001b[39m()\u001b[38;5;241m.\u001b[39m\u001b[38;5;21m__init__\u001b[39m(\u001b[38;5;241m*\u001b[39margs, \u001b[38;5;241m*\u001b[39m\u001b[38;5;241m*\u001b[39mkwargs)\n",
      "\u001b[0;31mNameError\u001b[0m: name 'BaseDataModule' is not defined"
     ]
    }
   ],
   "source": [
    "class TransfertDataModule(BaseDataModule):\n",
    "    def __init__(self, *args, **kwargs):\n",
    "        super().__init__(*args, **kwargs)\n",
    "        self.mean_std_domain = kwargs.get('mean_std_domain', 'train')\n",
    "        ##* Sets attribute mean_std_domain to the value passed in the keyword arguments (kwargs). \n",
    "        ##* If the 'mean_std_domain' keyword argument is not provided, it defaults to 'train'.\n",
    "\n",
    "    # def train_mean_std(self, variable='tgt'):\n",
    "    #     train_data = (\n",
    "    #         self.input_da.sel(self.xrds_kw.get('domain_limits', {}))\n",
    "    #         .sel(self.domains[self.mean_std_domain])\n",
    "    #     )\n",
    "    #     return (\n",
    "    #         train_data\n",
    "    #         .sel(variable=variable)\n",
    "    #         .pipe(lambda da: (da.mean().item(), da.std().item()))\n",
    "    #     )\n",
    "    def train_mean_std(self, variable='celerity'):\n",
    "        # train_data = (\n",
    "        #     self.input_da.sel(self.xrds_kw.get('domain_limits', {}))\n",
    "        #     .sel(self.domains[self.mean_std_domain])\n",
    "        # )\n",
    "        ##* the selection over the domain is already done on load_input()\n",
    "        \n",
    "    \n",
    "        return (\n",
    "            self.train_data\n",
    "            .sel(variable=variable)\n",
    "            .pipe(lambda da: (da.mean().item(), da.std().item()))\n",
    "        )\n",
    "        \n",
    "        \n",
    "        \n",
    "    def setup(self, stage='test'):\n",
    "        post_fn = self.post_fn()\n",
    "\n",
    "        if stage == 'fit':\n",
    "            train_data = self.input_da.sel(self.domains['train'])\n",
    "            self.train_ds = XrDataset(\n",
    "                train_data, **self.xrds_kw, postpro_fn=post_fn,\n",
    "            )\n",
    "            if self.aug_kw:\n",
    "                self.train_ds = AugmentedDataset(self.train_ds, **self.aug_kw)\n",
    "\n",
    "            self.val_ds = XrDataset(\n",
    "                self.input_da.sel(self.domains['val']),\n",
    "                **self.xrds_kw,\n",
    "                postpro_fn=post_fn,\n",
    "            )\n",
    "        else:\n",
    "            self.test_ds = XrDataset(\n",
    "                self.input_da.sel(self.domains['test']),\n",
    "                **self.xrds_kw,\n",
    "                postpro_fn=post_fn,\n",
    "            )\n",
    "\n",
    "\n",
    "def cosanneal_lr_adamw(lit_mod, lr, T_max, weight_decay=0.):\n",
    "    opt = torch.optim.AdamW(\n",
    "        [\n",
    "            {'params': lit_mod.solver.grad_mod.parameters(), 'lr': lr},\n",
    "            {'params': lit_mod.solver.obs_cost.parameters(), 'lr': lr},\n",
    "            {'params': lit_mod.solver.prior_cost.parameters(), 'lr': lr / 2},\n",
    "        ], weight_decay=weight_decay\n",
    "    )\n",
    "    return {\n",
    "        'optimizer': opt,\n",
    "        'lr_scheduler': torch.optim.lr_scheduler.CosineAnnealingLR(\n",
    "            opt, T_max=T_max,\n",
    "        ),\n",
    "    }\n",
    "\n",
    "# def load_and_interpolate(tgt_path, inp_path, tgt_var, inp_var, domain):\n",
    "#     \"\"\"\n",
    "#     Load ground truth `tgt` and apply the satellites observations `inp`.\n",
    "#     \"\"\"\n",
    "#     tgt = xr.open_dataset(tgt_path)[tgt_var].sel(domain)\n",
    "#     inp = xr.open_dataset(inp_path)[inp_var].sel(domain)\n",
    "\n",
    "#     return (\n",
    "#         xr.Dataset(\n",
    "#             dict(input=inp*tgt, tgt=(tgt.dims, tgt.values)),\n",
    "#             inp.coords,\n",
    "#         )\n",
    "#         .transpose('time', 'lat', 'lon')\n",
    "#         .to_array()\n",
    "#     )\n",
    "\n",
    "def matching_coords_test(cel_da,acc_da):\n",
    "\n",
    "    dims = np.array(['time','lat','lon'])\n",
    "    unmatched_dim = np.array([not np.array_equal(cel_da[dim].values, acc_da[dim].values) for dim in dims])\n",
    "    if any(unmatched_dim):\n",
    "        raise ValueError(f\"Celerity and accoustic dataarrays don't have matching coordinates on {*dims[unmatched_dim],}\")   ##* Unpacking with trailing comma. ##*https://stackoverflow.com/questions/42756537/f-string-syntax-for-unpacking-a-list-with-brace-suppression\n",
    "  \n",
    "  \n",
    "def load_input(celerity_path,accoustic_path,acc_var,domains):\n",
    "    cel_ds = xr.open_dataset(celerity_path).sel(domains)\n",
    "    acc_ds = xr.open_dataset(accoustic_path).sel(domains)[acc_var]\n",
    "    matching_coords_test(cel_ds,acc_ds)\n",
    "\n",
    "    input_ds = xr.merge([cel_ds,acc_ds], join='outer').transpose('time','lon','lat','z').to_array() ##* t,x,y,z   ##* to_array() est long et pourrait poser probleme car toutes les variables ne dépendent pas de smemes coordonnées \n",
    "    return input_ds\n",
    "\n",
    "\n",
    "def run(trainer, train_dm, test_dm, lit_mod, ckpt=None):\n",
    "    \"\"\"\n",
    "    Fit and test on two distinct domains.\n",
    "    \"\"\"\n",
    "    if trainer.logger is not None:\n",
    "        print()\n",
    "        print('Logdir:', trainer.logger.log_dir)\n",
    "        print()\n",
    "\n",
    "    trainer.fit(lit_mod, datamodule=train_dm, ckpt_path=ckpt)\n",
    "    trainer.test(lit_mod, datamodule=test_dm, ckpt_path='best')"
   ]
  },
  {
   "cell_type": "code",
   "execution_count": null,
   "metadata": {},
   "outputs": [
    {
     "data": {
      "text/plain": [
       "{'celerity': {'train': '/DATASET/eNATL/eNATL60_BLB002_sound_speed_regrid_0_1000m.nc', 'test': '/DATASET/NATL/NATL60-CJM165-ssh-2012-2013-1_20.nc'}, 'accoustic': {'train': '/DATASET/eNATL/eNATL60_BLB002_cutoff_freq_regrid_0_1000m.nc', 'test': '/DATASET/NATL/NATL60GULF-CJM165_cutoff_freq_regrid_0_1000m.nc'}}"
      ]
     },
     "execution_count": 74,
     "metadata": {},
     "output_type": "execute_result"
    }
   ],
   "source": [
    "\n",
    "paths = cfg.paths\n",
    "paths"
   ]
  },
  {
   "cell_type": "code",
   "execution_count": null,
   "metadata": {},
   "outputs": [
    {
     "data": {
      "text/plain": [
       "{'lon': slice(-64, -55, None), 'lat': slice(31, 43, None)}"
      ]
     },
     "execution_count": 75,
     "metadata": {},
     "output_type": "execute_result"
    }
   ],
   "source": [
    "\n",
    "space_domain = cfg.spatial_domain\n",
    "space_domain"
   ]
  },
  {
   "cell_type": "code",
   "execution_count": null,
   "metadata": {},
   "outputs": [],
   "source": [
    "celerity_path = cfg.train_dm.input_da.celerity_path\n",
    "accoustic_path = cfg.train_dm.input_da.accoustic_path\n",
    "acc_var = cfg.dm.accoustic_var"
   ]
  },
  {
   "cell_type": "code",
   "execution_count": null,
   "metadata": {},
   "outputs": [
    {
     "data": {
      "text/plain": [
       "{'train': {'time': slice('2009-08-12', '2010-06-30', None)}, 'val': {'time': slice('2009-07-01', '2009-08-11', None)}, 'test': None}"
      ]
     },
     "execution_count": 78,
     "metadata": {},
     "output_type": "execute_result"
    }
   ],
   "source": [
    "\n",
    "time_domain = cfg.train_dm.time_domain\n",
    "time_domain\n"
   ]
  },
  {
   "cell_type": "code",
   "execution_count": null,
   "metadata": {},
   "outputs": [
    {
     "data": {
      "text/plain": [
       "omegaconf.listconfig.ListConfig"
      ]
     },
     "execution_count": 9,
     "metadata": {},
     "output_type": "execute_result"
    }
   ],
   "source": [
    "type(acc_var)  #! deal with this"
   ]
  },
  {
   "cell_type": "code",
   "execution_count": null,
   "metadata": {},
   "outputs": [],
   "source": [
    "def matching_coords_test(cel_da,acc_da):\n",
    "\n",
    "    dims = np.array(['time','lat','lon'])\n",
    "    unmatched_dim = np.array([not np.array_equal(cel_da[dim].values, acc_da[dim].values) for dim in dims])\n",
    "    if any(unmatched_dim):\n",
    "        raise ValueError(f\"Celerity and accoustic dataarrays don't have matching coordinates on {*dims[unmatched_dim],}\")   ##* Unpacking with trailing comma. ##*https://stackoverflow.com/questions/42756537/f-string-syntax-for-unpacking-a-list-with-brace-suppression\n",
    "  "
   ]
  },
  {
   "cell_type": "code",
   "execution_count": null,
   "metadata": {},
   "outputs": [],
   "source": [
    "\n",
    "def load_input(celerity_path,accoustic_path,acc_var,domains):\n",
    "    cel_ds = xr.open_dataset(celerity_path).sel(domains)\n",
    "    acc_ds = xr.open_dataset(accoustic_path).sel(domains)[acc_var]\n",
    "    ###* spatial intersection over domain, time left untouched\n",
    "    matching_coords_test(cel_ds,acc_ds)\n",
    "\n",
    "    input_ds = xr.merge([cel_ds,acc_ds], join='outer').transpose('time','lon','lat','z').to_array() ##* t,x,y,z   ##* to_array() est long et pourrait poser probleme car toutes les variables ne dépendent pas de smemes coordonnées \n",
    "    ###* to_array() necessaire pour le xrdataset\n",
    "    return input_ds\n"
   ]
  },
  {
   "cell_type": "code",
   "execution_count": null,
   "metadata": {},
   "outputs": [
    {
     "data": {
      "text/html": [
       "<div><svg style=\"position: absolute; width: 0; height: 0; overflow: hidden\">\n",
       "<defs>\n",
       "<symbol id=\"icon-database\" viewBox=\"0 0 32 32\">\n",
       "<path d=\"M16 0c-8.837 0-16 2.239-16 5v4c0 2.761 7.163 5 16 5s16-2.239 16-5v-4c0-2.761-7.163-5-16-5z\"></path>\n",
       "<path d=\"M16 17c-8.837 0-16-2.239-16-5v6c0 2.761 7.163 5 16 5s16-2.239 16-5v-6c0 2.761-7.163 5-16 5z\"></path>\n",
       "<path d=\"M16 26c-8.837 0-16-2.239-16-5v6c0 2.761 7.163 5 16 5s16-2.239 16-5v-6c0 2.761-7.163 5-16 5z\"></path>\n",
       "</symbol>\n",
       "<symbol id=\"icon-file-text2\" viewBox=\"0 0 32 32\">\n",
       "<path d=\"M28.681 7.159c-0.694-0.947-1.662-2.053-2.724-3.116s-2.169-2.030-3.116-2.724c-1.612-1.182-2.393-1.319-2.841-1.319h-15.5c-1.378 0-2.5 1.121-2.5 2.5v27c0 1.378 1.122 2.5 2.5 2.5h23c1.378 0 2.5-1.122 2.5-2.5v-19.5c0-0.448-0.137-1.23-1.319-2.841zM24.543 5.457c0.959 0.959 1.712 1.825 2.268 2.543h-4.811v-4.811c0.718 0.556 1.584 1.309 2.543 2.268zM28 29.5c0 0.271-0.229 0.5-0.5 0.5h-23c-0.271 0-0.5-0.229-0.5-0.5v-27c0-0.271 0.229-0.5 0.5-0.5 0 0 15.499-0 15.5 0v7c0 0.552 0.448 1 1 1h7v19.5z\"></path>\n",
       "<path d=\"M23 26h-14c-0.552 0-1-0.448-1-1s0.448-1 1-1h14c0.552 0 1 0.448 1 1s-0.448 1-1 1z\"></path>\n",
       "<path d=\"M23 22h-14c-0.552 0-1-0.448-1-1s0.448-1 1-1h14c0.552 0 1 0.448 1 1s-0.448 1-1 1z\"></path>\n",
       "<path d=\"M23 18h-14c-0.552 0-1-0.448-1-1s0.448-1 1-1h14c0.552 0 1 0.448 1 1s-0.448 1-1 1z\"></path>\n",
       "</symbol>\n",
       "</defs>\n",
       "</svg>\n",
       "<style>/* CSS stylesheet for displaying xarray objects in jupyterlab.\n",
       " *\n",
       " */\n",
       "\n",
       ":root {\n",
       "  --xr-font-color0: var(--jp-content-font-color0, rgba(0, 0, 0, 1));\n",
       "  --xr-font-color2: var(--jp-content-font-color2, rgba(0, 0, 0, 0.54));\n",
       "  --xr-font-color3: var(--jp-content-font-color3, rgba(0, 0, 0, 0.38));\n",
       "  --xr-border-color: var(--jp-border-color2, #e0e0e0);\n",
       "  --xr-disabled-color: var(--jp-layout-color3, #bdbdbd);\n",
       "  --xr-background-color: var(--jp-layout-color0, white);\n",
       "  --xr-background-color-row-even: var(--jp-layout-color1, white);\n",
       "  --xr-background-color-row-odd: var(--jp-layout-color2, #eeeeee);\n",
       "}\n",
       "\n",
       "html[theme=dark],\n",
       "body[data-theme=dark],\n",
       "body.vscode-dark {\n",
       "  --xr-font-color0: rgba(255, 255, 255, 1);\n",
       "  --xr-font-color2: rgba(255, 255, 255, 0.54);\n",
       "  --xr-font-color3: rgba(255, 255, 255, 0.38);\n",
       "  --xr-border-color: #1F1F1F;\n",
       "  --xr-disabled-color: #515151;\n",
       "  --xr-background-color: #111111;\n",
       "  --xr-background-color-row-even: #111111;\n",
       "  --xr-background-color-row-odd: #313131;\n",
       "}\n",
       "\n",
       ".xr-wrap {\n",
       "  display: block !important;\n",
       "  min-width: 300px;\n",
       "  max-width: 700px;\n",
       "}\n",
       "\n",
       ".xr-text-repr-fallback {\n",
       "  /* fallback to plain text repr when CSS is not injected (untrusted notebook) */\n",
       "  display: none;\n",
       "}\n",
       "\n",
       ".xr-header {\n",
       "  padding-top: 6px;\n",
       "  padding-bottom: 6px;\n",
       "  margin-bottom: 4px;\n",
       "  border-bottom: solid 1px var(--xr-border-color);\n",
       "}\n",
       "\n",
       ".xr-header > div,\n",
       ".xr-header > ul {\n",
       "  display: inline;\n",
       "  margin-top: 0;\n",
       "  margin-bottom: 0;\n",
       "}\n",
       "\n",
       ".xr-obj-type,\n",
       ".xr-array-name {\n",
       "  margin-left: 2px;\n",
       "  margin-right: 10px;\n",
       "}\n",
       "\n",
       ".xr-obj-type {\n",
       "  color: var(--xr-font-color2);\n",
       "}\n",
       "\n",
       ".xr-sections {\n",
       "  padding-left: 0 !important;\n",
       "  display: grid;\n",
       "  grid-template-columns: 150px auto auto 1fr 20px 20px;\n",
       "}\n",
       "\n",
       ".xr-section-item {\n",
       "  display: contents;\n",
       "}\n",
       "\n",
       ".xr-section-item input {\n",
       "  display: none;\n",
       "}\n",
       "\n",
       ".xr-section-item input + label {\n",
       "  color: var(--xr-disabled-color);\n",
       "}\n",
       "\n",
       ".xr-section-item input:enabled + label {\n",
       "  cursor: pointer;\n",
       "  color: var(--xr-font-color2);\n",
       "}\n",
       "\n",
       ".xr-section-item input:enabled + label:hover {\n",
       "  color: var(--xr-font-color0);\n",
       "}\n",
       "\n",
       ".xr-section-summary {\n",
       "  grid-column: 1;\n",
       "  color: var(--xr-font-color2);\n",
       "  font-weight: 500;\n",
       "}\n",
       "\n",
       ".xr-section-summary > span {\n",
       "  display: inline-block;\n",
       "  padding-left: 0.5em;\n",
       "}\n",
       "\n",
       ".xr-section-summary-in:disabled + label {\n",
       "  color: var(--xr-font-color2);\n",
       "}\n",
       "\n",
       ".xr-section-summary-in + label:before {\n",
       "  display: inline-block;\n",
       "  content: '►';\n",
       "  font-size: 11px;\n",
       "  width: 15px;\n",
       "  text-align: center;\n",
       "}\n",
       "\n",
       ".xr-section-summary-in:disabled + label:before {\n",
       "  color: var(--xr-disabled-color);\n",
       "}\n",
       "\n",
       ".xr-section-summary-in:checked + label:before {\n",
       "  content: '▼';\n",
       "}\n",
       "\n",
       ".xr-section-summary-in:checked + label > span {\n",
       "  display: none;\n",
       "}\n",
       "\n",
       ".xr-section-summary,\n",
       ".xr-section-inline-details {\n",
       "  padding-top: 4px;\n",
       "  padding-bottom: 4px;\n",
       "}\n",
       "\n",
       ".xr-section-inline-details {\n",
       "  grid-column: 2 / -1;\n",
       "}\n",
       "\n",
       ".xr-section-details {\n",
       "  display: none;\n",
       "  grid-column: 1 / -1;\n",
       "  margin-bottom: 5px;\n",
       "}\n",
       "\n",
       ".xr-section-summary-in:checked ~ .xr-section-details {\n",
       "  display: contents;\n",
       "}\n",
       "\n",
       ".xr-array-wrap {\n",
       "  grid-column: 1 / -1;\n",
       "  display: grid;\n",
       "  grid-template-columns: 20px auto;\n",
       "}\n",
       "\n",
       ".xr-array-wrap > label {\n",
       "  grid-column: 1;\n",
       "  vertical-align: top;\n",
       "}\n",
       "\n",
       ".xr-preview {\n",
       "  color: var(--xr-font-color3);\n",
       "}\n",
       "\n",
       ".xr-array-preview,\n",
       ".xr-array-data {\n",
       "  padding: 0 5px !important;\n",
       "  grid-column: 2;\n",
       "}\n",
       "\n",
       ".xr-array-data,\n",
       ".xr-array-in:checked ~ .xr-array-preview {\n",
       "  display: none;\n",
       "}\n",
       "\n",
       ".xr-array-in:checked ~ .xr-array-data,\n",
       ".xr-array-preview {\n",
       "  display: inline-block;\n",
       "}\n",
       "\n",
       ".xr-dim-list {\n",
       "  display: inline-block !important;\n",
       "  list-style: none;\n",
       "  padding: 0 !important;\n",
       "  margin: 0;\n",
       "}\n",
       "\n",
       ".xr-dim-list li {\n",
       "  display: inline-block;\n",
       "  padding: 0;\n",
       "  margin: 0;\n",
       "}\n",
       "\n",
       ".xr-dim-list:before {\n",
       "  content: '(';\n",
       "}\n",
       "\n",
       ".xr-dim-list:after {\n",
       "  content: ')';\n",
       "}\n",
       "\n",
       ".xr-dim-list li:not(:last-child):after {\n",
       "  content: ',';\n",
       "  padding-right: 5px;\n",
       "}\n",
       "\n",
       ".xr-has-index {\n",
       "  font-weight: bold;\n",
       "}\n",
       "\n",
       ".xr-var-list,\n",
       ".xr-var-item {\n",
       "  display: contents;\n",
       "}\n",
       "\n",
       ".xr-var-item > div,\n",
       ".xr-var-item label,\n",
       ".xr-var-item > .xr-var-name span {\n",
       "  background-color: var(--xr-background-color-row-even);\n",
       "  margin-bottom: 0;\n",
       "}\n",
       "\n",
       ".xr-var-item > .xr-var-name:hover span {\n",
       "  padding-right: 5px;\n",
       "}\n",
       "\n",
       ".xr-var-list > li:nth-child(odd) > div,\n",
       ".xr-var-list > li:nth-child(odd) > label,\n",
       ".xr-var-list > li:nth-child(odd) > .xr-var-name span {\n",
       "  background-color: var(--xr-background-color-row-odd);\n",
       "}\n",
       "\n",
       ".xr-var-name {\n",
       "  grid-column: 1;\n",
       "}\n",
       "\n",
       ".xr-var-dims {\n",
       "  grid-column: 2;\n",
       "}\n",
       "\n",
       ".xr-var-dtype {\n",
       "  grid-column: 3;\n",
       "  text-align: right;\n",
       "  color: var(--xr-font-color2);\n",
       "}\n",
       "\n",
       ".xr-var-preview {\n",
       "  grid-column: 4;\n",
       "}\n",
       "\n",
       ".xr-index-preview {\n",
       "  grid-column: 2 / 5;\n",
       "  color: var(--xr-font-color2);\n",
       "}\n",
       "\n",
       ".xr-var-name,\n",
       ".xr-var-dims,\n",
       ".xr-var-dtype,\n",
       ".xr-preview,\n",
       ".xr-attrs dt {\n",
       "  white-space: nowrap;\n",
       "  overflow: hidden;\n",
       "  text-overflow: ellipsis;\n",
       "  padding-right: 10px;\n",
       "}\n",
       "\n",
       ".xr-var-name:hover,\n",
       ".xr-var-dims:hover,\n",
       ".xr-var-dtype:hover,\n",
       ".xr-attrs dt:hover {\n",
       "  overflow: visible;\n",
       "  width: auto;\n",
       "  z-index: 1;\n",
       "}\n",
       "\n",
       ".xr-var-attrs,\n",
       ".xr-var-data,\n",
       ".xr-index-data {\n",
       "  display: none;\n",
       "  background-color: var(--xr-background-color) !important;\n",
       "  padding-bottom: 5px !important;\n",
       "}\n",
       "\n",
       ".xr-var-attrs-in:checked ~ .xr-var-attrs,\n",
       ".xr-var-data-in:checked ~ .xr-var-data,\n",
       ".xr-index-data-in:checked ~ .xr-index-data {\n",
       "  display: block;\n",
       "}\n",
       "\n",
       ".xr-var-data > table {\n",
       "  float: right;\n",
       "}\n",
       "\n",
       ".xr-var-name span,\n",
       ".xr-var-data,\n",
       ".xr-index-name div,\n",
       ".xr-index-data,\n",
       ".xr-attrs {\n",
       "  padding-left: 25px !important;\n",
       "}\n",
       "\n",
       ".xr-attrs,\n",
       ".xr-var-attrs,\n",
       ".xr-var-data,\n",
       ".xr-index-data {\n",
       "  grid-column: 1 / -1;\n",
       "}\n",
       "\n",
       "dl.xr-attrs {\n",
       "  padding: 0;\n",
       "  margin: 0;\n",
       "  display: grid;\n",
       "  grid-template-columns: 125px auto;\n",
       "}\n",
       "\n",
       ".xr-attrs dt,\n",
       ".xr-attrs dd {\n",
       "  padding: 0;\n",
       "  margin: 0;\n",
       "  float: left;\n",
       "  padding-right: 10px;\n",
       "  width: auto;\n",
       "}\n",
       "\n",
       ".xr-attrs dt {\n",
       "  font-weight: normal;\n",
       "  grid-column: 1;\n",
       "}\n",
       "\n",
       ".xr-attrs dt:hover span {\n",
       "  display: inline-block;\n",
       "  background: var(--xr-background-color);\n",
       "  padding-right: 10px;\n",
       "}\n",
       "\n",
       ".xr-attrs dd {\n",
       "  grid-column: 2;\n",
       "  white-space: pre-wrap;\n",
       "  word-break: break-all;\n",
       "}\n",
       "\n",
       ".xr-icon-database,\n",
       ".xr-icon-file-text2,\n",
       ".xr-no-icon {\n",
       "  display: inline-block;\n",
       "  vertical-align: middle;\n",
       "  width: 1em;\n",
       "  height: 1.5em !important;\n",
       "  stroke-width: 0;\n",
       "  stroke: currentColor;\n",
       "  fill: currentColor;\n",
       "}\n",
       "</style><pre class='xr-text-repr-fallback'>&lt;xarray.Dataset&gt;\n",
       "Dimensions:      (lon: 180, lat: 220, z: 107, time: 365)\n",
       "Coordinates:\n",
       "  * lon          (lon) float64 -63.95 -63.9 -63.85 -63.8 ... -55.1 -55.05 -55.0\n",
       "  * lat          (lat) float64 32.0 32.05 32.1 32.15 ... 42.8 42.85 42.9 42.95\n",
       "  * z            (z) float64 0.4805 1.559 2.794 4.187 ... 968.4 985.3 1.002e+03\n",
       "  * time         (time) datetime64[ns] 2009-07-01T12:00:00 ... 2010-06-30T12:...\n",
       "Data variables:\n",
       "    celerity     (time, lon, lat, z) float64 ...\n",
       "    cutoff_freq  (time, lon, lat) float64 ...\n",
       "    ecs          (time, lon, lat) float64 ...</pre><div class='xr-wrap' style='display:none'><div class='xr-header'><div class='xr-obj-type'>xarray.Dataset</div></div><ul class='xr-sections'><li class='xr-section-item'><input id='section-3e1aec01-4852-497d-97f1-bd1388e34b61' class='xr-section-summary-in' type='checkbox' disabled ><label for='section-3e1aec01-4852-497d-97f1-bd1388e34b61' class='xr-section-summary'  title='Expand/collapse section'>Dimensions:</label><div class='xr-section-inline-details'><ul class='xr-dim-list'><li><span class='xr-has-index'>lon</span>: 180</li><li><span class='xr-has-index'>lat</span>: 220</li><li><span class='xr-has-index'>z</span>: 107</li><li><span class='xr-has-index'>time</span>: 365</li></ul></div><div class='xr-section-details'></div></li><li class='xr-section-item'><input id='section-1b329fcf-0633-4afb-8414-1a81d44c3297' class='xr-section-summary-in' type='checkbox'  checked><label for='section-1b329fcf-0633-4afb-8414-1a81d44c3297' class='xr-section-summary' >Coordinates: <span>(4)</span></label><div class='xr-section-inline-details'></div><div class='xr-section-details'><ul class='xr-var-list'><li class='xr-var-item'><div class='xr-var-name'><span class='xr-has-index'>lon</span></div><div class='xr-var-dims'>(lon)</div><div class='xr-var-dtype'>float64</div><div class='xr-var-preview xr-preview'>-63.95 -63.9 ... -55.05 -55.0</div><input id='attrs-00cd3e1b-6b26-4a4b-9a5e-d568b226e392' class='xr-var-attrs-in' type='checkbox' disabled><label for='attrs-00cd3e1b-6b26-4a4b-9a5e-d568b226e392' title='Show/Hide attributes'><svg class='icon xr-icon-file-text2'><use xlink:href='#icon-file-text2'></use></svg></label><input id='data-f793f06d-3275-4875-9b24-980b381eaef1' class='xr-var-data-in' type='checkbox'><label for='data-f793f06d-3275-4875-9b24-980b381eaef1' title='Show/Hide data repr'><svg class='icon xr-icon-database'><use xlink:href='#icon-database'></use></svg></label><div class='xr-var-attrs'><dl class='xr-attrs'></dl></div><div class='xr-var-data'><pre>array([-63.95, -63.9 , -63.85, -63.8 , -63.75, -63.7 , -63.65, -63.6 , -63.55,\n",
       "       -63.5 , -63.45, -63.4 , -63.35, -63.3 , -63.25, -63.2 , -63.15, -63.1 ,\n",
       "       -63.05, -63.  , -62.95, -62.9 , -62.85, -62.8 , -62.75, -62.7 , -62.65,\n",
       "       -62.6 , -62.55, -62.5 , -62.45, -62.4 , -62.35, -62.3 , -62.25, -62.2 ,\n",
       "       -62.15, -62.1 , -62.05, -62.  , -61.95, -61.9 , -61.85, -61.8 , -61.75,\n",
       "       -61.7 , -61.65, -61.6 , -61.55, -61.5 , -61.45, -61.4 , -61.35, -61.3 ,\n",
       "       -61.25, -61.2 , -61.15, -61.1 , -61.05, -61.  , -60.95, -60.9 , -60.85,\n",
       "       -60.8 , -60.75, -60.7 , -60.65, -60.6 , -60.55, -60.5 , -60.45, -60.4 ,\n",
       "       -60.35, -60.3 , -60.25, -60.2 , -60.15, -60.1 , -60.05, -60.  , -59.95,\n",
       "       -59.9 , -59.85, -59.8 , -59.75, -59.7 , -59.65, -59.6 , -59.55, -59.5 ,\n",
       "       -59.45, -59.4 , -59.35, -59.3 , -59.25, -59.2 , -59.15, -59.1 , -59.05,\n",
       "       -59.  , -58.95, -58.9 , -58.85, -58.8 , -58.75, -58.7 , -58.65, -58.6 ,\n",
       "       -58.55, -58.5 , -58.45, -58.4 , -58.35, -58.3 , -58.25, -58.2 , -58.15,\n",
       "       -58.1 , -58.05, -58.  , -57.95, -57.9 , -57.85, -57.8 , -57.75, -57.7 ,\n",
       "       -57.65, -57.6 , -57.55, -57.5 , -57.45, -57.4 , -57.35, -57.3 , -57.25,\n",
       "       -57.2 , -57.15, -57.1 , -57.05, -57.  , -56.95, -56.9 , -56.85, -56.8 ,\n",
       "       -56.75, -56.7 , -56.65, -56.6 , -56.55, -56.5 , -56.45, -56.4 , -56.35,\n",
       "       -56.3 , -56.25, -56.2 , -56.15, -56.1 , -56.05, -56.  , -55.95, -55.9 ,\n",
       "       -55.85, -55.8 , -55.75, -55.7 , -55.65, -55.6 , -55.55, -55.5 , -55.45,\n",
       "       -55.4 , -55.35, -55.3 , -55.25, -55.2 , -55.15, -55.1 , -55.05, -55.  ])</pre></div></li><li class='xr-var-item'><div class='xr-var-name'><span class='xr-has-index'>lat</span></div><div class='xr-var-dims'>(lat)</div><div class='xr-var-dtype'>float64</div><div class='xr-var-preview xr-preview'>32.0 32.05 32.1 ... 42.9 42.95</div><input id='attrs-7bce8bbb-87cb-493c-9c48-4d4ad46c6e54' class='xr-var-attrs-in' type='checkbox' disabled><label for='attrs-7bce8bbb-87cb-493c-9c48-4d4ad46c6e54' title='Show/Hide attributes'><svg class='icon xr-icon-file-text2'><use xlink:href='#icon-file-text2'></use></svg></label><input id='data-45fd980d-4d33-4e32-b8d5-1be28790a443' class='xr-var-data-in' type='checkbox'><label for='data-45fd980d-4d33-4e32-b8d5-1be28790a443' title='Show/Hide data repr'><svg class='icon xr-icon-database'><use xlink:href='#icon-database'></use></svg></label><div class='xr-var-attrs'><dl class='xr-attrs'></dl></div><div class='xr-var-data'><pre>array([32.  , 32.05, 32.1 , ..., 42.85, 42.9 , 42.95])</pre></div></li><li class='xr-var-item'><div class='xr-var-name'><span class='xr-has-index'>z</span></div><div class='xr-var-dims'>(z)</div><div class='xr-var-dtype'>float64</div><div class='xr-var-preview xr-preview'>0.4805 1.559 ... 985.3 1.002e+03</div><input id='attrs-be1dd9a1-fbb1-4ea1-8841-a72d1fc06d59' class='xr-var-attrs-in' type='checkbox' disabled><label for='attrs-be1dd9a1-fbb1-4ea1-8841-a72d1fc06d59' title='Show/Hide attributes'><svg class='icon xr-icon-file-text2'><use xlink:href='#icon-file-text2'></use></svg></label><input id='data-a2760e83-247d-4050-a43b-c5079dc922ec' class='xr-var-data-in' type='checkbox'><label for='data-a2760e83-247d-4050-a43b-c5079dc922ec' title='Show/Hide data repr'><svg class='icon xr-icon-database'><use xlink:href='#icon-database'></use></svg></label><div class='xr-var-attrs'><dl class='xr-attrs'></dl></div><div class='xr-var-data'><pre>array([4.804548e-01, 1.558792e+00, 2.794210e+00, 4.187311e+00, 5.738673e+00,\n",
       "       7.448861e+00, 9.318418e+00, 1.134787e+01, 1.353772e+01, 1.588846e+01,\n",
       "       1.840055e+01, 2.107444e+01, 2.391056e+01, 2.690932e+01, 3.007109e+01,\n",
       "       3.339624e+01, 3.688512e+01, 4.053805e+01, 4.435533e+01, 4.833724e+01,\n",
       "       5.248403e+01, 5.679595e+01, 6.127321e+01, 6.591600e+01, 7.072448e+01,\n",
       "       7.569881e+01, 8.083911e+01, 8.614549e+01, 9.161802e+01, 9.725676e+01,\n",
       "       1.030618e+02, 1.090330e+02, 1.151705e+02, 1.214742e+02, 1.279441e+02,\n",
       "       1.345801e+02, 1.413820e+02, 1.483498e+02, 1.554833e+02, 1.627824e+02,\n",
       "       1.702469e+02, 1.778764e+02, 1.856710e+02, 1.936301e+02, 2.017537e+02,\n",
       "       2.100413e+02, 2.184927e+02, 2.271075e+02, 2.358854e+02, 2.448260e+02,\n",
       "       2.539288e+02, 2.631935e+02, 2.726196e+02, 2.822066e+02, 2.919541e+02,\n",
       "       3.018616e+02, 3.119285e+02, 3.221542e+02, 3.325383e+02, 3.430802e+02,\n",
       "       3.537792e+02, 3.646348e+02, 3.756462e+02, 3.868129e+02, 3.981343e+02,\n",
       "       4.096095e+02, 4.212379e+02, 4.330188e+02, 4.449515e+02, 4.570352e+02,\n",
       "       4.692692e+02, 4.816526e+02, 4.941848e+02, 5.068648e+02, 5.196919e+02,\n",
       "       5.326653e+02, 5.457840e+02, 5.590474e+02, 5.724544e+02, 5.860042e+02,\n",
       "       5.996959e+02, 6.135286e+02, 6.275015e+02, 6.416135e+02, 6.558638e+02,\n",
       "       6.702514e+02, 6.847754e+02, 6.994348e+02, 7.142287e+02, 7.291560e+02,\n",
       "       7.442159e+02, 7.594073e+02, 7.747291e+02, 7.901806e+02, 8.057605e+02,\n",
       "       8.214680e+02, 8.373019e+02, 8.532614e+02, 8.693453e+02, 8.855526e+02,\n",
       "       9.018823e+02, 9.183334e+02, 9.349048e+02, 9.515954e+02, 9.684043e+02,\n",
       "       9.853305e+02, 1.002373e+03])</pre></div></li><li class='xr-var-item'><div class='xr-var-name'><span class='xr-has-index'>time</span></div><div class='xr-var-dims'>(time)</div><div class='xr-var-dtype'>datetime64[ns]</div><div class='xr-var-preview xr-preview'>2009-07-01T12:00:00 ... 2010-06-...</div><input id='attrs-83b20f61-6243-4aaf-99d6-6324e6c95330' class='xr-var-attrs-in' type='checkbox' ><label for='attrs-83b20f61-6243-4aaf-99d6-6324e6c95330' title='Show/Hide attributes'><svg class='icon xr-icon-file-text2'><use xlink:href='#icon-file-text2'></use></svg></label><input id='data-7fff2dc3-866b-4abd-b464-39db9ed94e8a' class='xr-var-data-in' type='checkbox'><label for='data-7fff2dc3-866b-4abd-b464-39db9ed94e8a' title='Show/Hide data repr'><svg class='icon xr-icon-database'><use xlink:href='#icon-database'></use></svg></label><div class='xr-var-attrs'><dl class='xr-attrs'><dt><span>time_origin :</span></dt><dd>1900-01-01 00:00:00</dd><dt><span>title :</span></dt><dd>Time</dd><dt><span>long_name :</span></dt><dd>Time axis</dd></dl></div><div class='xr-var-data'><pre>array([&#x27;2009-07-01T12:00:00.000000000&#x27;, &#x27;2009-07-02T12:00:00.000000000&#x27;,\n",
       "       &#x27;2009-07-03T12:00:00.000000000&#x27;, ..., &#x27;2010-06-28T12:00:00.000000000&#x27;,\n",
       "       &#x27;2010-06-29T12:00:00.000000000&#x27;, &#x27;2010-06-30T12:00:00.000000000&#x27;],\n",
       "      dtype=&#x27;datetime64[ns]&#x27;)</pre></div></li></ul></div></li><li class='xr-section-item'><input id='section-29421299-f51f-4979-b840-16a5895d800d' class='xr-section-summary-in' type='checkbox'  checked><label for='section-29421299-f51f-4979-b840-16a5895d800d' class='xr-section-summary' >Data variables: <span>(3)</span></label><div class='xr-section-inline-details'></div><div class='xr-section-details'><ul class='xr-var-list'><li class='xr-var-item'><div class='xr-var-name'><span>celerity</span></div><div class='xr-var-dims'>(time, lon, lat, z)</div><div class='xr-var-dtype'>float64</div><div class='xr-var-preview xr-preview'>...</div><input id='attrs-3578c11e-0fb1-4e33-86ab-5fe6df0a9160' class='xr-var-attrs-in' type='checkbox' disabled><label for='attrs-3578c11e-0fb1-4e33-86ab-5fe6df0a9160' title='Show/Hide attributes'><svg class='icon xr-icon-file-text2'><use xlink:href='#icon-file-text2'></use></svg></label><input id='data-ab7871af-0d2e-4a54-9255-349723941b07' class='xr-var-data-in' type='checkbox'><label for='data-ab7871af-0d2e-4a54-9255-349723941b07' title='Show/Hide data repr'><svg class='icon xr-icon-database'><use xlink:href='#icon-database'></use></svg></label><div class='xr-var-attrs'><dl class='xr-attrs'></dl></div><div class='xr-var-data'><pre>[1546578000 values with dtype=float64]</pre></div></li><li class='xr-var-item'><div class='xr-var-name'><span>cutoff_freq</span></div><div class='xr-var-dims'>(time, lon, lat)</div><div class='xr-var-dtype'>float64</div><div class='xr-var-preview xr-preview'>...</div><input id='attrs-76a56884-d045-4d4f-9dd7-788ad223ed10' class='xr-var-attrs-in' type='checkbox' disabled><label for='attrs-76a56884-d045-4d4f-9dd7-788ad223ed10' title='Show/Hide attributes'><svg class='icon xr-icon-file-text2'><use xlink:href='#icon-file-text2'></use></svg></label><input id='data-6a744dc6-0411-4fcf-a45d-a06febe144ba' class='xr-var-data-in' type='checkbox'><label for='data-6a744dc6-0411-4fcf-a45d-a06febe144ba' title='Show/Hide data repr'><svg class='icon xr-icon-database'><use xlink:href='#icon-database'></use></svg></label><div class='xr-var-attrs'><dl class='xr-attrs'></dl></div><div class='xr-var-data'><pre>[14454000 values with dtype=float64]</pre></div></li><li class='xr-var-item'><div class='xr-var-name'><span>ecs</span></div><div class='xr-var-dims'>(time, lon, lat)</div><div class='xr-var-dtype'>float64</div><div class='xr-var-preview xr-preview'>...</div><input id='attrs-d2e0706a-64d8-4410-b283-04421d53de76' class='xr-var-attrs-in' type='checkbox' disabled><label for='attrs-d2e0706a-64d8-4410-b283-04421d53de76' title='Show/Hide attributes'><svg class='icon xr-icon-file-text2'><use xlink:href='#icon-file-text2'></use></svg></label><input id='data-83123abe-d13c-4fde-beec-9278e3456e46' class='xr-var-data-in' type='checkbox'><label for='data-83123abe-d13c-4fde-beec-9278e3456e46' title='Show/Hide data repr'><svg class='icon xr-icon-database'><use xlink:href='#icon-database'></use></svg></label><div class='xr-var-attrs'><dl class='xr-attrs'></dl></div><div class='xr-var-data'><pre>[14454000 values with dtype=float64]</pre></div></li></ul></div></li><li class='xr-section-item'><input id='section-dc3cb366-c701-4053-99e3-498e5d05147c' class='xr-section-summary-in' type='checkbox'  ><label for='section-dc3cb366-c701-4053-99e3-498e5d05147c' class='xr-section-summary' >Indexes: <span>(4)</span></label><div class='xr-section-inline-details'></div><div class='xr-section-details'><ul class='xr-var-list'><li class='xr-var-item'><div class='xr-index-name'><div>lon</div></div><div class='xr-index-preview'>PandasIndex</div><div></div><input id='index-1f60b192-7a6e-4fb6-9a41-7c9673a45c3d' class='xr-index-data-in' type='checkbox'/><label for='index-1f60b192-7a6e-4fb6-9a41-7c9673a45c3d' title='Show/Hide index repr'><svg class='icon xr-icon-database'><use xlink:href='#icon-database'></use></svg></label><div class='xr-index-data'><pre>PandasIndex(Index([-63.950000000000855,  -63.90000000000086,  -63.85000000000086,\n",
       "       -63.800000000000864,  -63.75000000000087,  -63.70000000000087,\n",
       "        -63.65000000000087, -63.600000000000875,  -63.55000000000088,\n",
       "        -63.50000000000088,\n",
       "       ...\n",
       "        -55.45000000000134,  -55.40000000000134, -55.350000000001344,\n",
       "        -55.30000000000135,  -55.25000000000135,  -55.20000000000135,\n",
       "       -55.150000000001356,  -55.10000000000136,  -55.05000000000136,\n",
       "       -55.000000000001364],\n",
       "      dtype=&#x27;float64&#x27;, name=&#x27;lon&#x27;, length=180))</pre></div></li><li class='xr-var-item'><div class='xr-index-name'><div>lat</div></div><div class='xr-index-preview'>PandasIndex</div><div></div><input id='index-74bb4a6a-6bae-4649-89b9-388e54bba86c' class='xr-index-data-in' type='checkbox'/><label for='index-74bb4a6a-6bae-4649-89b9-388e54bba86c' title='Show/Hide index repr'><svg class='icon xr-icon-database'><use xlink:href='#icon-database'></use></svg></label><div class='xr-index-data'><pre>PandasIndex(Index([32.000000000000085,  32.05000000000008,  32.10000000000009,\n",
       "        32.15000000000009,  32.20000000000009, 32.250000000000085,\n",
       "        32.30000000000009, 32.350000000000094,  32.40000000000009,\n",
       "        32.45000000000009,\n",
       "       ...\n",
       "       42.500000000000234,  42.55000000000024, 42.600000000000236,\n",
       "        42.65000000000023,  42.70000000000024,  42.75000000000024,\n",
       "        42.80000000000024, 42.850000000000236,  42.90000000000024,\n",
       "       42.950000000000244],\n",
       "      dtype=&#x27;float64&#x27;, name=&#x27;lat&#x27;, length=220))</pre></div></li><li class='xr-var-item'><div class='xr-index-name'><div>z</div></div><div class='xr-index-preview'>PandasIndex</div><div></div><input id='index-2c3f4645-5d2c-4717-8e43-f4fe80e0269e' class='xr-index-data-in' type='checkbox'/><label for='index-2c3f4645-5d2c-4717-8e43-f4fe80e0269e' title='Show/Hide index repr'><svg class='icon xr-icon-database'><use xlink:href='#icon-database'></use></svg></label><div class='xr-index-data'><pre>PandasIndex(Index([0.4804547754091311, 1.5587915796420089,  2.794210420277172,\n",
       "        4.187310545423306,  5.738673106367689,  7.448860865594492,\n",
       "        9.318417912476189,  11.34786938692238, 13.537721211305469,\n",
       "       15.888459830883257,\n",
       "       ...\n",
       "        853.2613657705216,  869.3452557340813,   885.552572515329,\n",
       "        901.8822845571473,  918.3333570098629,  934.9047520772592,\n",
       "        951.5954293586899,  968.4043461872582,  985.3304579638703,\n",
       "       1002.3727184870964],\n",
       "      dtype=&#x27;float64&#x27;, name=&#x27;z&#x27;, length=107))</pre></div></li><li class='xr-var-item'><div class='xr-index-name'><div>time</div></div><div class='xr-index-preview'>PandasIndex</div><div></div><input id='index-1b912895-ab6d-4a85-85f6-445a437b2760' class='xr-index-data-in' type='checkbox'/><label for='index-1b912895-ab6d-4a85-85f6-445a437b2760' title='Show/Hide index repr'><svg class='icon xr-icon-database'><use xlink:href='#icon-database'></use></svg></label><div class='xr-index-data'><pre>PandasIndex(DatetimeIndex([&#x27;2009-07-01 12:00:00&#x27;, &#x27;2009-07-02 12:00:00&#x27;,\n",
       "               &#x27;2009-07-03 12:00:00&#x27;, &#x27;2009-07-04 12:00:00&#x27;,\n",
       "               &#x27;2009-07-05 12:00:00&#x27;, &#x27;2009-07-06 12:00:00&#x27;,\n",
       "               &#x27;2009-07-07 12:00:00&#x27;, &#x27;2009-07-08 12:00:00&#x27;,\n",
       "               &#x27;2009-07-09 12:00:00&#x27;, &#x27;2009-07-10 12:00:00&#x27;,\n",
       "               ...\n",
       "               &#x27;2010-06-21 12:00:00&#x27;, &#x27;2010-06-22 12:00:00&#x27;,\n",
       "               &#x27;2010-06-23 12:00:00&#x27;, &#x27;2010-06-24 12:00:00&#x27;,\n",
       "               &#x27;2010-06-25 12:00:00&#x27;, &#x27;2010-06-26 12:00:00&#x27;,\n",
       "               &#x27;2010-06-27 12:00:00&#x27;, &#x27;2010-06-28 12:00:00&#x27;,\n",
       "               &#x27;2010-06-29 12:00:00&#x27;, &#x27;2010-06-30 12:00:00&#x27;],\n",
       "              dtype=&#x27;datetime64[ns]&#x27;, name=&#x27;time&#x27;, length=365, freq=None))</pre></div></li></ul></div></li><li class='xr-section-item'><input id='section-171cdffd-e4f2-4d6f-b06f-48dfc388c801' class='xr-section-summary-in' type='checkbox' disabled ><label for='section-171cdffd-e4f2-4d6f-b06f-48dfc388c801' class='xr-section-summary'  title='Expand/collapse section'>Attributes: <span>(0)</span></label><div class='xr-section-inline-details'></div><div class='xr-section-details'><dl class='xr-attrs'></dl></div></li></ul></div></div>"
      ],
      "text/plain": [
       "<xarray.Dataset>\n",
       "Dimensions:      (lon: 180, lat: 220, z: 107, time: 365)\n",
       "Coordinates:\n",
       "  * lon          (lon) float64 -63.95 -63.9 -63.85 -63.8 ... -55.1 -55.05 -55.0\n",
       "  * lat          (lat) float64 32.0 32.05 32.1 32.15 ... 42.8 42.85 42.9 42.95\n",
       "  * z            (z) float64 0.4805 1.559 2.794 4.187 ... 968.4 985.3 1.002e+03\n",
       "  * time         (time) datetime64[ns] 2009-07-01T12:00:00 ... 2010-06-30T12:...\n",
       "Data variables:\n",
       "    celerity     (time, lon, lat, z) float64 ...\n",
       "    cutoff_freq  (time, lon, lat) float64 ...\n",
       "    ecs          (time, lon, lat) float64 ..."
      ]
     },
     "execution_count": 79,
     "metadata": {},
     "output_type": "execute_result"
    }
   ],
   "source": [
    "data_ds = load_input(celerity_path,accoustic_path,list(acc_var),space_domain)  ##TODO: manage this list opperator\n",
    "#train_data = train_ds.to_array()\n",
    "data_ds"
   ]
  },
  {
   "cell_type": "code",
   "execution_count": null,
   "metadata": {},
   "outputs": [],
   "source": [
    "cel_ds = xr.open_dataset(celerity_path).sel(space_domain)\n",
    "acc_ds = xr.open_dataset(accoustic_path).sel(space_domain)[list(acc_var)]\n",
    "###* spatial intersection over domain, time left untouched\n",
    "matching_coords_test(cel_ds,acc_ds)\n",
    "\n",
    "data_ds_bis = xr.Dataset(\n",
    "    dict(input=acc_ds.values, tgt= cel_ds.values),\n",
    "    cel_ds.coords,\n",
    ").transpose('time','lon','lat','z')"
   ]
  },
  {
   "cell_type": "code",
   "execution_count": null,
   "metadata": {},
   "outputs": [],
   "source": [
    "data_arr = data_ds.to_array()"
   ]
  },
  {
   "cell_type": "code",
   "execution_count": null,
   "metadata": {},
   "outputs": [
    {
     "data": {
      "text/plain": [
       "(3, 365, 180, 220, 107)"
      ]
     },
     "execution_count": 93,
     "metadata": {},
     "output_type": "execute_result"
    }
   ],
   "source": [
    "data_arr.shape"
   ]
  },
  {
   "cell_type": "code",
   "execution_count": null,
   "metadata": {},
   "outputs": [],
   "source": [
    "def train_mean_std(self, variable='celerity'):\n",
    "    train_data = self.input_data.sel(domains[self.mean_std_domain])\n",
    "    ##* the selection over the spatial domain is already done on load_input()\n",
    "    \n",
    "    \n",
    "    return (\n",
    "        train_data\n",
    "        .sel(variable=variable)\n",
    "        .pipe(lambda da: (da.mean().item(), da.std().item()))\n",
    "    )\n"
   ]
  },
  {
   "cell_type": "code",
   "execution_count": null,
   "metadata": {},
   "outputs": [],
   "source": [
    "    \n",
    "def setup(self, stage='test'):\n",
    "    post_fn = self.post_fn()\n",
    "\n",
    "    if stage == 'fit':\n",
    "        train_data = self.input_da.sel(time_domain['train'])\n",
    "        self.train_ds = XrDataset(\n",
    "            train_data, **self.xrds_kw, postpro_fn=post_fn,\n",
    "        )\n",
    "        if self.aug_kw:\n",
    "            self.train_ds = AugmentedDataset(self.train_ds, **self.aug_kw)\n",
    "\n",
    "        self.val_ds = XrDataset(\n",
    "            self.input_da.sel(time_domain['val']),\n",
    "            **self.xrds_kw,\n",
    "            postpro_fn=post_fn,\n",
    "        )\n",
    "    else:\n",
    "        self.test_ds = XrDataset(\n",
    "            self.input_da.sel(time_domain['test']),\n",
    "            **self.xrds_kw,\n",
    "            postpro_fn=post_fn,\n",
    "        )"
   ]
  },
  {
   "cell_type": "markdown",
   "metadata": {},
   "source": [
    "## Run class"
   ]
  },
  {
   "cell_type": "code",
   "execution_count": 12,
   "metadata": {},
   "outputs": [],
   "source": [
    "TrainingItem = namedtuple('TrainingItem', ['input', 'tgt'])\n",
    "\n",
    "##*input : celerity data\n",
    "##* target: accoustic data"
   ]
  },
  {
   "cell_type": "code",
   "execution_count": 14,
   "metadata": {},
   "outputs": [],
   "source": [
    "class BaseDataModule(pl.LightningDataModule):\n",
    "    def __init__(self, input_da, time_domain, xrds_kw, dl_kw, aug_kw=None, norm_stats=None, **kwargs):\n",
    "        super().__init__()\n",
    "        self.input_da = input_da\n",
    "        self.time_domain = time_domain\n",
    "        self.xrds_kw = xrds_kw\n",
    "        self.dl_kw = dl_kw\n",
    "        self.aug_kw = aug_kw if aug_kw is not None else {}\n",
    "        self._norm_stats = norm_stats\n",
    "\n",
    "        self.train_ds = None\n",
    "        self.val_ds = None\n",
    "        self.test_ds = None\n",
    "        self._post_fn = None\n",
    "    \n",
    "    def get_norm_stats(self):\n",
    "        if self._norm_stats is None:\n",
    "            self._norm_stats = self.train_mean_std()\n",
    "            print(\"Norm stats\", self._norm_stats)\n",
    "        else:\n",
    "            self.norm_stats = tuple(self._norm_stats.values())\n",
    "            \n",
    "        return self._norm_stats\n",
    "    \n",
    "\n",
    "    def train_mean_std(self):\n",
    "        pass\n",
    "\n",
    "    def post_fn(self):\n",
    "        m, s = self.get_norm_stats()\n",
    "        normalize = lambda item: (item - m) / s\n",
    "        return ft.partial(ft.reduce,lambda i, f: f(i), [\n",
    "            TrainingItem._make,\n",
    "            lambda item: item._replace(tgt=normalize(item.celerity)),\n",
    "            lambda item: item._replace(input=normalize(item.accoustic)),\n",
    "        ])\n",
    "        \n",
    "        ##*input : celerity data\n",
    "        ##* target: accoustic data\n",
    "        \n",
    "    def setup(self):\n",
    "        pass"
   ]
  },
  {
   "cell_type": "code",
   "execution_count": 47,
   "metadata": {},
   "outputs": [],
   "source": [
    "class TransfertDataModule(BaseDataModule):\n",
    "    def __init__(self, *args, **kwargs):\n",
    "        super().__init__(*args, **kwargs)\n",
    "        self.mean_std_domain = kwargs.get('mean_std_domain', 'train')\n",
    "        ##* Sets attribute mean_std_domain to the value passed in the keyword arguments (kwargs). \n",
    "        ##* If the 'mean_std_domain' keyword argument is not provided, it defaults to 'train'.\n",
    "\n",
    "\n",
    "    def train_mean_std(self, variable='celerity'):\n",
    "        train_data = self.input_da.sel(self.time_domain[self.mean_std_domain])\n",
    "        ##* the selection over the spatial domain is already done on load_input()\n",
    "        \n",
    "        \n",
    "        return (\n",
    "            train_data\n",
    "            [variable]\n",
    "            .pipe(lambda da: (da.mean().item(), da.std().item()))\n",
    "        )\n",
    "            \n",
    "\n",
    "    def setup(self, stage='test'):\n",
    "        post_fn = self.post_fn()\n",
    "\n",
    "        if stage == 'fit':\n",
    "            train_data = self.input_da.sel(self.time_domain['train'])\n",
    "            self.train_ds = XrDataset(\n",
    "                train_data, **self.xrds_kw, postpro_fn=post_fn,\n",
    "            )\n",
    "            if self.aug_kw:\n",
    "                self.train_ds = AugmentedDataset(self.train_ds, **self.aug_kw)\n",
    "\n",
    "            self.val_ds = XrDataset(\n",
    "                self.input_da.sel(self.time_domain['val']),\n",
    "                **self.xrds_kw,\n",
    "                postpro_fn=post_fn,\n",
    "            )\n",
    "        else:\n",
    "            self.test_ds = XrDataset(\n",
    "                self.input_da.sel(self.time_domain['test']),\n",
    "                **self.xrds_kw,\n",
    "                postpro_fn=post_fn,\n",
    "            )\n",
    "\n",
    "\n",
    "\n",
    "\n",
    "def matching_coords_test(cel_da,acc_da):\n",
    "\n",
    "    dims = np.array(['time','lat','lon'])\n",
    "    unmatched_dim = np.array([not np.array_equal(cel_da[dim].values, acc_da[dim].values) for dim in dims])\n",
    "    if any(unmatched_dim):\n",
    "        raise ValueError(f\"Celerity and accoustic dataarrays don't have matching coordinates on {*dims[unmatched_dim],}\")   ##* Unpacking with trailing comma. ##*https://stackoverflow.com/questions/42756537/f-string-syntax-for-unpacking-a-list-with-brace-suppression\n",
    "  \n",
    "  \n",
    "def load_input(celerity_path,accoustic_path,acc_var,spatial_domain):\n",
    "    acc_var = list(acc_var)\n",
    "    cel_ds = xr.open_dataset(celerity_path).sel(spatial_domain)\n",
    "    acc_ds = xr.open_dataset(accoustic_path).sel(spatial_domain)[acc_var]\n",
    "    matching_coords_test(cel_ds,acc_ds)\n",
    "\n",
    "    input_ds = xr.merge([cel_ds,acc_ds], join='outer').transpose('time','lon','lat','z').to_array() ##* t,x,y,z   ##* to_array() est long et pourrait poser probleme car toutes les variables ne dépendent pas de smemes coordonnées \n",
    "    ###* to_array() necessaire pour le XrDataset\n",
    "\n",
    "    return input_ds\n",
    "\n",
    "\n",
    "def run(trainer, train_dm, test_dm, lit_mod, ckpt=None):\n",
    "    \"\"\"\n",
    "    Fit and test on two distinct domains.\n",
    "    \"\"\"\n",
    "    if trainer.logger is not None:\n",
    "        print()\n",
    "        print('Logdir:', trainer.logger.log_dir)\n",
    "        print()\n",
    "\n",
    "    trainer.fit(lit_mod, datamodule=train_dm, ckpt_path=ckpt)\n",
    "    trainer.test(lit_mod, datamodule=test_dm, ckpt_path='best')"
   ]
  },
  {
   "cell_type": "code",
   "execution_count": 44,
   "metadata": {},
   "outputs": [
    {
     "data": {
      "text/markdown": [
       "```yaml\n",
       "\n",
       "dm:\n",
       "  accoustic_var: [cutoff_freq, ecs]\n",
       "  dl_kw: {batch_size: 4, num_workers: 1}\n",
       "  xrds_kw:\n",
       "    patch_dims: {lat: 240, lon: 240, time: 15}\n",
       "    strides: {lat: 240, lon: 240, time: 1}\n",
       "entrypoints: {train_dm: '${train_dm}'}\n",
       "paths:\n",
       "  accoustic: {test: /DATASET/NATL/NATL60GULF-CJM165_cutoff_freq_regrid_0_1000m.nc,\n",
       "    train: /DATASET/eNATL/eNATL60_BLB002_cutoff_freq_regrid_0_1000m.nc}\n",
       "  celerity: {test: /DATASET/NATL/NATL60GULF-CJM165_sound_speed_regrid_0_1000m.nc,\n",
       "    train: /DATASET/eNATL/eNATL60_BLB002_sound_speed_regrid_0_1000m.nc}\n",
       "spatial_domain:\n",
       "  lat:\n",
       "    _args_: [31, 43]\n",
       "    _target_: builtins.slice\n",
       "  lon:\n",
       "    _args_: [-64, -55]\n",
       "    _target_: builtins.slice\n",
       "test_dm:\n",
       "  dl_kw: ${dm.dl_kw}\n",
       "  input_da: {accoustic_path: '${paths.accoustic.test}', accoustic_var: '${dm.accoustic_var}',\n",
       "    celerity_path: '${paths.celerity.test}', spatial_domain: '${spatial_domain}'}\n",
       "  norm_stats: {mean: 1511.844605664954, std: 15.242737332216553}\n",
       "  time_domain:\n",
       "    test:\n",
       "      time:\n",
       "        _args_: ['2012-10-01', '2013-09-30']\n",
       "        _target_: builtins.slice\n",
       "    train: null\n",
       "    val: null\n",
       "  xrds_kw: {patch_dims: '${dm.xrds_kw.patch_dims}', strides: '${dm.xrds_kw.strides}'}\n",
       "train_dm:\n",
       "  dl_kw: ${dm.dl_kw}\n",
       "  input_da: {accoustic_path: '${paths.accoustic.train}', accoustic_var: '${dm.accoustic_var}',\n",
       "    celerity_path: '${paths.celerity.train}', spatial_domain: '${spatial_domain}'}\n",
       "  norm_stats: {mean: 1513.9706701708644, std: 15.007288853760143}\n",
       "  time_domain:\n",
       "    test: null\n",
       "    train:\n",
       "      time:\n",
       "        _args_: ['2009-08-12', '2010-06-30']\n",
       "        _target_: builtins.slice\n",
       "    val:\n",
       "      time:\n",
       "        _args_: ['2009-07-01', '2009-08-11']\n",
       "        _target_: builtins.slice\n",
       "  xrds_kw: {patch_dims: '${dm.xrds_kw.patch_dims}', strides: '${dm.xrds_kw.strides}'}\n",
       "\n",
       "\n",
       "```"
      ],
      "text/plain": [
       "<IPython.core.display.Markdown object>"
      ]
     },
     "metadata": {},
     "output_type": "display_data"
    }
   ],
   "source": [
    "def pprint_cfg(cfg):\n",
    "    display(Markdown(\"\"\"```yaml\\n\\n\"\"\" +yaml.dump(OmegaConf.to_container(cfg), default_flow_style=None, indent=2)+\"\"\"\\n\\n```\"\"\"))\n",
    "\n",
    "def get_cfg(cfg_name):\n",
    "    with hydra.initialize('./config/xp', version_base='1.3'):\n",
    "        cfg = hydra.compose(config_name = cfg_name)\n",
    "    pprint_cfg(cfg)\n",
    "    return hydra.utils.call(cfg)\n",
    "\n",
    "cfg = get_cfg(\"enatl_natl\")"
   ]
  },
  {
   "cell_type": "code",
   "execution_count": 48,
   "metadata": {},
   "outputs": [
    {
     "data": {
      "text/plain": [
       "omegaconf.listconfig.ListConfig"
      ]
     },
     "execution_count": 48,
     "metadata": {},
     "output_type": "execute_result"
    }
   ],
   "source": [
    "type(cfg.dm.accoustic_var)"
   ]
  },
  {
   "cell_type": "code",
   "execution_count": 49,
   "metadata": {},
   "outputs": [
    {
     "name": "stdout",
     "output_type": "stream",
     "text": [
      "<class 'omegaconf.listconfig.ListConfig'>\n"
     ]
    },
    {
     "ename": "KeyError",
     "evalue": "\"No variable named ['cutoff_freq', 'ecs']. Variables on the dataset include ['cutoff_freq', 'ecs', 'ecs_sound_speed', 'surface_sound_speed', 'surface_temp', 'surface_sal', 'lat', 'lon', 'time']\"",
     "output_type": "error",
     "traceback": [
      "\u001b[0;31m---------------------------------------------------------------------------\u001b[0m",
      "\u001b[0;31mKeyError\u001b[0m                                  Traceback (most recent call last)",
      "\u001b[0;32m/DATASET/envs/o23gauvr/miniconda3/envs/fsc_env/lib/python3.11/site-packages/xarray/core/dataset.py\u001b[0m in \u001b[0;36m?\u001b[0;34m(self, name)\u001b[0m\n\u001b[1;32m   1445\u001b[0m             \u001b[0mvariable\u001b[0m \u001b[0;34m=\u001b[0m \u001b[0mself\u001b[0m\u001b[0;34m.\u001b[0m\u001b[0m_variables\u001b[0m\u001b[0;34m[\u001b[0m\u001b[0mname\u001b[0m\u001b[0;34m]\u001b[0m\u001b[0;34m\u001b[0m\u001b[0;34m\u001b[0m\u001b[0m\n\u001b[1;32m   1446\u001b[0m         \u001b[0;32mexcept\u001b[0m \u001b[0mKeyError\u001b[0m\u001b[0;34m:\u001b[0m\u001b[0;34m\u001b[0m\u001b[0;34m\u001b[0m\u001b[0m\n\u001b[0;32m-> 1447\u001b[0;31m             \u001b[0m_\u001b[0m\u001b[0;34m,\u001b[0m \u001b[0mname\u001b[0m\u001b[0;34m,\u001b[0m \u001b[0mvariable\u001b[0m \u001b[0;34m=\u001b[0m \u001b[0m_get_virtual_variable\u001b[0m\u001b[0;34m(\u001b[0m\u001b[0mself\u001b[0m\u001b[0;34m.\u001b[0m\u001b[0m_variables\u001b[0m\u001b[0;34m,\u001b[0m \u001b[0mname\u001b[0m\u001b[0;34m,\u001b[0m \u001b[0mself\u001b[0m\u001b[0;34m.\u001b[0m\u001b[0msizes\u001b[0m\u001b[0;34m)\u001b[0m\u001b[0;34m\u001b[0m\u001b[0;34m\u001b[0m\u001b[0m\n\u001b[0m\u001b[1;32m   1448\u001b[0m \u001b[0;34m\u001b[0m\u001b[0m\n",
      "\u001b[0;31mKeyError\u001b[0m: ['cutoff_freq', 'ecs']",
      "\nDuring handling of the above exception, another exception occurred:\n",
      "\u001b[0;31mKeyError\u001b[0m                                  Traceback (most recent call last)",
      "\u001b[0;32m/DATASET/envs/o23gauvr/miniconda3/envs/fsc_env/lib/python3.11/site-packages/xarray/core/dataset.py\u001b[0m in \u001b[0;36m?\u001b[0;34m(self, key)\u001b[0m\n\u001b[1;32m   1546\u001b[0m                 \u001b[0;32mreturn\u001b[0m \u001b[0mself\u001b[0m\u001b[0;34m.\u001b[0m\u001b[0m_construct_dataarray\u001b[0m\u001b[0;34m(\u001b[0m\u001b[0mkey\u001b[0m\u001b[0;34m)\u001b[0m\u001b[0;34m\u001b[0m\u001b[0;34m\u001b[0m\u001b[0m\n\u001b[1;32m   1547\u001b[0m             \u001b[0;32mexcept\u001b[0m \u001b[0mKeyError\u001b[0m \u001b[0;32mas\u001b[0m \u001b[0me\u001b[0m\u001b[0;34m:\u001b[0m\u001b[0;34m\u001b[0m\u001b[0;34m\u001b[0m\u001b[0m\n\u001b[0;32m-> 1548\u001b[0;31m                 raise KeyError(\n\u001b[0m\u001b[1;32m   1549\u001b[0m                     \u001b[0;34mf\"No variable named {key!r}. Variables on the dataset include {shorten_list_repr(list(self.variables.keys()), max_items=10)}\"\u001b[0m\u001b[0;34m\u001b[0m\u001b[0;34m\u001b[0m\u001b[0m\n",
      "\u001b[0;32m/DATASET/envs/o23gauvr/miniconda3/envs/fsc_env/lib/python3.11/site-packages/xarray/core/dataset.py\u001b[0m in \u001b[0;36m?\u001b[0;34m(self, name)\u001b[0m\n\u001b[1;32m   1445\u001b[0m             \u001b[0mvariable\u001b[0m \u001b[0;34m=\u001b[0m \u001b[0mself\u001b[0m\u001b[0;34m.\u001b[0m\u001b[0m_variables\u001b[0m\u001b[0;34m[\u001b[0m\u001b[0mname\u001b[0m\u001b[0;34m]\u001b[0m\u001b[0;34m\u001b[0m\u001b[0;34m\u001b[0m\u001b[0m\n\u001b[1;32m   1446\u001b[0m         \u001b[0;32mexcept\u001b[0m \u001b[0mKeyError\u001b[0m\u001b[0;34m:\u001b[0m\u001b[0;34m\u001b[0m\u001b[0;34m\u001b[0m\u001b[0m\n\u001b[0;32m-> 1447\u001b[0;31m             \u001b[0m_\u001b[0m\u001b[0;34m,\u001b[0m \u001b[0mname\u001b[0m\u001b[0;34m,\u001b[0m \u001b[0mvariable\u001b[0m \u001b[0;34m=\u001b[0m \u001b[0m_get_virtual_variable\u001b[0m\u001b[0;34m(\u001b[0m\u001b[0mself\u001b[0m\u001b[0;34m.\u001b[0m\u001b[0m_variables\u001b[0m\u001b[0;34m,\u001b[0m \u001b[0mname\u001b[0m\u001b[0;34m,\u001b[0m \u001b[0mself\u001b[0m\u001b[0;34m.\u001b[0m\u001b[0msizes\u001b[0m\u001b[0;34m)\u001b[0m\u001b[0;34m\u001b[0m\u001b[0;34m\u001b[0m\u001b[0m\n\u001b[0m\u001b[1;32m   1448\u001b[0m \u001b[0;34m\u001b[0m\u001b[0m\n",
      "\u001b[0;32m/DATASET/envs/o23gauvr/miniconda3/envs/fsc_env/lib/python3.11/site-packages/xarray/core/dataset.py\u001b[0m in \u001b[0;36m?\u001b[0;34m(variables, key, dim_sizes)\u001b[0m\n\u001b[1;32m    205\u001b[0m \u001b[0;34m\u001b[0m\u001b[0m\n\u001b[1;32m    206\u001b[0m     \u001b[0;32mif\u001b[0m \u001b[0;32mnot\u001b[0m \u001b[0misinstance\u001b[0m\u001b[0;34m(\u001b[0m\u001b[0mkey\u001b[0m\u001b[0;34m,\u001b[0m \u001b[0mstr\u001b[0m\u001b[0;34m)\u001b[0m\u001b[0;34m:\u001b[0m\u001b[0;34m\u001b[0m\u001b[0;34m\u001b[0m\u001b[0m\n\u001b[0;32m--> 207\u001b[0;31m         \u001b[0;32mraise\u001b[0m \u001b[0mKeyError\u001b[0m\u001b[0;34m(\u001b[0m\u001b[0mkey\u001b[0m\u001b[0;34m)\u001b[0m\u001b[0;34m\u001b[0m\u001b[0;34m\u001b[0m\u001b[0m\n\u001b[0m\u001b[1;32m    208\u001b[0m \u001b[0;34m\u001b[0m\u001b[0m\n",
      "\u001b[0;31mKeyError\u001b[0m: ['cutoff_freq', 'ecs']",
      "\nThe above exception was the direct cause of the following exception:\n",
      "\u001b[0;31mKeyError\u001b[0m                                  Traceback (most recent call last)",
      "\u001b[0;32m/tmp/ipykernel_1927928/131845674.py\u001b[0m in \u001b[0;36m?\u001b[0;34m()\u001b[0m\n\u001b[1;32m      1\u001b[0m \u001b[0mcelerity_path\u001b[0m \u001b[0;34m=\u001b[0m \u001b[0mcfg\u001b[0m\u001b[0;34m.\u001b[0m\u001b[0mtrain_dm\u001b[0m\u001b[0;34m.\u001b[0m\u001b[0minput_da\u001b[0m\u001b[0;34m.\u001b[0m\u001b[0mcelerity_path\u001b[0m\u001b[0;34m\u001b[0m\u001b[0;34m\u001b[0m\u001b[0m\n\u001b[1;32m      2\u001b[0m \u001b[0maccoustic_path\u001b[0m \u001b[0;34m=\u001b[0m \u001b[0mcfg\u001b[0m\u001b[0;34m.\u001b[0m\u001b[0mtrain_dm\u001b[0m\u001b[0;34m.\u001b[0m\u001b[0minput_da\u001b[0m\u001b[0;34m.\u001b[0m\u001b[0maccoustic_path\u001b[0m\u001b[0;34m\u001b[0m\u001b[0;34m\u001b[0m\u001b[0m\n\u001b[1;32m      3\u001b[0m \u001b[0mspatial_domain\u001b[0m \u001b[0;34m=\u001b[0m \u001b[0mcfg\u001b[0m\u001b[0;34m.\u001b[0m\u001b[0mtrain_dm\u001b[0m\u001b[0;34m.\u001b[0m\u001b[0minput_da\u001b[0m\u001b[0;34m.\u001b[0m\u001b[0mspatial_domain\u001b[0m\u001b[0;34m\u001b[0m\u001b[0;34m\u001b[0m\u001b[0m\n\u001b[1;32m      4\u001b[0m \u001b[0macc_var\u001b[0m \u001b[0;34m=\u001b[0m \u001b[0mcfg\u001b[0m\u001b[0;34m.\u001b[0m\u001b[0mtrain_dm\u001b[0m\u001b[0;34m.\u001b[0m\u001b[0minput_da\u001b[0m\u001b[0;34m.\u001b[0m\u001b[0maccoustic_var\u001b[0m\u001b[0;34m\u001b[0m\u001b[0;34m\u001b[0m\u001b[0m\n\u001b[0;32m----> 5\u001b[0;31m \u001b[0minput_da\u001b[0m \u001b[0;34m=\u001b[0m \u001b[0mload_input\u001b[0m\u001b[0;34m(\u001b[0m\u001b[0mcelerity_path\u001b[0m\u001b[0;34m,\u001b[0m\u001b[0maccoustic_path\u001b[0m\u001b[0;34m,\u001b[0m\u001b[0macc_var\u001b[0m\u001b[0;34m,\u001b[0m\u001b[0mspatial_domain\u001b[0m\u001b[0;34m)\u001b[0m\u001b[0;34m\u001b[0m\u001b[0;34m\u001b[0m\u001b[0m\n\u001b[0m\u001b[1;32m      6\u001b[0m \u001b[0minput_da\u001b[0m\u001b[0;34m\u001b[0m\u001b[0;34m\u001b[0m\u001b[0m\n",
      "\u001b[0;32m/tmp/ipykernel_1927928/2966472899.py\u001b[0m in \u001b[0;36m?\u001b[0;34m(celerity_path, accoustic_path, acc_var, spatial_domain)\u001b[0m\n\u001b[1;32m     55\u001b[0m \u001b[0;32mdef\u001b[0m \u001b[0mload_input\u001b[0m\u001b[0;34m(\u001b[0m\u001b[0mcelerity_path\u001b[0m\u001b[0;34m,\u001b[0m\u001b[0maccoustic_path\u001b[0m\u001b[0;34m,\u001b[0m\u001b[0macc_var\u001b[0m\u001b[0;34m,\u001b[0m\u001b[0mspatial_domain\u001b[0m\u001b[0;34m)\u001b[0m\u001b[0;34m:\u001b[0m\u001b[0;34m\u001b[0m\u001b[0;34m\u001b[0m\u001b[0m\n\u001b[1;32m     56\u001b[0m     \u001b[0mprint\u001b[0m\u001b[0;34m(\u001b[0m\u001b[0mtype\u001b[0m\u001b[0;34m(\u001b[0m\u001b[0macc_var\u001b[0m\u001b[0;34m)\u001b[0m\u001b[0;34m)\u001b[0m\u001b[0;34m\u001b[0m\u001b[0;34m\u001b[0m\u001b[0m\n\u001b[1;32m     57\u001b[0m     \u001b[0mcel_ds\u001b[0m \u001b[0;34m=\u001b[0m \u001b[0mxr\u001b[0m\u001b[0;34m.\u001b[0m\u001b[0mopen_dataset\u001b[0m\u001b[0;34m(\u001b[0m\u001b[0mcelerity_path\u001b[0m\u001b[0;34m)\u001b[0m\u001b[0;34m.\u001b[0m\u001b[0msel\u001b[0m\u001b[0;34m(\u001b[0m\u001b[0mspatial_domain\u001b[0m\u001b[0;34m)\u001b[0m\u001b[0;34m\u001b[0m\u001b[0;34m\u001b[0m\u001b[0m\n\u001b[0;32m---> 58\u001b[0;31m     \u001b[0macc_ds\u001b[0m \u001b[0;34m=\u001b[0m \u001b[0mxr\u001b[0m\u001b[0;34m.\u001b[0m\u001b[0mopen_dataset\u001b[0m\u001b[0;34m(\u001b[0m\u001b[0maccoustic_path\u001b[0m\u001b[0;34m)\u001b[0m\u001b[0;34m.\u001b[0m\u001b[0msel\u001b[0m\u001b[0;34m(\u001b[0m\u001b[0mspatial_domain\u001b[0m\u001b[0;34m)\u001b[0m\u001b[0;34m[\u001b[0m\u001b[0macc_var\u001b[0m\u001b[0;34m]\u001b[0m\u001b[0;34m\u001b[0m\u001b[0;34m\u001b[0m\u001b[0m\n\u001b[0m\u001b[1;32m     59\u001b[0m     \u001b[0mmatching_coords_test\u001b[0m\u001b[0;34m(\u001b[0m\u001b[0mcel_ds\u001b[0m\u001b[0;34m,\u001b[0m\u001b[0macc_ds\u001b[0m\u001b[0;34m)\u001b[0m\u001b[0;34m\u001b[0m\u001b[0;34m\u001b[0m\u001b[0m\n\u001b[1;32m     60\u001b[0m \u001b[0;34m\u001b[0m\u001b[0m\n\u001b[1;32m     61\u001b[0m     \u001b[0minput_ds\u001b[0m \u001b[0;34m=\u001b[0m \u001b[0mxr\u001b[0m\u001b[0;34m.\u001b[0m\u001b[0mmerge\u001b[0m\u001b[0;34m(\u001b[0m\u001b[0;34m[\u001b[0m\u001b[0mcel_ds\u001b[0m\u001b[0;34m,\u001b[0m\u001b[0macc_ds\u001b[0m\u001b[0;34m]\u001b[0m\u001b[0;34m,\u001b[0m \u001b[0mjoin\u001b[0m\u001b[0;34m=\u001b[0m\u001b[0;34m'outer'\u001b[0m\u001b[0;34m)\u001b[0m\u001b[0;34m.\u001b[0m\u001b[0mtranspose\u001b[0m\u001b[0;34m(\u001b[0m\u001b[0;34m'time'\u001b[0m\u001b[0;34m,\u001b[0m\u001b[0;34m'lon'\u001b[0m\u001b[0;34m,\u001b[0m\u001b[0;34m'lat'\u001b[0m\u001b[0;34m,\u001b[0m\u001b[0;34m'z'\u001b[0m\u001b[0;34m)\u001b[0m\u001b[0;34m.\u001b[0m\u001b[0mto_array\u001b[0m\u001b[0;34m(\u001b[0m\u001b[0;34m)\u001b[0m \u001b[0;31m##* t,x,y,z   ##* to_array() est long et pourrait poser probleme car toutes les variables ne dépendent pas de smemes coordonnées\u001b[0m\u001b[0;34m\u001b[0m\u001b[0;34m\u001b[0m\u001b[0m\n",
      "\u001b[0;32m/DATASET/envs/o23gauvr/miniconda3/envs/fsc_env/lib/python3.11/site-packages/xarray/core/dataset.py\u001b[0m in \u001b[0;36m?\u001b[0;34m(self, key)\u001b[0m\n\u001b[1;32m   1544\u001b[0m         \u001b[0;32mif\u001b[0m \u001b[0mutils\u001b[0m\u001b[0;34m.\u001b[0m\u001b[0mhashable\u001b[0m\u001b[0;34m(\u001b[0m\u001b[0mkey\u001b[0m\u001b[0;34m)\u001b[0m\u001b[0;34m:\u001b[0m\u001b[0;34m\u001b[0m\u001b[0;34m\u001b[0m\u001b[0m\n\u001b[1;32m   1545\u001b[0m             \u001b[0;32mtry\u001b[0m\u001b[0;34m:\u001b[0m\u001b[0;34m\u001b[0m\u001b[0;34m\u001b[0m\u001b[0m\n\u001b[1;32m   1546\u001b[0m                 \u001b[0;32mreturn\u001b[0m \u001b[0mself\u001b[0m\u001b[0;34m.\u001b[0m\u001b[0m_construct_dataarray\u001b[0m\u001b[0;34m(\u001b[0m\u001b[0mkey\u001b[0m\u001b[0;34m)\u001b[0m\u001b[0;34m\u001b[0m\u001b[0;34m\u001b[0m\u001b[0m\n\u001b[1;32m   1547\u001b[0m             \u001b[0;32mexcept\u001b[0m \u001b[0mKeyError\u001b[0m \u001b[0;32mas\u001b[0m \u001b[0me\u001b[0m\u001b[0;34m:\u001b[0m\u001b[0;34m\u001b[0m\u001b[0;34m\u001b[0m\u001b[0m\n\u001b[0;32m-> 1548\u001b[0;31m                 raise KeyError(\n\u001b[0m\u001b[1;32m   1549\u001b[0m                     \u001b[0;34mf\"No variable named {key!r}. Variables on the dataset include {shorten_list_repr(list(self.variables.keys()), max_items=10)}\"\u001b[0m\u001b[0;34m\u001b[0m\u001b[0;34m\u001b[0m\u001b[0m\n\u001b[1;32m   1550\u001b[0m                 ) from e\n\u001b[1;32m   1551\u001b[0m \u001b[0;34m\u001b[0m\u001b[0m\n",
      "\u001b[0;31mKeyError\u001b[0m: \"No variable named ['cutoff_freq', 'ecs']. Variables on the dataset include ['cutoff_freq', 'ecs', 'ecs_sound_speed', 'surface_sound_speed', 'surface_temp', 'surface_sal', 'lat', 'lon', 'time']\""
     ]
    }
   ],
   "source": [
    "celerity_path = cfg.train_dm.input_da.celerity_path\n",
    "accoustic_path = cfg.train_dm.input_da.accoustic_path\n",
    "spatial_domain = cfg.train_dm.input_da.spatial_domain\n",
    "acc_var = cfg.train_dm.input_da.accoustic_var  \n",
    "input_da = load_input(celerity_path,accoustic_path,acc_var,spatial_domain)\n",
    "input_da"
   ]
  },
  {
   "cell_type": "code",
   "execution_count": 18,
   "metadata": {},
   "outputs": [
    {
     "data": {
      "text/plain": [
       "{'_log_hyperparams': False,\n",
       " 'prepare_data_per_node': True,\n",
       " 'allow_zero_length_dataloader_with_multiple_devices': False,\n",
       " 'trainer': None,\n",
       " 'input_da': <xarray.DataArray (variable: 3, time: 365, lon: 180, lat: 220, z: 107)>\n",
       " array([[[[[ 1.53228537e+03,  1.53229925e+03,  1.53228822e+03, ...,\n",
       "             1.49892827e+03,  1.49828064e+03,  1.49773538e+03],\n",
       "           [ 1.53229658e+03,  1.53231050e+03,  1.53229999e+03, ...,\n",
       "             1.49898530e+03,  1.49833786e+03,  1.49779079e+03],\n",
       "           [ 1.53232989e+03,  1.53234395e+03,  1.53233493e+03, ...,\n",
       "             1.49910255e+03,  1.49845946e+03,  1.49788259e+03],\n",
       "           ...,\n",
       "           [ 1.51036462e+03,  1.50679204e+03,  1.50408346e+03, ...,\n",
       "                        nan,             nan,             nan],\n",
       "           [ 1.50949525e+03,  1.50674023e+03,  1.50543108e+03, ...,\n",
       "                        nan,             nan,             nan],\n",
       "           [ 1.50552609e+03,  1.50091945e+03,  1.49877528e+03, ...,\n",
       "                        nan,             nan,             nan]],\n",
       " \n",
       "          [[ 1.53229819e+03,  1.53231210e+03,  1.53230146e+03, ...,\n",
       "             1.49919779e+03,  1.49851627e+03,  1.49795189e+03],\n",
       "           [ 1.53230962e+03,  1.53232357e+03,  1.53231346e+03, ...,\n",
       "             1.49924635e+03,  1.49856568e+03,  1.49800158e+03],\n",
       "           [ 1.53234259e+03,  1.53235667e+03,  1.53234804e+03, ...,\n",
       "             1.49933905e+03,  1.49867575e+03,  1.49808980e+03],\n",
       " ...\n",
       "           [ 0.00000000e+00,  0.00000000e+00,  0.00000000e+00, ...,\n",
       "             0.00000000e+00,  0.00000000e+00,  0.00000000e+00],\n",
       "           [ 0.00000000e+00,  0.00000000e+00,  0.00000000e+00, ...,\n",
       "             0.00000000e+00,  0.00000000e+00,  0.00000000e+00],\n",
       "           [ 0.00000000e+00,  0.00000000e+00,  0.00000000e+00, ...,\n",
       "             0.00000000e+00,  0.00000000e+00,  0.00000000e+00]],\n",
       " \n",
       "          [[-1.00000000e+00, -1.00000000e+00, -1.00000000e+00, ...,\n",
       "            -1.00000000e+00, -1.00000000e+00, -1.00000000e+00],\n",
       "           [-1.00000000e+00, -1.00000000e+00, -1.00000000e+00, ...,\n",
       "            -1.00000000e+00, -1.00000000e+00, -1.00000000e+00],\n",
       "           [-1.00000000e+00, -1.00000000e+00, -1.00000000e+00, ...,\n",
       "            -1.00000000e+00, -1.00000000e+00, -1.00000000e+00],\n",
       "           ...,\n",
       "           [ 0.00000000e+00,  0.00000000e+00,  0.00000000e+00, ...,\n",
       "             0.00000000e+00,  0.00000000e+00,  0.00000000e+00],\n",
       "           [ 0.00000000e+00,  0.00000000e+00,  0.00000000e+00, ...,\n",
       "             0.00000000e+00,  0.00000000e+00,  0.00000000e+00],\n",
       "           [ 0.00000000e+00,  0.00000000e+00,  0.00000000e+00, ...,\n",
       "             0.00000000e+00,  0.00000000e+00,  0.00000000e+00]]]]])\n",
       " Coordinates:\n",
       "   * lon       (lon) float64 -63.95 -63.9 -63.85 -63.8 ... -55.1 -55.05 -55.0\n",
       "   * lat       (lat) float64 32.0 32.05 32.1 32.15 32.2 ... 42.8 42.85 42.9 42.95\n",
       "   * z         (z) float64 0.4805 1.559 2.794 4.187 ... 968.4 985.3 1.002e+03\n",
       "   * time      (time) datetime64[ns] 2009-07-01T12:00:00 ... 2010-06-30T12:00:00\n",
       "   * variable  (variable) object 'celerity' 'cutoff_freq' 'ecs',\n",
       " 'time_domain': {'train': {'time': slice('2009-08-12', '2010-06-30', None)}, 'val': {'time': slice('2009-07-01', '2009-08-11', None)}, 'test': None},\n",
       " 'xrds_kw': {'patch_dims': {'time': 15, 'lat': 240, 'lon': 240}, 'strides': {'time': 1, 'lat': 240, 'lon': 240}},\n",
       " 'dl_kw': {'batch_size': 4, 'num_workers': 1},\n",
       " 'aug_kw': {},\n",
       " '_norm_stats': {'mean': 1513.9706701708644, 'std': 15.007288853760143},\n",
       " 'train_ds': None,\n",
       " 'val_ds': None,\n",
       " 'test_ds': None,\n",
       " '_post_fn': None}"
      ]
     },
     "execution_count": 18,
     "metadata": {},
     "output_type": "execute_result"
    }
   ],
   "source": [
    "time_domain = cfg.train_dm.time_domain\n",
    "xrds_kw = cfg.train_dm.xrds_kw\n",
    "dl_kw = cfg.train_dm.dl_kw\n",
    "norm_stats = cfg.train_dm.norm_stats\n",
    "base_dm = BaseDataModule(input_da,time_domain,xrds_kw, dl_kw,norm_stats = norm_stats)\n",
    "vars(base_dm)"
   ]
  },
  {
   "cell_type": "code",
   "execution_count": 19,
   "metadata": {},
   "outputs": [
    {
     "data": {
      "text/plain": [
       "{'_log_hyperparams': False,\n",
       " 'prepare_data_per_node': True,\n",
       " 'allow_zero_length_dataloader_with_multiple_devices': False,\n",
       " 'trainer': None,\n",
       " 'input_da': <xarray.DataArray (variable: 3, time: 365, lon: 180, lat: 220, z: 107)>\n",
       " array([[[[[ 1.53228537e+03,  1.53229925e+03,  1.53228822e+03, ...,\n",
       "             1.49892827e+03,  1.49828064e+03,  1.49773538e+03],\n",
       "           [ 1.53229658e+03,  1.53231050e+03,  1.53229999e+03, ...,\n",
       "             1.49898530e+03,  1.49833786e+03,  1.49779079e+03],\n",
       "           [ 1.53232989e+03,  1.53234395e+03,  1.53233493e+03, ...,\n",
       "             1.49910255e+03,  1.49845946e+03,  1.49788259e+03],\n",
       "           ...,\n",
       "           [ 1.51036462e+03,  1.50679204e+03,  1.50408346e+03, ...,\n",
       "                        nan,             nan,             nan],\n",
       "           [ 1.50949525e+03,  1.50674023e+03,  1.50543108e+03, ...,\n",
       "                        nan,             nan,             nan],\n",
       "           [ 1.50552609e+03,  1.50091945e+03,  1.49877528e+03, ...,\n",
       "                        nan,             nan,             nan]],\n",
       " \n",
       "          [[ 1.53229819e+03,  1.53231210e+03,  1.53230146e+03, ...,\n",
       "             1.49919779e+03,  1.49851627e+03,  1.49795189e+03],\n",
       "           [ 1.53230962e+03,  1.53232357e+03,  1.53231346e+03, ...,\n",
       "             1.49924635e+03,  1.49856568e+03,  1.49800158e+03],\n",
       "           [ 1.53234259e+03,  1.53235667e+03,  1.53234804e+03, ...,\n",
       "             1.49933905e+03,  1.49867575e+03,  1.49808980e+03],\n",
       " ...\n",
       "           [ 0.00000000e+00,  0.00000000e+00,  0.00000000e+00, ...,\n",
       "             0.00000000e+00,  0.00000000e+00,  0.00000000e+00],\n",
       "           [ 0.00000000e+00,  0.00000000e+00,  0.00000000e+00, ...,\n",
       "             0.00000000e+00,  0.00000000e+00,  0.00000000e+00],\n",
       "           [ 0.00000000e+00,  0.00000000e+00,  0.00000000e+00, ...,\n",
       "             0.00000000e+00,  0.00000000e+00,  0.00000000e+00]],\n",
       " \n",
       "          [[-1.00000000e+00, -1.00000000e+00, -1.00000000e+00, ...,\n",
       "            -1.00000000e+00, -1.00000000e+00, -1.00000000e+00],\n",
       "           [-1.00000000e+00, -1.00000000e+00, -1.00000000e+00, ...,\n",
       "            -1.00000000e+00, -1.00000000e+00, -1.00000000e+00],\n",
       "           [-1.00000000e+00, -1.00000000e+00, -1.00000000e+00, ...,\n",
       "            -1.00000000e+00, -1.00000000e+00, -1.00000000e+00],\n",
       "           ...,\n",
       "           [ 0.00000000e+00,  0.00000000e+00,  0.00000000e+00, ...,\n",
       "             0.00000000e+00,  0.00000000e+00,  0.00000000e+00],\n",
       "           [ 0.00000000e+00,  0.00000000e+00,  0.00000000e+00, ...,\n",
       "             0.00000000e+00,  0.00000000e+00,  0.00000000e+00],\n",
       "           [ 0.00000000e+00,  0.00000000e+00,  0.00000000e+00, ...,\n",
       "             0.00000000e+00,  0.00000000e+00,  0.00000000e+00]]]]])\n",
       " Coordinates:\n",
       "   * lon       (lon) float64 -63.95 -63.9 -63.85 -63.8 ... -55.1 -55.05 -55.0\n",
       "   * lat       (lat) float64 32.0 32.05 32.1 32.15 32.2 ... 42.8 42.85 42.9 42.95\n",
       "   * z         (z) float64 0.4805 1.559 2.794 4.187 ... 968.4 985.3 1.002e+03\n",
       "   * time      (time) datetime64[ns] 2009-07-01T12:00:00 ... 2010-06-30T12:00:00\n",
       "   * variable  (variable) object 'celerity' 'cutoff_freq' 'ecs',\n",
       " 'time_domain': {'train': {'time': slice('2009-08-12', '2010-06-30', None)}, 'val': {'time': slice('2009-07-01', '2009-08-11', None)}, 'test': None},\n",
       " 'xrds_kw': {'patch_dims': {'time': 15, 'lat': 240, 'lon': 240}, 'strides': {'time': 1, 'lat': 240, 'lon': 240}},\n",
       " 'dl_kw': {'batch_size': 4, 'num_workers': 1},\n",
       " 'aug_kw': {},\n",
       " '_norm_stats': {'mean': 1513.9706701708644, 'std': 15.007288853760143},\n",
       " 'train_ds': None,\n",
       " 'val_ds': None,\n",
       " 'test_ds': None,\n",
       " '_post_fn': None,\n",
       " 'mean_std_domain': 'train'}"
      ]
     },
     "execution_count": 19,
     "metadata": {},
     "output_type": "execute_result"
    }
   ],
   "source": [
    "trans_dm = TransfertDataModule(input_da,time_domain,xrds_kw, dl_kw, norm_stats = norm_stats)\n",
    "vars(trans_dm)"
   ]
  },
  {
   "cell_type": "markdown",
   "metadata": {},
   "source": [
    "train_mean_std is computationally expensive: 33min\n",
    "\n",
    "<span style=\"color:red\"> \n",
    "les valeurs retournées sont différentes de celle obtenues par numpy nanmean et nanstd\n",
    "text</span>"
   ]
  },
  {
   "cell_type": "code",
   "execution_count": 20,
   "metadata": {},
   "outputs": [],
   "source": [
    "#trans_dm.train_mean_std()"
   ]
  },
  {
   "cell_type": "code",
   "execution_count": 21,
   "metadata": {},
   "outputs": [],
   "source": [
    "# print(trans_dm.input_da.mean())\n",
    "# print(trans_dm.input_da.std())"
   ]
  },
  {
   "cell_type": "code",
   "execution_count": 22,
   "metadata": {},
   "outputs": [
    {
     "data": {
      "text/plain": [
       "functools.partial(<built-in function reduce>, <function BaseDataModule.post_fn.<locals>.<lambda> at 0x7f88c397d620>, [<bound method TrainingItem._make of <class '__main__.TrainingItem'>>, <function BaseDataModule.post_fn.<locals>.<lambda> at 0x7f88c397dd00>, <function BaseDataModule.post_fn.<locals>.<lambda> at 0x7f88c397d6c0>])"
      ]
     },
     "execution_count": 22,
     "metadata": {},
     "output_type": "execute_result"
    }
   ],
   "source": [
    "trans_dm.post_fn()"
   ]
  },
  {
   "cell_type": "markdown",
   "metadata": {},
   "source": []
  },
  {
   "cell_type": "code",
   "execution_count": 23,
   "metadata": {},
   "outputs": [
    {
     "data": {
      "text/plain": [
       "(1513.9706701708644, 15.007288853760143)"
      ]
     },
     "execution_count": 23,
     "metadata": {},
     "output_type": "execute_result"
    }
   ],
   "source": [
    "trans_dm.norm_stats"
   ]
  },
  {
   "cell_type": "code",
   "execution_count": 24,
   "metadata": {},
   "outputs": [],
   "source": [
    "trans_dm.setup(stage='fit')"
   ]
  },
  {
   "cell_type": "code",
   "execution_count": 25,
   "metadata": {},
   "outputs": [],
   "source": [
    "trans_dm.setup(stage='test')"
   ]
  },
  {
   "cell_type": "code",
   "execution_count": null,
   "metadata": {},
   "outputs": [],
   "source": []
  },
  {
   "cell_type": "markdown",
   "metadata": {},
   "source": [
    "# Model"
   ]
  },
  {
   "cell_type": "code",
   "execution_count": null,
   "metadata": {},
   "outputs": [],
   "source": [
    "def cosanneal_lr_adamw(lit_mod, lr, T_max, weight_decay=0.):\n",
    "    opt = torch.optim.AdamW(\n",
    "        [\n",
    "            {'params': lit_mod.solver.grad_mod.parameters(), 'lr': lr},\n",
    "            {'params': lit_mod.solver.obs_cost.parameters(), 'lr': lr},\n",
    "            {'params': lit_mod.solver.prior_cost.parameters(), 'lr': lr / 2},\n",
    "        ], weight_decay=weight_decay\n",
    "    )\n",
    "    return {\n",
    "        'optimizer': opt,\n",
    "        'lr_scheduler': torch.optim.lr_scheduler.CosineAnnealingLR(\n",
    "            opt, T_max=T_max,\n",
    "        ),\n",
    "    }"
   ]
  }
 ],
 "metadata": {
  "kernelspec": {
   "display_name": "fsc_env",
   "language": "python",
   "name": "python3"
  },
  "language_info": {
   "codemirror_mode": {
    "name": "ipython",
    "version": 3
   },
   "file_extension": ".py",
   "mimetype": "text/x-python",
   "name": "python",
   "nbconvert_exporter": "python",
   "pygments_lexer": "ipython3",
   "version": "3.11.7"
  }
 },
 "nbformat": 4,
 "nbformat_minor": 2
}
