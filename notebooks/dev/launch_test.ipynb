{
 "cells": [
  {
   "cell_type": "code",
   "execution_count": 1,
   "metadata": {},
   "outputs": [],
   "source": [
    "from src.utils import *\n",
    "from pytorch_lightning import Trainer\n",
    "from pytorch_lightning.loggers.tensorboard import TensorBoardLogger\n",
    "import os\n",
    "from pathlib import Path\n",
    "import hydra\n",
    "from tqdm import tqdm"
   ]
  },
  {
   "cell_type": "code",
   "execution_count": 2,
   "metadata": {},
   "outputs": [],
   "source": [
    "gpu = None\n",
    "    \n",
    "if torch.cuda.is_available() and gpu is not None:\n",
    "##This may not be necessary outside the notebook\n",
    "    dev = f\"cuda:{gpu}\"\n",
    "else:\n",
    "    dev = \"cpu\"\n",
    "\n",
    "device = torch.device(dev)"
   ]
  },
  {
   "cell_type": "code",
   "execution_count": 3,
   "metadata": {},
   "outputs": [],
   "source": [
    "log_flag = False"
   ]
  },
  {
   "cell_type": "code",
   "execution_count": 4,
   "metadata": {},
   "outputs": [
    {
     "name": "stdout",
     "output_type": "stream",
     "text": [
      "Initializing datamodule\n"
     ]
    }
   ],
   "source": [
    "try:\n",
    "    if dm_dict:\n",
    "        print(\"Not reloading datamodule\")\n",
    "\n",
    "except:\n",
    "    \n",
    "    dm_dict = {}\n",
    "    n_components = 0\n",
    "    print(\"Initializing datamodule\")"
   ]
  },
  {
   "cell_type": "code",
   "execution_count": 5,
   "metadata": {},
   "outputs": [],
   "source": [
    "ckpt_path = \"outputs/AE/AE_CNN_3D/dataset_output/8_channels_spatial_pooling_with_pca_pre_treatment/\"\n"
   ]
  },
  {
   "cell_type": "code",
   "execution_count": 6,
   "metadata": {},
   "outputs": [
    {
     "ename": "",
     "evalue": "",
     "output_type": "error",
     "traceback": [
      "\u001b[1;31mThe Kernel crashed while executing code in the current cell or a previous cell. \n",
      "\u001b[1;31mPlease review the code in the cell(s) to identify a possible cause of the failure. \n",
      "\u001b[1;31mClick <a href='https://aka.ms/vscodeJupyterKernelCrash'>here</a> for more info. \n",
      "\u001b[1;31mView Jupyter <a href='command:jupyter.viewOutput'>log</a> for further details."
     ]
    }
   ],
   "source": [
    "if os.path.isfile(ckpt_path):\n",
    "    ckpt_list = [ckpt_path]\n",
    "    \n",
    "else:\n",
    "    ckpt_list = list(Path(ckpt_path).rglob('*.ckpt'))\n"
   ]
  },
  {
   "cell_type": "code",
   "execution_count": 10,
   "metadata": {},
   "outputs": [
    {
     "name": "stderr",
     "output_type": "stream",
     "text": [
      "  0%|          | 0/35 [00:00<?, ?it/s]"
     ]
    },
    {
     "name": "stdout",
     "output_type": "stream",
     "text": [
      "model: outputs/AE/AE_CNN_3D/dataset_output/8_channels_spatial_pooling_with_pca_pre_treatment/basic loss/pred_1_grad_0_max_pos_0.01_max_value_0.01_fft_0.0_weighted_0_inflection_pos_0.0_inflection_value_0.0/depth_pre_treatment_pca_n_components_107/channels_[1, 8, 8]/upsample_mode_trilinear/linear_later_False_lattent_size_50/1_conv_per_layer/padding_reflect/interp_size_25/pooling_Max_on_dim_spatial/final_upsample_upsample_pooling/act_fn_Elu_final_act_fn_Elu/lr_0.001/normalization_min_max/manage_nan_suppress/n_profiles_None/2024-11-13_02-04/checkpoints/val_loss=0.01-epoch=00.ckpt\n",
      "Inititing datamodule; Generating train and test datasets\n"
     ]
    },
    {
     "name": "stderr",
     "output_type": "stream",
     "text": [
      "Trainer will use only 1 of 3 GPUs because it is running inside an interactive / notebook environment. You may try to set `Trainer(devices=3)` but please note that multi-GPU inside interactive / notebook environments is considered experimental and unstable. Your mileage may vary.\n",
      "/DATASET/envs/o23gauvr/miniconda3/envs/fsc_env/lib/python3.11/site-packages/lightning_fabric/plugins/environments/slurm.py:191: The `srun` command is available on your system but is not used. HINT: If your intention is to run Lightning on SLURM, prepend your python command with `srun` like so: srun python /DATASET/envs/o23gauvr/miniconda3/envs/fsc_env/lib/p ...\n",
      "GPU available: True (cuda), used: True\n",
      "TPU available: False, using: 0 TPU cores\n",
      "IPU available: False, using: 0 IPUs\n",
      "HPU available: False, using: 0 HPUs\n",
      "You are using a CUDA device ('NVIDIA A40') that has Tensor Cores. To properly utilize them, you should set `torch.set_float32_matmul_precision('medium' | 'high')` which will trade-off precision for performance. For more details, read https://pytorch.org/docs/stable/generated/torch.set_float32_matmul_precision.html#torch.set_float32_matmul_precision\n",
      "LOCAL_RANK: 0 - CUDA_VISIBLE_DEVICES: [0,1,2]\n"
     ]
    },
    {
     "name": "stdout",
     "output_type": "stream",
     "text": [
      "Testing DataLoader 0:   0%|          | 0/10 [00:00<?, ?it/s]PCA pre treatment, depth components: 107\n",
      "PCA pre treatment, depth components: 107\n",
      "Testing DataLoader 0:  10%|█         | 1/10 [00:00<00:04,  1.97it/s]PCA pre treatment, depth components: 107\n",
      "PCA pre treatment, depth components: 107\n",
      "Testing DataLoader 0:  20%|██        | 2/10 [00:00<00:03,  2.63it/s]PCA pre treatment, depth components: 107\n",
      "PCA pre treatment, depth components: 107\n",
      "Testing DataLoader 0:  30%|███       | 3/10 [00:00<00:02,  3.27it/s]PCA pre treatment, depth components: 107\n",
      "PCA pre treatment, depth components: 107\n",
      "Testing DataLoader 0:  40%|████      | 4/10 [00:01<00:01,  3.57it/s]PCA pre treatment, depth components: 107\n",
      "PCA pre treatment, depth components: 107\n",
      "Testing DataLoader 0:  50%|█████     | 5/10 [00:01<00:01,  3.88it/s]PCA pre treatment, depth components: 107\n",
      "PCA pre treatment, depth components: 107\n",
      "Testing DataLoader 0:  60%|██████    | 6/10 [00:01<00:00,  4.06it/s]PCA pre treatment, depth components: 107\n",
      "PCA pre treatment, depth components: 107\n",
      "Testing DataLoader 0:  70%|███████   | 7/10 [00:01<00:00,  4.09it/s]PCA pre treatment, depth components: 107\n",
      "PCA pre treatment, depth components: 107\n",
      "Testing DataLoader 0:  80%|████████  | 8/10 [00:01<00:00,  4.27it/s]PCA pre treatment, depth components: 107\n",
      "PCA pre treatment, depth components: 107\n",
      "Testing DataLoader 0:  90%|█████████ | 9/10 [00:02<00:00,  4.32it/s]PCA pre treatment, depth components: 107\n",
      "PCA pre treatment, depth components: 107\n",
      "Testing DataLoader 0: 100%|██████████| 10/10 [00:02<00:00,  4.57it/s]\n"
     ]
    },
    {
     "data": {
      "text/html": [
       "<pre style=\"white-space:pre;overflow-x:auto;line-height:normal;font-family:Menlo,'DejaVu Sans Mono',consolas,'Courier New',monospace\">┏━━━━━━━━━━━━━━━━━━━━━━━━━━━━━━┳━━━━━━━━━━━━━━━━━━━━━━━━━━━━━━┓\n",
       "┃<span style=\"font-weight: bold\">         Test metric          </span>┃<span style=\"font-weight: bold\">         DataLoader 0         </span>┃\n",
       "┡━━━━━━━━━━━━━━━━━━━━━━━━━━━━━━╇━━━━━━━━━━━━━━━━━━━━━━━━━━━━━━┩\n",
       "│<span style=\"color: #008080; text-decoration-color: #008080\">           ECS RMSE           </span>│<span style=\"color: #800080; text-decoration-color: #800080\">      1.0214208364486694      </span>│\n",
       "│<span style=\"color: #008080; text-decoration-color: #008080\">           SSP RMSE           </span>│<span style=\"color: #800080; text-decoration-color: #800080\">      17.496681213378906      </span>│\n",
       "│<span style=\"color: #008080; text-decoration-color: #008080\">           fft loss           </span>│<span style=\"color: #800080; text-decoration-color: #800080\">     0.08878815919160843      </span>│\n",
       "│<span style=\"color: #008080; text-decoration-color: #008080\">         fft test mse         </span>│<span style=\"color: #800080; text-decoration-color: #800080\">     0.08878815919160843      </span>│\n",
       "│<span style=\"color: #008080; text-decoration-color: #008080\">        gradient loss         </span>│<span style=\"color: #800080; text-decoration-color: #800080\">    2.724358273553662e-05     </span>│\n",
       "│<span style=\"color: #008080; text-decoration-color: #008080\">      gradient test mse       </span>│<span style=\"color: #800080; text-decoration-color: #800080\">    2.724358273553662e-05     </span>│\n",
       "│<span style=\"color: #008080; text-decoration-color: #008080\">     inflection pos loss      </span>│<span style=\"color: #800080; text-decoration-color: #800080\">      1.537736177444458       </span>│\n",
       "│<span style=\"color: #008080; text-decoration-color: #008080\"> inflection position test mse </span>│<span style=\"color: #800080; text-decoration-color: #800080\">      1.537736177444458       </span>│\n",
       "│<span style=\"color: #008080; text-decoration-color: #008080\">    inflection value loss     </span>│<span style=\"color: #800080; text-decoration-color: #800080\">     0.000915715005248785     </span>│\n",
       "│<span style=\"color: #008080; text-decoration-color: #008080\">  inflection value test mse   </span>│<span style=\"color: #800080; text-decoration-color: #800080\">     0.000915715005248785     </span>│\n",
       "│<span style=\"color: #008080; text-decoration-color: #008080\">      max position loss       </span>│<span style=\"color: #800080; text-decoration-color: #800080\">      0.6129310131072998      </span>│\n",
       "│<span style=\"color: #008080; text-decoration-color: #008080\">    max position test mse     </span>│<span style=\"color: #800080; text-decoration-color: #800080\">      0.6129310131072998      </span>│\n",
       "│<span style=\"color: #008080; text-decoration-color: #008080\">        max value loss        </span>│<span style=\"color: #800080; text-decoration-color: #800080\">    0.0024102835450321436     </span>│\n",
       "│<span style=\"color: #008080; text-decoration-color: #008080\">     max value test loss      </span>│<span style=\"color: #800080; text-decoration-color: #800080\">    0.0024102835450321436     </span>│\n",
       "│<span style=\"color: #008080; text-decoration-color: #008080\">       prediction loss        </span>│<span style=\"color: #800080; text-decoration-color: #800080\">    0.0015642443904653192     </span>│\n",
       "│<span style=\"color: #008080; text-decoration-color: #008080\">     prediction test mse      </span>│<span style=\"color: #800080; text-decoration-color: #800080\">    0.0015642443904653192     </span>│\n",
       "│<span style=\"color: #008080; text-decoration-color: #008080\">       test_loss_epoch        </span>│<span style=\"color: #800080; text-decoration-color: #800080\">    0.0077176569029688835     </span>│\n",
       "│<span style=\"color: #008080; text-decoration-color: #008080\">      weighted mse loss       </span>│<span style=\"color: #800080; text-decoration-color: #800080\">    0.0007780850864946842     </span>│\n",
       "│<span style=\"color: #008080; text-decoration-color: #008080\">  weighted mse loss test mse  </span>│<span style=\"color: #800080; text-decoration-color: #800080\">    0.0007780850864946842     </span>│\n",
       "└──────────────────────────────┴──────────────────────────────┘\n",
       "</pre>\n"
      ],
      "text/plain": [
       "┏━━━━━━━━━━━━━━━━━━━━━━━━━━━━━━┳━━━━━━━━━━━━━━━━━━━━━━━━━━━━━━┓\n",
       "┃\u001b[1m \u001b[0m\u001b[1m        Test metric         \u001b[0m\u001b[1m \u001b[0m┃\u001b[1m \u001b[0m\u001b[1m        DataLoader 0        \u001b[0m\u001b[1m \u001b[0m┃\n",
       "┡━━━━━━━━━━━━━━━━━━━━━━━━━━━━━━╇━━━━━━━━━━━━━━━━━━━━━━━━━━━━━━┩\n",
       "│\u001b[36m \u001b[0m\u001b[36m          ECS RMSE          \u001b[0m\u001b[36m \u001b[0m│\u001b[35m \u001b[0m\u001b[35m     1.0214208364486694     \u001b[0m\u001b[35m \u001b[0m│\n",
       "│\u001b[36m \u001b[0m\u001b[36m          SSP RMSE          \u001b[0m\u001b[36m \u001b[0m│\u001b[35m \u001b[0m\u001b[35m     17.496681213378906     \u001b[0m\u001b[35m \u001b[0m│\n",
       "│\u001b[36m \u001b[0m\u001b[36m          fft loss          \u001b[0m\u001b[36m \u001b[0m│\u001b[35m \u001b[0m\u001b[35m    0.08878815919160843     \u001b[0m\u001b[35m \u001b[0m│\n",
       "│\u001b[36m \u001b[0m\u001b[36m        fft test mse        \u001b[0m\u001b[36m \u001b[0m│\u001b[35m \u001b[0m\u001b[35m    0.08878815919160843     \u001b[0m\u001b[35m \u001b[0m│\n",
       "│\u001b[36m \u001b[0m\u001b[36m       gradient loss        \u001b[0m\u001b[36m \u001b[0m│\u001b[35m \u001b[0m\u001b[35m   2.724358273553662e-05    \u001b[0m\u001b[35m \u001b[0m│\n",
       "│\u001b[36m \u001b[0m\u001b[36m     gradient test mse      \u001b[0m\u001b[36m \u001b[0m│\u001b[35m \u001b[0m\u001b[35m   2.724358273553662e-05    \u001b[0m\u001b[35m \u001b[0m│\n",
       "│\u001b[36m \u001b[0m\u001b[36m    inflection pos loss     \u001b[0m\u001b[36m \u001b[0m│\u001b[35m \u001b[0m\u001b[35m     1.537736177444458      \u001b[0m\u001b[35m \u001b[0m│\n",
       "│\u001b[36m \u001b[0m\u001b[36minflection position test mse\u001b[0m\u001b[36m \u001b[0m│\u001b[35m \u001b[0m\u001b[35m     1.537736177444458      \u001b[0m\u001b[35m \u001b[0m│\n",
       "│\u001b[36m \u001b[0m\u001b[36m   inflection value loss    \u001b[0m\u001b[36m \u001b[0m│\u001b[35m \u001b[0m\u001b[35m    0.000915715005248785    \u001b[0m\u001b[35m \u001b[0m│\n",
       "│\u001b[36m \u001b[0m\u001b[36m inflection value test mse  \u001b[0m\u001b[36m \u001b[0m│\u001b[35m \u001b[0m\u001b[35m    0.000915715005248785    \u001b[0m\u001b[35m \u001b[0m│\n",
       "│\u001b[36m \u001b[0m\u001b[36m     max position loss      \u001b[0m\u001b[36m \u001b[0m│\u001b[35m \u001b[0m\u001b[35m     0.6129310131072998     \u001b[0m\u001b[35m \u001b[0m│\n",
       "│\u001b[36m \u001b[0m\u001b[36m   max position test mse    \u001b[0m\u001b[36m \u001b[0m│\u001b[35m \u001b[0m\u001b[35m     0.6129310131072998     \u001b[0m\u001b[35m \u001b[0m│\n",
       "│\u001b[36m \u001b[0m\u001b[36m       max value loss       \u001b[0m\u001b[36m \u001b[0m│\u001b[35m \u001b[0m\u001b[35m   0.0024102835450321436    \u001b[0m\u001b[35m \u001b[0m│\n",
       "│\u001b[36m \u001b[0m\u001b[36m    max value test loss     \u001b[0m\u001b[36m \u001b[0m│\u001b[35m \u001b[0m\u001b[35m   0.0024102835450321436    \u001b[0m\u001b[35m \u001b[0m│\n",
       "│\u001b[36m \u001b[0m\u001b[36m      prediction loss       \u001b[0m\u001b[36m \u001b[0m│\u001b[35m \u001b[0m\u001b[35m   0.0015642443904653192    \u001b[0m\u001b[35m \u001b[0m│\n",
       "│\u001b[36m \u001b[0m\u001b[36m    prediction test mse     \u001b[0m\u001b[36m \u001b[0m│\u001b[35m \u001b[0m\u001b[35m   0.0015642443904653192    \u001b[0m\u001b[35m \u001b[0m│\n",
       "│\u001b[36m \u001b[0m\u001b[36m      test_loss_epoch       \u001b[0m\u001b[36m \u001b[0m│\u001b[35m \u001b[0m\u001b[35m   0.0077176569029688835    \u001b[0m\u001b[35m \u001b[0m│\n",
       "│\u001b[36m \u001b[0m\u001b[36m     weighted mse loss      \u001b[0m\u001b[36m \u001b[0m│\u001b[35m \u001b[0m\u001b[35m   0.0007780850864946842    \u001b[0m\u001b[35m \u001b[0m│\n",
       "│\u001b[36m \u001b[0m\u001b[36m weighted mse loss test mse \u001b[0m\u001b[36m \u001b[0m│\u001b[35m \u001b[0m\u001b[35m   0.0007780850864946842    \u001b[0m\u001b[35m \u001b[0m│\n",
       "└──────────────────────────────┴──────────────────────────────┘\n"
      ]
     },
     "metadata": {},
     "output_type": "display_data"
    },
    {
     "name": "stderr",
     "output_type": "stream",
     "text": [
      "  3%|▎         | 1/35 [03:18<1:52:19, 198.22s/it]"
     ]
    },
    {
     "name": "stdout",
     "output_type": "stream",
     "text": [
      "model: outputs/AE/AE_CNN_3D/dataset_output/8_channels_spatial_pooling_with_pca_pre_treatment/basic loss/pred_1_grad_0_max_pos_0.01_max_value_0.01_fft_0.0_weighted_0_inflection_pos_0.0_inflection_value_0.0/depth_pre_treatment_pca_n_components_50/channels_[1, 8, 8]/upsample_mode_trilinear/linear_later_False_lattent_size_50/1_conv_per_layer/padding_reflect/interp_size_25/pooling_Max_on_dim_spatial/final_upsample_upsample_pooling/act_fn_Elu_final_act_fn_Elu/lr_0.001/normalization_min_max/manage_nan_suppress/n_profiles_None/2024-11-13_04-54/checkpoints/val_loss=0.00-epoch=49.ckpt\n",
      "Inititing datamodule; Generating train and test datasets\n"
     ]
    },
    {
     "name": "stderr",
     "output_type": "stream",
     "text": [
      "Trainer will use only 1 of 3 GPUs because it is running inside an interactive / notebook environment. You may try to set `Trainer(devices=3)` but please note that multi-GPU inside interactive / notebook environments is considered experimental and unstable. Your mileage may vary.\n",
      "/DATASET/envs/o23gauvr/miniconda3/envs/fsc_env/lib/python3.11/site-packages/lightning_fabric/plugins/environments/slurm.py:191: The `srun` command is available on your system but is not used. HINT: If your intention is to run Lightning on SLURM, prepend your python command with `srun` like so: srun python /DATASET/envs/o23gauvr/miniconda3/envs/fsc_env/lib/p ...\n",
      "GPU available: True (cuda), used: True\n",
      "TPU available: False, using: 0 TPU cores\n",
      "IPU available: False, using: 0 IPUs\n",
      "HPU available: False, using: 0 HPUs\n",
      "LOCAL_RANK: 0 - CUDA_VISIBLE_DEVICES: [0,1,2]\n"
     ]
    },
    {
     "name": "stdout",
     "output_type": "stream",
     "text": [
      "Testing DataLoader 0:   0%|          | 0/10 [00:00<?, ?it/s]PCA pre treatment, depth components: 50\n",
      "PCA pre treatment, depth components: 50\n",
      "Testing DataLoader 0:  10%|█         | 1/10 [00:00<00:01,  7.82it/s]PCA pre treatment, depth components: 50\n",
      "PCA pre treatment, depth components: 50\n",
      "Testing DataLoader 0:  20%|██        | 2/10 [00:00<00:01,  7.07it/s]PCA pre treatment, depth components: 50\n",
      "PCA pre treatment, depth components: 50\n",
      "Testing DataLoader 0:  30%|███       | 3/10 [00:00<00:00,  7.42it/s]PCA pre treatment, depth components: 50\n",
      "PCA pre treatment, depth components: 50\n",
      "Testing DataLoader 0:  40%|████      | 4/10 [00:00<00:00,  6.98it/s]PCA pre treatment, depth components: 50\n",
      "PCA pre treatment, depth components: 50\n",
      "Testing DataLoader 0:  50%|█████     | 5/10 [00:00<00:00,  7.18it/s]PCA pre treatment, depth components: 50\n",
      "PCA pre treatment, depth components: 50\n",
      "Testing DataLoader 0:  60%|██████    | 6/10 [00:00<00:00,  6.99it/s]PCA pre treatment, depth components: 50\n",
      "PCA pre treatment, depth components: 50\n",
      "Testing DataLoader 0:  70%|███████   | 7/10 [00:01<00:00,  6.74it/s]PCA pre treatment, depth components: 50\n",
      "PCA pre treatment, depth components: 50\n",
      "Testing DataLoader 0:  80%|████████  | 8/10 [00:01<00:00,  6.59it/s]PCA pre treatment, depth components: 50\n",
      "PCA pre treatment, depth components: 50\n",
      "Testing DataLoader 0:  90%|█████████ | 9/10 [00:01<00:00,  6.45it/s]PCA pre treatment, depth components: 50\n",
      "PCA pre treatment, depth components: 50\n",
      "Testing DataLoader 0: 100%|██████████| 10/10 [00:01<00:00,  6.73it/s]\n"
     ]
    },
    {
     "data": {
      "text/html": [
       "<pre style=\"white-space:pre;overflow-x:auto;line-height:normal;font-family:Menlo,'DejaVu Sans Mono',consolas,'Courier New',monospace\">┏━━━━━━━━━━━━━━━━━━━━━━━━━━━━━━┳━━━━━━━━━━━━━━━━━━━━━━━━━━━━━━┓\n",
       "┃<span style=\"font-weight: bold\">         Test metric          </span>┃<span style=\"font-weight: bold\">         DataLoader 0         </span>┃\n",
       "┡━━━━━━━━━━━━━━━━━━━━━━━━━━━━━━╇━━━━━━━━━━━━━━━━━━━━━━━━━━━━━━┩\n",
       "│<span style=\"color: #008080; text-decoration-color: #008080\">           ECS RMSE           </span>│<span style=\"color: #800080; text-decoration-color: #800080\">             0.0              </span>│\n",
       "│<span style=\"color: #008080; text-decoration-color: #008080\">           SSP RMSE           </span>│<span style=\"color: #800080; text-decoration-color: #800080\">      9.107473373413086       </span>│\n",
       "│<span style=\"color: #008080; text-decoration-color: #008080\">           fft loss           </span>│<span style=\"color: #800080; text-decoration-color: #800080\">     0.039450228214263916     </span>│\n",
       "│<span style=\"color: #008080; text-decoration-color: #008080\">         fft test mse         </span>│<span style=\"color: #800080; text-decoration-color: #800080\">     0.039450228214263916     </span>│\n",
       "│<span style=\"color: #008080; text-decoration-color: #008080\">        gradient loss         </span>│<span style=\"color: #800080; text-decoration-color: #800080\">    4.498460555169004e-07     </span>│\n",
       "│<span style=\"color: #008080; text-decoration-color: #008080\">      gradient test mse       </span>│<span style=\"color: #800080; text-decoration-color: #800080\">    4.498460555169004e-07     </span>│\n",
       "│<span style=\"color: #008080; text-decoration-color: #008080\">     inflection pos loss      </span>│<span style=\"color: #800080; text-decoration-color: #800080\">    0.0019349365029484034     </span>│\n",
       "│<span style=\"color: #008080; text-decoration-color: #008080\"> inflection position test mse </span>│<span style=\"color: #800080; text-decoration-color: #800080\">    0.0019349365029484034     </span>│\n",
       "│<span style=\"color: #008080; text-decoration-color: #008080\">    inflection value loss     </span>│<span style=\"color: #800080; text-decoration-color: #800080\">    4.3441290472401306e-05    </span>│\n",
       "│<span style=\"color: #008080; text-decoration-color: #008080\">  inflection value test mse   </span>│<span style=\"color: #800080; text-decoration-color: #800080\">    4.3441290472401306e-05    </span>│\n",
       "│<span style=\"color: #008080; text-decoration-color: #008080\">      max position loss       </span>│<span style=\"color: #800080; text-decoration-color: #800080\">             0.0              </span>│\n",
       "│<span style=\"color: #008080; text-decoration-color: #008080\">    max position test mse     </span>│<span style=\"color: #800080; text-decoration-color: #800080\">             0.0              </span>│\n",
       "│<span style=\"color: #008080; text-decoration-color: #008080\">        max value loss        </span>│<span style=\"color: #800080; text-decoration-color: #800080\">     0.000422578799771145     </span>│\n",
       "│<span style=\"color: #008080; text-decoration-color: #008080\">     max value test loss      </span>│<span style=\"color: #800080; text-decoration-color: #800080\">     0.000422578799771145     </span>│\n",
       "│<span style=\"color: #008080; text-decoration-color: #008080\">       prediction loss        </span>│<span style=\"color: #800080; text-decoration-color: #800080\">     0.000423917401349172     </span>│\n",
       "│<span style=\"color: #008080; text-decoration-color: #008080\">     prediction test mse      </span>│<span style=\"color: #800080; text-decoration-color: #800080\">     0.000423917401349172     </span>│\n",
       "│<span style=\"color: #008080; text-decoration-color: #008080\">       test_loss_epoch        </span>│<span style=\"color: #800080; text-decoration-color: #800080\">    0.0004281432484276593     </span>│\n",
       "│<span style=\"color: #008080; text-decoration-color: #008080\">      weighted mse loss       </span>│<span style=\"color: #800080; text-decoration-color: #800080\">    0.00013851925905328244    </span>│\n",
       "│<span style=\"color: #008080; text-decoration-color: #008080\">  weighted mse loss test mse  </span>│<span style=\"color: #800080; text-decoration-color: #800080\">    0.00013851925905328244    </span>│\n",
       "└──────────────────────────────┴──────────────────────────────┘\n",
       "</pre>\n"
      ],
      "text/plain": [
       "┏━━━━━━━━━━━━━━━━━━━━━━━━━━━━━━┳━━━━━━━━━━━━━━━━━━━━━━━━━━━━━━┓\n",
       "┃\u001b[1m \u001b[0m\u001b[1m        Test metric         \u001b[0m\u001b[1m \u001b[0m┃\u001b[1m \u001b[0m\u001b[1m        DataLoader 0        \u001b[0m\u001b[1m \u001b[0m┃\n",
       "┡━━━━━━━━━━━━━━━━━━━━━━━━━━━━━━╇━━━━━━━━━━━━━━━━━━━━━━━━━━━━━━┩\n",
       "│\u001b[36m \u001b[0m\u001b[36m          ECS RMSE          \u001b[0m\u001b[36m \u001b[0m│\u001b[35m \u001b[0m\u001b[35m            0.0             \u001b[0m\u001b[35m \u001b[0m│\n",
       "│\u001b[36m \u001b[0m\u001b[36m          SSP RMSE          \u001b[0m\u001b[36m \u001b[0m│\u001b[35m \u001b[0m\u001b[35m     9.107473373413086      \u001b[0m\u001b[35m \u001b[0m│\n",
       "│\u001b[36m \u001b[0m\u001b[36m          fft loss          \u001b[0m\u001b[36m \u001b[0m│\u001b[35m \u001b[0m\u001b[35m    0.039450228214263916    \u001b[0m\u001b[35m \u001b[0m│\n",
       "│\u001b[36m \u001b[0m\u001b[36m        fft test mse        \u001b[0m\u001b[36m \u001b[0m│\u001b[35m \u001b[0m\u001b[35m    0.039450228214263916    \u001b[0m\u001b[35m \u001b[0m│\n",
       "│\u001b[36m \u001b[0m\u001b[36m       gradient loss        \u001b[0m\u001b[36m \u001b[0m│\u001b[35m \u001b[0m\u001b[35m   4.498460555169004e-07    \u001b[0m\u001b[35m \u001b[0m│\n",
       "│\u001b[36m \u001b[0m\u001b[36m     gradient test mse      \u001b[0m\u001b[36m \u001b[0m│\u001b[35m \u001b[0m\u001b[35m   4.498460555169004e-07    \u001b[0m\u001b[35m \u001b[0m│\n",
       "│\u001b[36m \u001b[0m\u001b[36m    inflection pos loss     \u001b[0m\u001b[36m \u001b[0m│\u001b[35m \u001b[0m\u001b[35m   0.0019349365029484034    \u001b[0m\u001b[35m \u001b[0m│\n",
       "│\u001b[36m \u001b[0m\u001b[36minflection position test mse\u001b[0m\u001b[36m \u001b[0m│\u001b[35m \u001b[0m\u001b[35m   0.0019349365029484034    \u001b[0m\u001b[35m \u001b[0m│\n",
       "│\u001b[36m \u001b[0m\u001b[36m   inflection value loss    \u001b[0m\u001b[36m \u001b[0m│\u001b[35m \u001b[0m\u001b[35m   4.3441290472401306e-05   \u001b[0m\u001b[35m \u001b[0m│\n",
       "│\u001b[36m \u001b[0m\u001b[36m inflection value test mse  \u001b[0m\u001b[36m \u001b[0m│\u001b[35m \u001b[0m\u001b[35m   4.3441290472401306e-05   \u001b[0m\u001b[35m \u001b[0m│\n",
       "│\u001b[36m \u001b[0m\u001b[36m     max position loss      \u001b[0m\u001b[36m \u001b[0m│\u001b[35m \u001b[0m\u001b[35m            0.0             \u001b[0m\u001b[35m \u001b[0m│\n",
       "│\u001b[36m \u001b[0m\u001b[36m   max position test mse    \u001b[0m\u001b[36m \u001b[0m│\u001b[35m \u001b[0m\u001b[35m            0.0             \u001b[0m\u001b[35m \u001b[0m│\n",
       "│\u001b[36m \u001b[0m\u001b[36m       max value loss       \u001b[0m\u001b[36m \u001b[0m│\u001b[35m \u001b[0m\u001b[35m    0.000422578799771145    \u001b[0m\u001b[35m \u001b[0m│\n",
       "│\u001b[36m \u001b[0m\u001b[36m    max value test loss     \u001b[0m\u001b[36m \u001b[0m│\u001b[35m \u001b[0m\u001b[35m    0.000422578799771145    \u001b[0m\u001b[35m \u001b[0m│\n",
       "│\u001b[36m \u001b[0m\u001b[36m      prediction loss       \u001b[0m\u001b[36m \u001b[0m│\u001b[35m \u001b[0m\u001b[35m    0.000423917401349172    \u001b[0m\u001b[35m \u001b[0m│\n",
       "│\u001b[36m \u001b[0m\u001b[36m    prediction test mse     \u001b[0m\u001b[36m \u001b[0m│\u001b[35m \u001b[0m\u001b[35m    0.000423917401349172    \u001b[0m\u001b[35m \u001b[0m│\n",
       "│\u001b[36m \u001b[0m\u001b[36m      test_loss_epoch       \u001b[0m\u001b[36m \u001b[0m│\u001b[35m \u001b[0m\u001b[35m   0.0004281432484276593    \u001b[0m\u001b[35m \u001b[0m│\n",
       "│\u001b[36m \u001b[0m\u001b[36m     weighted mse loss      \u001b[0m\u001b[36m \u001b[0m│\u001b[35m \u001b[0m\u001b[35m   0.00013851925905328244   \u001b[0m\u001b[35m \u001b[0m│\n",
       "│\u001b[36m \u001b[0m\u001b[36m weighted mse loss test mse \u001b[0m\u001b[36m \u001b[0m│\u001b[35m \u001b[0m\u001b[35m   0.00013851925905328244   \u001b[0m\u001b[35m \u001b[0m│\n",
       "└──────────────────────────────┴──────────────────────────────┘\n"
      ]
     },
     "metadata": {},
     "output_type": "display_data"
    },
    {
     "name": "stderr",
     "output_type": "stream",
     "text": [
      "  6%|▌         | 2/35 [09:06<2:37:31, 286.42s/it]"
     ]
    },
    {
     "name": "stdout",
     "output_type": "stream",
     "text": [
      "model: outputs/AE/AE_CNN_3D/dataset_output/8_channels_spatial_pooling_with_pca_pre_treatment/basic loss/pred_1_grad_0_max_pos_0.01_max_value_0.01_fft_0.0_weighted_0_inflection_pos_0.0_inflection_value_0.0/depth_pre_treatment_pca_n_components_10/channels_[1, 8, 8]/upsample_mode_trilinear/linear_later_False_lattent_size_50/1_conv_per_layer/padding_reflect/interp_size_25/pooling_Max_on_dim_spatial/final_upsample_upsample_pooling/act_fn_Elu_final_act_fn_Elu/lr_0.001/normalization_min_max/manage_nan_suppress/n_profiles_None/2024-11-13_03-33/checkpoints/val_loss=0.00-epoch=49.ckpt\n",
      "Inititing datamodule; Generating train and test datasets\n"
     ]
    },
    {
     "name": "stderr",
     "output_type": "stream",
     "text": [
      "Trainer will use only 1 of 3 GPUs because it is running inside an interactive / notebook environment. You may try to set `Trainer(devices=3)` but please note that multi-GPU inside interactive / notebook environments is considered experimental and unstable. Your mileage may vary.\n",
      "/DATASET/envs/o23gauvr/miniconda3/envs/fsc_env/lib/python3.11/site-packages/lightning_fabric/plugins/environments/slurm.py:191: The `srun` command is available on your system but is not used. HINT: If your intention is to run Lightning on SLURM, prepend your python command with `srun` like so: srun python /DATASET/envs/o23gauvr/miniconda3/envs/fsc_env/lib/p ...\n",
      "GPU available: True (cuda), used: True\n",
      "TPU available: False, using: 0 TPU cores\n",
      "IPU available: False, using: 0 IPUs\n",
      "HPU available: False, using: 0 HPUs\n",
      "LOCAL_RANK: 0 - CUDA_VISIBLE_DEVICES: [0,1,2]\n"
     ]
    },
    {
     "name": "stdout",
     "output_type": "stream",
     "text": [
      "Testing DataLoader 0:   0%|          | 0/10 [00:00<?, ?it/s]PCA pre treatment, depth components: 10\n",
      "PCA pre treatment, depth components: 10\n",
      "Testing DataLoader 0:  10%|█         | 1/10 [00:00<00:00, 13.02it/s]PCA pre treatment, depth components: 10\n",
      "PCA pre treatment, depth components: 10\n",
      "Testing DataLoader 0:  20%|██        | 2/10 [00:00<00:00,  9.57it/s]PCA pre treatment, depth components: 10\n",
      "PCA pre treatment, depth components: 10\n",
      "Testing DataLoader 0:  30%|███       | 3/10 [00:00<00:00,  9.60it/s]PCA pre treatment, depth components: 10\n",
      "PCA pre treatment, depth components: 10\n",
      "Testing DataLoader 0:  40%|████      | 4/10 [00:00<00:00,  8.97it/s]PCA pre treatment, depth components: 10\n",
      "PCA pre treatment, depth components: 10\n",
      "Testing DataLoader 0:  50%|█████     | 5/10 [00:00<00:00,  8.86it/s]PCA pre treatment, depth components: 10\n",
      "PCA pre treatment, depth components: 10\n",
      "Testing DataLoader 0:  60%|██████    | 6/10 [00:00<00:00,  7.99it/s]PCA pre treatment, depth components: 10\n",
      "PCA pre treatment, depth components: 10\n",
      "Testing DataLoader 0:  70%|███████   | 7/10 [00:00<00:00,  8.01it/s]PCA pre treatment, depth components: 10\n",
      "PCA pre treatment, depth components: 10\n",
      "Testing DataLoader 0:  80%|████████  | 8/10 [00:01<00:00,  7.96it/s]PCA pre treatment, depth components: 10\n",
      "PCA pre treatment, depth components: 10\n",
      "Testing DataLoader 0:  90%|█████████ | 9/10 [00:01<00:00,  8.03it/s]PCA pre treatment, depth components: 10\n",
      "PCA pre treatment, depth components: 10\n",
      "Testing DataLoader 0: 100%|██████████| 10/10 [00:01<00:00,  8.17it/s]\n"
     ]
    },
    {
     "data": {
      "text/html": [
       "<pre style=\"white-space:pre;overflow-x:auto;line-height:normal;font-family:Menlo,'DejaVu Sans Mono',consolas,'Courier New',monospace\">┏━━━━━━━━━━━━━━━━━━━━━━━━━━━━━━┳━━━━━━━━━━━━━━━━━━━━━━━━━━━━━━┓\n",
       "┃<span style=\"font-weight: bold\">         Test metric          </span>┃<span style=\"font-weight: bold\">         DataLoader 0         </span>┃\n",
       "┡━━━━━━━━━━━━━━━━━━━━━━━━━━━━━━╇━━━━━━━━━━━━━━━━━━━━━━━━━━━━━━┩\n",
       "│<span style=\"color: #008080; text-decoration-color: #008080\">           ECS RMSE           </span>│<span style=\"color: #800080; text-decoration-color: #800080\">             0.0              </span>│\n",
       "│<span style=\"color: #008080; text-decoration-color: #008080\">           SSP RMSE           </span>│<span style=\"color: #800080; text-decoration-color: #800080\">      7.892165660858154       </span>│\n",
       "│<span style=\"color: #008080; text-decoration-color: #008080\">           fft loss           </span>│<span style=\"color: #800080; text-decoration-color: #800080\">     0.028685206547379494     </span>│\n",
       "│<span style=\"color: #008080; text-decoration-color: #008080\">         fft test mse         </span>│<span style=\"color: #800080; text-decoration-color: #800080\">     0.028685206547379494     </span>│\n",
       "│<span style=\"color: #008080; text-decoration-color: #008080\">        gradient loss         </span>│<span style=\"color: #800080; text-decoration-color: #800080\">    6.723777801198594e-08     </span>│\n",
       "│<span style=\"color: #008080; text-decoration-color: #008080\">      gradient test mse       </span>│<span style=\"color: #800080; text-decoration-color: #800080\">    6.723777801198594e-08     </span>│\n",
       "│<span style=\"color: #008080; text-decoration-color: #008080\">     inflection pos loss      </span>│<span style=\"color: #800080; text-decoration-color: #800080\">             0.0              </span>│\n",
       "│<span style=\"color: #008080; text-decoration-color: #008080\"> inflection position test mse </span>│<span style=\"color: #800080; text-decoration-color: #800080\">             0.0              </span>│\n",
       "│<span style=\"color: #008080; text-decoration-color: #008080\">    inflection value loss     </span>│<span style=\"color: #800080; text-decoration-color: #800080\">    3.9013621062622406e-06    </span>│\n",
       "│<span style=\"color: #008080; text-decoration-color: #008080\">  inflection value test mse   </span>│<span style=\"color: #800080; text-decoration-color: #800080\">    3.9013621062622406e-06    </span>│\n",
       "│<span style=\"color: #008080; text-decoration-color: #008080\">      max position loss       </span>│<span style=\"color: #800080; text-decoration-color: #800080\">             0.0              </span>│\n",
       "│<span style=\"color: #008080; text-decoration-color: #008080\">    max position test mse     </span>│<span style=\"color: #800080; text-decoration-color: #800080\">             0.0              </span>│\n",
       "│<span style=\"color: #008080; text-decoration-color: #008080\">        max value loss        </span>│<span style=\"color: #800080; text-decoration-color: #800080\">     0.000199951755348593     </span>│\n",
       "│<span style=\"color: #008080; text-decoration-color: #008080\">     max value test loss      </span>│<span style=\"color: #800080; text-decoration-color: #800080\">     0.000199951755348593     </span>│\n",
       "│<span style=\"color: #008080; text-decoration-color: #008080\">       prediction loss        </span>│<span style=\"color: #800080; text-decoration-color: #800080\">    0.0003186301328241825     </span>│\n",
       "│<span style=\"color: #008080; text-decoration-color: #008080\">     prediction test mse      </span>│<span style=\"color: #800080; text-decoration-color: #800080\">    0.0003186301328241825     </span>│\n",
       "│<span style=\"color: #008080; text-decoration-color: #008080\">       test_loss_epoch        </span>│<span style=\"color: #800080; text-decoration-color: #800080\">    0.00032062959508039057    </span>│\n",
       "│<span style=\"color: #008080; text-decoration-color: #008080\">      weighted mse loss       </span>│<span style=\"color: #800080; text-decoration-color: #800080\">    9.276105993194506e-05     </span>│\n",
       "│<span style=\"color: #008080; text-decoration-color: #008080\">  weighted mse loss test mse  </span>│<span style=\"color: #800080; text-decoration-color: #800080\">    9.276105993194506e-05     </span>│\n",
       "└──────────────────────────────┴──────────────────────────────┘\n",
       "</pre>\n"
      ],
      "text/plain": [
       "┏━━━━━━━━━━━━━━━━━━━━━━━━━━━━━━┳━━━━━━━━━━━━━━━━━━━━━━━━━━━━━━┓\n",
       "┃\u001b[1m \u001b[0m\u001b[1m        Test metric         \u001b[0m\u001b[1m \u001b[0m┃\u001b[1m \u001b[0m\u001b[1m        DataLoader 0        \u001b[0m\u001b[1m \u001b[0m┃\n",
       "┡━━━━━━━━━━━━━━━━━━━━━━━━━━━━━━╇━━━━━━━━━━━━━━━━━━━━━━━━━━━━━━┩\n",
       "│\u001b[36m \u001b[0m\u001b[36m          ECS RMSE          \u001b[0m\u001b[36m \u001b[0m│\u001b[35m \u001b[0m\u001b[35m            0.0             \u001b[0m\u001b[35m \u001b[0m│\n",
       "│\u001b[36m \u001b[0m\u001b[36m          SSP RMSE          \u001b[0m\u001b[36m \u001b[0m│\u001b[35m \u001b[0m\u001b[35m     7.892165660858154      \u001b[0m\u001b[35m \u001b[0m│\n",
       "│\u001b[36m \u001b[0m\u001b[36m          fft loss          \u001b[0m\u001b[36m \u001b[0m│\u001b[35m \u001b[0m\u001b[35m    0.028685206547379494    \u001b[0m\u001b[35m \u001b[0m│\n",
       "│\u001b[36m \u001b[0m\u001b[36m        fft test mse        \u001b[0m\u001b[36m \u001b[0m│\u001b[35m \u001b[0m\u001b[35m    0.028685206547379494    \u001b[0m\u001b[35m \u001b[0m│\n",
       "│\u001b[36m \u001b[0m\u001b[36m       gradient loss        \u001b[0m\u001b[36m \u001b[0m│\u001b[35m \u001b[0m\u001b[35m   6.723777801198594e-08    \u001b[0m\u001b[35m \u001b[0m│\n",
       "│\u001b[36m \u001b[0m\u001b[36m     gradient test mse      \u001b[0m\u001b[36m \u001b[0m│\u001b[35m \u001b[0m\u001b[35m   6.723777801198594e-08    \u001b[0m\u001b[35m \u001b[0m│\n",
       "│\u001b[36m \u001b[0m\u001b[36m    inflection pos loss     \u001b[0m\u001b[36m \u001b[0m│\u001b[35m \u001b[0m\u001b[35m            0.0             \u001b[0m\u001b[35m \u001b[0m│\n",
       "│\u001b[36m \u001b[0m\u001b[36minflection position test mse\u001b[0m\u001b[36m \u001b[0m│\u001b[35m \u001b[0m\u001b[35m            0.0             \u001b[0m\u001b[35m \u001b[0m│\n",
       "│\u001b[36m \u001b[0m\u001b[36m   inflection value loss    \u001b[0m\u001b[36m \u001b[0m│\u001b[35m \u001b[0m\u001b[35m   3.9013621062622406e-06   \u001b[0m\u001b[35m \u001b[0m│\n",
       "│\u001b[36m \u001b[0m\u001b[36m inflection value test mse  \u001b[0m\u001b[36m \u001b[0m│\u001b[35m \u001b[0m\u001b[35m   3.9013621062622406e-06   \u001b[0m\u001b[35m \u001b[0m│\n",
       "│\u001b[36m \u001b[0m\u001b[36m     max position loss      \u001b[0m\u001b[36m \u001b[0m│\u001b[35m \u001b[0m\u001b[35m            0.0             \u001b[0m\u001b[35m \u001b[0m│\n",
       "│\u001b[36m \u001b[0m\u001b[36m   max position test mse    \u001b[0m\u001b[36m \u001b[0m│\u001b[35m \u001b[0m\u001b[35m            0.0             \u001b[0m\u001b[35m \u001b[0m│\n",
       "│\u001b[36m \u001b[0m\u001b[36m       max value loss       \u001b[0m\u001b[36m \u001b[0m│\u001b[35m \u001b[0m\u001b[35m    0.000199951755348593    \u001b[0m\u001b[35m \u001b[0m│\n",
       "│\u001b[36m \u001b[0m\u001b[36m    max value test loss     \u001b[0m\u001b[36m \u001b[0m│\u001b[35m \u001b[0m\u001b[35m    0.000199951755348593    \u001b[0m\u001b[35m \u001b[0m│\n",
       "│\u001b[36m \u001b[0m\u001b[36m      prediction loss       \u001b[0m\u001b[36m \u001b[0m│\u001b[35m \u001b[0m\u001b[35m   0.0003186301328241825    \u001b[0m\u001b[35m \u001b[0m│\n",
       "│\u001b[36m \u001b[0m\u001b[36m    prediction test mse     \u001b[0m\u001b[36m \u001b[0m│\u001b[35m \u001b[0m\u001b[35m   0.0003186301328241825    \u001b[0m\u001b[35m \u001b[0m│\n",
       "│\u001b[36m \u001b[0m\u001b[36m      test_loss_epoch       \u001b[0m\u001b[36m \u001b[0m│\u001b[35m \u001b[0m\u001b[35m   0.00032062959508039057   \u001b[0m\u001b[35m \u001b[0m│\n",
       "│\u001b[36m \u001b[0m\u001b[36m     weighted mse loss      \u001b[0m\u001b[36m \u001b[0m│\u001b[35m \u001b[0m\u001b[35m   9.276105993194506e-05    \u001b[0m\u001b[35m \u001b[0m│\n",
       "│\u001b[36m \u001b[0m\u001b[36m weighted mse loss test mse \u001b[0m\u001b[36m \u001b[0m│\u001b[35m \u001b[0m\u001b[35m   9.276105993194506e-05    \u001b[0m\u001b[35m \u001b[0m│\n",
       "└──────────────────────────────┴──────────────────────────────┘\n"
      ]
     },
     "metadata": {},
     "output_type": "display_data"
    },
    {
     "name": "stderr",
     "output_type": "stream",
     "text": [
      "  9%|▊         | 3/35 [16:34<3:12:03, 360.09s/it]"
     ]
    },
    {
     "name": "stdout",
     "output_type": "stream",
     "text": [
      "model: outputs/AE/AE_CNN_3D/dataset_output/8_channels_spatial_pooling_with_pca_pre_treatment/basic loss/pred_1_grad_0_max_pos_0.0_max_value_0.0_fft_0.0_weighted_10_inflection_pos_0.0_inflection_value_0.0/depth_pre_treatment_pca_n_components_107/channels_[1, 8, 8]/upsample_mode_trilinear/linear_later_False_lattent_size_50/1_conv_per_layer/padding_reflect/interp_size_25/pooling_Max_on_dim_spatial/final_upsample_upsample_pooling/act_fn_Elu_final_act_fn_Elu/lr_0.001/normalization_min_max/manage_nan_suppress/n_profiles_None/2024-11-13_06-17/checkpoints/val_loss=0.00-epoch=49.ckpt\n"
     ]
    },
    {
     "name": "stderr",
     "output_type": "stream",
     "text": [
      "Trainer will use only 1 of 3 GPUs because it is running inside an interactive / notebook environment. You may try to set `Trainer(devices=3)` but please note that multi-GPU inside interactive / notebook environments is considered experimental and unstable. Your mileage may vary.\n",
      "/DATASET/envs/o23gauvr/miniconda3/envs/fsc_env/lib/python3.11/site-packages/lightning_fabric/plugins/environments/slurm.py:191: The `srun` command is available on your system but is not used. HINT: If your intention is to run Lightning on SLURM, prepend your python command with `srun` like so: srun python /DATASET/envs/o23gauvr/miniconda3/envs/fsc_env/lib/p ...\n",
      "GPU available: True (cuda), used: True\n",
      "TPU available: False, using: 0 TPU cores\n",
      "IPU available: False, using: 0 IPUs\n",
      "HPU available: False, using: 0 HPUs\n",
      "LOCAL_RANK: 0 - CUDA_VISIBLE_DEVICES: [0,1,2]\n"
     ]
    },
    {
     "name": "stdout",
     "output_type": "stream",
     "text": [
      "Testing DataLoader 0:   0%|          | 0/10 [00:00<?, ?it/s]PCA pre treatment, depth components: 107\n",
      "PCA pre treatment, depth components: 107\n",
      "Testing DataLoader 0:  10%|█         | 1/10 [00:00<00:01,  8.12it/s]PCA pre treatment, depth components: 107\n",
      "PCA pre treatment, depth components: 107\n",
      "Testing DataLoader 0:  20%|██        | 2/10 [00:00<00:01,  5.55it/s]PCA pre treatment, depth components: 107\n",
      "PCA pre treatment, depth components: 107\n",
      "Testing DataLoader 0:  30%|███       | 3/10 [00:00<00:01,  5.18it/s]PCA pre treatment, depth components: 107\n",
      "PCA pre treatment, depth components: 107\n",
      "Testing DataLoader 0:  40%|████      | 4/10 [00:00<00:01,  5.38it/s]PCA pre treatment, depth components: 107\n",
      "PCA pre treatment, depth components: 107\n",
      "Testing DataLoader 0:  50%|█████     | 5/10 [00:00<00:00,  5.27it/s]PCA pre treatment, depth components: 107\n",
      "PCA pre treatment, depth components: 107\n",
      "Testing DataLoader 0:  60%|██████    | 6/10 [00:01<00:00,  5.39it/s]PCA pre treatment, depth components: 107\n",
      "PCA pre treatment, depth components: 107\n",
      "Testing DataLoader 0:  70%|███████   | 7/10 [00:01<00:00,  5.31it/s]PCA pre treatment, depth components: 107\n",
      "PCA pre treatment, depth components: 107\n",
      "Testing DataLoader 0:  80%|████████  | 8/10 [00:01<00:00,  5.42it/s]PCA pre treatment, depth components: 107\n",
      "PCA pre treatment, depth components: 107\n",
      "Testing DataLoader 0:  90%|█████████ | 9/10 [00:01<00:00,  5.36it/s]PCA pre treatment, depth components: 107\n",
      "PCA pre treatment, depth components: 107\n",
      "Testing DataLoader 0: 100%|██████████| 10/10 [00:01<00:00,  5.63it/s]\n"
     ]
    },
    {
     "data": {
      "text/html": [
       "<pre style=\"white-space:pre;overflow-x:auto;line-height:normal;font-family:Menlo,'DejaVu Sans Mono',consolas,'Courier New',monospace\">┏━━━━━━━━━━━━━━━━━━━━━━━━━━━━━━┳━━━━━━━━━━━━━━━━━━━━━━━━━━━━━━┓\n",
       "┃<span style=\"font-weight: bold\">         Test metric          </span>┃<span style=\"font-weight: bold\">         DataLoader 0         </span>┃\n",
       "┡━━━━━━━━━━━━━━━━━━━━━━━━━━━━━━╇━━━━━━━━━━━━━━━━━━━━━━━━━━━━━━┩\n",
       "│<span style=\"color: #008080; text-decoration-color: #008080\">           ECS RMSE           </span>│<span style=\"color: #800080; text-decoration-color: #800080\">      1.4538904428482056      </span>│\n",
       "│<span style=\"color: #008080; text-decoration-color: #008080\">           SSP RMSE           </span>│<span style=\"color: #800080; text-decoration-color: #800080\">      9.252538681030273       </span>│\n",
       "│<span style=\"color: #008080; text-decoration-color: #008080\">           fft loss           </span>│<span style=\"color: #800080; text-decoration-color: #800080\">     0.040481746196746826     </span>│\n",
       "│<span style=\"color: #008080; text-decoration-color: #008080\">         fft test mse         </span>│<span style=\"color: #800080; text-decoration-color: #800080\">     0.040481746196746826     </span>│\n",
       "│<span style=\"color: #008080; text-decoration-color: #008080\">        gradient loss         </span>│<span style=\"color: #800080; text-decoration-color: #800080\">    4.843722649638948e-07     </span>│\n",
       "│<span style=\"color: #008080; text-decoration-color: #008080\">      gradient test mse       </span>│<span style=\"color: #800080; text-decoration-color: #800080\">    4.843722649638948e-07     </span>│\n",
       "│<span style=\"color: #008080; text-decoration-color: #008080\">     inflection pos loss      </span>│<span style=\"color: #800080; text-decoration-color: #800080\">     0.005065362900495529     </span>│\n",
       "│<span style=\"color: #008080; text-decoration-color: #008080\"> inflection position test mse </span>│<span style=\"color: #800080; text-decoration-color: #800080\">     0.005065362900495529     </span>│\n",
       "│<span style=\"color: #008080; text-decoration-color: #008080\">    inflection value loss     </span>│<span style=\"color: #800080; text-decoration-color: #800080\">    0.00014600188296753913    </span>│\n",
       "│<span style=\"color: #008080; text-decoration-color: #008080\">  inflection value test mse   </span>│<span style=\"color: #800080; text-decoration-color: #800080\">    0.00014600188296753913    </span>│\n",
       "│<span style=\"color: #008080; text-decoration-color: #008080\">      max position loss       </span>│<span style=\"color: #800080; text-decoration-color: #800080\">      1.2409961223602295      </span>│\n",
       "│<span style=\"color: #008080; text-decoration-color: #008080\">    max position test mse     </span>│<span style=\"color: #800080; text-decoration-color: #800080\">      1.2409961223602295      </span>│\n",
       "│<span style=\"color: #008080; text-decoration-color: #008080\">        max value loss        </span>│<span style=\"color: #800080; text-decoration-color: #800080\">    0.00041419421904720366    </span>│\n",
       "│<span style=\"color: #008080; text-decoration-color: #008080\">     max value test loss      </span>│<span style=\"color: #800080; text-decoration-color: #800080\">    0.00041419421904720366    </span>│\n",
       "│<span style=\"color: #008080; text-decoration-color: #008080\">       prediction loss        </span>│<span style=\"color: #800080; text-decoration-color: #800080\">     0.000437519425759092     </span>│\n",
       "│<span style=\"color: #008080; text-decoration-color: #008080\">     prediction test mse      </span>│<span style=\"color: #800080; text-decoration-color: #800080\">     0.000437519425759092     </span>│\n",
       "│<span style=\"color: #008080; text-decoration-color: #008080\">       test_loss_epoch        </span>│<span style=\"color: #800080; text-decoration-color: #800080\">     0.001892798813059926     </span>│\n",
       "│<span style=\"color: #008080; text-decoration-color: #008080\">      weighted mse loss       </span>│<span style=\"color: #800080; text-decoration-color: #800080\">    0.00014552795619238168    </span>│\n",
       "│<span style=\"color: #008080; text-decoration-color: #008080\">  weighted mse loss test mse  </span>│<span style=\"color: #800080; text-decoration-color: #800080\">    0.00014552795619238168    </span>│\n",
       "└──────────────────────────────┴──────────────────────────────┘\n",
       "</pre>\n"
      ],
      "text/plain": [
       "┏━━━━━━━━━━━━━━━━━━━━━━━━━━━━━━┳━━━━━━━━━━━━━━━━━━━━━━━━━━━━━━┓\n",
       "┃\u001b[1m \u001b[0m\u001b[1m        Test metric         \u001b[0m\u001b[1m \u001b[0m┃\u001b[1m \u001b[0m\u001b[1m        DataLoader 0        \u001b[0m\u001b[1m \u001b[0m┃\n",
       "┡━━━━━━━━━━━━━━━━━━━━━━━━━━━━━━╇━━━━━━━━━━━━━━━━━━━━━━━━━━━━━━┩\n",
       "│\u001b[36m \u001b[0m\u001b[36m          ECS RMSE          \u001b[0m\u001b[36m \u001b[0m│\u001b[35m \u001b[0m\u001b[35m     1.4538904428482056     \u001b[0m\u001b[35m \u001b[0m│\n",
       "│\u001b[36m \u001b[0m\u001b[36m          SSP RMSE          \u001b[0m\u001b[36m \u001b[0m│\u001b[35m \u001b[0m\u001b[35m     9.252538681030273      \u001b[0m\u001b[35m \u001b[0m│\n",
       "│\u001b[36m \u001b[0m\u001b[36m          fft loss          \u001b[0m\u001b[36m \u001b[0m│\u001b[35m \u001b[0m\u001b[35m    0.040481746196746826    \u001b[0m\u001b[35m \u001b[0m│\n",
       "│\u001b[36m \u001b[0m\u001b[36m        fft test mse        \u001b[0m\u001b[36m \u001b[0m│\u001b[35m \u001b[0m\u001b[35m    0.040481746196746826    \u001b[0m\u001b[35m \u001b[0m│\n",
       "│\u001b[36m \u001b[0m\u001b[36m       gradient loss        \u001b[0m\u001b[36m \u001b[0m│\u001b[35m \u001b[0m\u001b[35m   4.843722649638948e-07    \u001b[0m\u001b[35m \u001b[0m│\n",
       "│\u001b[36m \u001b[0m\u001b[36m     gradient test mse      \u001b[0m\u001b[36m \u001b[0m│\u001b[35m \u001b[0m\u001b[35m   4.843722649638948e-07    \u001b[0m\u001b[35m \u001b[0m│\n",
       "│\u001b[36m \u001b[0m\u001b[36m    inflection pos loss     \u001b[0m\u001b[36m \u001b[0m│\u001b[35m \u001b[0m\u001b[35m    0.005065362900495529    \u001b[0m\u001b[35m \u001b[0m│\n",
       "│\u001b[36m \u001b[0m\u001b[36minflection position test mse\u001b[0m\u001b[36m \u001b[0m│\u001b[35m \u001b[0m\u001b[35m    0.005065362900495529    \u001b[0m\u001b[35m \u001b[0m│\n",
       "│\u001b[36m \u001b[0m\u001b[36m   inflection value loss    \u001b[0m\u001b[36m \u001b[0m│\u001b[35m \u001b[0m\u001b[35m   0.00014600188296753913   \u001b[0m\u001b[35m \u001b[0m│\n",
       "│\u001b[36m \u001b[0m\u001b[36m inflection value test mse  \u001b[0m\u001b[36m \u001b[0m│\u001b[35m \u001b[0m\u001b[35m   0.00014600188296753913   \u001b[0m\u001b[35m \u001b[0m│\n",
       "│\u001b[36m \u001b[0m\u001b[36m     max position loss      \u001b[0m\u001b[36m \u001b[0m│\u001b[35m \u001b[0m\u001b[35m     1.2409961223602295     \u001b[0m\u001b[35m \u001b[0m│\n",
       "│\u001b[36m \u001b[0m\u001b[36m   max position test mse    \u001b[0m\u001b[36m \u001b[0m│\u001b[35m \u001b[0m\u001b[35m     1.2409961223602295     \u001b[0m\u001b[35m \u001b[0m│\n",
       "│\u001b[36m \u001b[0m\u001b[36m       max value loss       \u001b[0m\u001b[36m \u001b[0m│\u001b[35m \u001b[0m\u001b[35m   0.00041419421904720366   \u001b[0m\u001b[35m \u001b[0m│\n",
       "│\u001b[36m \u001b[0m\u001b[36m    max value test loss     \u001b[0m\u001b[36m \u001b[0m│\u001b[35m \u001b[0m\u001b[35m   0.00041419421904720366   \u001b[0m\u001b[35m \u001b[0m│\n",
       "│\u001b[36m \u001b[0m\u001b[36m      prediction loss       \u001b[0m\u001b[36m \u001b[0m│\u001b[35m \u001b[0m\u001b[35m    0.000437519425759092    \u001b[0m\u001b[35m \u001b[0m│\n",
       "│\u001b[36m \u001b[0m\u001b[36m    prediction test mse     \u001b[0m\u001b[36m \u001b[0m│\u001b[35m \u001b[0m\u001b[35m    0.000437519425759092    \u001b[0m\u001b[35m \u001b[0m│\n",
       "│\u001b[36m \u001b[0m\u001b[36m      test_loss_epoch       \u001b[0m\u001b[36m \u001b[0m│\u001b[35m \u001b[0m\u001b[35m    0.001892798813059926    \u001b[0m\u001b[35m \u001b[0m│\n",
       "│\u001b[36m \u001b[0m\u001b[36m     weighted mse loss      \u001b[0m\u001b[36m \u001b[0m│\u001b[35m \u001b[0m\u001b[35m   0.00014552795619238168   \u001b[0m\u001b[35m \u001b[0m│\n",
       "│\u001b[36m \u001b[0m\u001b[36m weighted mse loss test mse \u001b[0m\u001b[36m \u001b[0m│\u001b[35m \u001b[0m\u001b[35m   0.00014552795619238168   \u001b[0m\u001b[35m \u001b[0m│\n",
       "└──────────────────────────────┴──────────────────────────────┘\n"
      ]
     },
     "metadata": {},
     "output_type": "display_data"
    },
    {
     "name": "stderr",
     "output_type": "stream",
     "text": [
      " 11%|█▏        | 4/35 [17:01<1:58:08, 228.65s/it]"
     ]
    },
    {
     "name": "stdout",
     "output_type": "stream",
     "text": [
      "model: outputs/AE/AE_CNN_3D/dataset_output/8_channels_spatial_pooling_with_pca_pre_treatment/basic loss/pred_1_grad_0_max_pos_0.0_max_value_0.0_fft_0.0_weighted_10_inflection_pos_0.0_inflection_value_0.0/depth_pre_treatment_pca_n_components_50/channels_[1, 8, 8]/upsample_mode_trilinear/linear_later_False_lattent_size_50/1_conv_per_layer/padding_reflect/interp_size_25/pooling_Max_on_dim_spatial/final_upsample_upsample_pooling/act_fn_Elu_final_act_fn_Elu/lr_0.001/normalization_min_max/manage_nan_suppress/n_profiles_None/2024-11-13_09-05/checkpoints/val_loss=0.00-epoch=47.ckpt\n"
     ]
    },
    {
     "name": "stderr",
     "output_type": "stream",
     "text": [
      "Trainer will use only 1 of 3 GPUs because it is running inside an interactive / notebook environment. You may try to set `Trainer(devices=3)` but please note that multi-GPU inside interactive / notebook environments is considered experimental and unstable. Your mileage may vary.\n",
      "/DATASET/envs/o23gauvr/miniconda3/envs/fsc_env/lib/python3.11/site-packages/lightning_fabric/plugins/environments/slurm.py:191: The `srun` command is available on your system but is not used. HINT: If your intention is to run Lightning on SLURM, prepend your python command with `srun` like so: srun python /DATASET/envs/o23gauvr/miniconda3/envs/fsc_env/lib/p ...\n",
      "GPU available: True (cuda), used: True\n",
      "TPU available: False, using: 0 TPU cores\n",
      "IPU available: False, using: 0 IPUs\n",
      "HPU available: False, using: 0 HPUs\n",
      "LOCAL_RANK: 0 - CUDA_VISIBLE_DEVICES: [0,1,2]\n"
     ]
    },
    {
     "name": "stdout",
     "output_type": "stream",
     "text": [
      "Testing DataLoader 0:   0%|          | 0/10 [00:00<?, ?it/s]PCA pre treatment, depth components: 50\n",
      "PCA pre treatment, depth components: 50\n",
      "Testing DataLoader 0:  10%|█         | 1/10 [00:00<00:01,  4.62it/s]PCA pre treatment, depth components: 50\n",
      "PCA pre treatment, depth components: 50\n",
      "Testing DataLoader 0:  20%|██        | 2/10 [00:00<00:01,  5.23it/s]PCA pre treatment, depth components: 50\n",
      "PCA pre treatment, depth components: 50\n",
      "Testing DataLoader 0:  30%|███       | 3/10 [00:00<00:01,  5.96it/s]PCA pre treatment, depth components: 50\n",
      "PCA pre treatment, depth components: 50\n",
      "Testing DataLoader 0:  40%|████      | 4/10 [00:00<00:00,  6.05it/s]PCA pre treatment, depth components: 50\n",
      "PCA pre treatment, depth components: 50\n",
      "Testing DataLoader 0:  50%|█████     | 5/10 [00:00<00:00,  5.39it/s]PCA pre treatment, depth components: 50\n",
      "PCA pre treatment, depth components: 50\n",
      "Testing DataLoader 0:  60%|██████    | 6/10 [00:01<00:00,  5.61it/s]PCA pre treatment, depth components: 50\n",
      "PCA pre treatment, depth components: 50\n",
      "Testing DataLoader 0:  70%|███████   | 7/10 [00:01<00:00,  5.62it/s]PCA pre treatment, depth components: 50\n",
      "PCA pre treatment, depth components: 50\n",
      "Testing DataLoader 0:  80%|████████  | 8/10 [00:01<00:00,  5.78it/s]PCA pre treatment, depth components: 50\n",
      "PCA pre treatment, depth components: 50\n",
      "Testing DataLoader 0:  90%|█████████ | 9/10 [00:01<00:00,  5.80it/s]PCA pre treatment, depth components: 50\n",
      "PCA pre treatment, depth components: 50\n",
      "Testing DataLoader 0: 100%|██████████| 10/10 [00:01<00:00,  6.05it/s]\n"
     ]
    },
    {
     "data": {
      "text/html": [
       "<pre style=\"white-space:pre;overflow-x:auto;line-height:normal;font-family:Menlo,'DejaVu Sans Mono',consolas,'Courier New',monospace\">┏━━━━━━━━━━━━━━━━━━━━━━━━━━━━━━┳━━━━━━━━━━━━━━━━━━━━━━━━━━━━━━┓\n",
       "┃<span style=\"font-weight: bold\">         Test metric          </span>┃<span style=\"font-weight: bold\">         DataLoader 0         </span>┃\n",
       "┡━━━━━━━━━━━━━━━━━━━━━━━━━━━━━━╇━━━━━━━━━━━━━━━━━━━━━━━━━━━━━━┩\n",
       "│<span style=\"color: #008080; text-decoration-color: #008080\">           ECS RMSE           </span>│<span style=\"color: #800080; text-decoration-color: #800080\">             0.0              </span>│\n",
       "│<span style=\"color: #008080; text-decoration-color: #008080\">           SSP RMSE           </span>│<span style=\"color: #800080; text-decoration-color: #800080\">      9.114476203918457       </span>│\n",
       "│<span style=\"color: #008080; text-decoration-color: #008080\">           fft loss           </span>│<span style=\"color: #800080; text-decoration-color: #800080\">     0.03913480043411255      </span>│\n",
       "│<span style=\"color: #008080; text-decoration-color: #008080\">         fft test mse         </span>│<span style=\"color: #800080; text-decoration-color: #800080\">     0.03913480043411255      </span>│\n",
       "│<span style=\"color: #008080; text-decoration-color: #008080\">        gradient loss         </span>│<span style=\"color: #800080; text-decoration-color: #800080\">    5.923346861891332e-07     </span>│\n",
       "│<span style=\"color: #008080; text-decoration-color: #008080\">      gradient test mse       </span>│<span style=\"color: #800080; text-decoration-color: #800080\">    5.923346861891332e-07     </span>│\n",
       "│<span style=\"color: #008080; text-decoration-color: #008080\">     inflection pos loss      </span>│<span style=\"color: #800080; text-decoration-color: #800080\">    0.0020657344721257687     </span>│\n",
       "│<span style=\"color: #008080; text-decoration-color: #008080\"> inflection position test mse </span>│<span style=\"color: #800080; text-decoration-color: #800080\">    0.0020657344721257687     </span>│\n",
       "│<span style=\"color: #008080; text-decoration-color: #008080\">    inflection value loss     </span>│<span style=\"color: #800080; text-decoration-color: #800080\">    4.3333613575669006e-05    </span>│\n",
       "│<span style=\"color: #008080; text-decoration-color: #008080\">  inflection value test mse   </span>│<span style=\"color: #800080; text-decoration-color: #800080\">    4.3333613575669006e-05    </span>│\n",
       "│<span style=\"color: #008080; text-decoration-color: #008080\">      max position loss       </span>│<span style=\"color: #800080; text-decoration-color: #800080\">             0.0              </span>│\n",
       "│<span style=\"color: #008080; text-decoration-color: #008080\">    max position test mse     </span>│<span style=\"color: #800080; text-decoration-color: #800080\">             0.0              </span>│\n",
       "│<span style=\"color: #008080; text-decoration-color: #008080\">        max value loss        </span>│<span style=\"color: #800080; text-decoration-color: #800080\">    0.00047414383152499795    </span>│\n",
       "│<span style=\"color: #008080; text-decoration-color: #008080\">     max value test loss      </span>│<span style=\"color: #800080; text-decoration-color: #800080\">    0.00047414383152499795    </span>│\n",
       "│<span style=\"color: #008080; text-decoration-color: #008080\">       prediction loss        </span>│<span style=\"color: #800080; text-decoration-color: #800080\">    0.0004245663876645267     </span>│\n",
       "│<span style=\"color: #008080; text-decoration-color: #008080\">     prediction test mse      </span>│<span style=\"color: #800080; text-decoration-color: #800080\">    0.0004245663876645267     </span>│\n",
       "│<span style=\"color: #008080; text-decoration-color: #008080\">       test_loss_epoch        </span>│<span style=\"color: #800080; text-decoration-color: #800080\">     0.001799116493202746     </span>│\n",
       "│<span style=\"color: #008080; text-decoration-color: #008080\">      weighted mse loss       </span>│<span style=\"color: #800080; text-decoration-color: #800080\">    0.00013745501928497106    </span>│\n",
       "│<span style=\"color: #008080; text-decoration-color: #008080\">  weighted mse loss test mse  </span>│<span style=\"color: #800080; text-decoration-color: #800080\">    0.00013745501928497106    </span>│\n",
       "└──────────────────────────────┴──────────────────────────────┘\n",
       "</pre>\n"
      ],
      "text/plain": [
       "┏━━━━━━━━━━━━━━━━━━━━━━━━━━━━━━┳━━━━━━━━━━━━━━━━━━━━━━━━━━━━━━┓\n",
       "┃\u001b[1m \u001b[0m\u001b[1m        Test metric         \u001b[0m\u001b[1m \u001b[0m┃\u001b[1m \u001b[0m\u001b[1m        DataLoader 0        \u001b[0m\u001b[1m \u001b[0m┃\n",
       "┡━━━━━━━━━━━━━━━━━━━━━━━━━━━━━━╇━━━━━━━━━━━━━━━━━━━━━━━━━━━━━━┩\n",
       "│\u001b[36m \u001b[0m\u001b[36m          ECS RMSE          \u001b[0m\u001b[36m \u001b[0m│\u001b[35m \u001b[0m\u001b[35m            0.0             \u001b[0m\u001b[35m \u001b[0m│\n",
       "│\u001b[36m \u001b[0m\u001b[36m          SSP RMSE          \u001b[0m\u001b[36m \u001b[0m│\u001b[35m \u001b[0m\u001b[35m     9.114476203918457      \u001b[0m\u001b[35m \u001b[0m│\n",
       "│\u001b[36m \u001b[0m\u001b[36m          fft loss          \u001b[0m\u001b[36m \u001b[0m│\u001b[35m \u001b[0m\u001b[35m    0.03913480043411255     \u001b[0m\u001b[35m \u001b[0m│\n",
       "│\u001b[36m \u001b[0m\u001b[36m        fft test mse        \u001b[0m\u001b[36m \u001b[0m│\u001b[35m \u001b[0m\u001b[35m    0.03913480043411255     \u001b[0m\u001b[35m \u001b[0m│\n",
       "│\u001b[36m \u001b[0m\u001b[36m       gradient loss        \u001b[0m\u001b[36m \u001b[0m│\u001b[35m \u001b[0m\u001b[35m   5.923346861891332e-07    \u001b[0m\u001b[35m \u001b[0m│\n",
       "│\u001b[36m \u001b[0m\u001b[36m     gradient test mse      \u001b[0m\u001b[36m \u001b[0m│\u001b[35m \u001b[0m\u001b[35m   5.923346861891332e-07    \u001b[0m\u001b[35m \u001b[0m│\n",
       "│\u001b[36m \u001b[0m\u001b[36m    inflection pos loss     \u001b[0m\u001b[36m \u001b[0m│\u001b[35m \u001b[0m\u001b[35m   0.0020657344721257687    \u001b[0m\u001b[35m \u001b[0m│\n",
       "│\u001b[36m \u001b[0m\u001b[36minflection position test mse\u001b[0m\u001b[36m \u001b[0m│\u001b[35m \u001b[0m\u001b[35m   0.0020657344721257687    \u001b[0m\u001b[35m \u001b[0m│\n",
       "│\u001b[36m \u001b[0m\u001b[36m   inflection value loss    \u001b[0m\u001b[36m \u001b[0m│\u001b[35m \u001b[0m\u001b[35m   4.3333613575669006e-05   \u001b[0m\u001b[35m \u001b[0m│\n",
       "│\u001b[36m \u001b[0m\u001b[36m inflection value test mse  \u001b[0m\u001b[36m \u001b[0m│\u001b[35m \u001b[0m\u001b[35m   4.3333613575669006e-05   \u001b[0m\u001b[35m \u001b[0m│\n",
       "│\u001b[36m \u001b[0m\u001b[36m     max position loss      \u001b[0m\u001b[36m \u001b[0m│\u001b[35m \u001b[0m\u001b[35m            0.0             \u001b[0m\u001b[35m \u001b[0m│\n",
       "│\u001b[36m \u001b[0m\u001b[36m   max position test mse    \u001b[0m\u001b[36m \u001b[0m│\u001b[35m \u001b[0m\u001b[35m            0.0             \u001b[0m\u001b[35m \u001b[0m│\n",
       "│\u001b[36m \u001b[0m\u001b[36m       max value loss       \u001b[0m\u001b[36m \u001b[0m│\u001b[35m \u001b[0m\u001b[35m   0.00047414383152499795   \u001b[0m\u001b[35m \u001b[0m│\n",
       "│\u001b[36m \u001b[0m\u001b[36m    max value test loss     \u001b[0m\u001b[36m \u001b[0m│\u001b[35m \u001b[0m\u001b[35m   0.00047414383152499795   \u001b[0m\u001b[35m \u001b[0m│\n",
       "│\u001b[36m \u001b[0m\u001b[36m      prediction loss       \u001b[0m\u001b[36m \u001b[0m│\u001b[35m \u001b[0m\u001b[35m   0.0004245663876645267    \u001b[0m\u001b[35m \u001b[0m│\n",
       "│\u001b[36m \u001b[0m\u001b[36m    prediction test mse     \u001b[0m\u001b[36m \u001b[0m│\u001b[35m \u001b[0m\u001b[35m   0.0004245663876645267    \u001b[0m\u001b[35m \u001b[0m│\n",
       "│\u001b[36m \u001b[0m\u001b[36m      test_loss_epoch       \u001b[0m\u001b[36m \u001b[0m│\u001b[35m \u001b[0m\u001b[35m    0.001799116493202746    \u001b[0m\u001b[35m \u001b[0m│\n",
       "│\u001b[36m \u001b[0m\u001b[36m     weighted mse loss      \u001b[0m\u001b[36m \u001b[0m│\u001b[35m \u001b[0m\u001b[35m   0.00013745501928497106   \u001b[0m\u001b[35m \u001b[0m│\n",
       "│\u001b[36m \u001b[0m\u001b[36m weighted mse loss test mse \u001b[0m\u001b[36m \u001b[0m│\u001b[35m \u001b[0m\u001b[35m   0.00013745501928497106   \u001b[0m\u001b[35m \u001b[0m│\n",
       "└──────────────────────────────┴──────────────────────────────┘\n"
      ]
     },
     "metadata": {},
     "output_type": "display_data"
    },
    {
     "name": "stderr",
     "output_type": "stream",
     "text": [
      " 14%|█▍        | 5/35 [17:30<1:18:24, 156.81s/it]"
     ]
    },
    {
     "name": "stdout",
     "output_type": "stream",
     "text": [
      "model: outputs/AE/AE_CNN_3D/dataset_output/8_channels_spatial_pooling_with_pca_pre_treatment/basic loss/pred_1_grad_0_max_pos_0.0_max_value_0.0_fft_0.0_weighted_10_inflection_pos_0.0_inflection_value_0.0/depth_pre_treatment_pca_n_components_10/channels_[1, 8, 8]/upsample_mode_trilinear/linear_later_False_lattent_size_50/1_conv_per_layer/padding_reflect/interp_size_25/pooling_Max_on_dim_spatial/final_upsample_upsample_pooling/act_fn_Elu_final_act_fn_Elu/lr_0.001/normalization_min_max/manage_nan_suppress/n_profiles_None/2024-11-13_07-44/checkpoints/val_loss=0.00-epoch=48.ckpt\n"
     ]
    },
    {
     "name": "stderr",
     "output_type": "stream",
     "text": [
      "Trainer will use only 1 of 3 GPUs because it is running inside an interactive / notebook environment. You may try to set `Trainer(devices=3)` but please note that multi-GPU inside interactive / notebook environments is considered experimental and unstable. Your mileage may vary.\n",
      "/DATASET/envs/o23gauvr/miniconda3/envs/fsc_env/lib/python3.11/site-packages/lightning_fabric/plugins/environments/slurm.py:191: The `srun` command is available on your system but is not used. HINT: If your intention is to run Lightning on SLURM, prepend your python command with `srun` like so: srun python /DATASET/envs/o23gauvr/miniconda3/envs/fsc_env/lib/p ...\n",
      "GPU available: True (cuda), used: True\n",
      "TPU available: False, using: 0 TPU cores\n",
      "IPU available: False, using: 0 IPUs\n",
      "HPU available: False, using: 0 HPUs\n",
      "LOCAL_RANK: 0 - CUDA_VISIBLE_DEVICES: [0,1,2]\n"
     ]
    },
    {
     "name": "stdout",
     "output_type": "stream",
     "text": [
      "Testing DataLoader 0:   0%|          | 0/10 [00:00<?, ?it/s]PCA pre treatment, depth components: 10\n",
      "PCA pre treatment, depth components: 10\n",
      "Testing DataLoader 0:  10%|█         | 1/10 [00:00<00:00, 10.29it/s]PCA pre treatment, depth components: 10\n",
      "PCA pre treatment, depth components: 10\n",
      "Testing DataLoader 0:  20%|██        | 2/10 [00:00<00:00,  9.53it/s]PCA pre treatment, depth components: 10\n",
      "PCA pre treatment, depth components: 10\n",
      "Testing DataLoader 0:  30%|███       | 3/10 [00:00<00:00,  8.71it/s]PCA pre treatment, depth components: 10\n",
      "PCA pre treatment, depth components: 10\n",
      "Testing DataLoader 0:  40%|████      | 4/10 [00:00<00:00,  8.74it/s]PCA pre treatment, depth components: 10\n",
      "PCA pre treatment, depth components: 10\n",
      "Testing DataLoader 0:  50%|█████     | 5/10 [00:00<00:00,  8.38it/s]PCA pre treatment, depth components: 10\n",
      "PCA pre treatment, depth components: 10\n",
      "Testing DataLoader 0:  60%|██████    | 6/10 [00:00<00:00,  8.66it/s]PCA pre treatment, depth components: 10\n",
      "PCA pre treatment, depth components: 10\n",
      "Testing DataLoader 0:  70%|███████   | 7/10 [00:00<00:00,  8.97it/s]PCA pre treatment, depth components: 10\n",
      "PCA pre treatment, depth components: 10\n",
      "Testing DataLoader 0:  80%|████████  | 8/10 [00:00<00:00,  9.23it/s]PCA pre treatment, depth components: 10\n",
      "PCA pre treatment, depth components: 10\n",
      "Testing DataLoader 0:  90%|█████████ | 9/10 [00:00<00:00,  9.49it/s]PCA pre treatment, depth components: 10\n",
      "PCA pre treatment, depth components: 10\n",
      "Testing DataLoader 0: 100%|██████████| 10/10 [00:01<00:00,  9.77it/s]\n"
     ]
    },
    {
     "data": {
      "text/html": [
       "<pre style=\"white-space:pre;overflow-x:auto;line-height:normal;font-family:Menlo,'DejaVu Sans Mono',consolas,'Courier New',monospace\">┏━━━━━━━━━━━━━━━━━━━━━━━━━━━━━━┳━━━━━━━━━━━━━━━━━━━━━━━━━━━━━━┓\n",
       "┃<span style=\"font-weight: bold\">         Test metric          </span>┃<span style=\"font-weight: bold\">         DataLoader 0         </span>┃\n",
       "┡━━━━━━━━━━━━━━━━━━━━━━━━━━━━━━╇━━━━━━━━━━━━━━━━━━━━━━━━━━━━━━┩\n",
       "│<span style=\"color: #008080; text-decoration-color: #008080\">           ECS RMSE           </span>│<span style=\"color: #800080; text-decoration-color: #800080\">             0.0              </span>│\n",
       "│<span style=\"color: #008080; text-decoration-color: #008080\">           SSP RMSE           </span>│<span style=\"color: #800080; text-decoration-color: #800080\">      8.344107627868652       </span>│\n",
       "│<span style=\"color: #008080; text-decoration-color: #008080\">           fft loss           </span>│<span style=\"color: #800080; text-decoration-color: #800080\">     0.031670745462179184     </span>│\n",
       "│<span style=\"color: #008080; text-decoration-color: #008080\">         fft test mse         </span>│<span style=\"color: #800080; text-decoration-color: #800080\">     0.031670745462179184     </span>│\n",
       "│<span style=\"color: #008080; text-decoration-color: #008080\">        gradient loss         </span>│<span style=\"color: #800080; text-decoration-color: #800080\">    4.893012928164353e-08     </span>│\n",
       "│<span style=\"color: #008080; text-decoration-color: #008080\">      gradient test mse       </span>│<span style=\"color: #800080; text-decoration-color: #800080\">    4.893012928164353e-08     </span>│\n",
       "│<span style=\"color: #008080; text-decoration-color: #008080\">     inflection pos loss      </span>│<span style=\"color: #800080; text-decoration-color: #800080\">             0.0              </span>│\n",
       "│<span style=\"color: #008080; text-decoration-color: #008080\"> inflection position test mse </span>│<span style=\"color: #800080; text-decoration-color: #800080\">             0.0              </span>│\n",
       "│<span style=\"color: #008080; text-decoration-color: #008080\">    inflection value loss     </span>│<span style=\"color: #800080; text-decoration-color: #800080\">    3.7112531572347507e-06    </span>│\n",
       "│<span style=\"color: #008080; text-decoration-color: #008080\">  inflection value test mse   </span>│<span style=\"color: #800080; text-decoration-color: #800080\">    3.7112531572347507e-06    </span>│\n",
       "│<span style=\"color: #008080; text-decoration-color: #008080\">      max position loss       </span>│<span style=\"color: #800080; text-decoration-color: #800080\">             0.0              </span>│\n",
       "│<span style=\"color: #008080; text-decoration-color: #008080\">    max position test mse     </span>│<span style=\"color: #800080; text-decoration-color: #800080\">             0.0              </span>│\n",
       "│<span style=\"color: #008080; text-decoration-color: #008080\">        max value loss        </span>│<span style=\"color: #800080; text-decoration-color: #800080\">    0.00016008697275537997    </span>│\n",
       "│<span style=\"color: #008080; text-decoration-color: #008080\">     max value test loss      </span>│<span style=\"color: #800080; text-decoration-color: #800080\">    0.00016008697275537997    </span>│\n",
       "│<span style=\"color: #008080; text-decoration-color: #008080\">       prediction loss        </span>│<span style=\"color: #800080; text-decoration-color: #800080\">    0.0003559155447874218     </span>│\n",
       "│<span style=\"color: #008080; text-decoration-color: #008080\">     prediction test mse      </span>│<span style=\"color: #800080; text-decoration-color: #800080\">    0.0003559155447874218     </span>│\n",
       "│<span style=\"color: #008080; text-decoration-color: #008080\">       test_loss_epoch        </span>│<span style=\"color: #800080; text-decoration-color: #800080\">    0.0011921206023544073     </span>│\n",
       "│<span style=\"color: #008080; text-decoration-color: #008080\">      weighted mse loss       </span>│<span style=\"color: #800080; text-decoration-color: #800080\">    8.362050721189007e-05     </span>│\n",
       "│<span style=\"color: #008080; text-decoration-color: #008080\">  weighted mse loss test mse  </span>│<span style=\"color: #800080; text-decoration-color: #800080\">    8.362050721189007e-05     </span>│\n",
       "└──────────────────────────────┴──────────────────────────────┘\n",
       "</pre>\n"
      ],
      "text/plain": [
       "┏━━━━━━━━━━━━━━━━━━━━━━━━━━━━━━┳━━━━━━━━━━━━━━━━━━━━━━━━━━━━━━┓\n",
       "┃\u001b[1m \u001b[0m\u001b[1m        Test metric         \u001b[0m\u001b[1m \u001b[0m┃\u001b[1m \u001b[0m\u001b[1m        DataLoader 0        \u001b[0m\u001b[1m \u001b[0m┃\n",
       "┡━━━━━━━━━━━━━━━━━━━━━━━━━━━━━━╇━━━━━━━━━━━━━━━━━━━━━━━━━━━━━━┩\n",
       "│\u001b[36m \u001b[0m\u001b[36m          ECS RMSE          \u001b[0m\u001b[36m \u001b[0m│\u001b[35m \u001b[0m\u001b[35m            0.0             \u001b[0m\u001b[35m \u001b[0m│\n",
       "│\u001b[36m \u001b[0m\u001b[36m          SSP RMSE          \u001b[0m\u001b[36m \u001b[0m│\u001b[35m \u001b[0m\u001b[35m     8.344107627868652      \u001b[0m\u001b[35m \u001b[0m│\n",
       "│\u001b[36m \u001b[0m\u001b[36m          fft loss          \u001b[0m\u001b[36m \u001b[0m│\u001b[35m \u001b[0m\u001b[35m    0.031670745462179184    \u001b[0m\u001b[35m \u001b[0m│\n",
       "│\u001b[36m \u001b[0m\u001b[36m        fft test mse        \u001b[0m\u001b[36m \u001b[0m│\u001b[35m \u001b[0m\u001b[35m    0.031670745462179184    \u001b[0m\u001b[35m \u001b[0m│\n",
       "│\u001b[36m \u001b[0m\u001b[36m       gradient loss        \u001b[0m\u001b[36m \u001b[0m│\u001b[35m \u001b[0m\u001b[35m   4.893012928164353e-08    \u001b[0m\u001b[35m \u001b[0m│\n",
       "│\u001b[36m \u001b[0m\u001b[36m     gradient test mse      \u001b[0m\u001b[36m \u001b[0m│\u001b[35m \u001b[0m\u001b[35m   4.893012928164353e-08    \u001b[0m\u001b[35m \u001b[0m│\n",
       "│\u001b[36m \u001b[0m\u001b[36m    inflection pos loss     \u001b[0m\u001b[36m \u001b[0m│\u001b[35m \u001b[0m\u001b[35m            0.0             \u001b[0m\u001b[35m \u001b[0m│\n",
       "│\u001b[36m \u001b[0m\u001b[36minflection position test mse\u001b[0m\u001b[36m \u001b[0m│\u001b[35m \u001b[0m\u001b[35m            0.0             \u001b[0m\u001b[35m \u001b[0m│\n",
       "│\u001b[36m \u001b[0m\u001b[36m   inflection value loss    \u001b[0m\u001b[36m \u001b[0m│\u001b[35m \u001b[0m\u001b[35m   3.7112531572347507e-06   \u001b[0m\u001b[35m \u001b[0m│\n",
       "│\u001b[36m \u001b[0m\u001b[36m inflection value test mse  \u001b[0m\u001b[36m \u001b[0m│\u001b[35m \u001b[0m\u001b[35m   3.7112531572347507e-06   \u001b[0m\u001b[35m \u001b[0m│\n",
       "│\u001b[36m \u001b[0m\u001b[36m     max position loss      \u001b[0m\u001b[36m \u001b[0m│\u001b[35m \u001b[0m\u001b[35m            0.0             \u001b[0m\u001b[35m \u001b[0m│\n",
       "│\u001b[36m \u001b[0m\u001b[36m   max position test mse    \u001b[0m\u001b[36m \u001b[0m│\u001b[35m \u001b[0m\u001b[35m            0.0             \u001b[0m\u001b[35m \u001b[0m│\n",
       "│\u001b[36m \u001b[0m\u001b[36m       max value loss       \u001b[0m\u001b[36m \u001b[0m│\u001b[35m \u001b[0m\u001b[35m   0.00016008697275537997   \u001b[0m\u001b[35m \u001b[0m│\n",
       "│\u001b[36m \u001b[0m\u001b[36m    max value test loss     \u001b[0m\u001b[36m \u001b[0m│\u001b[35m \u001b[0m\u001b[35m   0.00016008697275537997   \u001b[0m\u001b[35m \u001b[0m│\n",
       "│\u001b[36m \u001b[0m\u001b[36m      prediction loss       \u001b[0m\u001b[36m \u001b[0m│\u001b[35m \u001b[0m\u001b[35m   0.0003559155447874218    \u001b[0m\u001b[35m \u001b[0m│\n",
       "│\u001b[36m \u001b[0m\u001b[36m    prediction test mse     \u001b[0m\u001b[36m \u001b[0m│\u001b[35m \u001b[0m\u001b[35m   0.0003559155447874218    \u001b[0m\u001b[35m \u001b[0m│\n",
       "│\u001b[36m \u001b[0m\u001b[36m      test_loss_epoch       \u001b[0m\u001b[36m \u001b[0m│\u001b[35m \u001b[0m\u001b[35m   0.0011921206023544073    \u001b[0m\u001b[35m \u001b[0m│\n",
       "│\u001b[36m \u001b[0m\u001b[36m     weighted mse loss      \u001b[0m\u001b[36m \u001b[0m│\u001b[35m \u001b[0m\u001b[35m   8.362050721189007e-05    \u001b[0m\u001b[35m \u001b[0m│\n",
       "│\u001b[36m \u001b[0m\u001b[36m weighted mse loss test mse \u001b[0m\u001b[36m \u001b[0m│\u001b[35m \u001b[0m\u001b[35m   8.362050721189007e-05    \u001b[0m\u001b[35m \u001b[0m│\n",
       "└──────────────────────────────┴──────────────────────────────┘\n"
      ]
     },
     "metadata": {},
     "output_type": "display_data"
    },
    {
     "name": "stderr",
     "output_type": "stream",
     "text": [
      " 17%|█▋        | 6/35 [17:59<54:43, 113.23s/it]  "
     ]
    },
    {
     "name": "stdout",
     "output_type": "stream",
     "text": [
      "model: outputs/AE/AE_CNN_3D/dataset_output/8_channels_spatial_pooling_with_pca_pre_treatment/basic loss/pred_1_grad_0_max_pos_0.0_max_value_0.0_fft_0.0_weighted_0_inflection_pos_0.01_inflection_value_0.0/depth_pre_treatment_pca_n_components_107/channels_[1, 8, 8]/upsample_mode_trilinear/linear_later_False_lattent_size_50/1_conv_per_layer/padding_reflect/interp_size_25/pooling_Max_on_dim_spatial/final_upsample_upsample_pooling/act_fn_Elu_final_act_fn_Elu/lr_0.001/normalization_min_max/manage_nan_suppress/n_profiles_None/2024-11-13_06-18/checkpoints/val_loss=0.04-epoch=24.ckpt\n"
     ]
    },
    {
     "name": "stderr",
     "output_type": "stream",
     "text": [
      "Trainer will use only 1 of 3 GPUs because it is running inside an interactive / notebook environment. You may try to set `Trainer(devices=3)` but please note that multi-GPU inside interactive / notebook environments is considered experimental and unstable. Your mileage may vary.\n",
      "/DATASET/envs/o23gauvr/miniconda3/envs/fsc_env/lib/python3.11/site-packages/lightning_fabric/plugins/environments/slurm.py:191: The `srun` command is available on your system but is not used. HINT: If your intention is to run Lightning on SLURM, prepend your python command with `srun` like so: srun python /DATASET/envs/o23gauvr/miniconda3/envs/fsc_env/lib/p ...\n",
      "GPU available: True (cuda), used: True\n",
      "TPU available: False, using: 0 TPU cores\n",
      "IPU available: False, using: 0 IPUs\n",
      "HPU available: False, using: 0 HPUs\n",
      "LOCAL_RANK: 0 - CUDA_VISIBLE_DEVICES: [0,1,2]\n"
     ]
    },
    {
     "name": "stdout",
     "output_type": "stream",
     "text": [
      "Testing DataLoader 0:   0%|          | 0/10 [00:00<?, ?it/s]PCA pre treatment, depth components: 107\n",
      "PCA pre treatment, depth components: 107\n",
      "Testing DataLoader 0:  10%|█         | 1/10 [00:00<00:08,  1.01it/s]PCA pre treatment, depth components: 107\n",
      "PCA pre treatment, depth components: 107\n",
      "Testing DataLoader 0:  20%|██        | 2/10 [00:01<00:04,  1.74it/s]PCA pre treatment, depth components: 107\n",
      "PCA pre treatment, depth components: 107\n",
      "Testing DataLoader 0:  30%|███       | 3/10 [00:01<00:03,  2.20it/s]PCA pre treatment, depth components: 107\n",
      "PCA pre treatment, depth components: 107\n",
      "Testing DataLoader 0:  40%|████      | 4/10 [00:01<00:02,  2.49it/s]PCA pre treatment, depth components: 107\n",
      "PCA pre treatment, depth components: 107\n",
      "Testing DataLoader 0:  50%|█████     | 5/10 [00:01<00:01,  2.82it/s]PCA pre treatment, depth components: 107\n",
      "PCA pre treatment, depth components: 107\n",
      "Testing DataLoader 0:  60%|██████    | 6/10 [00:01<00:01,  3.03it/s]PCA pre treatment, depth components: 107\n",
      "PCA pre treatment, depth components: 107\n",
      "Testing DataLoader 0:  70%|███████   | 7/10 [00:02<00:00,  3.27it/s]PCA pre treatment, depth components: 107\n",
      "PCA pre treatment, depth components: 107\n",
      "Testing DataLoader 0:  80%|████████  | 8/10 [00:02<00:00,  3.42it/s]PCA pre treatment, depth components: 107\n",
      "PCA pre treatment, depth components: 107\n",
      "Testing DataLoader 0:  90%|█████████ | 9/10 [00:02<00:00,  3.56it/s]PCA pre treatment, depth components: 107\n",
      "PCA pre treatment, depth components: 107\n",
      "Testing DataLoader 0: 100%|██████████| 10/10 [00:02<00:00,  3.70it/s]\n"
     ]
    },
    {
     "data": {
      "text/html": [
       "<pre style=\"white-space:pre;overflow-x:auto;line-height:normal;font-family:Menlo,'DejaVu Sans Mono',consolas,'Courier New',monospace\">┏━━━━━━━━━━━━━━━━━━━━━━━━━━━━━━┳━━━━━━━━━━━━━━━━━━━━━━━━━━━━━━┓\n",
       "┃<span style=\"font-weight: bold\">         Test metric          </span>┃<span style=\"font-weight: bold\">         DataLoader 0         </span>┃\n",
       "┡━━━━━━━━━━━━━━━━━━━━━━━━━━━━━━╇━━━━━━━━━━━━━━━━━━━━━━━━━━━━━━┩\n",
       "│<span style=\"color: #008080; text-decoration-color: #008080\">           ECS RMSE           </span>│<span style=\"color: #800080; text-decoration-color: #800080\">      2.3164584636688232      </span>│\n",
       "│<span style=\"color: #008080; text-decoration-color: #008080\">           SSP RMSE           </span>│<span style=\"color: #800080; text-decoration-color: #800080\">      26.390888214111328      </span>│\n",
       "│<span style=\"color: #008080; text-decoration-color: #008080\">           fft loss           </span>│<span style=\"color: #800080; text-decoration-color: #800080\">     0.19367998838424683      </span>│\n",
       "│<span style=\"color: #008080; text-decoration-color: #008080\">         fft test mse         </span>│<span style=\"color: #800080; text-decoration-color: #800080\">     0.19367998838424683      </span>│\n",
       "│<span style=\"color: #008080; text-decoration-color: #008080\">        gradient loss         </span>│<span style=\"color: #800080; text-decoration-color: #800080\">    8.405819244217128e-05     </span>│\n",
       "│<span style=\"color: #008080; text-decoration-color: #008080\">      gradient test mse       </span>│<span style=\"color: #800080; text-decoration-color: #800080\">    8.405819244217128e-05     </span>│\n",
       "│<span style=\"color: #008080; text-decoration-color: #008080\">     inflection pos loss      </span>│<span style=\"color: #800080; text-decoration-color: #800080\">      3.6954214572906494      </span>│\n",
       "│<span style=\"color: #008080; text-decoration-color: #008080\"> inflection position test mse </span>│<span style=\"color: #800080; text-decoration-color: #800080\">      3.6954214572906494      </span>│\n",
       "│<span style=\"color: #008080; text-decoration-color: #008080\">    inflection value loss     </span>│<span style=\"color: #800080; text-decoration-color: #800080\">    0.0019105286337435246     </span>│\n",
       "│<span style=\"color: #008080; text-decoration-color: #008080\">  inflection value test mse   </span>│<span style=\"color: #800080; text-decoration-color: #800080\">    0.0019105286337435246     </span>│\n",
       "│<span style=\"color: #008080; text-decoration-color: #008080\">      max position loss       </span>│<span style=\"color: #800080; text-decoration-color: #800080\">      3.0691721439361572      </span>│\n",
       "│<span style=\"color: #008080; text-decoration-color: #008080\">    max position test mse     </span>│<span style=\"color: #800080; text-decoration-color: #800080\">      3.0691721439361572      </span>│\n",
       "│<span style=\"color: #008080; text-decoration-color: #008080\">        max value loss        </span>│<span style=\"color: #800080; text-decoration-color: #800080\">     0.001953847473487258     </span>│\n",
       "│<span style=\"color: #008080; text-decoration-color: #008080\">     max value test loss      </span>│<span style=\"color: #800080; text-decoration-color: #800080\">     0.001953847473487258     </span>│\n",
       "│<span style=\"color: #008080; text-decoration-color: #008080\">       prediction loss        </span>│<span style=\"color: #800080; text-decoration-color: #800080\">     0.003571147797629237     </span>│\n",
       "│<span style=\"color: #008080; text-decoration-color: #008080\">     prediction test mse      </span>│<span style=\"color: #800080; text-decoration-color: #800080\">     0.003571147797629237     </span>│\n",
       "│<span style=\"color: #008080; text-decoration-color: #008080\">       test_loss_epoch        </span>│<span style=\"color: #800080; text-decoration-color: #800080\">     0.04052535817027092      </span>│\n",
       "│<span style=\"color: #008080; text-decoration-color: #008080\">      weighted mse loss       </span>│<span style=\"color: #800080; text-decoration-color: #800080\">    0.0014876140048727393     </span>│\n",
       "│<span style=\"color: #008080; text-decoration-color: #008080\">  weighted mse loss test mse  </span>│<span style=\"color: #800080; text-decoration-color: #800080\">    0.0014876140048727393     </span>│\n",
       "└──────────────────────────────┴──────────────────────────────┘\n",
       "</pre>\n"
      ],
      "text/plain": [
       "┏━━━━━━━━━━━━━━━━━━━━━━━━━━━━━━┳━━━━━━━━━━━━━━━━━━━━━━━━━━━━━━┓\n",
       "┃\u001b[1m \u001b[0m\u001b[1m        Test metric         \u001b[0m\u001b[1m \u001b[0m┃\u001b[1m \u001b[0m\u001b[1m        DataLoader 0        \u001b[0m\u001b[1m \u001b[0m┃\n",
       "┡━━━━━━━━━━━━━━━━━━━━━━━━━━━━━━╇━━━━━━━━━━━━━━━━━━━━━━━━━━━━━━┩\n",
       "│\u001b[36m \u001b[0m\u001b[36m          ECS RMSE          \u001b[0m\u001b[36m \u001b[0m│\u001b[35m \u001b[0m\u001b[35m     2.3164584636688232     \u001b[0m\u001b[35m \u001b[0m│\n",
       "│\u001b[36m \u001b[0m\u001b[36m          SSP RMSE          \u001b[0m\u001b[36m \u001b[0m│\u001b[35m \u001b[0m\u001b[35m     26.390888214111328     \u001b[0m\u001b[35m \u001b[0m│\n",
       "│\u001b[36m \u001b[0m\u001b[36m          fft loss          \u001b[0m\u001b[36m \u001b[0m│\u001b[35m \u001b[0m\u001b[35m    0.19367998838424683     \u001b[0m\u001b[35m \u001b[0m│\n",
       "│\u001b[36m \u001b[0m\u001b[36m        fft test mse        \u001b[0m\u001b[36m \u001b[0m│\u001b[35m \u001b[0m\u001b[35m    0.19367998838424683     \u001b[0m\u001b[35m \u001b[0m│\n",
       "│\u001b[36m \u001b[0m\u001b[36m       gradient loss        \u001b[0m\u001b[36m \u001b[0m│\u001b[35m \u001b[0m\u001b[35m   8.405819244217128e-05    \u001b[0m\u001b[35m \u001b[0m│\n",
       "│\u001b[36m \u001b[0m\u001b[36m     gradient test mse      \u001b[0m\u001b[36m \u001b[0m│\u001b[35m \u001b[0m\u001b[35m   8.405819244217128e-05    \u001b[0m\u001b[35m \u001b[0m│\n",
       "│\u001b[36m \u001b[0m\u001b[36m    inflection pos loss     \u001b[0m\u001b[36m \u001b[0m│\u001b[35m \u001b[0m\u001b[35m     3.6954214572906494     \u001b[0m\u001b[35m \u001b[0m│\n",
       "│\u001b[36m \u001b[0m\u001b[36minflection position test mse\u001b[0m\u001b[36m \u001b[0m│\u001b[35m \u001b[0m\u001b[35m     3.6954214572906494     \u001b[0m\u001b[35m \u001b[0m│\n",
       "│\u001b[36m \u001b[0m\u001b[36m   inflection value loss    \u001b[0m\u001b[36m \u001b[0m│\u001b[35m \u001b[0m\u001b[35m   0.0019105286337435246    \u001b[0m\u001b[35m \u001b[0m│\n",
       "│\u001b[36m \u001b[0m\u001b[36m inflection value test mse  \u001b[0m\u001b[36m \u001b[0m│\u001b[35m \u001b[0m\u001b[35m   0.0019105286337435246    \u001b[0m\u001b[35m \u001b[0m│\n",
       "│\u001b[36m \u001b[0m\u001b[36m     max position loss      \u001b[0m\u001b[36m \u001b[0m│\u001b[35m \u001b[0m\u001b[35m     3.0691721439361572     \u001b[0m\u001b[35m \u001b[0m│\n",
       "│\u001b[36m \u001b[0m\u001b[36m   max position test mse    \u001b[0m\u001b[36m \u001b[0m│\u001b[35m \u001b[0m\u001b[35m     3.0691721439361572     \u001b[0m\u001b[35m \u001b[0m│\n",
       "│\u001b[36m \u001b[0m\u001b[36m       max value loss       \u001b[0m\u001b[36m \u001b[0m│\u001b[35m \u001b[0m\u001b[35m    0.001953847473487258    \u001b[0m\u001b[35m \u001b[0m│\n",
       "│\u001b[36m \u001b[0m\u001b[36m    max value test loss     \u001b[0m\u001b[36m \u001b[0m│\u001b[35m \u001b[0m\u001b[35m    0.001953847473487258    \u001b[0m\u001b[35m \u001b[0m│\n",
       "│\u001b[36m \u001b[0m\u001b[36m      prediction loss       \u001b[0m\u001b[36m \u001b[0m│\u001b[35m \u001b[0m\u001b[35m    0.003571147797629237    \u001b[0m\u001b[35m \u001b[0m│\n",
       "│\u001b[36m \u001b[0m\u001b[36m    prediction test mse     \u001b[0m\u001b[36m \u001b[0m│\u001b[35m \u001b[0m\u001b[35m    0.003571147797629237    \u001b[0m\u001b[35m \u001b[0m│\n",
       "│\u001b[36m \u001b[0m\u001b[36m      test_loss_epoch       \u001b[0m\u001b[36m \u001b[0m│\u001b[35m \u001b[0m\u001b[35m    0.04052535817027092     \u001b[0m\u001b[35m \u001b[0m│\n",
       "│\u001b[36m \u001b[0m\u001b[36m     weighted mse loss      \u001b[0m\u001b[36m \u001b[0m│\u001b[35m \u001b[0m\u001b[35m   0.0014876140048727393    \u001b[0m\u001b[35m \u001b[0m│\n",
       "│\u001b[36m \u001b[0m\u001b[36m weighted mse loss test mse \u001b[0m\u001b[36m \u001b[0m│\u001b[35m \u001b[0m\u001b[35m   0.0014876140048727393    \u001b[0m\u001b[35m \u001b[0m│\n",
       "└──────────────────────────────┴──────────────────────────────┘\n"
      ]
     },
     "metadata": {},
     "output_type": "display_data"
    },
    {
     "name": "stderr",
     "output_type": "stream",
     "text": [
      " 20%|██        | 7/35 [18:32<40:38, 87.08s/it] "
     ]
    },
    {
     "name": "stdout",
     "output_type": "stream",
     "text": [
      "model: outputs/AE/AE_CNN_3D/dataset_output/8_channels_spatial_pooling_with_pca_pre_treatment/basic loss/pred_1_grad_0_max_pos_0.0_max_value_0.0_fft_0.0_weighted_0_inflection_pos_0.01_inflection_value_0.0/depth_pre_treatment_pca_n_components_50/channels_[1, 8, 8]/upsample_mode_trilinear/linear_later_False_lattent_size_50/1_conv_per_layer/padding_reflect/interp_size_25/pooling_Max_on_dim_spatial/final_upsample_upsample_pooling/act_fn_Elu_final_act_fn_Elu/lr_0.001/normalization_min_max/manage_nan_suppress/n_profiles_None/2024-11-13_09-06/checkpoints/val_loss=0.05-epoch=00.ckpt\n"
     ]
    },
    {
     "name": "stderr",
     "output_type": "stream",
     "text": [
      "Trainer will use only 1 of 3 GPUs because it is running inside an interactive / notebook environment. You may try to set `Trainer(devices=3)` but please note that multi-GPU inside interactive / notebook environments is considered experimental and unstable. Your mileage may vary.\n",
      "/DATASET/envs/o23gauvr/miniconda3/envs/fsc_env/lib/python3.11/site-packages/lightning_fabric/plugins/environments/slurm.py:191: The `srun` command is available on your system but is not used. HINT: If your intention is to run Lightning on SLURM, prepend your python command with `srun` like so: srun python /DATASET/envs/o23gauvr/miniconda3/envs/fsc_env/lib/p ...\n",
      "GPU available: True (cuda), used: True\n",
      "TPU available: False, using: 0 TPU cores\n",
      "IPU available: False, using: 0 IPUs\n",
      "HPU available: False, using: 0 HPUs\n",
      "LOCAL_RANK: 0 - CUDA_VISIBLE_DEVICES: [0,1,2]\n"
     ]
    },
    {
     "name": "stdout",
     "output_type": "stream",
     "text": [
      "Testing DataLoader 0:   0%|          | 0/10 [00:00<?, ?it/s]PCA pre treatment, depth components: 50\n",
      "PCA pre treatment, depth components: 50\n",
      "Testing DataLoader 0:  10%|█         | 1/10 [00:00<00:05,  1.65it/s]PCA pre treatment, depth components: 50\n",
      "PCA pre treatment, depth components: 50\n",
      "Testing DataLoader 0:  20%|██        | 2/10 [00:00<00:02,  2.70it/s]PCA pre treatment, depth components: 50\n",
      "PCA pre treatment, depth components: 50\n",
      "Testing DataLoader 0:  30%|███       | 3/10 [00:00<00:02,  3.33it/s]PCA pre treatment, depth components: 50\n",
      "PCA pre treatment, depth components: 50\n",
      "Testing DataLoader 0:  40%|████      | 4/10 [00:01<00:01,  3.84it/s]PCA pre treatment, depth components: 50\n",
      "PCA pre treatment, depth components: 50\n",
      "Testing DataLoader 0:  50%|█████     | 5/10 [00:01<00:01,  4.21it/s]PCA pre treatment, depth components: 50\n",
      "PCA pre treatment, depth components: 50\n",
      "Testing DataLoader 0:  60%|██████    | 6/10 [00:01<00:00,  4.48it/s]PCA pre treatment, depth components: 50\n",
      "PCA pre treatment, depth components: 50\n",
      "Testing DataLoader 0:  70%|███████   | 7/10 [00:01<00:00,  4.75it/s]PCA pre treatment, depth components: 50\n",
      "PCA pre treatment, depth components: 50\n",
      "Testing DataLoader 0:  80%|████████  | 8/10 [00:01<00:00,  4.84it/s]PCA pre treatment, depth components: 50\n",
      "PCA pre treatment, depth components: 50\n",
      "Testing DataLoader 0:  90%|█████████ | 9/10 [00:01<00:00,  5.00it/s]PCA pre treatment, depth components: 50\n",
      "PCA pre treatment, depth components: 50\n",
      "Testing DataLoader 0: 100%|██████████| 10/10 [00:01<00:00,  5.22it/s]\n"
     ]
    },
    {
     "data": {
      "text/html": [
       "<pre style=\"white-space:pre;overflow-x:auto;line-height:normal;font-family:Menlo,'DejaVu Sans Mono',consolas,'Courier New',monospace\">┏━━━━━━━━━━━━━━━━━━━━━━━━━━━━━━┳━━━━━━━━━━━━━━━━━━━━━━━━━━━━━━┓\n",
       "┃<span style=\"font-weight: bold\">         Test metric          </span>┃<span style=\"font-weight: bold\">         DataLoader 0         </span>┃\n",
       "┡━━━━━━━━━━━━━━━━━━━━━━━━━━━━━━╇━━━━━━━━━━━━━━━━━━━━━━━━━━━━━━┩\n",
       "│<span style=\"color: #008080; text-decoration-color: #008080\">           ECS RMSE           </span>│<span style=\"color: #800080; text-decoration-color: #800080\">      0.1467042714357376      </span>│\n",
       "│<span style=\"color: #008080; text-decoration-color: #008080\">           SSP RMSE           </span>│<span style=\"color: #800080; text-decoration-color: #800080\">      28.916404724121094      </span>│\n",
       "│<span style=\"color: #008080; text-decoration-color: #008080\">           fft loss           </span>│<span style=\"color: #800080; text-decoration-color: #800080\">      0.2321443259716034      </span>│\n",
       "│<span style=\"color: #008080; text-decoration-color: #008080\">         fft test mse         </span>│<span style=\"color: #800080; text-decoration-color: #800080\">      0.2321443259716034      </span>│\n",
       "│<span style=\"color: #008080; text-decoration-color: #008080\">        gradient loss         </span>│<span style=\"color: #800080; text-decoration-color: #800080\">    0.0001808351225918159     </span>│\n",
       "│<span style=\"color: #008080; text-decoration-color: #008080\">      gradient test mse       </span>│<span style=\"color: #800080; text-decoration-color: #800080\">    0.0001808351225918159     </span>│\n",
       "│<span style=\"color: #008080; text-decoration-color: #008080\">     inflection pos loss      </span>│<span style=\"color: #800080; text-decoration-color: #800080\">      4.870427131652832       </span>│\n",
       "│<span style=\"color: #008080; text-decoration-color: #008080\"> inflection position test mse </span>│<span style=\"color: #800080; text-decoration-color: #800080\">      4.870427131652832       </span>│\n",
       "│<span style=\"color: #008080; text-decoration-color: #008080\">    inflection value loss     </span>│<span style=\"color: #800080; text-decoration-color: #800080\">    0.0011503141140565276     </span>│\n",
       "│<span style=\"color: #008080; text-decoration-color: #008080\">  inflection value test mse   </span>│<span style=\"color: #800080; text-decoration-color: #800080\">    0.0011503141140565276     </span>│\n",
       "│<span style=\"color: #008080; text-decoration-color: #008080\">      max position loss       </span>│<span style=\"color: #800080; text-decoration-color: #800080\">     0.02346484363079071      </span>│\n",
       "│<span style=\"color: #008080; text-decoration-color: #008080\">    max position test mse     </span>│<span style=\"color: #800080; text-decoration-color: #800080\">     0.02346484363079071      </span>│\n",
       "│<span style=\"color: #008080; text-decoration-color: #008080\">        max value loss        </span>│<span style=\"color: #800080; text-decoration-color: #800080\">    0.0016973805613815784     </span>│\n",
       "│<span style=\"color: #008080; text-decoration-color: #008080\">     max value test loss      </span>│<span style=\"color: #800080; text-decoration-color: #800080\">    0.0016973805613815784     </span>│\n",
       "│<span style=\"color: #008080; text-decoration-color: #008080\">       prediction loss        </span>│<span style=\"color: #800080; text-decoration-color: #800080\">    0.0042920950800180435     </span>│\n",
       "│<span style=\"color: #008080; text-decoration-color: #008080\">     prediction test mse      </span>│<span style=\"color: #800080; text-decoration-color: #800080\">    0.0042920950800180435     </span>│\n",
       "│<span style=\"color: #008080; text-decoration-color: #008080\">       test_loss_epoch        </span>│<span style=\"color: #800080; text-decoration-color: #800080\">     0.05299635976552963      </span>│\n",
       "│<span style=\"color: #008080; text-decoration-color: #008080\">      weighted mse loss       </span>│<span style=\"color: #800080; text-decoration-color: #800080\">    0.0026878754142671824     </span>│\n",
       "│<span style=\"color: #008080; text-decoration-color: #008080\">  weighted mse loss test mse  </span>│<span style=\"color: #800080; text-decoration-color: #800080\">    0.0026878754142671824     </span>│\n",
       "└──────────────────────────────┴──────────────────────────────┘\n",
       "</pre>\n"
      ],
      "text/plain": [
       "┏━━━━━━━━━━━━━━━━━━━━━━━━━━━━━━┳━━━━━━━━━━━━━━━━━━━━━━━━━━━━━━┓\n",
       "┃\u001b[1m \u001b[0m\u001b[1m        Test metric         \u001b[0m\u001b[1m \u001b[0m┃\u001b[1m \u001b[0m\u001b[1m        DataLoader 0        \u001b[0m\u001b[1m \u001b[0m┃\n",
       "┡━━━━━━━━━━━━━━━━━━━━━━━━━━━━━━╇━━━━━━━━━━━━━━━━━━━━━━━━━━━━━━┩\n",
       "│\u001b[36m \u001b[0m\u001b[36m          ECS RMSE          \u001b[0m\u001b[36m \u001b[0m│\u001b[35m \u001b[0m\u001b[35m     0.1467042714357376     \u001b[0m\u001b[35m \u001b[0m│\n",
       "│\u001b[36m \u001b[0m\u001b[36m          SSP RMSE          \u001b[0m\u001b[36m \u001b[0m│\u001b[35m \u001b[0m\u001b[35m     28.916404724121094     \u001b[0m\u001b[35m \u001b[0m│\n",
       "│\u001b[36m \u001b[0m\u001b[36m          fft loss          \u001b[0m\u001b[36m \u001b[0m│\u001b[35m \u001b[0m\u001b[35m     0.2321443259716034     \u001b[0m\u001b[35m \u001b[0m│\n",
       "│\u001b[36m \u001b[0m\u001b[36m        fft test mse        \u001b[0m\u001b[36m \u001b[0m│\u001b[35m \u001b[0m\u001b[35m     0.2321443259716034     \u001b[0m\u001b[35m \u001b[0m│\n",
       "│\u001b[36m \u001b[0m\u001b[36m       gradient loss        \u001b[0m\u001b[36m \u001b[0m│\u001b[35m \u001b[0m\u001b[35m   0.0001808351225918159    \u001b[0m\u001b[35m \u001b[0m│\n",
       "│\u001b[36m \u001b[0m\u001b[36m     gradient test mse      \u001b[0m\u001b[36m \u001b[0m│\u001b[35m \u001b[0m\u001b[35m   0.0001808351225918159    \u001b[0m\u001b[35m \u001b[0m│\n",
       "│\u001b[36m \u001b[0m\u001b[36m    inflection pos loss     \u001b[0m\u001b[36m \u001b[0m│\u001b[35m \u001b[0m\u001b[35m     4.870427131652832      \u001b[0m\u001b[35m \u001b[0m│\n",
       "│\u001b[36m \u001b[0m\u001b[36minflection position test mse\u001b[0m\u001b[36m \u001b[0m│\u001b[35m \u001b[0m\u001b[35m     4.870427131652832      \u001b[0m\u001b[35m \u001b[0m│\n",
       "│\u001b[36m \u001b[0m\u001b[36m   inflection value loss    \u001b[0m\u001b[36m \u001b[0m│\u001b[35m \u001b[0m\u001b[35m   0.0011503141140565276    \u001b[0m\u001b[35m \u001b[0m│\n",
       "│\u001b[36m \u001b[0m\u001b[36m inflection value test mse  \u001b[0m\u001b[36m \u001b[0m│\u001b[35m \u001b[0m\u001b[35m   0.0011503141140565276    \u001b[0m\u001b[35m \u001b[0m│\n",
       "│\u001b[36m \u001b[0m\u001b[36m     max position loss      \u001b[0m\u001b[36m \u001b[0m│\u001b[35m \u001b[0m\u001b[35m    0.02346484363079071     \u001b[0m\u001b[35m \u001b[0m│\n",
       "│\u001b[36m \u001b[0m\u001b[36m   max position test mse    \u001b[0m\u001b[36m \u001b[0m│\u001b[35m \u001b[0m\u001b[35m    0.02346484363079071     \u001b[0m\u001b[35m \u001b[0m│\n",
       "│\u001b[36m \u001b[0m\u001b[36m       max value loss       \u001b[0m\u001b[36m \u001b[0m│\u001b[35m \u001b[0m\u001b[35m   0.0016973805613815784    \u001b[0m\u001b[35m \u001b[0m│\n",
       "│\u001b[36m \u001b[0m\u001b[36m    max value test loss     \u001b[0m\u001b[36m \u001b[0m│\u001b[35m \u001b[0m\u001b[35m   0.0016973805613815784    \u001b[0m\u001b[35m \u001b[0m│\n",
       "│\u001b[36m \u001b[0m\u001b[36m      prediction loss       \u001b[0m\u001b[36m \u001b[0m│\u001b[35m \u001b[0m\u001b[35m   0.0042920950800180435    \u001b[0m\u001b[35m \u001b[0m│\n",
       "│\u001b[36m \u001b[0m\u001b[36m    prediction test mse     \u001b[0m\u001b[36m \u001b[0m│\u001b[35m \u001b[0m\u001b[35m   0.0042920950800180435    \u001b[0m\u001b[35m \u001b[0m│\n",
       "│\u001b[36m \u001b[0m\u001b[36m      test_loss_epoch       \u001b[0m\u001b[36m \u001b[0m│\u001b[35m \u001b[0m\u001b[35m    0.05299635976552963     \u001b[0m\u001b[35m \u001b[0m│\n",
       "│\u001b[36m \u001b[0m\u001b[36m     weighted mse loss      \u001b[0m\u001b[36m \u001b[0m│\u001b[35m \u001b[0m\u001b[35m   0.0026878754142671824    \u001b[0m\u001b[35m \u001b[0m│\n",
       "│\u001b[36m \u001b[0m\u001b[36m weighted mse loss test mse \u001b[0m\u001b[36m \u001b[0m│\u001b[35m \u001b[0m\u001b[35m   0.0026878754142671824    \u001b[0m\u001b[35m \u001b[0m│\n",
       "└──────────────────────────────┴──────────────────────────────┘\n"
      ]
     },
     "metadata": {},
     "output_type": "display_data"
    },
    {
     "name": "stderr",
     "output_type": "stream",
     "text": [
      " 23%|██▎       | 8/35 [18:59<30:34, 67.95s/it]"
     ]
    },
    {
     "name": "stdout",
     "output_type": "stream",
     "text": [
      "model: outputs/AE/AE_CNN_3D/dataset_output/8_channels_spatial_pooling_with_pca_pre_treatment/basic loss/pred_1_grad_0_max_pos_0.0_max_value_0.0_fft_0.0_weighted_0_inflection_pos_0.01_inflection_value_0.0/depth_pre_treatment_pca_n_components_10/channels_[1, 8, 8]/upsample_mode_trilinear/linear_later_False_lattent_size_50/1_conv_per_layer/padding_reflect/interp_size_25/pooling_Max_on_dim_spatial/final_upsample_upsample_pooling/act_fn_Elu_final_act_fn_Elu/lr_0.001/normalization_min_max/manage_nan_suppress/n_profiles_None/2024-11-13_07-44/checkpoints/val_loss=0.00-epoch=49.ckpt\n"
     ]
    },
    {
     "name": "stderr",
     "output_type": "stream",
     "text": [
      "Trainer will use only 1 of 3 GPUs because it is running inside an interactive / notebook environment. You may try to set `Trainer(devices=3)` but please note that multi-GPU inside interactive / notebook environments is considered experimental and unstable. Your mileage may vary.\n",
      "/DATASET/envs/o23gauvr/miniconda3/envs/fsc_env/lib/python3.11/site-packages/lightning_fabric/plugins/environments/slurm.py:191: The `srun` command is available on your system but is not used. HINT: If your intention is to run Lightning on SLURM, prepend your python command with `srun` like so: srun python /DATASET/envs/o23gauvr/miniconda3/envs/fsc_env/lib/p ...\n",
      "GPU available: True (cuda), used: True\n",
      "TPU available: False, using: 0 TPU cores\n",
      "IPU available: False, using: 0 IPUs\n",
      "HPU available: False, using: 0 HPUs\n",
      "LOCAL_RANK: 0 - CUDA_VISIBLE_DEVICES: [0,1,2]\n"
     ]
    },
    {
     "name": "stdout",
     "output_type": "stream",
     "text": [
      "Testing DataLoader 0:   0%|          | 0/10 [00:00<?, ?it/s]PCA pre treatment, depth components: 10\n",
      "PCA pre treatment, depth components: 10\n",
      "Testing DataLoader 0:  10%|█         | 1/10 [00:00<00:00,  9.99it/s]PCA pre treatment, depth components: 10\n",
      "PCA pre treatment, depth components: 10\n",
      "Testing DataLoader 0:  20%|██        | 2/10 [00:00<00:00,  9.88it/s]PCA pre treatment, depth components: 10\n",
      "PCA pre treatment, depth components: 10\n",
      "Testing DataLoader 0:  30%|███       | 3/10 [00:00<00:00,  8.67it/s]PCA pre treatment, depth components: 10\n",
      "PCA pre treatment, depth components: 10\n",
      "Testing DataLoader 0:  40%|████      | 4/10 [00:00<00:00,  8.87it/s]PCA pre treatment, depth components: 10\n",
      "PCA pre treatment, depth components: 10\n",
      "Testing DataLoader 0:  50%|█████     | 5/10 [00:00<00:00,  8.58it/s]PCA pre treatment, depth components: 10\n",
      "PCA pre treatment, depth components: 10\n",
      "Testing DataLoader 0:  60%|██████    | 6/10 [00:00<00:00,  8.63it/s]PCA pre treatment, depth components: 10\n",
      "PCA pre treatment, depth components: 10\n",
      "Testing DataLoader 0:  70%|███████   | 7/10 [00:00<00:00,  8.30it/s]PCA pre treatment, depth components: 10\n",
      "PCA pre treatment, depth components: 10\n",
      "Testing DataLoader 0:  80%|████████  | 8/10 [00:00<00:00,  8.46it/s]PCA pre treatment, depth components: 10\n",
      "PCA pre treatment, depth components: 10\n",
      "Testing DataLoader 0:  90%|█████████ | 9/10 [00:01<00:00,  8.36it/s]PCA pre treatment, depth components: 10\n",
      "PCA pre treatment, depth components: 10\n",
      "Testing DataLoader 0: 100%|██████████| 10/10 [00:01<00:00,  8.54it/s]\n"
     ]
    },
    {
     "data": {
      "text/html": [
       "<pre style=\"white-space:pre;overflow-x:auto;line-height:normal;font-family:Menlo,'DejaVu Sans Mono',consolas,'Courier New',monospace\">┏━━━━━━━━━━━━━━━━━━━━━━━━━━━━━━┳━━━━━━━━━━━━━━━━━━━━━━━━━━━━━━┓\n",
       "┃<span style=\"font-weight: bold\">         Test metric          </span>┃<span style=\"font-weight: bold\">         DataLoader 0         </span>┃\n",
       "┡━━━━━━━━━━━━━━━━━━━━━━━━━━━━━━╇━━━━━━━━━━━━━━━━━━━━━━━━━━━━━━┩\n",
       "│<span style=\"color: #008080; text-decoration-color: #008080\">           ECS RMSE           </span>│<span style=\"color: #800080; text-decoration-color: #800080\">             0.0              </span>│\n",
       "│<span style=\"color: #008080; text-decoration-color: #008080\">           SSP RMSE           </span>│<span style=\"color: #800080; text-decoration-color: #800080\">      7.860422611236572       </span>│\n",
       "│<span style=\"color: #008080; text-decoration-color: #008080\">           fft loss           </span>│<span style=\"color: #800080; text-decoration-color: #800080\">     0.028482234105467796     </span>│\n",
       "│<span style=\"color: #008080; text-decoration-color: #008080\">         fft test mse         </span>│<span style=\"color: #800080; text-decoration-color: #800080\">     0.028482234105467796     </span>│\n",
       "│<span style=\"color: #008080; text-decoration-color: #008080\">        gradient loss         </span>│<span style=\"color: #800080; text-decoration-color: #800080\">    6.653051087823769e-08     </span>│\n",
       "│<span style=\"color: #008080; text-decoration-color: #008080\">      gradient test mse       </span>│<span style=\"color: #800080; text-decoration-color: #800080\">    6.653051087823769e-08     </span>│\n",
       "│<span style=\"color: #008080; text-decoration-color: #008080\">     inflection pos loss      </span>│<span style=\"color: #800080; text-decoration-color: #800080\">             0.0              </span>│\n",
       "│<span style=\"color: #008080; text-decoration-color: #008080\"> inflection position test mse </span>│<span style=\"color: #800080; text-decoration-color: #800080\">             0.0              </span>│\n",
       "│<span style=\"color: #008080; text-decoration-color: #008080\">    inflection value loss     </span>│<span style=\"color: #800080; text-decoration-color: #800080\">     4.06257913709851e-06     </span>│\n",
       "│<span style=\"color: #008080; text-decoration-color: #008080\">  inflection value test mse   </span>│<span style=\"color: #800080; text-decoration-color: #800080\">     4.06257913709851e-06     </span>│\n",
       "│<span style=\"color: #008080; text-decoration-color: #008080\">      max position loss       </span>│<span style=\"color: #800080; text-decoration-color: #800080\">             0.0              </span>│\n",
       "│<span style=\"color: #008080; text-decoration-color: #008080\">    max position test mse     </span>│<span style=\"color: #800080; text-decoration-color: #800080\">             0.0              </span>│\n",
       "│<span style=\"color: #008080; text-decoration-color: #008080\">        max value loss        </span>│<span style=\"color: #800080; text-decoration-color: #800080\">    0.0002183827164117247     </span>│\n",
       "│<span style=\"color: #008080; text-decoration-color: #008080\">     max value test loss      </span>│<span style=\"color: #800080; text-decoration-color: #800080\">    0.0002183827164117247     </span>│\n",
       "│<span style=\"color: #008080; text-decoration-color: #008080\">       prediction loss        </span>│<span style=\"color: #800080; text-decoration-color: #800080\">    0.00031609972938895226    </span>│\n",
       "│<span style=\"color: #008080; text-decoration-color: #008080\">     prediction test mse      </span>│<span style=\"color: #800080; text-decoration-color: #800080\">    0.00031609972938895226    </span>│\n",
       "│<span style=\"color: #008080; text-decoration-color: #008080\">       test_loss_epoch        </span>│<span style=\"color: #800080; text-decoration-color: #800080\">    0.00031609972938895226    </span>│\n",
       "│<span style=\"color: #008080; text-decoration-color: #008080\">      weighted mse loss       </span>│<span style=\"color: #800080; text-decoration-color: #800080\">    9.283200779464096e-05     </span>│\n",
       "│<span style=\"color: #008080; text-decoration-color: #008080\">  weighted mse loss test mse  </span>│<span style=\"color: #800080; text-decoration-color: #800080\">    9.283200779464096e-05     </span>│\n",
       "└──────────────────────────────┴──────────────────────────────┘\n",
       "</pre>\n"
      ],
      "text/plain": [
       "┏━━━━━━━━━━━━━━━━━━━━━━━━━━━━━━┳━━━━━━━━━━━━━━━━━━━━━━━━━━━━━━┓\n",
       "┃\u001b[1m \u001b[0m\u001b[1m        Test metric         \u001b[0m\u001b[1m \u001b[0m┃\u001b[1m \u001b[0m\u001b[1m        DataLoader 0        \u001b[0m\u001b[1m \u001b[0m┃\n",
       "┡━━━━━━━━━━━━━━━━━━━━━━━━━━━━━━╇━━━━━━━━━━━━━━━━━━━━━━━━━━━━━━┩\n",
       "│\u001b[36m \u001b[0m\u001b[36m          ECS RMSE          \u001b[0m\u001b[36m \u001b[0m│\u001b[35m \u001b[0m\u001b[35m            0.0             \u001b[0m\u001b[35m \u001b[0m│\n",
       "│\u001b[36m \u001b[0m\u001b[36m          SSP RMSE          \u001b[0m\u001b[36m \u001b[0m│\u001b[35m \u001b[0m\u001b[35m     7.860422611236572      \u001b[0m\u001b[35m \u001b[0m│\n",
       "│\u001b[36m \u001b[0m\u001b[36m          fft loss          \u001b[0m\u001b[36m \u001b[0m│\u001b[35m \u001b[0m\u001b[35m    0.028482234105467796    \u001b[0m\u001b[35m \u001b[0m│\n",
       "│\u001b[36m \u001b[0m\u001b[36m        fft test mse        \u001b[0m\u001b[36m \u001b[0m│\u001b[35m \u001b[0m\u001b[35m    0.028482234105467796    \u001b[0m\u001b[35m \u001b[0m│\n",
       "│\u001b[36m \u001b[0m\u001b[36m       gradient loss        \u001b[0m\u001b[36m \u001b[0m│\u001b[35m \u001b[0m\u001b[35m   6.653051087823769e-08    \u001b[0m\u001b[35m \u001b[0m│\n",
       "│\u001b[36m \u001b[0m\u001b[36m     gradient test mse      \u001b[0m\u001b[36m \u001b[0m│\u001b[35m \u001b[0m\u001b[35m   6.653051087823769e-08    \u001b[0m\u001b[35m \u001b[0m│\n",
       "│\u001b[36m \u001b[0m\u001b[36m    inflection pos loss     \u001b[0m\u001b[36m \u001b[0m│\u001b[35m \u001b[0m\u001b[35m            0.0             \u001b[0m\u001b[35m \u001b[0m│\n",
       "│\u001b[36m \u001b[0m\u001b[36minflection position test mse\u001b[0m\u001b[36m \u001b[0m│\u001b[35m \u001b[0m\u001b[35m            0.0             \u001b[0m\u001b[35m \u001b[0m│\n",
       "│\u001b[36m \u001b[0m\u001b[36m   inflection value loss    \u001b[0m\u001b[36m \u001b[0m│\u001b[35m \u001b[0m\u001b[35m    4.06257913709851e-06    \u001b[0m\u001b[35m \u001b[0m│\n",
       "│\u001b[36m \u001b[0m\u001b[36m inflection value test mse  \u001b[0m\u001b[36m \u001b[0m│\u001b[35m \u001b[0m\u001b[35m    4.06257913709851e-06    \u001b[0m\u001b[35m \u001b[0m│\n",
       "│\u001b[36m \u001b[0m\u001b[36m     max position loss      \u001b[0m\u001b[36m \u001b[0m│\u001b[35m \u001b[0m\u001b[35m            0.0             \u001b[0m\u001b[35m \u001b[0m│\n",
       "│\u001b[36m \u001b[0m\u001b[36m   max position test mse    \u001b[0m\u001b[36m \u001b[0m│\u001b[35m \u001b[0m\u001b[35m            0.0             \u001b[0m\u001b[35m \u001b[0m│\n",
       "│\u001b[36m \u001b[0m\u001b[36m       max value loss       \u001b[0m\u001b[36m \u001b[0m│\u001b[35m \u001b[0m\u001b[35m   0.0002183827164117247    \u001b[0m\u001b[35m \u001b[0m│\n",
       "│\u001b[36m \u001b[0m\u001b[36m    max value test loss     \u001b[0m\u001b[36m \u001b[0m│\u001b[35m \u001b[0m\u001b[35m   0.0002183827164117247    \u001b[0m\u001b[35m \u001b[0m│\n",
       "│\u001b[36m \u001b[0m\u001b[36m      prediction loss       \u001b[0m\u001b[36m \u001b[0m│\u001b[35m \u001b[0m\u001b[35m   0.00031609972938895226   \u001b[0m\u001b[35m \u001b[0m│\n",
       "│\u001b[36m \u001b[0m\u001b[36m    prediction test mse     \u001b[0m\u001b[36m \u001b[0m│\u001b[35m \u001b[0m\u001b[35m   0.00031609972938895226   \u001b[0m\u001b[35m \u001b[0m│\n",
       "│\u001b[36m \u001b[0m\u001b[36m      test_loss_epoch       \u001b[0m\u001b[36m \u001b[0m│\u001b[35m \u001b[0m\u001b[35m   0.00031609972938895226   \u001b[0m\u001b[35m \u001b[0m│\n",
       "│\u001b[36m \u001b[0m\u001b[36m     weighted mse loss      \u001b[0m\u001b[36m \u001b[0m│\u001b[35m \u001b[0m\u001b[35m   9.283200779464096e-05    \u001b[0m\u001b[35m \u001b[0m│\n",
       "│\u001b[36m \u001b[0m\u001b[36m weighted mse loss test mse \u001b[0m\u001b[36m \u001b[0m│\u001b[35m \u001b[0m\u001b[35m   9.283200779464096e-05    \u001b[0m\u001b[35m \u001b[0m│\n",
       "└──────────────────────────────┴──────────────────────────────┘\n"
      ]
     },
     "metadata": {},
     "output_type": "display_data"
    },
    {
     "name": "stderr",
     "output_type": "stream",
     "text": [
      " 26%|██▌       | 9/35 [19:22<23:17, 53.77s/it]"
     ]
    },
    {
     "name": "stdout",
     "output_type": "stream",
     "text": [
      "model: outputs/AE/AE_CNN_3D/dataset_output/8_channels_spatial_pooling_with_pca_pre_treatment/basic loss/pred_1_grad_0_max_pos_0.0_max_value_0.0_fft_0.0_weighted_0_inflection_pos_0.0_inflection_value_0.0/depth_pre_treatment_pca_n_components_107/channels_[1, 8, 8]/upsample_mode_trilinear/linear_later_False_lattent_size_50/1_conv_per_layer/padding_reflect/interp_size_25/pooling_Max_on_dim_spatial/final_upsample_upsample_pooling/act_fn_Elu_final_act_fn_Elu/lr_0.001/normalization_min_max/manage_nan_suppress/n_profiles_None/2024-11-13_02-04/checkpoints/val_loss=0.00-epoch=49.ckpt\n"
     ]
    },
    {
     "name": "stderr",
     "output_type": "stream",
     "text": [
      "Trainer will use only 1 of 3 GPUs because it is running inside an interactive / notebook environment. You may try to set `Trainer(devices=3)` but please note that multi-GPU inside interactive / notebook environments is considered experimental and unstable. Your mileage may vary.\n",
      "/DATASET/envs/o23gauvr/miniconda3/envs/fsc_env/lib/python3.11/site-packages/lightning_fabric/plugins/environments/slurm.py:191: The `srun` command is available on your system but is not used. HINT: If your intention is to run Lightning on SLURM, prepend your python command with `srun` like so: srun python /DATASET/envs/o23gauvr/miniconda3/envs/fsc_env/lib/p ...\n",
      "GPU available: True (cuda), used: True\n",
      "TPU available: False, using: 0 TPU cores\n",
      "IPU available: False, using: 0 IPUs\n",
      "HPU available: False, using: 0 HPUs\n",
      "LOCAL_RANK: 0 - CUDA_VISIBLE_DEVICES: [0,1,2]\n"
     ]
    },
    {
     "name": "stdout",
     "output_type": "stream",
     "text": [
      "Testing DataLoader 0:   0%|          | 0/10 [00:00<?, ?it/s]PCA pre treatment, depth components: 107\n",
      "PCA pre treatment, depth components: 107\n",
      "Testing DataLoader 0:  10%|█         | 1/10 [00:00<00:02,  4.21it/s]PCA pre treatment, depth components: 107\n",
      "PCA pre treatment, depth components: 107\n",
      "Testing DataLoader 0:  20%|██        | 2/10 [00:00<00:01,  4.48it/s]PCA pre treatment, depth components: 107\n",
      "PCA pre treatment, depth components: 107\n",
      "Testing DataLoader 0:  30%|███       | 3/10 [00:00<00:01,  5.00it/s]PCA pre treatment, depth components: 107\n",
      "PCA pre treatment, depth components: 107\n",
      "Testing DataLoader 0:  40%|████      | 4/10 [00:00<00:01,  4.95it/s]PCA pre treatment, depth components: 107\n",
      "PCA pre treatment, depth components: 107\n",
      "Testing DataLoader 0:  50%|█████     | 5/10 [00:00<00:00,  5.20it/s]PCA pre treatment, depth components: 107\n",
      "PCA pre treatment, depth components: 107\n",
      "Testing DataLoader 0:  60%|██████    | 6/10 [00:01<00:00,  5.12it/s]PCA pre treatment, depth components: 107\n",
      "PCA pre treatment, depth components: 107\n",
      "Testing DataLoader 0:  70%|███████   | 7/10 [00:01<00:00,  5.29it/s]PCA pre treatment, depth components: 107\n",
      "PCA pre treatment, depth components: 107\n",
      "Testing DataLoader 0:  80%|████████  | 8/10 [00:01<00:00,  5.21it/s]PCA pre treatment, depth components: 107\n",
      "PCA pre treatment, depth components: 107\n",
      "Testing DataLoader 0:  90%|█████████ | 9/10 [00:01<00:00,  5.31it/s]PCA pre treatment, depth components: 107\n",
      "PCA pre treatment, depth components: 107\n",
      "Testing DataLoader 0: 100%|██████████| 10/10 [00:01<00:00,  5.47it/s]\n"
     ]
    },
    {
     "data": {
      "text/html": [
       "<pre style=\"white-space:pre;overflow-x:auto;line-height:normal;font-family:Menlo,'DejaVu Sans Mono',consolas,'Courier New',monospace\">┏━━━━━━━━━━━━━━━━━━━━━━━━━━━━━━┳━━━━━━━━━━━━━━━━━━━━━━━━━━━━━━┓\n",
       "┃<span style=\"font-weight: bold\">         Test metric          </span>┃<span style=\"font-weight: bold\">         DataLoader 0         </span>┃\n",
       "┡━━━━━━━━━━━━━━━━━━━━━━━━━━━━━━╇━━━━━━━━━━━━━━━━━━━━━━━━━━━━━━┩\n",
       "│<span style=\"color: #008080; text-decoration-color: #008080\">           ECS RMSE           </span>│<span style=\"color: #800080; text-decoration-color: #800080\">      1.3350275754928589      </span>│\n",
       "│<span style=\"color: #008080; text-decoration-color: #008080\">           SSP RMSE           </span>│<span style=\"color: #800080; text-decoration-color: #800080\">       9.23975658416748       </span>│\n",
       "│<span style=\"color: #008080; text-decoration-color: #008080\">           fft loss           </span>│<span style=\"color: #800080; text-decoration-color: #800080\">     0.04054990038275719      </span>│\n",
       "│<span style=\"color: #008080; text-decoration-color: #008080\">         fft test mse         </span>│<span style=\"color: #800080; text-decoration-color: #800080\">     0.04054990038275719      </span>│\n",
       "│<span style=\"color: #008080; text-decoration-color: #008080\">        gradient loss         </span>│<span style=\"color: #800080; text-decoration-color: #800080\">    4.047103914217587e-07     </span>│\n",
       "│<span style=\"color: #008080; text-decoration-color: #008080\">      gradient test mse       </span>│<span style=\"color: #800080; text-decoration-color: #800080\">    4.047103914217587e-07     </span>│\n",
       "│<span style=\"color: #008080; text-decoration-color: #008080\">     inflection pos loss      </span>│<span style=\"color: #800080; text-decoration-color: #800080\">     0.003315228968858719     </span>│\n",
       "│<span style=\"color: #008080; text-decoration-color: #008080\"> inflection position test mse </span>│<span style=\"color: #800080; text-decoration-color: #800080\">     0.003315228968858719     </span>│\n",
       "│<span style=\"color: #008080; text-decoration-color: #008080\">    inflection value loss     </span>│<span style=\"color: #800080; text-decoration-color: #800080\">    0.00014543005090672523    </span>│\n",
       "│<span style=\"color: #008080; text-decoration-color: #008080\">  inflection value test mse   </span>│<span style=\"color: #800080; text-decoration-color: #800080\">    0.00014543005090672523    </span>│\n",
       "│<span style=\"color: #008080; text-decoration-color: #008080\">      max position loss       </span>│<span style=\"color: #800080; text-decoration-color: #800080\">      1.0433518886566162      </span>│\n",
       "│<span style=\"color: #008080; text-decoration-color: #008080\">    max position test mse     </span>│<span style=\"color: #800080; text-decoration-color: #800080\">      1.0433518886566162      </span>│\n",
       "│<span style=\"color: #008080; text-decoration-color: #008080\">        max value loss        </span>│<span style=\"color: #800080; text-decoration-color: #800080\">    0.00040073346463032067    </span>│\n",
       "│<span style=\"color: #008080; text-decoration-color: #008080\">     max value test loss      </span>│<span style=\"color: #800080; text-decoration-color: #800080\">    0.00040073346463032067    </span>│\n",
       "│<span style=\"color: #008080; text-decoration-color: #008080\">       prediction loss        </span>│<span style=\"color: #800080; text-decoration-color: #800080\">    0.0004363108309917152     </span>│\n",
       "│<span style=\"color: #008080; text-decoration-color: #008080\">     prediction test mse      </span>│<span style=\"color: #800080; text-decoration-color: #800080\">    0.0004363108309917152     </span>│\n",
       "│<span style=\"color: #008080; text-decoration-color: #008080\">       test_loss_epoch        </span>│<span style=\"color: #800080; text-decoration-color: #800080\">    0.0004363108309917152     </span>│\n",
       "│<span style=\"color: #008080; text-decoration-color: #008080\">      weighted mse loss       </span>│<span style=\"color: #800080; text-decoration-color: #800080\">    0.00014579274284187704    </span>│\n",
       "│<span style=\"color: #008080; text-decoration-color: #008080\">  weighted mse loss test mse  </span>│<span style=\"color: #800080; text-decoration-color: #800080\">    0.00014579274284187704    </span>│\n",
       "└──────────────────────────────┴──────────────────────────────┘\n",
       "</pre>\n"
      ],
      "text/plain": [
       "┏━━━━━━━━━━━━━━━━━━━━━━━━━━━━━━┳━━━━━━━━━━━━━━━━━━━━━━━━━━━━━━┓\n",
       "┃\u001b[1m \u001b[0m\u001b[1m        Test metric         \u001b[0m\u001b[1m \u001b[0m┃\u001b[1m \u001b[0m\u001b[1m        DataLoader 0        \u001b[0m\u001b[1m \u001b[0m┃\n",
       "┡━━━━━━━━━━━━━━━━━━━━━━━━━━━━━━╇━━━━━━━━━━━━━━━━━━━━━━━━━━━━━━┩\n",
       "│\u001b[36m \u001b[0m\u001b[36m          ECS RMSE          \u001b[0m\u001b[36m \u001b[0m│\u001b[35m \u001b[0m\u001b[35m     1.3350275754928589     \u001b[0m\u001b[35m \u001b[0m│\n",
       "│\u001b[36m \u001b[0m\u001b[36m          SSP RMSE          \u001b[0m\u001b[36m \u001b[0m│\u001b[35m \u001b[0m\u001b[35m      9.23975658416748      \u001b[0m\u001b[35m \u001b[0m│\n",
       "│\u001b[36m \u001b[0m\u001b[36m          fft loss          \u001b[0m\u001b[36m \u001b[0m│\u001b[35m \u001b[0m\u001b[35m    0.04054990038275719     \u001b[0m\u001b[35m \u001b[0m│\n",
       "│\u001b[36m \u001b[0m\u001b[36m        fft test mse        \u001b[0m\u001b[36m \u001b[0m│\u001b[35m \u001b[0m\u001b[35m    0.04054990038275719     \u001b[0m\u001b[35m \u001b[0m│\n",
       "│\u001b[36m \u001b[0m\u001b[36m       gradient loss        \u001b[0m\u001b[36m \u001b[0m│\u001b[35m \u001b[0m\u001b[35m   4.047103914217587e-07    \u001b[0m\u001b[35m \u001b[0m│\n",
       "│\u001b[36m \u001b[0m\u001b[36m     gradient test mse      \u001b[0m\u001b[36m \u001b[0m│\u001b[35m \u001b[0m\u001b[35m   4.047103914217587e-07    \u001b[0m\u001b[35m \u001b[0m│\n",
       "│\u001b[36m \u001b[0m\u001b[36m    inflection pos loss     \u001b[0m\u001b[36m \u001b[0m│\u001b[35m \u001b[0m\u001b[35m    0.003315228968858719    \u001b[0m\u001b[35m \u001b[0m│\n",
       "│\u001b[36m \u001b[0m\u001b[36minflection position test mse\u001b[0m\u001b[36m \u001b[0m│\u001b[35m \u001b[0m\u001b[35m    0.003315228968858719    \u001b[0m\u001b[35m \u001b[0m│\n",
       "│\u001b[36m \u001b[0m\u001b[36m   inflection value loss    \u001b[0m\u001b[36m \u001b[0m│\u001b[35m \u001b[0m\u001b[35m   0.00014543005090672523   \u001b[0m\u001b[35m \u001b[0m│\n",
       "│\u001b[36m \u001b[0m\u001b[36m inflection value test mse  \u001b[0m\u001b[36m \u001b[0m│\u001b[35m \u001b[0m\u001b[35m   0.00014543005090672523   \u001b[0m\u001b[35m \u001b[0m│\n",
       "│\u001b[36m \u001b[0m\u001b[36m     max position loss      \u001b[0m\u001b[36m \u001b[0m│\u001b[35m \u001b[0m\u001b[35m     1.0433518886566162     \u001b[0m\u001b[35m \u001b[0m│\n",
       "│\u001b[36m \u001b[0m\u001b[36m   max position test mse    \u001b[0m\u001b[36m \u001b[0m│\u001b[35m \u001b[0m\u001b[35m     1.0433518886566162     \u001b[0m\u001b[35m \u001b[0m│\n",
       "│\u001b[36m \u001b[0m\u001b[36m       max value loss       \u001b[0m\u001b[36m \u001b[0m│\u001b[35m \u001b[0m\u001b[35m   0.00040073346463032067   \u001b[0m\u001b[35m \u001b[0m│\n",
       "│\u001b[36m \u001b[0m\u001b[36m    max value test loss     \u001b[0m\u001b[36m \u001b[0m│\u001b[35m \u001b[0m\u001b[35m   0.00040073346463032067   \u001b[0m\u001b[35m \u001b[0m│\n",
       "│\u001b[36m \u001b[0m\u001b[36m      prediction loss       \u001b[0m\u001b[36m \u001b[0m│\u001b[35m \u001b[0m\u001b[35m   0.0004363108309917152    \u001b[0m\u001b[35m \u001b[0m│\n",
       "│\u001b[36m \u001b[0m\u001b[36m    prediction test mse     \u001b[0m\u001b[36m \u001b[0m│\u001b[35m \u001b[0m\u001b[35m   0.0004363108309917152    \u001b[0m\u001b[35m \u001b[0m│\n",
       "│\u001b[36m \u001b[0m\u001b[36m      test_loss_epoch       \u001b[0m\u001b[36m \u001b[0m│\u001b[35m \u001b[0m\u001b[35m   0.0004363108309917152    \u001b[0m\u001b[35m \u001b[0m│\n",
       "│\u001b[36m \u001b[0m\u001b[36m     weighted mse loss      \u001b[0m\u001b[36m \u001b[0m│\u001b[35m \u001b[0m\u001b[35m   0.00014579274284187704   \u001b[0m\u001b[35m \u001b[0m│\n",
       "│\u001b[36m \u001b[0m\u001b[36m weighted mse loss test mse \u001b[0m\u001b[36m \u001b[0m│\u001b[35m \u001b[0m\u001b[35m   0.00014579274284187704   \u001b[0m\u001b[35m \u001b[0m│\n",
       "└──────────────────────────────┴──────────────────────────────┘\n"
      ]
     },
     "metadata": {},
     "output_type": "display_data"
    },
    {
     "name": "stderr",
     "output_type": "stream",
     "text": [
      " 29%|██▊       | 10/35 [19:48<18:55, 45.40s/it]"
     ]
    },
    {
     "name": "stdout",
     "output_type": "stream",
     "text": [
      "model: outputs/AE/AE_CNN_3D/dataset_output/8_channels_spatial_pooling_with_pca_pre_treatment/basic loss/pred_1_grad_0_max_pos_0.0_max_value_0.0_fft_0.0_weighted_0_inflection_pos_0.0_inflection_value_0.0/depth_pre_treatment_pca_n_components_50/channels_[1, 8, 8]/upsample_mode_trilinear/linear_later_False_lattent_size_50/1_conv_per_layer/padding_reflect/interp_size_25/pooling_Max_on_dim_spatial/final_upsample_upsample_pooling/act_fn_Elu_final_act_fn_Elu/lr_0.001/normalization_min_max/manage_nan_suppress/n_profiles_None/2024-11-13_04-54/checkpoints/val_loss=0.00-epoch=49.ckpt\n"
     ]
    },
    {
     "name": "stderr",
     "output_type": "stream",
     "text": [
      "Trainer will use only 1 of 3 GPUs because it is running inside an interactive / notebook environment. You may try to set `Trainer(devices=3)` but please note that multi-GPU inside interactive / notebook environments is considered experimental and unstable. Your mileage may vary.\n",
      "/DATASET/envs/o23gauvr/miniconda3/envs/fsc_env/lib/python3.11/site-packages/lightning_fabric/plugins/environments/slurm.py:191: The `srun` command is available on your system but is not used. HINT: If your intention is to run Lightning on SLURM, prepend your python command with `srun` like so: srun python /DATASET/envs/o23gauvr/miniconda3/envs/fsc_env/lib/p ...\n",
      "GPU available: True (cuda), used: True\n",
      "TPU available: False, using: 0 TPU cores\n",
      "IPU available: False, using: 0 IPUs\n",
      "HPU available: False, using: 0 HPUs\n",
      "LOCAL_RANK: 0 - CUDA_VISIBLE_DEVICES: [0,1,2]\n"
     ]
    },
    {
     "name": "stdout",
     "output_type": "stream",
     "text": [
      "Testing DataLoader 0:   0%|          | 0/10 [00:00<?, ?it/s]PCA pre treatment, depth components: 50\n",
      "PCA pre treatment, depth components: 50\n",
      "Testing DataLoader 0:  10%|█         | 1/10 [00:00<00:01,  7.28it/s]PCA pre treatment, depth components: 50\n",
      "PCA pre treatment, depth components: 50\n",
      "Testing DataLoader 0:  20%|██        | 2/10 [00:00<00:01,  7.41it/s]PCA pre treatment, depth components: 50\n",
      "PCA pre treatment, depth components: 50\n",
      "Testing DataLoader 0:  30%|███       | 3/10 [00:00<00:01,  6.77it/s]PCA pre treatment, depth components: 50\n",
      "PCA pre treatment, depth components: 50\n",
      "Testing DataLoader 0:  40%|████      | 4/10 [00:00<00:00,  6.90it/s]PCA pre treatment, depth components: 50\n",
      "PCA pre treatment, depth components: 50\n",
      "Testing DataLoader 0:  50%|█████     | 5/10 [00:00<00:00,  6.68it/s]PCA pre treatment, depth components: 50\n",
      "PCA pre treatment, depth components: 50\n",
      "Testing DataLoader 0:  60%|██████    | 6/10 [00:00<00:00,  6.87it/s]PCA pre treatment, depth components: 50\n",
      "PCA pre treatment, depth components: 50\n",
      "Testing DataLoader 0:  70%|███████   | 7/10 [00:01<00:00,  6.71it/s]PCA pre treatment, depth components: 50\n",
      "PCA pre treatment, depth components: 50\n",
      "Testing DataLoader 0:  80%|████████  | 8/10 [00:01<00:00,  6.85it/s]PCA pre treatment, depth components: 50\n",
      "PCA pre treatment, depth components: 50\n",
      "Testing DataLoader 0:  90%|█████████ | 9/10 [00:01<00:00,  6.73it/s]PCA pre treatment, depth components: 50\n",
      "PCA pre treatment, depth components: 50\n",
      "Testing DataLoader 0: 100%|██████████| 10/10 [00:01<00:00,  6.95it/s]\n"
     ]
    },
    {
     "data": {
      "text/html": [
       "<pre style=\"white-space:pre;overflow-x:auto;line-height:normal;font-family:Menlo,'DejaVu Sans Mono',consolas,'Courier New',monospace\">┏━━━━━━━━━━━━━━━━━━━━━━━━━━━━━━┳━━━━━━━━━━━━━━━━━━━━━━━━━━━━━━┓\n",
       "┃<span style=\"font-weight: bold\">         Test metric          </span>┃<span style=\"font-weight: bold\">         DataLoader 0         </span>┃\n",
       "┡━━━━━━━━━━━━━━━━━━━━━━━━━━━━━━╇━━━━━━━━━━━━━━━━━━━━━━━━━━━━━━┩\n",
       "│<span style=\"color: #008080; text-decoration-color: #008080\">           ECS RMSE           </span>│<span style=\"color: #800080; text-decoration-color: #800080\">             0.0              </span>│\n",
       "│<span style=\"color: #008080; text-decoration-color: #008080\">           SSP RMSE           </span>│<span style=\"color: #800080; text-decoration-color: #800080\">      9.106797218322754       </span>│\n",
       "│<span style=\"color: #008080; text-decoration-color: #008080\">           fft loss           </span>│<span style=\"color: #800080; text-decoration-color: #800080\">     0.03937162086367607      </span>│\n",
       "│<span style=\"color: #008080; text-decoration-color: #008080\">         fft test mse         </span>│<span style=\"color: #800080; text-decoration-color: #800080\">     0.03937162086367607      </span>│\n",
       "│<span style=\"color: #008080; text-decoration-color: #008080\">        gradient loss         </span>│<span style=\"color: #800080; text-decoration-color: #800080\">    4.6376737827813486e-07    </span>│\n",
       "│<span style=\"color: #008080; text-decoration-color: #008080\">      gradient test mse       </span>│<span style=\"color: #800080; text-decoration-color: #800080\">    4.6376737827813486e-07    </span>│\n",
       "│<span style=\"color: #008080; text-decoration-color: #008080\">     inflection pos loss      </span>│<span style=\"color: #800080; text-decoration-color: #800080\">     0.002008207840844989     </span>│\n",
       "│<span style=\"color: #008080; text-decoration-color: #008080\"> inflection position test mse </span>│<span style=\"color: #800080; text-decoration-color: #800080\">     0.002008207840844989     </span>│\n",
       "│<span style=\"color: #008080; text-decoration-color: #008080\">    inflection value loss     </span>│<span style=\"color: #800080; text-decoration-color: #800080\">    4.3403400923125446e-05    </span>│\n",
       "│<span style=\"color: #008080; text-decoration-color: #008080\">  inflection value test mse   </span>│<span style=\"color: #800080; text-decoration-color: #800080\">    4.3403400923125446e-05    </span>│\n",
       "│<span style=\"color: #008080; text-decoration-color: #008080\">      max position loss       </span>│<span style=\"color: #800080; text-decoration-color: #800080\">             0.0              </span>│\n",
       "│<span style=\"color: #008080; text-decoration-color: #008080\">    max position test mse     </span>│<span style=\"color: #800080; text-decoration-color: #800080\">             0.0              </span>│\n",
       "│<span style=\"color: #008080; text-decoration-color: #008080\">        max value loss        </span>│<span style=\"color: #800080; text-decoration-color: #800080\">    0.0004432565765455365     </span>│\n",
       "│<span style=\"color: #008080; text-decoration-color: #008080\">     max value test loss      </span>│<span style=\"color: #800080; text-decoration-color: #800080\">    0.0004432565765455365     </span>│\n",
       "│<span style=\"color: #008080; text-decoration-color: #008080\">       prediction loss        </span>│<span style=\"color: #800080; text-decoration-color: #800080\">    0.00042385421693325043    </span>│\n",
       "│<span style=\"color: #008080; text-decoration-color: #008080\">     prediction test mse      </span>│<span style=\"color: #800080; text-decoration-color: #800080\">    0.00042385421693325043    </span>│\n",
       "│<span style=\"color: #008080; text-decoration-color: #008080\">       test_loss_epoch        </span>│<span style=\"color: #800080; text-decoration-color: #800080\">    0.00042385421693325043    </span>│\n",
       "│<span style=\"color: #008080; text-decoration-color: #008080\">      weighted mse loss       </span>│<span style=\"color: #800080; text-decoration-color: #800080\">    0.00013826829672325402    </span>│\n",
       "│<span style=\"color: #008080; text-decoration-color: #008080\">  weighted mse loss test mse  </span>│<span style=\"color: #800080; text-decoration-color: #800080\">    0.00013826829672325402    </span>│\n",
       "└──────────────────────────────┴──────────────────────────────┘\n",
       "</pre>\n"
      ],
      "text/plain": [
       "┏━━━━━━━━━━━━━━━━━━━━━━━━━━━━━━┳━━━━━━━━━━━━━━━━━━━━━━━━━━━━━━┓\n",
       "┃\u001b[1m \u001b[0m\u001b[1m        Test metric         \u001b[0m\u001b[1m \u001b[0m┃\u001b[1m \u001b[0m\u001b[1m        DataLoader 0        \u001b[0m\u001b[1m \u001b[0m┃\n",
       "┡━━━━━━━━━━━━━━━━━━━━━━━━━━━━━━╇━━━━━━━━━━━━━━━━━━━━━━━━━━━━━━┩\n",
       "│\u001b[36m \u001b[0m\u001b[36m          ECS RMSE          \u001b[0m\u001b[36m \u001b[0m│\u001b[35m \u001b[0m\u001b[35m            0.0             \u001b[0m\u001b[35m \u001b[0m│\n",
       "│\u001b[36m \u001b[0m\u001b[36m          SSP RMSE          \u001b[0m\u001b[36m \u001b[0m│\u001b[35m \u001b[0m\u001b[35m     9.106797218322754      \u001b[0m\u001b[35m \u001b[0m│\n",
       "│\u001b[36m \u001b[0m\u001b[36m          fft loss          \u001b[0m\u001b[36m \u001b[0m│\u001b[35m \u001b[0m\u001b[35m    0.03937162086367607     \u001b[0m\u001b[35m \u001b[0m│\n",
       "│\u001b[36m \u001b[0m\u001b[36m        fft test mse        \u001b[0m\u001b[36m \u001b[0m│\u001b[35m \u001b[0m\u001b[35m    0.03937162086367607     \u001b[0m\u001b[35m \u001b[0m│\n",
       "│\u001b[36m \u001b[0m\u001b[36m       gradient loss        \u001b[0m\u001b[36m \u001b[0m│\u001b[35m \u001b[0m\u001b[35m   4.6376737827813486e-07   \u001b[0m\u001b[35m \u001b[0m│\n",
       "│\u001b[36m \u001b[0m\u001b[36m     gradient test mse      \u001b[0m\u001b[36m \u001b[0m│\u001b[35m \u001b[0m\u001b[35m   4.6376737827813486e-07   \u001b[0m\u001b[35m \u001b[0m│\n",
       "│\u001b[36m \u001b[0m\u001b[36m    inflection pos loss     \u001b[0m\u001b[36m \u001b[0m│\u001b[35m \u001b[0m\u001b[35m    0.002008207840844989    \u001b[0m\u001b[35m \u001b[0m│\n",
       "│\u001b[36m \u001b[0m\u001b[36minflection position test mse\u001b[0m\u001b[36m \u001b[0m│\u001b[35m \u001b[0m\u001b[35m    0.002008207840844989    \u001b[0m\u001b[35m \u001b[0m│\n",
       "│\u001b[36m \u001b[0m\u001b[36m   inflection value loss    \u001b[0m\u001b[36m \u001b[0m│\u001b[35m \u001b[0m\u001b[35m   4.3403400923125446e-05   \u001b[0m\u001b[35m \u001b[0m│\n",
       "│\u001b[36m \u001b[0m\u001b[36m inflection value test mse  \u001b[0m\u001b[36m \u001b[0m│\u001b[35m \u001b[0m\u001b[35m   4.3403400923125446e-05   \u001b[0m\u001b[35m \u001b[0m│\n",
       "│\u001b[36m \u001b[0m\u001b[36m     max position loss      \u001b[0m\u001b[36m \u001b[0m│\u001b[35m \u001b[0m\u001b[35m            0.0             \u001b[0m\u001b[35m \u001b[0m│\n",
       "│\u001b[36m \u001b[0m\u001b[36m   max position test mse    \u001b[0m\u001b[36m \u001b[0m│\u001b[35m \u001b[0m\u001b[35m            0.0             \u001b[0m\u001b[35m \u001b[0m│\n",
       "│\u001b[36m \u001b[0m\u001b[36m       max value loss       \u001b[0m\u001b[36m \u001b[0m│\u001b[35m \u001b[0m\u001b[35m   0.0004432565765455365    \u001b[0m\u001b[35m \u001b[0m│\n",
       "│\u001b[36m \u001b[0m\u001b[36m    max value test loss     \u001b[0m\u001b[36m \u001b[0m│\u001b[35m \u001b[0m\u001b[35m   0.0004432565765455365    \u001b[0m\u001b[35m \u001b[0m│\n",
       "│\u001b[36m \u001b[0m\u001b[36m      prediction loss       \u001b[0m\u001b[36m \u001b[0m│\u001b[35m \u001b[0m\u001b[35m   0.00042385421693325043   \u001b[0m\u001b[35m \u001b[0m│\n",
       "│\u001b[36m \u001b[0m\u001b[36m    prediction test mse     \u001b[0m\u001b[36m \u001b[0m│\u001b[35m \u001b[0m\u001b[35m   0.00042385421693325043   \u001b[0m\u001b[35m \u001b[0m│\n",
       "│\u001b[36m \u001b[0m\u001b[36m      test_loss_epoch       \u001b[0m\u001b[36m \u001b[0m│\u001b[35m \u001b[0m\u001b[35m   0.00042385421693325043   \u001b[0m\u001b[35m \u001b[0m│\n",
       "│\u001b[36m \u001b[0m\u001b[36m     weighted mse loss      \u001b[0m\u001b[36m \u001b[0m│\u001b[35m \u001b[0m\u001b[35m   0.00013826829672325402   \u001b[0m\u001b[35m \u001b[0m│\n",
       "│\u001b[36m \u001b[0m\u001b[36m weighted mse loss test mse \u001b[0m\u001b[36m \u001b[0m│\u001b[35m \u001b[0m\u001b[35m   0.00013826829672325402   \u001b[0m\u001b[35m \u001b[0m│\n",
       "└──────────────────────────────┴──────────────────────────────┘\n"
      ]
     },
     "metadata": {},
     "output_type": "display_data"
    },
    {
     "name": "stderr",
     "output_type": "stream",
     "text": [
      " 31%|███▏      | 11/35 [20:09<15:10, 37.95s/it]"
     ]
    },
    {
     "name": "stdout",
     "output_type": "stream",
     "text": [
      "model: outputs/AE/AE_CNN_3D/dataset_output/8_channels_spatial_pooling_with_pca_pre_treatment/basic loss/pred_1_grad_0_max_pos_0.0_max_value_0.0_fft_0.0_weighted_0_inflection_pos_0.0_inflection_value_0.0/depth_pre_treatment_pca_n_components_10/channels_[1, 8, 8]/upsample_mode_trilinear/linear_later_False_lattent_size_50/1_conv_per_layer/padding_reflect/interp_size_25/pooling_Max_on_dim_spatial/final_upsample_upsample_pooling/act_fn_Elu_final_act_fn_Elu/lr_0.001/normalization_min_max/manage_nan_suppress/n_profiles_None/2024-11-13_03-33/checkpoints/val_loss=0.00-epoch=49.ckpt\n"
     ]
    },
    {
     "name": "stderr",
     "output_type": "stream",
     "text": [
      "Trainer will use only 1 of 3 GPUs because it is running inside an interactive / notebook environment. You may try to set `Trainer(devices=3)` but please note that multi-GPU inside interactive / notebook environments is considered experimental and unstable. Your mileage may vary.\n",
      "/DATASET/envs/o23gauvr/miniconda3/envs/fsc_env/lib/python3.11/site-packages/lightning_fabric/plugins/environments/slurm.py:191: The `srun` command is available on your system but is not used. HINT: If your intention is to run Lightning on SLURM, prepend your python command with `srun` like so: srun python /DATASET/envs/o23gauvr/miniconda3/envs/fsc_env/lib/p ...\n",
      "GPU available: True (cuda), used: True\n",
      "TPU available: False, using: 0 TPU cores\n",
      "IPU available: False, using: 0 IPUs\n",
      "HPU available: False, using: 0 HPUs\n",
      "LOCAL_RANK: 0 - CUDA_VISIBLE_DEVICES: [0,1,2]\n"
     ]
    },
    {
     "name": "stdout",
     "output_type": "stream",
     "text": [
      "Testing DataLoader 0:   0%|          | 0/10 [00:00<?, ?it/s]PCA pre treatment, depth components: 10\n",
      "PCA pre treatment, depth components: 10\n",
      "Testing DataLoader 0:  10%|█         | 1/10 [00:00<00:03,  2.75it/s]PCA pre treatment, depth components: 10\n",
      "PCA pre treatment, depth components: 10\n",
      "Testing DataLoader 0:  20%|██        | 2/10 [00:00<00:01,  4.02it/s]PCA pre treatment, depth components: 10\n",
      "PCA pre treatment, depth components: 10\n",
      "Testing DataLoader 0:  30%|███       | 3/10 [00:00<00:01,  4.92it/s]PCA pre treatment, depth components: 10\n",
      "PCA pre treatment, depth components: 10\n",
      "Testing DataLoader 0:  40%|████      | 4/10 [00:00<00:01,  5.37it/s]PCA pre treatment, depth components: 10\n",
      "PCA pre treatment, depth components: 10\n",
      "Testing DataLoader 0:  50%|█████     | 5/10 [00:00<00:00,  5.82it/s]PCA pre treatment, depth components: 10\n",
      "PCA pre treatment, depth components: 10\n",
      "Testing DataLoader 0:  60%|██████    | 6/10 [00:00<00:00,  6.05it/s]PCA pre treatment, depth components: 10\n",
      "PCA pre treatment, depth components: 10\n",
      "Testing DataLoader 0:  70%|███████   | 7/10 [00:01<00:00,  6.33it/s]PCA pre treatment, depth components: 10\n",
      "PCA pre treatment, depth components: 10\n",
      "Testing DataLoader 0:  80%|████████  | 8/10 [00:01<00:00,  6.45it/s]PCA pre treatment, depth components: 10\n",
      "PCA pre treatment, depth components: 10\n",
      "Testing DataLoader 0:  90%|█████████ | 9/10 [00:01<00:00,  6.66it/s]PCA pre treatment, depth components: 10\n",
      "PCA pre treatment, depth components: 10\n",
      "Testing DataLoader 0: 100%|██████████| 10/10 [00:01<00:00,  6.85it/s]\n"
     ]
    },
    {
     "data": {
      "text/html": [
       "<pre style=\"white-space:pre;overflow-x:auto;line-height:normal;font-family:Menlo,'DejaVu Sans Mono',consolas,'Courier New',monospace\">┏━━━━━━━━━━━━━━━━━━━━━━━━━━━━━━┳━━━━━━━━━━━━━━━━━━━━━━━━━━━━━━┓\n",
       "┃<span style=\"font-weight: bold\">         Test metric          </span>┃<span style=\"font-weight: bold\">         DataLoader 0         </span>┃\n",
       "┡━━━━━━━━━━━━━━━━━━━━━━━━━━━━━━╇━━━━━━━━━━━━━━━━━━━━━━━━━━━━━━┩\n",
       "│<span style=\"color: #008080; text-decoration-color: #008080\">           ECS RMSE           </span>│<span style=\"color: #800080; text-decoration-color: #800080\">             0.0              </span>│\n",
       "│<span style=\"color: #008080; text-decoration-color: #008080\">           SSP RMSE           </span>│<span style=\"color: #800080; text-decoration-color: #800080\">      7.8830766677856445      </span>│\n",
       "│<span style=\"color: #008080; text-decoration-color: #008080\">           fft loss           </span>│<span style=\"color: #800080; text-decoration-color: #800080\">     0.02863142639398575      </span>│\n",
       "│<span style=\"color: #008080; text-decoration-color: #008080\">         fft test mse         </span>│<span style=\"color: #800080; text-decoration-color: #800080\">     0.02863142639398575      </span>│\n",
       "│<span style=\"color: #008080; text-decoration-color: #008080\">        gradient loss         </span>│<span style=\"color: #800080; text-decoration-color: #800080\">    6.796837936917655e-08     </span>│\n",
       "│<span style=\"color: #008080; text-decoration-color: #008080\">      gradient test mse       </span>│<span style=\"color: #800080; text-decoration-color: #800080\">    6.796837936917655e-08     </span>│\n",
       "│<span style=\"color: #008080; text-decoration-color: #008080\">     inflection pos loss      </span>│<span style=\"color: #800080; text-decoration-color: #800080\">             0.0              </span>│\n",
       "│<span style=\"color: #008080; text-decoration-color: #008080\"> inflection position test mse </span>│<span style=\"color: #800080; text-decoration-color: #800080\">             0.0              </span>│\n",
       "│<span style=\"color: #008080; text-decoration-color: #008080\">    inflection value loss     </span>│<span style=\"color: #800080; text-decoration-color: #800080\">    4.084815827809507e-06     </span>│\n",
       "│<span style=\"color: #008080; text-decoration-color: #008080\">  inflection value test mse   </span>│<span style=\"color: #800080; text-decoration-color: #800080\">    4.084815827809507e-06     </span>│\n",
       "│<span style=\"color: #008080; text-decoration-color: #008080\">      max position loss       </span>│<span style=\"color: #800080; text-decoration-color: #800080\">             0.0              </span>│\n",
       "│<span style=\"color: #008080; text-decoration-color: #008080\">    max position test mse     </span>│<span style=\"color: #800080; text-decoration-color: #800080\">             0.0              </span>│\n",
       "│<span style=\"color: #008080; text-decoration-color: #008080\">        max value loss        </span>│<span style=\"color: #800080; text-decoration-color: #800080\">    0.00021828555327374488    </span>│\n",
       "│<span style=\"color: #008080; text-decoration-color: #008080\">     max value test loss      </span>│<span style=\"color: #800080; text-decoration-color: #800080\">    0.00021828555327374488    </span>│\n",
       "│<span style=\"color: #008080; text-decoration-color: #008080\">       prediction loss        </span>│<span style=\"color: #800080; text-decoration-color: #800080\">    0.0003179140330757946     </span>│\n",
       "│<span style=\"color: #008080; text-decoration-color: #008080\">     prediction test mse      </span>│<span style=\"color: #800080; text-decoration-color: #800080\">    0.0003179140330757946     </span>│\n",
       "│<span style=\"color: #008080; text-decoration-color: #008080\">       test_loss_epoch        </span>│<span style=\"color: #800080; text-decoration-color: #800080\">    0.0003179140330757946     </span>│\n",
       "│<span style=\"color: #008080; text-decoration-color: #008080\">      weighted mse loss       </span>│<span style=\"color: #800080; text-decoration-color: #800080\">    9.311275789514184e-05     </span>│\n",
       "│<span style=\"color: #008080; text-decoration-color: #008080\">  weighted mse loss test mse  </span>│<span style=\"color: #800080; text-decoration-color: #800080\">    9.311275789514184e-05     </span>│\n",
       "└──────────────────────────────┴──────────────────────────────┘\n",
       "</pre>\n"
      ],
      "text/plain": [
       "┏━━━━━━━━━━━━━━━━━━━━━━━━━━━━━━┳━━━━━━━━━━━━━━━━━━━━━━━━━━━━━━┓\n",
       "┃\u001b[1m \u001b[0m\u001b[1m        Test metric         \u001b[0m\u001b[1m \u001b[0m┃\u001b[1m \u001b[0m\u001b[1m        DataLoader 0        \u001b[0m\u001b[1m \u001b[0m┃\n",
       "┡━━━━━━━━━━━━━━━━━━━━━━━━━━━━━━╇━━━━━━━━━━━━━━━━━━━━━━━━━━━━━━┩\n",
       "│\u001b[36m \u001b[0m\u001b[36m          ECS RMSE          \u001b[0m\u001b[36m \u001b[0m│\u001b[35m \u001b[0m\u001b[35m            0.0             \u001b[0m\u001b[35m \u001b[0m│\n",
       "│\u001b[36m \u001b[0m\u001b[36m          SSP RMSE          \u001b[0m\u001b[36m \u001b[0m│\u001b[35m \u001b[0m\u001b[35m     7.8830766677856445     \u001b[0m\u001b[35m \u001b[0m│\n",
       "│\u001b[36m \u001b[0m\u001b[36m          fft loss          \u001b[0m\u001b[36m \u001b[0m│\u001b[35m \u001b[0m\u001b[35m    0.02863142639398575     \u001b[0m\u001b[35m \u001b[0m│\n",
       "│\u001b[36m \u001b[0m\u001b[36m        fft test mse        \u001b[0m\u001b[36m \u001b[0m│\u001b[35m \u001b[0m\u001b[35m    0.02863142639398575     \u001b[0m\u001b[35m \u001b[0m│\n",
       "│\u001b[36m \u001b[0m\u001b[36m       gradient loss        \u001b[0m\u001b[36m \u001b[0m│\u001b[35m \u001b[0m\u001b[35m   6.796837936917655e-08    \u001b[0m\u001b[35m \u001b[0m│\n",
       "│\u001b[36m \u001b[0m\u001b[36m     gradient test mse      \u001b[0m\u001b[36m \u001b[0m│\u001b[35m \u001b[0m\u001b[35m   6.796837936917655e-08    \u001b[0m\u001b[35m \u001b[0m│\n",
       "│\u001b[36m \u001b[0m\u001b[36m    inflection pos loss     \u001b[0m\u001b[36m \u001b[0m│\u001b[35m \u001b[0m\u001b[35m            0.0             \u001b[0m\u001b[35m \u001b[0m│\n",
       "│\u001b[36m \u001b[0m\u001b[36minflection position test mse\u001b[0m\u001b[36m \u001b[0m│\u001b[35m \u001b[0m\u001b[35m            0.0             \u001b[0m\u001b[35m \u001b[0m│\n",
       "│\u001b[36m \u001b[0m\u001b[36m   inflection value loss    \u001b[0m\u001b[36m \u001b[0m│\u001b[35m \u001b[0m\u001b[35m   4.084815827809507e-06    \u001b[0m\u001b[35m \u001b[0m│\n",
       "│\u001b[36m \u001b[0m\u001b[36m inflection value test mse  \u001b[0m\u001b[36m \u001b[0m│\u001b[35m \u001b[0m\u001b[35m   4.084815827809507e-06    \u001b[0m\u001b[35m \u001b[0m│\n",
       "│\u001b[36m \u001b[0m\u001b[36m     max position loss      \u001b[0m\u001b[36m \u001b[0m│\u001b[35m \u001b[0m\u001b[35m            0.0             \u001b[0m\u001b[35m \u001b[0m│\n",
       "│\u001b[36m \u001b[0m\u001b[36m   max position test mse    \u001b[0m\u001b[36m \u001b[0m│\u001b[35m \u001b[0m\u001b[35m            0.0             \u001b[0m\u001b[35m \u001b[0m│\n",
       "│\u001b[36m \u001b[0m\u001b[36m       max value loss       \u001b[0m\u001b[36m \u001b[0m│\u001b[35m \u001b[0m\u001b[35m   0.00021828555327374488   \u001b[0m\u001b[35m \u001b[0m│\n",
       "│\u001b[36m \u001b[0m\u001b[36m    max value test loss     \u001b[0m\u001b[36m \u001b[0m│\u001b[35m \u001b[0m\u001b[35m   0.00021828555327374488   \u001b[0m\u001b[35m \u001b[0m│\n",
       "│\u001b[36m \u001b[0m\u001b[36m      prediction loss       \u001b[0m\u001b[36m \u001b[0m│\u001b[35m \u001b[0m\u001b[35m   0.0003179140330757946    \u001b[0m\u001b[35m \u001b[0m│\n",
       "│\u001b[36m \u001b[0m\u001b[36m    prediction test mse     \u001b[0m\u001b[36m \u001b[0m│\u001b[35m \u001b[0m\u001b[35m   0.0003179140330757946    \u001b[0m\u001b[35m \u001b[0m│\n",
       "│\u001b[36m \u001b[0m\u001b[36m      test_loss_epoch       \u001b[0m\u001b[36m \u001b[0m│\u001b[35m \u001b[0m\u001b[35m   0.0003179140330757946    \u001b[0m\u001b[35m \u001b[0m│\n",
       "│\u001b[36m \u001b[0m\u001b[36m     weighted mse loss      \u001b[0m\u001b[36m \u001b[0m│\u001b[35m \u001b[0m\u001b[35m   9.311275789514184e-05    \u001b[0m\u001b[35m \u001b[0m│\n",
       "│\u001b[36m \u001b[0m\u001b[36m weighted mse loss test mse \u001b[0m\u001b[36m \u001b[0m│\u001b[35m \u001b[0m\u001b[35m   9.311275789514184e-05    \u001b[0m\u001b[35m \u001b[0m│\n",
       "└──────────────────────────────┴──────────────────────────────┘\n"
      ]
     },
     "metadata": {},
     "output_type": "display_data"
    },
    {
     "name": "stderr",
     "output_type": "stream",
     "text": [
      " 34%|███▍      | 12/35 [20:33<12:52, 33.57s/it]"
     ]
    },
    {
     "name": "stdout",
     "output_type": "stream",
     "text": [
      "model: outputs/AE/AE_CNN_3D/dataset_output/8_channels_spatial_pooling_with_pca_pre_treatment/pred_0.01_grad_1000_max_pos_0.01_max_value_0.05_fft_0.0001_weighted_1_inflection_pos_0.01_inflection_value_0.05/depth_pre_treatment_pca_n_components_107/channels_[1, 8, 8, 8, 8]/upsample_mode_trilinear/linear_later_False_lattent_size_50/1_conv_per_layer/padding_reflect/interp_size_25/pooling_Max_on_dim_spatial/final_upsample_upsample_pooling/act_fn_Elu_final_act_fn_Elu/lr_0.001/normalization_min_max/manage_nan_suppress/n_profiles_None/2024-11-13_15-53/checkpoints/val_loss=0.00-epoch=214.ckpt\n"
     ]
    },
    {
     "name": "stderr",
     "output_type": "stream",
     "text": [
      "Trainer will use only 1 of 3 GPUs because it is running inside an interactive / notebook environment. You may try to set `Trainer(devices=3)` but please note that multi-GPU inside interactive / notebook environments is considered experimental and unstable. Your mileage may vary.\n",
      "/DATASET/envs/o23gauvr/miniconda3/envs/fsc_env/lib/python3.11/site-packages/lightning_fabric/plugins/environments/slurm.py:191: The `srun` command is available on your system but is not used. HINT: If your intention is to run Lightning on SLURM, prepend your python command with `srun` like so: srun python /DATASET/envs/o23gauvr/miniconda3/envs/fsc_env/lib/p ...\n",
      "GPU available: True (cuda), used: True\n",
      "TPU available: False, using: 0 TPU cores\n",
      "IPU available: False, using: 0 IPUs\n",
      "HPU available: False, using: 0 HPUs\n",
      "LOCAL_RANK: 0 - CUDA_VISIBLE_DEVICES: [0,1,2]\n"
     ]
    },
    {
     "name": "stdout",
     "output_type": "stream",
     "text": [
      "Testing DataLoader 0:   0%|          | 0/10 [00:00<?, ?it/s]PCA pre treatment, depth components: 107\n",
      "PCA pre treatment, depth components: 107\n",
      "Testing DataLoader 0:  10%|█         | 1/10 [00:00<00:04,  1.88it/s]PCA pre treatment, depth components: 107\n",
      "PCA pre treatment, depth components: 107\n",
      "Testing DataLoader 0:  20%|██        | 2/10 [00:00<00:03,  2.66it/s]PCA pre treatment, depth components: 107\n",
      "PCA pre treatment, depth components: 107\n",
      "Testing DataLoader 0:  30%|███       | 3/10 [00:00<00:02,  3.26it/s]PCA pre treatment, depth components: 107\n",
      "PCA pre treatment, depth components: 107\n",
      "Testing DataLoader 0:  40%|████      | 4/10 [00:01<00:01,  3.55it/s]PCA pre treatment, depth components: 107\n",
      "PCA pre treatment, depth components: 107\n",
      "Testing DataLoader 0:  50%|█████     | 5/10 [00:01<00:01,  3.86it/s]PCA pre treatment, depth components: 107\n",
      "PCA pre treatment, depth components: 107\n",
      "Testing DataLoader 0:  60%|██████    | 6/10 [00:01<00:01,  4.00it/s]PCA pre treatment, depth components: 107\n",
      "PCA pre treatment, depth components: 107\n",
      "Testing DataLoader 0:  70%|███████   | 7/10 [00:01<00:00,  4.02it/s]PCA pre treatment, depth components: 107\n",
      "PCA pre treatment, depth components: 107\n",
      "Testing DataLoader 0:  80%|████████  | 8/10 [00:01<00:00,  4.17it/s]PCA pre treatment, depth components: 107\n",
      "PCA pre treatment, depth components: 107\n",
      "Testing DataLoader 0:  90%|█████████ | 9/10 [00:02<00:00,  4.22it/s]PCA pre treatment, depth components: 107\n",
      "PCA pre treatment, depth components: 107\n",
      "Testing DataLoader 0: 100%|██████████| 10/10 [00:02<00:00,  4.47it/s]\n"
     ]
    },
    {
     "data": {
      "text/html": [
       "<pre style=\"white-space:pre;overflow-x:auto;line-height:normal;font-family:Menlo,'DejaVu Sans Mono',consolas,'Courier New',monospace\">┏━━━━━━━━━━━━━━━━━━━━━━━━━━━━━━┳━━━━━━━━━━━━━━━━━━━━━━━━━━━━━━┓\n",
       "┃<span style=\"font-weight: bold\">         Test metric          </span>┃<span style=\"font-weight: bold\">         DataLoader 0         </span>┃\n",
       "┡━━━━━━━━━━━━━━━━━━━━━━━━━━━━━━╇━━━━━━━━━━━━━━━━━━━━━━━━━━━━━━┩\n",
       "│<span style=\"color: #008080; text-decoration-color: #008080\">           ECS RMSE           </span>│<span style=\"color: #800080; text-decoration-color: #800080\">     0.15407197177410126      </span>│\n",
       "│<span style=\"color: #008080; text-decoration-color: #008080\">           SSP RMSE           </span>│<span style=\"color: #800080; text-decoration-color: #800080\">      9.147287368774414       </span>│\n",
       "│<span style=\"color: #008080; text-decoration-color: #008080\">           fft loss           </span>│<span style=\"color: #800080; text-decoration-color: #800080\">     0.04060467705130577      </span>│\n",
       "│<span style=\"color: #008080; text-decoration-color: #008080\">         fft test mse         </span>│<span style=\"color: #800080; text-decoration-color: #800080\">     0.04060467705130577      </span>│\n",
       "│<span style=\"color: #008080; text-decoration-color: #008080\">        gradient loss         </span>│<span style=\"color: #800080; text-decoration-color: #800080\">    1.8407266821895973e-08    </span>│\n",
       "│<span style=\"color: #008080; text-decoration-color: #008080\">      gradient test mse       </span>│<span style=\"color: #800080; text-decoration-color: #800080\">    1.8407266821895973e-08    </span>│\n",
       "│<span style=\"color: #008080; text-decoration-color: #008080\">     inflection pos loss      </span>│<span style=\"color: #800080; text-decoration-color: #800080\">             0.0              </span>│\n",
       "│<span style=\"color: #008080; text-decoration-color: #008080\"> inflection position test mse </span>│<span style=\"color: #800080; text-decoration-color: #800080\">             0.0              </span>│\n",
       "│<span style=\"color: #008080; text-decoration-color: #008080\">    inflection value loss     </span>│<span style=\"color: #800080; text-decoration-color: #800080\">    0.00014007599384058267    </span>│\n",
       "│<span style=\"color: #008080; text-decoration-color: #008080\">  inflection value test mse   </span>│<span style=\"color: #800080; text-decoration-color: #800080\">    0.00014007599384058267    </span>│\n",
       "│<span style=\"color: #008080; text-decoration-color: #008080\">      max position loss       </span>│<span style=\"color: #800080; text-decoration-color: #800080\">     0.052428290247917175     </span>│\n",
       "│<span style=\"color: #008080; text-decoration-color: #008080\">    max position test mse     </span>│<span style=\"color: #800080; text-decoration-color: #800080\">     0.052428290247917175     </span>│\n",
       "│<span style=\"color: #008080; text-decoration-color: #008080\">        max value loss        </span>│<span style=\"color: #800080; text-decoration-color: #800080\">    0.00034569480339996517    </span>│\n",
       "│<span style=\"color: #008080; text-decoration-color: #008080\">     max value test loss      </span>│<span style=\"color: #800080; text-decoration-color: #800080\">    0.00034569480339996517    </span>│\n",
       "│<span style=\"color: #008080; text-decoration-color: #008080\">       prediction loss        </span>│<span style=\"color: #800080; text-decoration-color: #800080\">    0.0004276242107152939     </span>│\n",
       "│<span style=\"color: #008080; text-decoration-color: #008080\">     prediction test mse      </span>│<span style=\"color: #800080; text-decoration-color: #800080\">    0.0004276242107152939     </span>│\n",
       "│<span style=\"color: #008080; text-decoration-color: #008080\">       test_loss_epoch        </span>│<span style=\"color: #800080; text-decoration-color: #800080\">    0.0007178930100053549     </span>│\n",
       "│<span style=\"color: #008080; text-decoration-color: #008080\">      weighted mse loss       </span>│<span style=\"color: #800080; text-decoration-color: #800080\">    0.00014257754082791507    </span>│\n",
       "│<span style=\"color: #008080; text-decoration-color: #008080\">  weighted mse loss test mse  </span>│<span style=\"color: #800080; text-decoration-color: #800080\">    0.00014257754082791507    </span>│\n",
       "└──────────────────────────────┴──────────────────────────────┘\n",
       "</pre>\n"
      ],
      "text/plain": [
       "┏━━━━━━━━━━━━━━━━━━━━━━━━━━━━━━┳━━━━━━━━━━━━━━━━━━━━━━━━━━━━━━┓\n",
       "┃\u001b[1m \u001b[0m\u001b[1m        Test metric         \u001b[0m\u001b[1m \u001b[0m┃\u001b[1m \u001b[0m\u001b[1m        DataLoader 0        \u001b[0m\u001b[1m \u001b[0m┃\n",
       "┡━━━━━━━━━━━━━━━━━━━━━━━━━━━━━━╇━━━━━━━━━━━━━━━━━━━━━━━━━━━━━━┩\n",
       "│\u001b[36m \u001b[0m\u001b[36m          ECS RMSE          \u001b[0m\u001b[36m \u001b[0m│\u001b[35m \u001b[0m\u001b[35m    0.15407197177410126     \u001b[0m\u001b[35m \u001b[0m│\n",
       "│\u001b[36m \u001b[0m\u001b[36m          SSP RMSE          \u001b[0m\u001b[36m \u001b[0m│\u001b[35m \u001b[0m\u001b[35m     9.147287368774414      \u001b[0m\u001b[35m \u001b[0m│\n",
       "│\u001b[36m \u001b[0m\u001b[36m          fft loss          \u001b[0m\u001b[36m \u001b[0m│\u001b[35m \u001b[0m\u001b[35m    0.04060467705130577     \u001b[0m\u001b[35m \u001b[0m│\n",
       "│\u001b[36m \u001b[0m\u001b[36m        fft test mse        \u001b[0m\u001b[36m \u001b[0m│\u001b[35m \u001b[0m\u001b[35m    0.04060467705130577     \u001b[0m\u001b[35m \u001b[0m│\n",
       "│\u001b[36m \u001b[0m\u001b[36m       gradient loss        \u001b[0m\u001b[36m \u001b[0m│\u001b[35m \u001b[0m\u001b[35m   1.8407266821895973e-08   \u001b[0m\u001b[35m \u001b[0m│\n",
       "│\u001b[36m \u001b[0m\u001b[36m     gradient test mse      \u001b[0m\u001b[36m \u001b[0m│\u001b[35m \u001b[0m\u001b[35m   1.8407266821895973e-08   \u001b[0m\u001b[35m \u001b[0m│\n",
       "│\u001b[36m \u001b[0m\u001b[36m    inflection pos loss     \u001b[0m\u001b[36m \u001b[0m│\u001b[35m \u001b[0m\u001b[35m            0.0             \u001b[0m\u001b[35m \u001b[0m│\n",
       "│\u001b[36m \u001b[0m\u001b[36minflection position test mse\u001b[0m\u001b[36m \u001b[0m│\u001b[35m \u001b[0m\u001b[35m            0.0             \u001b[0m\u001b[35m \u001b[0m│\n",
       "│\u001b[36m \u001b[0m\u001b[36m   inflection value loss    \u001b[0m\u001b[36m \u001b[0m│\u001b[35m \u001b[0m\u001b[35m   0.00014007599384058267   \u001b[0m\u001b[35m \u001b[0m│\n",
       "│\u001b[36m \u001b[0m\u001b[36m inflection value test mse  \u001b[0m\u001b[36m \u001b[0m│\u001b[35m \u001b[0m\u001b[35m   0.00014007599384058267   \u001b[0m\u001b[35m \u001b[0m│\n",
       "│\u001b[36m \u001b[0m\u001b[36m     max position loss      \u001b[0m\u001b[36m \u001b[0m│\u001b[35m \u001b[0m\u001b[35m    0.052428290247917175    \u001b[0m\u001b[35m \u001b[0m│\n",
       "│\u001b[36m \u001b[0m\u001b[36m   max position test mse    \u001b[0m\u001b[36m \u001b[0m│\u001b[35m \u001b[0m\u001b[35m    0.052428290247917175    \u001b[0m\u001b[35m \u001b[0m│\n",
       "│\u001b[36m \u001b[0m\u001b[36m       max value loss       \u001b[0m\u001b[36m \u001b[0m│\u001b[35m \u001b[0m\u001b[35m   0.00034569480339996517   \u001b[0m\u001b[35m \u001b[0m│\n",
       "│\u001b[36m \u001b[0m\u001b[36m    max value test loss     \u001b[0m\u001b[36m \u001b[0m│\u001b[35m \u001b[0m\u001b[35m   0.00034569480339996517   \u001b[0m\u001b[35m \u001b[0m│\n",
       "│\u001b[36m \u001b[0m\u001b[36m      prediction loss       \u001b[0m\u001b[36m \u001b[0m│\u001b[35m \u001b[0m\u001b[35m   0.0004276242107152939    \u001b[0m\u001b[35m \u001b[0m│\n",
       "│\u001b[36m \u001b[0m\u001b[36m    prediction test mse     \u001b[0m\u001b[36m \u001b[0m│\u001b[35m \u001b[0m\u001b[35m   0.0004276242107152939    \u001b[0m\u001b[35m \u001b[0m│\n",
       "│\u001b[36m \u001b[0m\u001b[36m      test_loss_epoch       \u001b[0m\u001b[36m \u001b[0m│\u001b[35m \u001b[0m\u001b[35m   0.0007178930100053549    \u001b[0m\u001b[35m \u001b[0m│\n",
       "│\u001b[36m \u001b[0m\u001b[36m     weighted mse loss      \u001b[0m\u001b[36m \u001b[0m│\u001b[35m \u001b[0m\u001b[35m   0.00014257754082791507   \u001b[0m\u001b[35m \u001b[0m│\n",
       "│\u001b[36m \u001b[0m\u001b[36m weighted mse loss test mse \u001b[0m\u001b[36m \u001b[0m│\u001b[35m \u001b[0m\u001b[35m   0.00014257754082791507   \u001b[0m\u001b[35m \u001b[0m│\n",
       "└──────────────────────────────┴──────────────────────────────┘\n"
      ]
     },
     "metadata": {},
     "output_type": "display_data"
    },
    {
     "name": "stderr",
     "output_type": "stream",
     "text": [
      " 37%|███▋      | 13/35 [21:03<11:54, 32.48s/it]"
     ]
    },
    {
     "name": "stdout",
     "output_type": "stream",
     "text": [
      "model: outputs/AE/AE_CNN_3D/dataset_output/8_channels_spatial_pooling_with_pca_pre_treatment/pred_0.01_grad_1000_max_pos_0.01_max_value_0.05_fft_0.0001_weighted_1_inflection_pos_0.01_inflection_value_0.05/depth_pre_treatment_pca_n_components_107/channels_[1, 8]/upsample_mode_trilinear/linear_later_False_lattent_size_50/1_conv_per_layer/padding_reflect/interp_size_25/pooling_Max_on_dim_spatial/final_upsample_upsample_pooling/act_fn_Elu_final_act_fn_Elu/lr_0.001/normalization_min_max/manage_nan_suppress/n_profiles_None/2024-11-13_12-23/checkpoints/val_loss=0.01-epoch=206.ckpt\n"
     ]
    },
    {
     "name": "stderr",
     "output_type": "stream",
     "text": [
      "Trainer will use only 1 of 3 GPUs because it is running inside an interactive / notebook environment. You may try to set `Trainer(devices=3)` but please note that multi-GPU inside interactive / notebook environments is considered experimental and unstable. Your mileage may vary.\n",
      "/DATASET/envs/o23gauvr/miniconda3/envs/fsc_env/lib/python3.11/site-packages/lightning_fabric/plugins/environments/slurm.py:191: The `srun` command is available on your system but is not used. HINT: If your intention is to run Lightning on SLURM, prepend your python command with `srun` like so: srun python /DATASET/envs/o23gauvr/miniconda3/envs/fsc_env/lib/p ...\n",
      "GPU available: True (cuda), used: True\n",
      "TPU available: False, using: 0 TPU cores\n",
      "IPU available: False, using: 0 IPUs\n",
      "HPU available: False, using: 0 HPUs\n",
      "LOCAL_RANK: 0 - CUDA_VISIBLE_DEVICES: [0,1,2]\n"
     ]
    },
    {
     "name": "stdout",
     "output_type": "stream",
     "text": [
      "Testing DataLoader 0:   0%|          | 0/10 [00:00<?, ?it/s]PCA pre treatment, depth components: 107\n",
      "PCA pre treatment, depth components: 107\n",
      "Testing DataLoader 0:  10%|█         | 1/10 [00:00<00:02,  3.00it/s]PCA pre treatment, depth components: 107\n",
      "PCA pre treatment, depth components: 107\n",
      "Testing DataLoader 0:  20%|██        | 2/10 [00:00<00:01,  4.32it/s]PCA pre treatment, depth components: 107\n",
      "PCA pre treatment, depth components: 107\n",
      "Testing DataLoader 0:  30%|███       | 3/10 [00:00<00:01,  4.59it/s]PCA pre treatment, depth components: 107\n",
      "PCA pre treatment, depth components: 107\n",
      "Testing DataLoader 0:  40%|████      | 4/10 [00:00<00:01,  5.08it/s]PCA pre treatment, depth components: 107\n",
      "PCA pre treatment, depth components: 107\n",
      "Testing DataLoader 0:  50%|█████     | 5/10 [00:00<00:00,  5.14it/s]PCA pre treatment, depth components: 107\n",
      "PCA pre treatment, depth components: 107\n",
      "Testing DataLoader 0:  60%|██████    | 6/10 [00:01<00:00,  5.42it/s]PCA pre treatment, depth components: 107\n",
      "PCA pre treatment, depth components: 107\n",
      "Testing DataLoader 0:  70%|███████   | 7/10 [00:01<00:00,  5.41it/s]PCA pre treatment, depth components: 107\n",
      "PCA pre treatment, depth components: 107\n",
      "Testing DataLoader 0:  80%|████████  | 8/10 [00:01<00:00,  5.61it/s]PCA pre treatment, depth components: 107\n",
      "PCA pre treatment, depth components: 107\n",
      "Testing DataLoader 0:  90%|█████████ | 9/10 [00:01<00:00,  5.58it/s]PCA pre treatment, depth components: 107\n",
      "PCA pre treatment, depth components: 107\n",
      "Testing DataLoader 0: 100%|██████████| 10/10 [00:01<00:00,  5.80it/s]\n"
     ]
    },
    {
     "data": {
      "text/html": [
       "<pre style=\"white-space:pre;overflow-x:auto;line-height:normal;font-family:Menlo,'DejaVu Sans Mono',consolas,'Courier New',monospace\">┏━━━━━━━━━━━━━━━━━━━━━━━━━━━━━━┳━━━━━━━━━━━━━━━━━━━━━━━━━━━━━━┓\n",
       "┃<span style=\"font-weight: bold\">         Test metric          </span>┃<span style=\"font-weight: bold\">         DataLoader 0         </span>┃\n",
       "┡━━━━━━━━━━━━━━━━━━━━━━━━━━━━━━╇━━━━━━━━━━━━━━━━━━━━━━━━━━━━━━┩\n",
       "│<span style=\"color: #008080; text-decoration-color: #008080\">           ECS RMSE           </span>│<span style=\"color: #800080; text-decoration-color: #800080\">      1.2312557697296143      </span>│\n",
       "│<span style=\"color: #008080; text-decoration-color: #008080\">           SSP RMSE           </span>│<span style=\"color: #800080; text-decoration-color: #800080\">      9.194005012512207       </span>│\n",
       "│<span style=\"color: #008080; text-decoration-color: #008080\">           fft loss           </span>│<span style=\"color: #800080; text-decoration-color: #800080\">     0.04076702892780304      </span>│\n",
       "│<span style=\"color: #008080; text-decoration-color: #008080\">         fft test mse         </span>│<span style=\"color: #800080; text-decoration-color: #800080\">     0.04076702892780304      </span>│\n",
       "│<span style=\"color: #008080; text-decoration-color: #008080\">        gradient loss         </span>│<span style=\"color: #800080; text-decoration-color: #800080\">    1.4915548263161327e-07    </span>│\n",
       "│<span style=\"color: #008080; text-decoration-color: #008080\">      gradient test mse       </span>│<span style=\"color: #800080; text-decoration-color: #800080\">    1.4915548263161327e-07    </span>│\n",
       "│<span style=\"color: #008080; text-decoration-color: #008080\">     inflection pos loss      </span>│<span style=\"color: #800080; text-decoration-color: #800080\">    0.00023752964625600725    </span>│\n",
       "│<span style=\"color: #008080; text-decoration-color: #008080\"> inflection position test mse </span>│<span style=\"color: #800080; text-decoration-color: #800080\">    0.00023752964625600725    </span>│\n",
       "│<span style=\"color: #008080; text-decoration-color: #008080\">    inflection value loss     </span>│<span style=\"color: #800080; text-decoration-color: #800080\">    0.00014202186139300466    </span>│\n",
       "│<span style=\"color: #008080; text-decoration-color: #008080\">  inflection value test mse   </span>│<span style=\"color: #800080; text-decoration-color: #800080\">    0.00014202186139300466    </span>│\n",
       "│<span style=\"color: #008080; text-decoration-color: #008080\">      max position loss       </span>│<span style=\"color: #800080; text-decoration-color: #800080\">      0.8817075490951538      </span>│\n",
       "│<span style=\"color: #008080; text-decoration-color: #008080\">    max position test mse     </span>│<span style=\"color: #800080; text-decoration-color: #800080\">      0.8817075490951538      </span>│\n",
       "│<span style=\"color: #008080; text-decoration-color: #008080\">        max value loss        </span>│<span style=\"color: #800080; text-decoration-color: #800080\">    0.00035359812318347394    </span>│\n",
       "│<span style=\"color: #008080; text-decoration-color: #008080\">     max value test loss      </span>│<span style=\"color: #800080; text-decoration-color: #800080\">    0.00035359812318347394    </span>│\n",
       "│<span style=\"color: #008080; text-decoration-color: #008080\">       prediction loss        </span>│<span style=\"color: #800080; text-decoration-color: #800080\">    0.00043200026266276836    </span>│\n",
       "│<span style=\"color: #008080; text-decoration-color: #008080\">     prediction test mse      </span>│<span style=\"color: #800080; text-decoration-color: #800080\">    0.00043200026266276836    </span>│\n",
       "│<span style=\"color: #008080; text-decoration-color: #008080\">       test_loss_epoch        </span>│<span style=\"color: #800080; text-decoration-color: #800080\">     0.009146371856331825     </span>│\n",
       "│<span style=\"color: #008080; text-decoration-color: #008080\">      weighted mse loss       </span>│<span style=\"color: #800080; text-decoration-color: #800080\">    0.0001445884263375774     </span>│\n",
       "│<span style=\"color: #008080; text-decoration-color: #008080\">  weighted mse loss test mse  </span>│<span style=\"color: #800080; text-decoration-color: #800080\">    0.0001445884263375774     </span>│\n",
       "└──────────────────────────────┴──────────────────────────────┘\n",
       "</pre>\n"
      ],
      "text/plain": [
       "┏━━━━━━━━━━━━━━━━━━━━━━━━━━━━━━┳━━━━━━━━━━━━━━━━━━━━━━━━━━━━━━┓\n",
       "┃\u001b[1m \u001b[0m\u001b[1m        Test metric         \u001b[0m\u001b[1m \u001b[0m┃\u001b[1m \u001b[0m\u001b[1m        DataLoader 0        \u001b[0m\u001b[1m \u001b[0m┃\n",
       "┡━━━━━━━━━━━━━━━━━━━━━━━━━━━━━━╇━━━━━━━━━━━━━━━━━━━━━━━━━━━━━━┩\n",
       "│\u001b[36m \u001b[0m\u001b[36m          ECS RMSE          \u001b[0m\u001b[36m \u001b[0m│\u001b[35m \u001b[0m\u001b[35m     1.2312557697296143     \u001b[0m\u001b[35m \u001b[0m│\n",
       "│\u001b[36m \u001b[0m\u001b[36m          SSP RMSE          \u001b[0m\u001b[36m \u001b[0m│\u001b[35m \u001b[0m\u001b[35m     9.194005012512207      \u001b[0m\u001b[35m \u001b[0m│\n",
       "│\u001b[36m \u001b[0m\u001b[36m          fft loss          \u001b[0m\u001b[36m \u001b[0m│\u001b[35m \u001b[0m\u001b[35m    0.04076702892780304     \u001b[0m\u001b[35m \u001b[0m│\n",
       "│\u001b[36m \u001b[0m\u001b[36m        fft test mse        \u001b[0m\u001b[36m \u001b[0m│\u001b[35m \u001b[0m\u001b[35m    0.04076702892780304     \u001b[0m\u001b[35m \u001b[0m│\n",
       "│\u001b[36m \u001b[0m\u001b[36m       gradient loss        \u001b[0m\u001b[36m \u001b[0m│\u001b[35m \u001b[0m\u001b[35m   1.4915548263161327e-07   \u001b[0m\u001b[35m \u001b[0m│\n",
       "│\u001b[36m \u001b[0m\u001b[36m     gradient test mse      \u001b[0m\u001b[36m \u001b[0m│\u001b[35m \u001b[0m\u001b[35m   1.4915548263161327e-07   \u001b[0m\u001b[35m \u001b[0m│\n",
       "│\u001b[36m \u001b[0m\u001b[36m    inflection pos loss     \u001b[0m\u001b[36m \u001b[0m│\u001b[35m \u001b[0m\u001b[35m   0.00023752964625600725   \u001b[0m\u001b[35m \u001b[0m│\n",
       "│\u001b[36m \u001b[0m\u001b[36minflection position test mse\u001b[0m\u001b[36m \u001b[0m│\u001b[35m \u001b[0m\u001b[35m   0.00023752964625600725   \u001b[0m\u001b[35m \u001b[0m│\n",
       "│\u001b[36m \u001b[0m\u001b[36m   inflection value loss    \u001b[0m\u001b[36m \u001b[0m│\u001b[35m \u001b[0m\u001b[35m   0.00014202186139300466   \u001b[0m\u001b[35m \u001b[0m│\n",
       "│\u001b[36m \u001b[0m\u001b[36m inflection value test mse  \u001b[0m\u001b[36m \u001b[0m│\u001b[35m \u001b[0m\u001b[35m   0.00014202186139300466   \u001b[0m\u001b[35m \u001b[0m│\n",
       "│\u001b[36m \u001b[0m\u001b[36m     max position loss      \u001b[0m\u001b[36m \u001b[0m│\u001b[35m \u001b[0m\u001b[35m     0.8817075490951538     \u001b[0m\u001b[35m \u001b[0m│\n",
       "│\u001b[36m \u001b[0m\u001b[36m   max position test mse    \u001b[0m\u001b[36m \u001b[0m│\u001b[35m \u001b[0m\u001b[35m     0.8817075490951538     \u001b[0m\u001b[35m \u001b[0m│\n",
       "│\u001b[36m \u001b[0m\u001b[36m       max value loss       \u001b[0m\u001b[36m \u001b[0m│\u001b[35m \u001b[0m\u001b[35m   0.00035359812318347394   \u001b[0m\u001b[35m \u001b[0m│\n",
       "│\u001b[36m \u001b[0m\u001b[36m    max value test loss     \u001b[0m\u001b[36m \u001b[0m│\u001b[35m \u001b[0m\u001b[35m   0.00035359812318347394   \u001b[0m\u001b[35m \u001b[0m│\n",
       "│\u001b[36m \u001b[0m\u001b[36m      prediction loss       \u001b[0m\u001b[36m \u001b[0m│\u001b[35m \u001b[0m\u001b[35m   0.00043200026266276836   \u001b[0m\u001b[35m \u001b[0m│\n",
       "│\u001b[36m \u001b[0m\u001b[36m    prediction test mse     \u001b[0m\u001b[36m \u001b[0m│\u001b[35m \u001b[0m\u001b[35m   0.00043200026266276836   \u001b[0m\u001b[35m \u001b[0m│\n",
       "│\u001b[36m \u001b[0m\u001b[36m      test_loss_epoch       \u001b[0m\u001b[36m \u001b[0m│\u001b[35m \u001b[0m\u001b[35m    0.009146371856331825    \u001b[0m\u001b[35m \u001b[0m│\n",
       "│\u001b[36m \u001b[0m\u001b[36m     weighted mse loss      \u001b[0m\u001b[36m \u001b[0m│\u001b[35m \u001b[0m\u001b[35m   0.0001445884263375774    \u001b[0m\u001b[35m \u001b[0m│\n",
       "│\u001b[36m \u001b[0m\u001b[36m weighted mse loss test mse \u001b[0m\u001b[36m \u001b[0m│\u001b[35m \u001b[0m\u001b[35m   0.0001445884263375774    \u001b[0m\u001b[35m \u001b[0m│\n",
       "└──────────────────────────────┴──────────────────────────────┘\n"
      ]
     },
     "metadata": {},
     "output_type": "display_data"
    },
    {
     "name": "stderr",
     "output_type": "stream",
     "text": [
      " 40%|████      | 14/35 [21:40<11:53, 33.96s/it]"
     ]
    },
    {
     "name": "stdout",
     "output_type": "stream",
     "text": [
      "model: outputs/AE/AE_CNN_3D/dataset_output/8_channels_spatial_pooling_with_pca_pre_treatment/pred_0.01_grad_1000_max_pos_0.01_max_value_0.05_fft_0.0001_weighted_1_inflection_pos_0.01_inflection_value_0.05/depth_pre_treatment_pca_n_components_107/channels_[1, 8, 8]/upsample_mode_trilinear/linear_later_False_lattent_size_50/1_conv_per_layer/padding_reflect/interp_size_25/pooling_Max_on_dim_spatial/final_upsample_upsample_pooling/act_fn_Elu_final_act_fn_Elu/lr_0.001/normalization_min_max/manage_nan_suppress/n_profiles_None/2024-11-13_02-04/checkpoints/val_loss=0.00-epoch=185.ckpt\n"
     ]
    },
    {
     "name": "stderr",
     "output_type": "stream",
     "text": [
      "Trainer will use only 1 of 3 GPUs because it is running inside an interactive / notebook environment. You may try to set `Trainer(devices=3)` but please note that multi-GPU inside interactive / notebook environments is considered experimental and unstable. Your mileage may vary.\n",
      "/DATASET/envs/o23gauvr/miniconda3/envs/fsc_env/lib/python3.11/site-packages/lightning_fabric/plugins/environments/slurm.py:191: The `srun` command is available on your system but is not used. HINT: If your intention is to run Lightning on SLURM, prepend your python command with `srun` like so: srun python /DATASET/envs/o23gauvr/miniconda3/envs/fsc_env/lib/p ...\n",
      "GPU available: True (cuda), used: True\n",
      "TPU available: False, using: 0 TPU cores\n",
      "IPU available: False, using: 0 IPUs\n",
      "HPU available: False, using: 0 HPUs\n",
      "LOCAL_RANK: 0 - CUDA_VISIBLE_DEVICES: [0,1,2]\n"
     ]
    },
    {
     "name": "stdout",
     "output_type": "stream",
     "text": [
      "Testing DataLoader 0:   0%|          | 0/10 [00:00<?, ?it/s]PCA pre treatment, depth components: 107\n",
      "PCA pre treatment, depth components: 107\n",
      "Testing DataLoader 0:  10%|█         | 1/10 [00:00<00:02,  3.42it/s]PCA pre treatment, depth components: 107\n",
      "PCA pre treatment, depth components: 107\n",
      "Testing DataLoader 0:  20%|██        | 2/10 [00:00<00:01,  4.42it/s]PCA pre treatment, depth components: 107\n",
      "PCA pre treatment, depth components: 107\n",
      "Testing DataLoader 0:  30%|███       | 3/10 [00:00<00:01,  4.54it/s]PCA pre treatment, depth components: 107\n",
      "PCA pre treatment, depth components: 107\n",
      "Testing DataLoader 0:  40%|████      | 4/10 [00:00<00:01,  4.87it/s]PCA pre treatment, depth components: 107\n",
      "PCA pre treatment, depth components: 107\n",
      "Testing DataLoader 0:  50%|█████     | 5/10 [00:01<00:01,  4.84it/s]PCA pre treatment, depth components: 107\n",
      "PCA pre treatment, depth components: 107\n",
      "Testing DataLoader 0:  60%|██████    | 6/10 [00:01<00:00,  5.03it/s]PCA pre treatment, depth components: 107\n",
      "PCA pre treatment, depth components: 107\n",
      "Testing DataLoader 0:  70%|███████   | 7/10 [00:01<00:00,  5.00it/s]PCA pre treatment, depth components: 107\n",
      "PCA pre treatment, depth components: 107\n",
      "Testing DataLoader 0:  80%|████████  | 8/10 [00:01<00:00,  5.13it/s]PCA pre treatment, depth components: 107\n",
      "PCA pre treatment, depth components: 107\n",
      "Testing DataLoader 0:  90%|█████████ | 9/10 [00:01<00:00,  5.03it/s]PCA pre treatment, depth components: 107\n",
      "PCA pre treatment, depth components: 107\n",
      "Testing DataLoader 0: 100%|██████████| 10/10 [00:01<00:00,  5.28it/s]\n"
     ]
    },
    {
     "data": {
      "text/html": [
       "<pre style=\"white-space:pre;overflow-x:auto;line-height:normal;font-family:Menlo,'DejaVu Sans Mono',consolas,'Courier New',monospace\">┏━━━━━━━━━━━━━━━━━━━━━━━━━━━━━━┳━━━━━━━━━━━━━━━━━━━━━━━━━━━━━━┓\n",
       "┃<span style=\"font-weight: bold\">         Test metric          </span>┃<span style=\"font-weight: bold\">         DataLoader 0         </span>┃\n",
       "┡━━━━━━━━━━━━━━━━━━━━━━━━━━━━━━╇━━━━━━━━━━━━━━━━━━━━━━━━━━━━━━┩\n",
       "│<span style=\"color: #008080; text-decoration-color: #008080\">           ECS RMSE           </span>│<span style=\"color: #800080; text-decoration-color: #800080\">     0.25363588333129883      </span>│\n",
       "│<span style=\"color: #008080; text-decoration-color: #008080\">           SSP RMSE           </span>│<span style=\"color: #800080; text-decoration-color: #800080\">       9.14675235748291       </span>│\n",
       "│<span style=\"color: #008080; text-decoration-color: #008080\">           fft loss           </span>│<span style=\"color: #800080; text-decoration-color: #800080\">     0.04053596407175064      </span>│\n",
       "│<span style=\"color: #008080; text-decoration-color: #008080\">         fft test mse         </span>│<span style=\"color: #800080; text-decoration-color: #800080\">     0.04053596407175064      </span>│\n",
       "│<span style=\"color: #008080; text-decoration-color: #008080\">        gradient loss         </span>│<span style=\"color: #800080; text-decoration-color: #800080\">    2.4372765139446528e-08    </span>│\n",
       "│<span style=\"color: #008080; text-decoration-color: #008080\">      gradient test mse       </span>│<span style=\"color: #800080; text-decoration-color: #800080\">    2.4372765139446528e-08    </span>│\n",
       "│<span style=\"color: #008080; text-decoration-color: #008080\">     inflection pos loss      </span>│<span style=\"color: #800080; text-decoration-color: #800080\">    8.766652968006383e-07     </span>│\n",
       "│<span style=\"color: #008080; text-decoration-color: #008080\"> inflection position test mse </span>│<span style=\"color: #800080; text-decoration-color: #800080\">    8.766652968006383e-07     </span>│\n",
       "│<span style=\"color: #008080; text-decoration-color: #008080\">    inflection value loss     </span>│<span style=\"color: #800080; text-decoration-color: #800080\">    0.00014008756261318922    </span>│\n",
       "│<span style=\"color: #008080; text-decoration-color: #008080\">  inflection value test mse   </span>│<span style=\"color: #800080; text-decoration-color: #800080\">    0.00014008756261318922    </span>│\n",
       "│<span style=\"color: #008080; text-decoration-color: #008080\">      max position loss       </span>│<span style=\"color: #800080; text-decoration-color: #800080\">     0.06854354590177536      </span>│\n",
       "│<span style=\"color: #008080; text-decoration-color: #008080\">    max position test mse     </span>│<span style=\"color: #800080; text-decoration-color: #800080\">     0.06854354590177536      </span>│\n",
       "│<span style=\"color: #008080; text-decoration-color: #008080\">        max value loss        </span>│<span style=\"color: #800080; text-decoration-color: #800080\">    0.00035159254912286997    </span>│\n",
       "│<span style=\"color: #008080; text-decoration-color: #008080\">     max value test loss      </span>│<span style=\"color: #800080; text-decoration-color: #800080\">    0.00035159254912286997    </span>│\n",
       "│<span style=\"color: #008080; text-decoration-color: #008080\">       prediction loss        </span>│<span style=\"color: #800080; text-decoration-color: #800080\">    0.0004275725514162332     </span>│\n",
       "│<span style=\"color: #008080; text-decoration-color: #008080\">     prediction test mse      </span>│<span style=\"color: #800080; text-decoration-color: #800080\">    0.0004275725514162332     </span>│\n",
       "│<span style=\"color: #008080; text-decoration-color: #008080\">       test_loss_epoch        </span>│<span style=\"color: #800080; text-decoration-color: #800080\">    0.0008851788006722927     </span>│\n",
       "│<span style=\"color: #008080; text-decoration-color: #008080\">      weighted mse loss       </span>│<span style=\"color: #800080; text-decoration-color: #800080\">    0.00014244855265133083    </span>│\n",
       "│<span style=\"color: #008080; text-decoration-color: #008080\">  weighted mse loss test mse  </span>│<span style=\"color: #800080; text-decoration-color: #800080\">    0.00014244855265133083    </span>│\n",
       "└──────────────────────────────┴──────────────────────────────┘\n",
       "</pre>\n"
      ],
      "text/plain": [
       "┏━━━━━━━━━━━━━━━━━━━━━━━━━━━━━━┳━━━━━━━━━━━━━━━━━━━━━━━━━━━━━━┓\n",
       "┃\u001b[1m \u001b[0m\u001b[1m        Test metric         \u001b[0m\u001b[1m \u001b[0m┃\u001b[1m \u001b[0m\u001b[1m        DataLoader 0        \u001b[0m\u001b[1m \u001b[0m┃\n",
       "┡━━━━━━━━━━━━━━━━━━━━━━━━━━━━━━╇━━━━━━━━━━━━━━━━━━━━━━━━━━━━━━┩\n",
       "│\u001b[36m \u001b[0m\u001b[36m          ECS RMSE          \u001b[0m\u001b[36m \u001b[0m│\u001b[35m \u001b[0m\u001b[35m    0.25363588333129883     \u001b[0m\u001b[35m \u001b[0m│\n",
       "│\u001b[36m \u001b[0m\u001b[36m          SSP RMSE          \u001b[0m\u001b[36m \u001b[0m│\u001b[35m \u001b[0m\u001b[35m      9.14675235748291      \u001b[0m\u001b[35m \u001b[0m│\n",
       "│\u001b[36m \u001b[0m\u001b[36m          fft loss          \u001b[0m\u001b[36m \u001b[0m│\u001b[35m \u001b[0m\u001b[35m    0.04053596407175064     \u001b[0m\u001b[35m \u001b[0m│\n",
       "│\u001b[36m \u001b[0m\u001b[36m        fft test mse        \u001b[0m\u001b[36m \u001b[0m│\u001b[35m \u001b[0m\u001b[35m    0.04053596407175064     \u001b[0m\u001b[35m \u001b[0m│\n",
       "│\u001b[36m \u001b[0m\u001b[36m       gradient loss        \u001b[0m\u001b[36m \u001b[0m│\u001b[35m \u001b[0m\u001b[35m   2.4372765139446528e-08   \u001b[0m\u001b[35m \u001b[0m│\n",
       "│\u001b[36m \u001b[0m\u001b[36m     gradient test mse      \u001b[0m\u001b[36m \u001b[0m│\u001b[35m \u001b[0m\u001b[35m   2.4372765139446528e-08   \u001b[0m\u001b[35m \u001b[0m│\n",
       "│\u001b[36m \u001b[0m\u001b[36m    inflection pos loss     \u001b[0m\u001b[36m \u001b[0m│\u001b[35m \u001b[0m\u001b[35m   8.766652968006383e-07    \u001b[0m\u001b[35m \u001b[0m│\n",
       "│\u001b[36m \u001b[0m\u001b[36minflection position test mse\u001b[0m\u001b[36m \u001b[0m│\u001b[35m \u001b[0m\u001b[35m   8.766652968006383e-07    \u001b[0m\u001b[35m \u001b[0m│\n",
       "│\u001b[36m \u001b[0m\u001b[36m   inflection value loss    \u001b[0m\u001b[36m \u001b[0m│\u001b[35m \u001b[0m\u001b[35m   0.00014008756261318922   \u001b[0m\u001b[35m \u001b[0m│\n",
       "│\u001b[36m \u001b[0m\u001b[36m inflection value test mse  \u001b[0m\u001b[36m \u001b[0m│\u001b[35m \u001b[0m\u001b[35m   0.00014008756261318922   \u001b[0m\u001b[35m \u001b[0m│\n",
       "│\u001b[36m \u001b[0m\u001b[36m     max position loss      \u001b[0m\u001b[36m \u001b[0m│\u001b[35m \u001b[0m\u001b[35m    0.06854354590177536     \u001b[0m\u001b[35m \u001b[0m│\n",
       "│\u001b[36m \u001b[0m\u001b[36m   max position test mse    \u001b[0m\u001b[36m \u001b[0m│\u001b[35m \u001b[0m\u001b[35m    0.06854354590177536     \u001b[0m\u001b[35m \u001b[0m│\n",
       "│\u001b[36m \u001b[0m\u001b[36m       max value loss       \u001b[0m\u001b[36m \u001b[0m│\u001b[35m \u001b[0m\u001b[35m   0.00035159254912286997   \u001b[0m\u001b[35m \u001b[0m│\n",
       "│\u001b[36m \u001b[0m\u001b[36m    max value test loss     \u001b[0m\u001b[36m \u001b[0m│\u001b[35m \u001b[0m\u001b[35m   0.00035159254912286997   \u001b[0m\u001b[35m \u001b[0m│\n",
       "│\u001b[36m \u001b[0m\u001b[36m      prediction loss       \u001b[0m\u001b[36m \u001b[0m│\u001b[35m \u001b[0m\u001b[35m   0.0004275725514162332    \u001b[0m\u001b[35m \u001b[0m│\n",
       "│\u001b[36m \u001b[0m\u001b[36m    prediction test mse     \u001b[0m\u001b[36m \u001b[0m│\u001b[35m \u001b[0m\u001b[35m   0.0004275725514162332    \u001b[0m\u001b[35m \u001b[0m│\n",
       "│\u001b[36m \u001b[0m\u001b[36m      test_loss_epoch       \u001b[0m\u001b[36m \u001b[0m│\u001b[35m \u001b[0m\u001b[35m   0.0008851788006722927    \u001b[0m\u001b[35m \u001b[0m│\n",
       "│\u001b[36m \u001b[0m\u001b[36m     weighted mse loss      \u001b[0m\u001b[36m \u001b[0m│\u001b[35m \u001b[0m\u001b[35m   0.00014244855265133083   \u001b[0m\u001b[35m \u001b[0m│\n",
       "│\u001b[36m \u001b[0m\u001b[36m weighted mse loss test mse \u001b[0m\u001b[36m \u001b[0m│\u001b[35m \u001b[0m\u001b[35m   0.00014244855265133083   \u001b[0m\u001b[35m \u001b[0m│\n",
       "└──────────────────────────────┴──────────────────────────────┘\n"
      ]
     },
     "metadata": {},
     "output_type": "display_data"
    },
    {
     "name": "stderr",
     "output_type": "stream",
     "text": [
      " 43%|████▎     | 15/35 [22:23<12:14, 36.71s/it]"
     ]
    },
    {
     "name": "stdout",
     "output_type": "stream",
     "text": [
      "model: outputs/AE/AE_CNN_3D/dataset_output/8_channels_spatial_pooling_with_pca_pre_treatment/pred_0.01_grad_1000_max_pos_0.01_max_value_0.05_fft_0.0001_weighted_1_inflection_pos_0.01_inflection_value_0.05/depth_pre_treatment_pca_n_components_50/channels_[1, 8, 8, 8, 8]/upsample_mode_trilinear/linear_later_False_lattent_size_50/1_conv_per_layer/padding_reflect/interp_size_25/pooling_Max_on_dim_spatial/final_upsample_upsample_pooling/act_fn_Elu_final_act_fn_Elu/lr_0.001/normalization_min_max/manage_nan_suppress/n_profiles_None/2024-11-13_22-20/checkpoints/val_loss=0.00-epoch=221.ckpt\n"
     ]
    },
    {
     "name": "stderr",
     "output_type": "stream",
     "text": [
      "Trainer will use only 1 of 3 GPUs because it is running inside an interactive / notebook environment. You may try to set `Trainer(devices=3)` but please note that multi-GPU inside interactive / notebook environments is considered experimental and unstable. Your mileage may vary.\n",
      "/DATASET/envs/o23gauvr/miniconda3/envs/fsc_env/lib/python3.11/site-packages/lightning_fabric/plugins/environments/slurm.py:191: The `srun` command is available on your system but is not used. HINT: If your intention is to run Lightning on SLURM, prepend your python command with `srun` like so: srun python /DATASET/envs/o23gauvr/miniconda3/envs/fsc_env/lib/p ...\n",
      "GPU available: True (cuda), used: True\n",
      "TPU available: False, using: 0 TPU cores\n",
      "IPU available: False, using: 0 IPUs\n",
      "HPU available: False, using: 0 HPUs\n",
      "LOCAL_RANK: 0 - CUDA_VISIBLE_DEVICES: [0,1,2]\n"
     ]
    },
    {
     "name": "stdout",
     "output_type": "stream",
     "text": [
      "Testing DataLoader 0:   0%|          | 0/10 [00:00<?, ?it/s]PCA pre treatment, depth components: 50\n",
      "PCA pre treatment, depth components: 50\n",
      "Testing DataLoader 0:  10%|█         | 1/10 [00:00<00:02,  3.80it/s]PCA pre treatment, depth components: 50\n",
      "PCA pre treatment, depth components: 50\n",
      "Testing DataLoader 0:  20%|██        | 2/10 [00:00<00:01,  4.88it/s]PCA pre treatment, depth components: 50\n",
      "PCA pre treatment, depth components: 50\n",
      "Testing DataLoader 0:  30%|███       | 3/10 [00:00<00:01,  5.17it/s]PCA pre treatment, depth components: 50\n",
      "PCA pre treatment, depth components: 50\n",
      "Testing DataLoader 0:  40%|████      | 4/10 [00:00<00:01,  5.63it/s]PCA pre treatment, depth components: 50\n",
      "PCA pre treatment, depth components: 50\n",
      "Testing DataLoader 0:  50%|█████     | 5/10 [00:00<00:00,  5.66it/s]PCA pre treatment, depth components: 50\n",
      "PCA pre treatment, depth components: 50\n",
      "Testing DataLoader 0:  60%|██████    | 6/10 [00:01<00:00,  5.94it/s]PCA pre treatment, depth components: 50\n",
      "PCA pre treatment, depth components: 50\n",
      "Testing DataLoader 0:  70%|███████   | 7/10 [00:01<00:00,  5.94it/s]PCA pre treatment, depth components: 50\n",
      "PCA pre treatment, depth components: 50\n",
      "Testing DataLoader 0:  80%|████████  | 8/10 [00:01<00:00,  6.14it/s]PCA pre treatment, depth components: 50\n",
      "PCA pre treatment, depth components: 50\n",
      "Testing DataLoader 0:  90%|█████████ | 9/10 [00:01<00:00,  6.11it/s]PCA pre treatment, depth components: 50\n",
      "PCA pre treatment, depth components: 50\n",
      "Testing DataLoader 0: 100%|██████████| 10/10 [00:01<00:00,  6.30it/s]\n"
     ]
    },
    {
     "data": {
      "text/html": [
       "<pre style=\"white-space:pre;overflow-x:auto;line-height:normal;font-family:Menlo,'DejaVu Sans Mono',consolas,'Courier New',monospace\">┏━━━━━━━━━━━━━━━━━━━━━━━━━━━━━━┳━━━━━━━━━━━━━━━━━━━━━━━━━━━━━━┓\n",
       "┃<span style=\"font-weight: bold\">         Test metric          </span>┃<span style=\"font-weight: bold\">         DataLoader 0         </span>┃\n",
       "┡━━━━━━━━━━━━━━━━━━━━━━━━━━━━━━╇━━━━━━━━━━━━━━━━━━━━━━━━━━━━━━┩\n",
       "│<span style=\"color: #008080; text-decoration-color: #008080\">           ECS RMSE           </span>│<span style=\"color: #800080; text-decoration-color: #800080\">             0.0              </span>│\n",
       "│<span style=\"color: #008080; text-decoration-color: #008080\">           SSP RMSE           </span>│<span style=\"color: #800080; text-decoration-color: #800080\">      9.139714241027832       </span>│\n",
       "│<span style=\"color: #008080; text-decoration-color: #008080\">           fft loss           </span>│<span style=\"color: #800080; text-decoration-color: #800080\">     0.04049232229590416      </span>│\n",
       "│<span style=\"color: #008080; text-decoration-color: #008080\">         fft test mse         </span>│<span style=\"color: #800080; text-decoration-color: #800080\">     0.04049232229590416      </span>│\n",
       "│<span style=\"color: #008080; text-decoration-color: #008080\">        gradient loss         </span>│<span style=\"color: #800080; text-decoration-color: #800080\">    1.4469904385805421e-08    </span>│\n",
       "│<span style=\"color: #008080; text-decoration-color: #008080\">      gradient test mse       </span>│<span style=\"color: #800080; text-decoration-color: #800080\">    1.4469904385805421e-08    </span>│\n",
       "│<span style=\"color: #008080; text-decoration-color: #008080\">     inflection pos loss      </span>│<span style=\"color: #800080; text-decoration-color: #800080\">             0.0              </span>│\n",
       "│<span style=\"color: #008080; text-decoration-color: #008080\"> inflection position test mse </span>│<span style=\"color: #800080; text-decoration-color: #800080\">             0.0              </span>│\n",
       "│<span style=\"color: #008080; text-decoration-color: #008080\">    inflection value loss     </span>│<span style=\"color: #800080; text-decoration-color: #800080\">    4.495423854677938e-05     </span>│\n",
       "│<span style=\"color: #008080; text-decoration-color: #008080\">  inflection value test mse   </span>│<span style=\"color: #800080; text-decoration-color: #800080\">    4.495423854677938e-05     </span>│\n",
       "│<span style=\"color: #008080; text-decoration-color: #008080\">      max position loss       </span>│<span style=\"color: #800080; text-decoration-color: #800080\">             0.0              </span>│\n",
       "│<span style=\"color: #008080; text-decoration-color: #008080\">    max position test mse     </span>│<span style=\"color: #800080; text-decoration-color: #800080\">             0.0              </span>│\n",
       "│<span style=\"color: #008080; text-decoration-color: #008080\">        max value loss        </span>│<span style=\"color: #800080; text-decoration-color: #800080\">    0.00034625502303242683    </span>│\n",
       "│<span style=\"color: #008080; text-decoration-color: #008080\">     max value test loss      </span>│<span style=\"color: #800080; text-decoration-color: #800080\">    0.00034625502303242683    </span>│\n",
       "│<span style=\"color: #008080; text-decoration-color: #008080\">       prediction loss        </span>│<span style=\"color: #800080; text-decoration-color: #800080\">    0.00042691861744970083    </span>│\n",
       "│<span style=\"color: #008080; text-decoration-color: #008080\">     prediction test mse      </span>│<span style=\"color: #800080; text-decoration-color: #800080\">    0.00042691861744970083    </span>│\n",
       "│<span style=\"color: #008080; text-decoration-color: #008080\">       test_loss_epoch        </span>│<span style=\"color: #800080; text-decoration-color: #800080\">    0.00018443024600856006    </span>│\n",
       "│<span style=\"color: #008080; text-decoration-color: #008080\">      weighted mse loss       </span>│<span style=\"color: #800080; text-decoration-color: #800080\">    0.00014208146603778005    </span>│\n",
       "│<span style=\"color: #008080; text-decoration-color: #008080\">  weighted mse loss test mse  </span>│<span style=\"color: #800080; text-decoration-color: #800080\">    0.00014208146603778005    </span>│\n",
       "└──────────────────────────────┴──────────────────────────────┘\n",
       "</pre>\n"
      ],
      "text/plain": [
       "┏━━━━━━━━━━━━━━━━━━━━━━━━━━━━━━┳━━━━━━━━━━━━━━━━━━━━━━━━━━━━━━┓\n",
       "┃\u001b[1m \u001b[0m\u001b[1m        Test metric         \u001b[0m\u001b[1m \u001b[0m┃\u001b[1m \u001b[0m\u001b[1m        DataLoader 0        \u001b[0m\u001b[1m \u001b[0m┃\n",
       "┡━━━━━━━━━━━━━━━━━━━━━━━━━━━━━━╇━━━━━━━━━━━━━━━━━━━━━━━━━━━━━━┩\n",
       "│\u001b[36m \u001b[0m\u001b[36m          ECS RMSE          \u001b[0m\u001b[36m \u001b[0m│\u001b[35m \u001b[0m\u001b[35m            0.0             \u001b[0m\u001b[35m \u001b[0m│\n",
       "│\u001b[36m \u001b[0m\u001b[36m          SSP RMSE          \u001b[0m\u001b[36m \u001b[0m│\u001b[35m \u001b[0m\u001b[35m     9.139714241027832      \u001b[0m\u001b[35m \u001b[0m│\n",
       "│\u001b[36m \u001b[0m\u001b[36m          fft loss          \u001b[0m\u001b[36m \u001b[0m│\u001b[35m \u001b[0m\u001b[35m    0.04049232229590416     \u001b[0m\u001b[35m \u001b[0m│\n",
       "│\u001b[36m \u001b[0m\u001b[36m        fft test mse        \u001b[0m\u001b[36m \u001b[0m│\u001b[35m \u001b[0m\u001b[35m    0.04049232229590416     \u001b[0m\u001b[35m \u001b[0m│\n",
       "│\u001b[36m \u001b[0m\u001b[36m       gradient loss        \u001b[0m\u001b[36m \u001b[0m│\u001b[35m \u001b[0m\u001b[35m   1.4469904385805421e-08   \u001b[0m\u001b[35m \u001b[0m│\n",
       "│\u001b[36m \u001b[0m\u001b[36m     gradient test mse      \u001b[0m\u001b[36m \u001b[0m│\u001b[35m \u001b[0m\u001b[35m   1.4469904385805421e-08   \u001b[0m\u001b[35m \u001b[0m│\n",
       "│\u001b[36m \u001b[0m\u001b[36m    inflection pos loss     \u001b[0m\u001b[36m \u001b[0m│\u001b[35m \u001b[0m\u001b[35m            0.0             \u001b[0m\u001b[35m \u001b[0m│\n",
       "│\u001b[36m \u001b[0m\u001b[36minflection position test mse\u001b[0m\u001b[36m \u001b[0m│\u001b[35m \u001b[0m\u001b[35m            0.0             \u001b[0m\u001b[35m \u001b[0m│\n",
       "│\u001b[36m \u001b[0m\u001b[36m   inflection value loss    \u001b[0m\u001b[36m \u001b[0m│\u001b[35m \u001b[0m\u001b[35m   4.495423854677938e-05    \u001b[0m\u001b[35m \u001b[0m│\n",
       "│\u001b[36m \u001b[0m\u001b[36m inflection value test mse  \u001b[0m\u001b[36m \u001b[0m│\u001b[35m \u001b[0m\u001b[35m   4.495423854677938e-05    \u001b[0m\u001b[35m \u001b[0m│\n",
       "│\u001b[36m \u001b[0m\u001b[36m     max position loss      \u001b[0m\u001b[36m \u001b[0m│\u001b[35m \u001b[0m\u001b[35m            0.0             \u001b[0m\u001b[35m \u001b[0m│\n",
       "│\u001b[36m \u001b[0m\u001b[36m   max position test mse    \u001b[0m\u001b[36m \u001b[0m│\u001b[35m \u001b[0m\u001b[35m            0.0             \u001b[0m\u001b[35m \u001b[0m│\n",
       "│\u001b[36m \u001b[0m\u001b[36m       max value loss       \u001b[0m\u001b[36m \u001b[0m│\u001b[35m \u001b[0m\u001b[35m   0.00034625502303242683   \u001b[0m\u001b[35m \u001b[0m│\n",
       "│\u001b[36m \u001b[0m\u001b[36m    max value test loss     \u001b[0m\u001b[36m \u001b[0m│\u001b[35m \u001b[0m\u001b[35m   0.00034625502303242683   \u001b[0m\u001b[35m \u001b[0m│\n",
       "│\u001b[36m \u001b[0m\u001b[36m      prediction loss       \u001b[0m\u001b[36m \u001b[0m│\u001b[35m \u001b[0m\u001b[35m   0.00042691861744970083   \u001b[0m\u001b[35m \u001b[0m│\n",
       "│\u001b[36m \u001b[0m\u001b[36m    prediction test mse     \u001b[0m\u001b[36m \u001b[0m│\u001b[35m \u001b[0m\u001b[35m   0.00042691861744970083   \u001b[0m\u001b[35m \u001b[0m│\n",
       "│\u001b[36m \u001b[0m\u001b[36m      test_loss_epoch       \u001b[0m\u001b[36m \u001b[0m│\u001b[35m \u001b[0m\u001b[35m   0.00018443024600856006   \u001b[0m\u001b[35m \u001b[0m│\n",
       "│\u001b[36m \u001b[0m\u001b[36m     weighted mse loss      \u001b[0m\u001b[36m \u001b[0m│\u001b[35m \u001b[0m\u001b[35m   0.00014208146603778005   \u001b[0m\u001b[35m \u001b[0m│\n",
       "│\u001b[36m \u001b[0m\u001b[36m weighted mse loss test mse \u001b[0m\u001b[36m \u001b[0m│\u001b[35m \u001b[0m\u001b[35m   0.00014208146603778005   \u001b[0m\u001b[35m \u001b[0m│\n",
       "└──────────────────────────────┴──────────────────────────────┘\n"
      ]
     },
     "metadata": {},
     "output_type": "display_data"
    },
    {
     "name": "stderr",
     "output_type": "stream",
     "text": [
      " 46%|████▌     | 16/35 [23:06<12:08, 38.35s/it]"
     ]
    },
    {
     "name": "stdout",
     "output_type": "stream",
     "text": [
      "model: outputs/AE/AE_CNN_3D/dataset_output/8_channels_spatial_pooling_with_pca_pre_treatment/pred_0.01_grad_1000_max_pos_0.01_max_value_0.05_fft_0.0001_weighted_1_inflection_pos_0.01_inflection_value_0.05/depth_pre_treatment_pca_n_components_50/channels_[1, 8]/upsample_mode_trilinear/linear_later_False_lattent_size_50/1_conv_per_layer/padding_reflect/interp_size_25/pooling_Max_on_dim_spatial/final_upsample_upsample_pooling/act_fn_Elu_final_act_fn_Elu/lr_0.001/normalization_min_max/manage_nan_suppress/n_profiles_None/2024-11-13_15-50/checkpoints/val_loss=0.00-epoch=224.ckpt\n"
     ]
    },
    {
     "name": "stderr",
     "output_type": "stream",
     "text": [
      "Trainer will use only 1 of 3 GPUs because it is running inside an interactive / notebook environment. You may try to set `Trainer(devices=3)` but please note that multi-GPU inside interactive / notebook environments is considered experimental and unstable. Your mileage may vary.\n",
      "/DATASET/envs/o23gauvr/miniconda3/envs/fsc_env/lib/python3.11/site-packages/lightning_fabric/plugins/environments/slurm.py:191: The `srun` command is available on your system but is not used. HINT: If your intention is to run Lightning on SLURM, prepend your python command with `srun` like so: srun python /DATASET/envs/o23gauvr/miniconda3/envs/fsc_env/lib/p ...\n",
      "GPU available: True (cuda), used: True\n",
      "TPU available: False, using: 0 TPU cores\n",
      "IPU available: False, using: 0 IPUs\n",
      "HPU available: False, using: 0 HPUs\n",
      "LOCAL_RANK: 0 - CUDA_VISIBLE_DEVICES: [0,1,2]\n"
     ]
    },
    {
     "name": "stdout",
     "output_type": "stream",
     "text": [
      "Testing DataLoader 0:   0%|          | 0/10 [00:00<?, ?it/s]PCA pre treatment, depth components: 50\n",
      "PCA pre treatment, depth components: 50\n",
      "Testing DataLoader 0:  10%|█         | 1/10 [00:00<00:01,  7.79it/s]PCA pre treatment, depth components: 50\n",
      "PCA pre treatment, depth components: 50\n",
      "Testing DataLoader 0:  20%|██        | 2/10 [00:00<00:01,  7.65it/s]PCA pre treatment, depth components: 50\n",
      "PCA pre treatment, depth components: 50\n",
      "Testing DataLoader 0:  30%|███       | 3/10 [00:00<00:00,  7.46it/s]PCA pre treatment, depth components: 50\n",
      "PCA pre treatment, depth components: 50\n",
      "Testing DataLoader 0:  40%|████      | 4/10 [00:00<00:00,  7.59it/s]PCA pre treatment, depth components: 50\n",
      "PCA pre treatment, depth components: 50\n",
      "Testing DataLoader 0:  50%|█████     | 5/10 [00:00<00:00,  7.47it/s]PCA pre treatment, depth components: 50\n",
      "PCA pre treatment, depth components: 50\n",
      "Testing DataLoader 0:  60%|██████    | 6/10 [00:00<00:00,  7.56it/s]PCA pre treatment, depth components: 50\n",
      "PCA pre treatment, depth components: 50\n",
      "Testing DataLoader 0:  70%|███████   | 7/10 [00:00<00:00,  7.40it/s]PCA pre treatment, depth components: 50\n",
      "PCA pre treatment, depth components: 50\n",
      "Testing DataLoader 0:  80%|████████  | 8/10 [00:01<00:00,  7.54it/s]PCA pre treatment, depth components: 50\n",
      "PCA pre treatment, depth components: 50\n",
      "Testing DataLoader 0:  90%|█████████ | 9/10 [00:01<00:00,  7.48it/s]PCA pre treatment, depth components: 50\n",
      "PCA pre treatment, depth components: 50\n",
      "Testing DataLoader 0: 100%|██████████| 10/10 [00:01<00:00,  7.63it/s]\n"
     ]
    },
    {
     "data": {
      "text/html": [
       "<pre style=\"white-space:pre;overflow-x:auto;line-height:normal;font-family:Menlo,'DejaVu Sans Mono',consolas,'Courier New',monospace\">┏━━━━━━━━━━━━━━━━━━━━━━━━━━━━━━┳━━━━━━━━━━━━━━━━━━━━━━━━━━━━━━┓\n",
       "┃<span style=\"font-weight: bold\">         Test metric          </span>┃<span style=\"font-weight: bold\">         DataLoader 0         </span>┃\n",
       "┡━━━━━━━━━━━━━━━━━━━━━━━━━━━━━━╇━━━━━━━━━━━━━━━━━━━━━━━━━━━━━━┩\n",
       "│<span style=\"color: #008080; text-decoration-color: #008080\">           ECS RMSE           </span>│<span style=\"color: #800080; text-decoration-color: #800080\">             0.0              </span>│\n",
       "│<span style=\"color: #008080; text-decoration-color: #008080\">           SSP RMSE           </span>│<span style=\"color: #800080; text-decoration-color: #800080\">      9.157495498657227       </span>│\n",
       "│<span style=\"color: #008080; text-decoration-color: #008080\">           fft loss           </span>│<span style=\"color: #800080; text-decoration-color: #800080\">     0.04057322442531586      </span>│\n",
       "│<span style=\"color: #008080; text-decoration-color: #008080\">         fft test mse         </span>│<span style=\"color: #800080; text-decoration-color: #800080\">     0.04057322442531586      </span>│\n",
       "│<span style=\"color: #008080; text-decoration-color: #008080\">        gradient loss         </span>│<span style=\"color: #800080; text-decoration-color: #800080\">     7.29025870782607e-08     </span>│\n",
       "│<span style=\"color: #008080; text-decoration-color: #008080\">      gradient test mse       </span>│<span style=\"color: #800080; text-decoration-color: #800080\">     7.29025870782607e-08     </span>│\n",
       "│<span style=\"color: #008080; text-decoration-color: #008080\">     inflection pos loss      </span>│<span style=\"color: #800080; text-decoration-color: #800080\">    1.2204342056065798e-05    </span>│\n",
       "│<span style=\"color: #008080; text-decoration-color: #008080\"> inflection position test mse </span>│<span style=\"color: #800080; text-decoration-color: #800080\">    1.2204342056065798e-05    </span>│\n",
       "│<span style=\"color: #008080; text-decoration-color: #008080\">    inflection value loss     </span>│<span style=\"color: #800080; text-decoration-color: #800080\">    4.537031418294646e-05     </span>│\n",
       "│<span style=\"color: #008080; text-decoration-color: #008080\">  inflection value test mse   </span>│<span style=\"color: #800080; text-decoration-color: #800080\">    4.537031418294646e-05     </span>│\n",
       "│<span style=\"color: #008080; text-decoration-color: #008080\">      max position loss       </span>│<span style=\"color: #800080; text-decoration-color: #800080\">             0.0              </span>│\n",
       "│<span style=\"color: #008080; text-decoration-color: #008080\">    max position test mse     </span>│<span style=\"color: #800080; text-decoration-color: #800080\">             0.0              </span>│\n",
       "│<span style=\"color: #008080; text-decoration-color: #008080\">        max value loss        </span>│<span style=\"color: #800080; text-decoration-color: #800080\">    0.00034877381403930485    </span>│\n",
       "│<span style=\"color: #008080; text-decoration-color: #008080\">     max value test loss      </span>│<span style=\"color: #800080; text-decoration-color: #800080\">    0.00034877381403930485    </span>│\n",
       "│<span style=\"color: #008080; text-decoration-color: #008080\">       prediction loss        </span>│<span style=\"color: #800080; text-decoration-color: #800080\">    0.0004285816103219986     </span>│\n",
       "│<span style=\"color: #008080; text-decoration-color: #008080\">     prediction test mse      </span>│<span style=\"color: #800080; text-decoration-color: #800080\">    0.0004285816103219986     </span>│\n",
       "│<span style=\"color: #008080; text-decoration-color: #008080\">       test_loss_epoch        </span>│<span style=\"color: #800080; text-decoration-color: #800080\">    0.00024420543923042715    </span>│\n",
       "│<span style=\"color: #008080; text-decoration-color: #008080\">      weighted mse loss       </span>│<span style=\"color: #800080; text-decoration-color: #800080\">    0.00014313046995084733    </span>│\n",
       "│<span style=\"color: #008080; text-decoration-color: #008080\">  weighted mse loss test mse  </span>│<span style=\"color: #800080; text-decoration-color: #800080\">    0.00014313046995084733    </span>│\n",
       "└──────────────────────────────┴──────────────────────────────┘\n",
       "</pre>\n"
      ],
      "text/plain": [
       "┏━━━━━━━━━━━━━━━━━━━━━━━━━━━━━━┳━━━━━━━━━━━━━━━━━━━━━━━━━━━━━━┓\n",
       "┃\u001b[1m \u001b[0m\u001b[1m        Test metric         \u001b[0m\u001b[1m \u001b[0m┃\u001b[1m \u001b[0m\u001b[1m        DataLoader 0        \u001b[0m\u001b[1m \u001b[0m┃\n",
       "┡━━━━━━━━━━━━━━━━━━━━━━━━━━━━━━╇━━━━━━━━━━━━━━━━━━━━━━━━━━━━━━┩\n",
       "│\u001b[36m \u001b[0m\u001b[36m          ECS RMSE          \u001b[0m\u001b[36m \u001b[0m│\u001b[35m \u001b[0m\u001b[35m            0.0             \u001b[0m\u001b[35m \u001b[0m│\n",
       "│\u001b[36m \u001b[0m\u001b[36m          SSP RMSE          \u001b[0m\u001b[36m \u001b[0m│\u001b[35m \u001b[0m\u001b[35m     9.157495498657227      \u001b[0m\u001b[35m \u001b[0m│\n",
       "│\u001b[36m \u001b[0m\u001b[36m          fft loss          \u001b[0m\u001b[36m \u001b[0m│\u001b[35m \u001b[0m\u001b[35m    0.04057322442531586     \u001b[0m\u001b[35m \u001b[0m│\n",
       "│\u001b[36m \u001b[0m\u001b[36m        fft test mse        \u001b[0m\u001b[36m \u001b[0m│\u001b[35m \u001b[0m\u001b[35m    0.04057322442531586     \u001b[0m\u001b[35m \u001b[0m│\n",
       "│\u001b[36m \u001b[0m\u001b[36m       gradient loss        \u001b[0m\u001b[36m \u001b[0m│\u001b[35m \u001b[0m\u001b[35m    7.29025870782607e-08    \u001b[0m\u001b[35m \u001b[0m│\n",
       "│\u001b[36m \u001b[0m\u001b[36m     gradient test mse      \u001b[0m\u001b[36m \u001b[0m│\u001b[35m \u001b[0m\u001b[35m    7.29025870782607e-08    \u001b[0m\u001b[35m \u001b[0m│\n",
       "│\u001b[36m \u001b[0m\u001b[36m    inflection pos loss     \u001b[0m\u001b[36m \u001b[0m│\u001b[35m \u001b[0m\u001b[35m   1.2204342056065798e-05   \u001b[0m\u001b[35m \u001b[0m│\n",
       "│\u001b[36m \u001b[0m\u001b[36minflection position test mse\u001b[0m\u001b[36m \u001b[0m│\u001b[35m \u001b[0m\u001b[35m   1.2204342056065798e-05   \u001b[0m\u001b[35m \u001b[0m│\n",
       "│\u001b[36m \u001b[0m\u001b[36m   inflection value loss    \u001b[0m\u001b[36m \u001b[0m│\u001b[35m \u001b[0m\u001b[35m   4.537031418294646e-05    \u001b[0m\u001b[35m \u001b[0m│\n",
       "│\u001b[36m \u001b[0m\u001b[36m inflection value test mse  \u001b[0m\u001b[36m \u001b[0m│\u001b[35m \u001b[0m\u001b[35m   4.537031418294646e-05    \u001b[0m\u001b[35m \u001b[0m│\n",
       "│\u001b[36m \u001b[0m\u001b[36m     max position loss      \u001b[0m\u001b[36m \u001b[0m│\u001b[35m \u001b[0m\u001b[35m            0.0             \u001b[0m\u001b[35m \u001b[0m│\n",
       "│\u001b[36m \u001b[0m\u001b[36m   max position test mse    \u001b[0m\u001b[36m \u001b[0m│\u001b[35m \u001b[0m\u001b[35m            0.0             \u001b[0m\u001b[35m \u001b[0m│\n",
       "│\u001b[36m \u001b[0m\u001b[36m       max value loss       \u001b[0m\u001b[36m \u001b[0m│\u001b[35m \u001b[0m\u001b[35m   0.00034877381403930485   \u001b[0m\u001b[35m \u001b[0m│\n",
       "│\u001b[36m \u001b[0m\u001b[36m    max value test loss     \u001b[0m\u001b[36m \u001b[0m│\u001b[35m \u001b[0m\u001b[35m   0.00034877381403930485   \u001b[0m\u001b[35m \u001b[0m│\n",
       "│\u001b[36m \u001b[0m\u001b[36m      prediction loss       \u001b[0m\u001b[36m \u001b[0m│\u001b[35m \u001b[0m\u001b[35m   0.0004285816103219986    \u001b[0m\u001b[35m \u001b[0m│\n",
       "│\u001b[36m \u001b[0m\u001b[36m    prediction test mse     \u001b[0m\u001b[36m \u001b[0m│\u001b[35m \u001b[0m\u001b[35m   0.0004285816103219986    \u001b[0m\u001b[35m \u001b[0m│\n",
       "│\u001b[36m \u001b[0m\u001b[36m      test_loss_epoch       \u001b[0m\u001b[36m \u001b[0m│\u001b[35m \u001b[0m\u001b[35m   0.00024420543923042715   \u001b[0m\u001b[35m \u001b[0m│\n",
       "│\u001b[36m \u001b[0m\u001b[36m     weighted mse loss      \u001b[0m\u001b[36m \u001b[0m│\u001b[35m \u001b[0m\u001b[35m   0.00014313046995084733   \u001b[0m\u001b[35m \u001b[0m│\n",
       "│\u001b[36m \u001b[0m\u001b[36m weighted mse loss test mse \u001b[0m\u001b[36m \u001b[0m│\u001b[35m \u001b[0m\u001b[35m   0.00014313046995084733   \u001b[0m\u001b[35m \u001b[0m│\n",
       "└──────────────────────────────┴──────────────────────────────┘\n"
      ]
     },
     "metadata": {},
     "output_type": "display_data"
    },
    {
     "name": "stderr",
     "output_type": "stream",
     "text": [
      " 49%|████▊     | 17/35 [23:38<10:58, 36.56s/it]"
     ]
    },
    {
     "name": "stdout",
     "output_type": "stream",
     "text": [
      "model: outputs/AE/AE_CNN_3D/dataset_output/8_channels_spatial_pooling_with_pca_pre_treatment/pred_0.01_grad_1000_max_pos_0.01_max_value_0.05_fft_0.0001_weighted_1_inflection_pos_0.01_inflection_value_0.05/depth_pre_treatment_pca_n_components_50/channels_[1, 8, 8, 8]/upsample_mode_trilinear/linear_later_False_lattent_size_50/1_conv_per_layer/padding_reflect/interp_size_25/pooling_Max_on_dim_spatial/final_upsample_upsample_pooling/act_fn_Elu_final_act_fn_Elu/lr_0.001/normalization_min_max/manage_nan_suppress/n_profiles_None/2024-11-13_19-07/checkpoints/val_loss=0.00-epoch=221.ckpt\n"
     ]
    },
    {
     "name": "stderr",
     "output_type": "stream",
     "text": [
      "Trainer will use only 1 of 3 GPUs because it is running inside an interactive / notebook environment. You may try to set `Trainer(devices=3)` but please note that multi-GPU inside interactive / notebook environments is considered experimental and unstable. Your mileage may vary.\n",
      "/DATASET/envs/o23gauvr/miniconda3/envs/fsc_env/lib/python3.11/site-packages/lightning_fabric/plugins/environments/slurm.py:191: The `srun` command is available on your system but is not used. HINT: If your intention is to run Lightning on SLURM, prepend your python command with `srun` like so: srun python /DATASET/envs/o23gauvr/miniconda3/envs/fsc_env/lib/p ...\n",
      "GPU available: True (cuda), used: True\n",
      "TPU available: False, using: 0 TPU cores\n",
      "IPU available: False, using: 0 IPUs\n",
      "HPU available: False, using: 0 HPUs\n",
      "LOCAL_RANK: 0 - CUDA_VISIBLE_DEVICES: [0,1,2]\n"
     ]
    },
    {
     "name": "stdout",
     "output_type": "stream",
     "text": [
      "Testing DataLoader 0:   0%|          | 0/10 [00:00<?, ?it/s]PCA pre treatment, depth components: 50\n",
      "PCA pre treatment, depth components: 50\n",
      "Testing DataLoader 0:  10%|█         | 1/10 [00:00<00:00, 11.36it/s]PCA pre treatment, depth components: 50\n",
      "PCA pre treatment, depth components: 50\n",
      "Testing DataLoader 0:  20%|██        | 2/10 [00:00<00:01,  7.62it/s]PCA pre treatment, depth components: 50\n",
      "PCA pre treatment, depth components: 50\n",
      "Testing DataLoader 0:  30%|███       | 3/10 [00:00<00:00,  7.73it/s]PCA pre treatment, depth components: 50\n",
      "PCA pre treatment, depth components: 50\n",
      "Testing DataLoader 0:  40%|████      | 4/10 [00:00<00:00,  7.12it/s]PCA pre treatment, depth components: 50\n",
      "PCA pre treatment, depth components: 50\n",
      "Testing DataLoader 0:  50%|█████     | 5/10 [00:00<00:00,  7.27it/s]PCA pre treatment, depth components: 50\n",
      "PCA pre treatment, depth components: 50\n",
      "Testing DataLoader 0:  60%|██████    | 6/10 [00:00<00:00,  6.97it/s]PCA pre treatment, depth components: 50\n",
      "PCA pre treatment, depth components: 50\n",
      "Testing DataLoader 0:  70%|███████   | 7/10 [00:00<00:00,  7.09it/s]PCA pre treatment, depth components: 50\n",
      "PCA pre treatment, depth components: 50\n",
      "Testing DataLoader 0:  80%|████████  | 8/10 [00:01<00:00,  6.90it/s]PCA pre treatment, depth components: 50\n",
      "PCA pre treatment, depth components: 50\n",
      "Testing DataLoader 0:  90%|█████████ | 9/10 [00:01<00:00,  7.02it/s]PCA pre treatment, depth components: 50\n",
      "PCA pre treatment, depth components: 50\n",
      "Testing DataLoader 0: 100%|██████████| 10/10 [00:01<00:00,  7.13it/s]\n"
     ]
    },
    {
     "data": {
      "text/html": [
       "<pre style=\"white-space:pre;overflow-x:auto;line-height:normal;font-family:Menlo,'DejaVu Sans Mono',consolas,'Courier New',monospace\">┏━━━━━━━━━━━━━━━━━━━━━━━━━━━━━━┳━━━━━━━━━━━━━━━━━━━━━━━━━━━━━━┓\n",
       "┃<span style=\"font-weight: bold\">         Test metric          </span>┃<span style=\"font-weight: bold\">         DataLoader 0         </span>┃\n",
       "┡━━━━━━━━━━━━━━━━━━━━━━━━━━━━━━╇━━━━━━━━━━━━━━━━━━━━━━━━━━━━━━┩\n",
       "│<span style=\"color: #008080; text-decoration-color: #008080\">           ECS RMSE           </span>│<span style=\"color: #800080; text-decoration-color: #800080\">             0.0              </span>│\n",
       "│<span style=\"color: #008080; text-decoration-color: #008080\">           SSP RMSE           </span>│<span style=\"color: #800080; text-decoration-color: #800080\">      9.141386985778809       </span>│\n",
       "│<span style=\"color: #008080; text-decoration-color: #008080\">           fft loss           </span>│<span style=\"color: #800080; text-decoration-color: #800080\">     0.040490806102752686     </span>│\n",
       "│<span style=\"color: #008080; text-decoration-color: #008080\">         fft test mse         </span>│<span style=\"color: #800080; text-decoration-color: #800080\">     0.040490806102752686     </span>│\n",
       "│<span style=\"color: #008080; text-decoration-color: #008080\">        gradient loss         </span>│<span style=\"color: #800080; text-decoration-color: #800080\">    1.2602980881126769e-08    </span>│\n",
       "│<span style=\"color: #008080; text-decoration-color: #008080\">      gradient test mse       </span>│<span style=\"color: #800080; text-decoration-color: #800080\">    1.2602980881126769e-08    </span>│\n",
       "│<span style=\"color: #008080; text-decoration-color: #008080\">     inflection pos loss      </span>│<span style=\"color: #800080; text-decoration-color: #800080\">             0.0              </span>│\n",
       "│<span style=\"color: #008080; text-decoration-color: #008080\"> inflection position test mse </span>│<span style=\"color: #800080; text-decoration-color: #800080\">             0.0              </span>│\n",
       "│<span style=\"color: #008080; text-decoration-color: #008080\">    inflection value loss     </span>│<span style=\"color: #800080; text-decoration-color: #800080\">    4.499281567404978e-05     </span>│\n",
       "│<span style=\"color: #008080; text-decoration-color: #008080\">  inflection value test mse   </span>│<span style=\"color: #800080; text-decoration-color: #800080\">    4.499281567404978e-05     </span>│\n",
       "│<span style=\"color: #008080; text-decoration-color: #008080\">      max position loss       </span>│<span style=\"color: #800080; text-decoration-color: #800080\">             0.0              </span>│\n",
       "│<span style=\"color: #008080; text-decoration-color: #008080\">    max position test mse     </span>│<span style=\"color: #800080; text-decoration-color: #800080\">             0.0              </span>│\n",
       "│<span style=\"color: #008080; text-decoration-color: #008080\">        max value loss        </span>│<span style=\"color: #800080; text-decoration-color: #800080\">    0.00034626672277227044    </span>│\n",
       "│<span style=\"color: #008080; text-decoration-color: #008080\">     max value test loss      </span>│<span style=\"color: #800080; text-decoration-color: #800080\">    0.00034626672277227044    </span>│\n",
       "│<span style=\"color: #008080; text-decoration-color: #008080\">       prediction loss        </span>│<span style=\"color: #800080; text-decoration-color: #800080\">    0.0004270753706805408     </span>│\n",
       "│<span style=\"color: #008080; text-decoration-color: #008080\">     prediction test mse      </span>│<span style=\"color: #800080; text-decoration-color: #800080\">    0.0004270753706805408     </span>│\n",
       "│<span style=\"color: #008080; text-decoration-color: #008080\">       test_loss_epoch        </span>│<span style=\"color: #800080; text-decoration-color: #800080\">    0.0001826279330998659     </span>│\n",
       "│<span style=\"color: #008080; text-decoration-color: #008080\">      weighted mse loss       </span>│<span style=\"color: #800080; text-decoration-color: #800080\">    0.00014214214752428234    </span>│\n",
       "│<span style=\"color: #008080; text-decoration-color: #008080\">  weighted mse loss test mse  </span>│<span style=\"color: #800080; text-decoration-color: #800080\">    0.00014214214752428234    </span>│\n",
       "└──────────────────────────────┴──────────────────────────────┘\n",
       "</pre>\n"
      ],
      "text/plain": [
       "┏━━━━━━━━━━━━━━━━━━━━━━━━━━━━━━┳━━━━━━━━━━━━━━━━━━━━━━━━━━━━━━┓\n",
       "┃\u001b[1m \u001b[0m\u001b[1m        Test metric         \u001b[0m\u001b[1m \u001b[0m┃\u001b[1m \u001b[0m\u001b[1m        DataLoader 0        \u001b[0m\u001b[1m \u001b[0m┃\n",
       "┡━━━━━━━━━━━━━━━━━━━━━━━━━━━━━━╇━━━━━━━━━━━━━━━━━━━━━━━━━━━━━━┩\n",
       "│\u001b[36m \u001b[0m\u001b[36m          ECS RMSE          \u001b[0m\u001b[36m \u001b[0m│\u001b[35m \u001b[0m\u001b[35m            0.0             \u001b[0m\u001b[35m \u001b[0m│\n",
       "│\u001b[36m \u001b[0m\u001b[36m          SSP RMSE          \u001b[0m\u001b[36m \u001b[0m│\u001b[35m \u001b[0m\u001b[35m     9.141386985778809      \u001b[0m\u001b[35m \u001b[0m│\n",
       "│\u001b[36m \u001b[0m\u001b[36m          fft loss          \u001b[0m\u001b[36m \u001b[0m│\u001b[35m \u001b[0m\u001b[35m    0.040490806102752686    \u001b[0m\u001b[35m \u001b[0m│\n",
       "│\u001b[36m \u001b[0m\u001b[36m        fft test mse        \u001b[0m\u001b[36m \u001b[0m│\u001b[35m \u001b[0m\u001b[35m    0.040490806102752686    \u001b[0m\u001b[35m \u001b[0m│\n",
       "│\u001b[36m \u001b[0m\u001b[36m       gradient loss        \u001b[0m\u001b[36m \u001b[0m│\u001b[35m \u001b[0m\u001b[35m   1.2602980881126769e-08   \u001b[0m\u001b[35m \u001b[0m│\n",
       "│\u001b[36m \u001b[0m\u001b[36m     gradient test mse      \u001b[0m\u001b[36m \u001b[0m│\u001b[35m \u001b[0m\u001b[35m   1.2602980881126769e-08   \u001b[0m\u001b[35m \u001b[0m│\n",
       "│\u001b[36m \u001b[0m\u001b[36m    inflection pos loss     \u001b[0m\u001b[36m \u001b[0m│\u001b[35m \u001b[0m\u001b[35m            0.0             \u001b[0m\u001b[35m \u001b[0m│\n",
       "│\u001b[36m \u001b[0m\u001b[36minflection position test mse\u001b[0m\u001b[36m \u001b[0m│\u001b[35m \u001b[0m\u001b[35m            0.0             \u001b[0m\u001b[35m \u001b[0m│\n",
       "│\u001b[36m \u001b[0m\u001b[36m   inflection value loss    \u001b[0m\u001b[36m \u001b[0m│\u001b[35m \u001b[0m\u001b[35m   4.499281567404978e-05    \u001b[0m\u001b[35m \u001b[0m│\n",
       "│\u001b[36m \u001b[0m\u001b[36m inflection value test mse  \u001b[0m\u001b[36m \u001b[0m│\u001b[35m \u001b[0m\u001b[35m   4.499281567404978e-05    \u001b[0m\u001b[35m \u001b[0m│\n",
       "│\u001b[36m \u001b[0m\u001b[36m     max position loss      \u001b[0m\u001b[36m \u001b[0m│\u001b[35m \u001b[0m\u001b[35m            0.0             \u001b[0m\u001b[35m \u001b[0m│\n",
       "│\u001b[36m \u001b[0m\u001b[36m   max position test mse    \u001b[0m\u001b[36m \u001b[0m│\u001b[35m \u001b[0m\u001b[35m            0.0             \u001b[0m\u001b[35m \u001b[0m│\n",
       "│\u001b[36m \u001b[0m\u001b[36m       max value loss       \u001b[0m\u001b[36m \u001b[0m│\u001b[35m \u001b[0m\u001b[35m   0.00034626672277227044   \u001b[0m\u001b[35m \u001b[0m│\n",
       "│\u001b[36m \u001b[0m\u001b[36m    max value test loss     \u001b[0m\u001b[36m \u001b[0m│\u001b[35m \u001b[0m\u001b[35m   0.00034626672277227044   \u001b[0m\u001b[35m \u001b[0m│\n",
       "│\u001b[36m \u001b[0m\u001b[36m      prediction loss       \u001b[0m\u001b[36m \u001b[0m│\u001b[35m \u001b[0m\u001b[35m   0.0004270753706805408    \u001b[0m\u001b[35m \u001b[0m│\n",
       "│\u001b[36m \u001b[0m\u001b[36m    prediction test mse     \u001b[0m\u001b[36m \u001b[0m│\u001b[35m \u001b[0m\u001b[35m   0.0004270753706805408    \u001b[0m\u001b[35m \u001b[0m│\n",
       "│\u001b[36m \u001b[0m\u001b[36m      test_loss_epoch       \u001b[0m\u001b[36m \u001b[0m│\u001b[35m \u001b[0m\u001b[35m   0.0001826279330998659    \u001b[0m\u001b[35m \u001b[0m│\n",
       "│\u001b[36m \u001b[0m\u001b[36m     weighted mse loss      \u001b[0m\u001b[36m \u001b[0m│\u001b[35m \u001b[0m\u001b[35m   0.00014214214752428234   \u001b[0m\u001b[35m \u001b[0m│\n",
       "│\u001b[36m \u001b[0m\u001b[36m weighted mse loss test mse \u001b[0m\u001b[36m \u001b[0m│\u001b[35m \u001b[0m\u001b[35m   0.00014214214752428234   \u001b[0m\u001b[35m \u001b[0m│\n",
       "└──────────────────────────────┴──────────────────────────────┘\n"
      ]
     },
     "metadata": {},
     "output_type": "display_data"
    },
    {
     "name": "stderr",
     "output_type": "stream",
     "text": [
      " 51%|█████▏    | 18/35 [24:02<09:19, 32.91s/it]"
     ]
    },
    {
     "name": "stdout",
     "output_type": "stream",
     "text": [
      "model: outputs/AE/AE_CNN_3D/dataset_output/8_channels_spatial_pooling_with_pca_pre_treatment/pred_0.01_grad_1000_max_pos_0.01_max_value_0.05_fft_0.0001_weighted_1_inflection_pos_0.01_inflection_value_0.05/depth_pre_treatment_pca_n_components_50/channels_[1, 8, 8]/upsample_mode_trilinear/linear_later_False_lattent_size_50/1_conv_per_layer/padding_reflect/interp_size_25/pooling_Max_on_dim_spatial/final_upsample_upsample_pooling/act_fn_Elu_final_act_fn_Elu/lr_0.001/normalization_min_max/manage_nan_suppress/n_profiles_None/2024-11-13_12-22/checkpoints/val_loss=0.00-epoch=222.ckpt\n"
     ]
    },
    {
     "name": "stderr",
     "output_type": "stream",
     "text": [
      "Trainer will use only 1 of 3 GPUs because it is running inside an interactive / notebook environment. You may try to set `Trainer(devices=3)` but please note that multi-GPU inside interactive / notebook environments is considered experimental and unstable. Your mileage may vary.\n",
      "/DATASET/envs/o23gauvr/miniconda3/envs/fsc_env/lib/python3.11/site-packages/lightning_fabric/plugins/environments/slurm.py:191: The `srun` command is available on your system but is not used. HINT: If your intention is to run Lightning on SLURM, prepend your python command with `srun` like so: srun python /DATASET/envs/o23gauvr/miniconda3/envs/fsc_env/lib/p ...\n",
      "GPU available: True (cuda), used: True\n",
      "TPU available: False, using: 0 TPU cores\n",
      "IPU available: False, using: 0 IPUs\n",
      "HPU available: False, using: 0 HPUs\n",
      "LOCAL_RANK: 0 - CUDA_VISIBLE_DEVICES: [0,1,2]\n"
     ]
    },
    {
     "name": "stdout",
     "output_type": "stream",
     "text": [
      "Testing DataLoader 0:   0%|          | 0/10 [00:00<?, ?it/s]PCA pre treatment, depth components: 50\n",
      "PCA pre treatment, depth components: 50\n",
      "Testing DataLoader 0:  10%|█         | 1/10 [00:00<00:01,  7.28it/s]PCA pre treatment, depth components: 50\n",
      "PCA pre treatment, depth components: 50\n",
      "Testing DataLoader 0:  20%|██        | 2/10 [00:00<00:01,  7.28it/s]PCA pre treatment, depth components: 50\n",
      "PCA pre treatment, depth components: 50\n",
      "Testing DataLoader 0:  30%|███       | 3/10 [00:00<00:01,  6.80it/s]PCA pre treatment, depth components: 50\n",
      "PCA pre treatment, depth components: 50\n",
      "Testing DataLoader 0:  40%|████      | 4/10 [00:00<00:00,  7.09it/s]PCA pre treatment, depth components: 50\n",
      "PCA pre treatment, depth components: 50\n",
      "Testing DataLoader 0:  50%|█████     | 5/10 [00:00<00:00,  6.83it/s]PCA pre treatment, depth components: 50\n",
      "PCA pre treatment, depth components: 50\n",
      "Testing DataLoader 0:  60%|██████    | 6/10 [00:00<00:00,  7.01it/s]PCA pre treatment, depth components: 50\n",
      "PCA pre treatment, depth components: 50\n",
      "Testing DataLoader 0:  70%|███████   | 7/10 [00:01<00:00,  6.85it/s]PCA pre treatment, depth components: 50\n",
      "PCA pre treatment, depth components: 50\n",
      "Testing DataLoader 0:  80%|████████  | 8/10 [00:01<00:00,  6.98it/s]PCA pre treatment, depth components: 50\n",
      "PCA pre treatment, depth components: 50\n",
      "Testing DataLoader 0:  90%|█████████ | 9/10 [00:01<00:00,  6.86it/s]PCA pre treatment, depth components: 50\n",
      "PCA pre treatment, depth components: 50\n",
      "Testing DataLoader 0: 100%|██████████| 10/10 [00:01<00:00,  7.13it/s]\n"
     ]
    },
    {
     "data": {
      "text/html": [
       "<pre style=\"white-space:pre;overflow-x:auto;line-height:normal;font-family:Menlo,'DejaVu Sans Mono',consolas,'Courier New',monospace\">┏━━━━━━━━━━━━━━━━━━━━━━━━━━━━━━┳━━━━━━━━━━━━━━━━━━━━━━━━━━━━━━┓\n",
       "┃<span style=\"font-weight: bold\">         Test metric          </span>┃<span style=\"font-weight: bold\">         DataLoader 0         </span>┃\n",
       "┡━━━━━━━━━━━━━━━━━━━━━━━━━━━━━━╇━━━━━━━━━━━━━━━━━━━━━━━━━━━━━━┩\n",
       "│<span style=\"color: #008080; text-decoration-color: #008080\">           ECS RMSE           </span>│<span style=\"color: #800080; text-decoration-color: #800080\">             0.0              </span>│\n",
       "│<span style=\"color: #008080; text-decoration-color: #008080\">           SSP RMSE           </span>│<span style=\"color: #800080; text-decoration-color: #800080\">       9.14055061340332       </span>│\n",
       "│<span style=\"color: #008080; text-decoration-color: #008080\">           fft loss           </span>│<span style=\"color: #800080; text-decoration-color: #800080\">     0.04050172120332718      </span>│\n",
       "│<span style=\"color: #008080; text-decoration-color: #008080\">         fft test mse         </span>│<span style=\"color: #800080; text-decoration-color: #800080\">     0.04050172120332718      </span>│\n",
       "│<span style=\"color: #008080; text-decoration-color: #008080\">        gradient loss         </span>│<span style=\"color: #800080; text-decoration-color: #800080\">    1.942893490536335e-08     </span>│\n",
       "│<span style=\"color: #008080; text-decoration-color: #008080\">      gradient test mse       </span>│<span style=\"color: #800080; text-decoration-color: #800080\">    1.942893490536335e-08     </span>│\n",
       "│<span style=\"color: #008080; text-decoration-color: #008080\">     inflection pos loss      </span>│<span style=\"color: #800080; text-decoration-color: #800080\">             0.0              </span>│\n",
       "│<span style=\"color: #008080; text-decoration-color: #008080\"> inflection position test mse </span>│<span style=\"color: #800080; text-decoration-color: #800080\">             0.0              </span>│\n",
       "│<span style=\"color: #008080; text-decoration-color: #008080\">    inflection value loss     </span>│<span style=\"color: #800080; text-decoration-color: #800080\">    4.498717680689879e-05     </span>│\n",
       "│<span style=\"color: #008080; text-decoration-color: #008080\">  inflection value test mse   </span>│<span style=\"color: #800080; text-decoration-color: #800080\">    4.498717680689879e-05     </span>│\n",
       "│<span style=\"color: #008080; text-decoration-color: #008080\">      max position loss       </span>│<span style=\"color: #800080; text-decoration-color: #800080\">             0.0              </span>│\n",
       "│<span style=\"color: #008080; text-decoration-color: #008080\">    max position test mse     </span>│<span style=\"color: #800080; text-decoration-color: #800080\">             0.0              </span>│\n",
       "│<span style=\"color: #008080; text-decoration-color: #008080\">        max value loss        </span>│<span style=\"color: #800080; text-decoration-color: #800080\">    0.00034676483483053744    </span>│\n",
       "│<span style=\"color: #008080; text-decoration-color: #008080\">     max value test loss      </span>│<span style=\"color: #800080; text-decoration-color: #800080\">    0.00034676483483053744    </span>│\n",
       "│<span style=\"color: #008080; text-decoration-color: #008080\">       prediction loss        </span>│<span style=\"color: #800080; text-decoration-color: #800080\">    0.0004269969940651208     </span>│\n",
       "│<span style=\"color: #008080; text-decoration-color: #008080\">     prediction test mse      </span>│<span style=\"color: #800080; text-decoration-color: #800080\">    0.0004269969940651208     </span>│\n",
       "│<span style=\"color: #008080; text-decoration-color: #008080\">       test_loss_epoch        </span>│<span style=\"color: #800080; text-decoration-color: #800080\">    0.00018946672207675874    </span>│\n",
       "│<span style=\"color: #008080; text-decoration-color: #008080\">      weighted mse loss       </span>│<span style=\"color: #800080; text-decoration-color: #800080\">    0.00014213005488272756    </span>│\n",
       "│<span style=\"color: #008080; text-decoration-color: #008080\">  weighted mse loss test mse  </span>│<span style=\"color: #800080; text-decoration-color: #800080\">    0.00014213005488272756    </span>│\n",
       "└──────────────────────────────┴──────────────────────────────┘\n",
       "</pre>\n"
      ],
      "text/plain": [
       "┏━━━━━━━━━━━━━━━━━━━━━━━━━━━━━━┳━━━━━━━━━━━━━━━━━━━━━━━━━━━━━━┓\n",
       "┃\u001b[1m \u001b[0m\u001b[1m        Test metric         \u001b[0m\u001b[1m \u001b[0m┃\u001b[1m \u001b[0m\u001b[1m        DataLoader 0        \u001b[0m\u001b[1m \u001b[0m┃\n",
       "┡━━━━━━━━━━━━━━━━━━━━━━━━━━━━━━╇━━━━━━━━━━━━━━━━━━━━━━━━━━━━━━┩\n",
       "│\u001b[36m \u001b[0m\u001b[36m          ECS RMSE          \u001b[0m\u001b[36m \u001b[0m│\u001b[35m \u001b[0m\u001b[35m            0.0             \u001b[0m\u001b[35m \u001b[0m│\n",
       "│\u001b[36m \u001b[0m\u001b[36m          SSP RMSE          \u001b[0m\u001b[36m \u001b[0m│\u001b[35m \u001b[0m\u001b[35m      9.14055061340332      \u001b[0m\u001b[35m \u001b[0m│\n",
       "│\u001b[36m \u001b[0m\u001b[36m          fft loss          \u001b[0m\u001b[36m \u001b[0m│\u001b[35m \u001b[0m\u001b[35m    0.04050172120332718     \u001b[0m\u001b[35m \u001b[0m│\n",
       "│\u001b[36m \u001b[0m\u001b[36m        fft test mse        \u001b[0m\u001b[36m \u001b[0m│\u001b[35m \u001b[0m\u001b[35m    0.04050172120332718     \u001b[0m\u001b[35m \u001b[0m│\n",
       "│\u001b[36m \u001b[0m\u001b[36m       gradient loss        \u001b[0m\u001b[36m \u001b[0m│\u001b[35m \u001b[0m\u001b[35m   1.942893490536335e-08    \u001b[0m\u001b[35m \u001b[0m│\n",
       "│\u001b[36m \u001b[0m\u001b[36m     gradient test mse      \u001b[0m\u001b[36m \u001b[0m│\u001b[35m \u001b[0m\u001b[35m   1.942893490536335e-08    \u001b[0m\u001b[35m \u001b[0m│\n",
       "│\u001b[36m \u001b[0m\u001b[36m    inflection pos loss     \u001b[0m\u001b[36m \u001b[0m│\u001b[35m \u001b[0m\u001b[35m            0.0             \u001b[0m\u001b[35m \u001b[0m│\n",
       "│\u001b[36m \u001b[0m\u001b[36minflection position test mse\u001b[0m\u001b[36m \u001b[0m│\u001b[35m \u001b[0m\u001b[35m            0.0             \u001b[0m\u001b[35m \u001b[0m│\n",
       "│\u001b[36m \u001b[0m\u001b[36m   inflection value loss    \u001b[0m\u001b[36m \u001b[0m│\u001b[35m \u001b[0m\u001b[35m   4.498717680689879e-05    \u001b[0m\u001b[35m \u001b[0m│\n",
       "│\u001b[36m \u001b[0m\u001b[36m inflection value test mse  \u001b[0m\u001b[36m \u001b[0m│\u001b[35m \u001b[0m\u001b[35m   4.498717680689879e-05    \u001b[0m\u001b[35m \u001b[0m│\n",
       "│\u001b[36m \u001b[0m\u001b[36m     max position loss      \u001b[0m\u001b[36m \u001b[0m│\u001b[35m \u001b[0m\u001b[35m            0.0             \u001b[0m\u001b[35m \u001b[0m│\n",
       "│\u001b[36m \u001b[0m\u001b[36m   max position test mse    \u001b[0m\u001b[36m \u001b[0m│\u001b[35m \u001b[0m\u001b[35m            0.0             \u001b[0m\u001b[35m \u001b[0m│\n",
       "│\u001b[36m \u001b[0m\u001b[36m       max value loss       \u001b[0m\u001b[36m \u001b[0m│\u001b[35m \u001b[0m\u001b[35m   0.00034676483483053744   \u001b[0m\u001b[35m \u001b[0m│\n",
       "│\u001b[36m \u001b[0m\u001b[36m    max value test loss     \u001b[0m\u001b[36m \u001b[0m│\u001b[35m \u001b[0m\u001b[35m   0.00034676483483053744   \u001b[0m\u001b[35m \u001b[0m│\n",
       "│\u001b[36m \u001b[0m\u001b[36m      prediction loss       \u001b[0m\u001b[36m \u001b[0m│\u001b[35m \u001b[0m\u001b[35m   0.0004269969940651208    \u001b[0m\u001b[35m \u001b[0m│\n",
       "│\u001b[36m \u001b[0m\u001b[36m    prediction test mse     \u001b[0m\u001b[36m \u001b[0m│\u001b[35m \u001b[0m\u001b[35m   0.0004269969940651208    \u001b[0m\u001b[35m \u001b[0m│\n",
       "│\u001b[36m \u001b[0m\u001b[36m      test_loss_epoch       \u001b[0m\u001b[36m \u001b[0m│\u001b[35m \u001b[0m\u001b[35m   0.00018946672207675874   \u001b[0m\u001b[35m \u001b[0m│\n",
       "│\u001b[36m \u001b[0m\u001b[36m     weighted mse loss      \u001b[0m\u001b[36m \u001b[0m│\u001b[35m \u001b[0m\u001b[35m   0.00014213005488272756   \u001b[0m\u001b[35m \u001b[0m│\n",
       "│\u001b[36m \u001b[0m\u001b[36m weighted mse loss test mse \u001b[0m\u001b[36m \u001b[0m│\u001b[35m \u001b[0m\u001b[35m   0.00014213005488272756   \u001b[0m\u001b[35m \u001b[0m│\n",
       "└──────────────────────────────┴──────────────────────────────┘\n"
      ]
     },
     "metadata": {},
     "output_type": "display_data"
    },
    {
     "name": "stderr",
     "output_type": "stream",
     "text": [
      " 54%|█████▍    | 19/35 [24:28<08:12, 30.77s/it]"
     ]
    },
    {
     "name": "stdout",
     "output_type": "stream",
     "text": [
      "model: outputs/AE/AE_CNN_3D/dataset_output/8_channels_spatial_pooling_with_pca_pre_treatment/pred_0.01_grad_1000_max_pos_0.01_max_value_0.05_fft_0.0001_weighted_1_inflection_pos_0.01_inflection_value_0.05/depth_pre_treatment_pca_n_components_10/channels_[1, 8, 8, 8, 8]/upsample_mode_trilinear/linear_later_False_lattent_size_50/1_conv_per_layer/padding_reflect/interp_size_25/pooling_Max_on_dim_spatial/final_upsample_upsample_pooling/act_fn_Elu_final_act_fn_Elu/lr_0.001/normalization_min_max/manage_nan_suppress/n_profiles_None/2024-11-13_22-10/checkpoints/val_loss=0.00-epoch=221.ckpt\n"
     ]
    },
    {
     "name": "stderr",
     "output_type": "stream",
     "text": [
      "Trainer will use only 1 of 3 GPUs because it is running inside an interactive / notebook environment. You may try to set `Trainer(devices=3)` but please note that multi-GPU inside interactive / notebook environments is considered experimental and unstable. Your mileage may vary.\n",
      "/DATASET/envs/o23gauvr/miniconda3/envs/fsc_env/lib/python3.11/site-packages/lightning_fabric/plugins/environments/slurm.py:191: The `srun` command is available on your system but is not used. HINT: If your intention is to run Lightning on SLURM, prepend your python command with `srun` like so: srun python /DATASET/envs/o23gauvr/miniconda3/envs/fsc_env/lib/p ...\n",
      "GPU available: True (cuda), used: True\n",
      "TPU available: False, using: 0 TPU cores\n",
      "IPU available: False, using: 0 IPUs\n",
      "HPU available: False, using: 0 HPUs\n",
      "LOCAL_RANK: 0 - CUDA_VISIBLE_DEVICES: [0,1,2]\n"
     ]
    },
    {
     "name": "stdout",
     "output_type": "stream",
     "text": [
      "Testing DataLoader 0:   0%|          | 0/10 [00:00<?, ?it/s]PCA pre treatment, depth components: 10\n",
      "PCA pre treatment, depth components: 10\n",
      "Testing DataLoader 0:  10%|█         | 1/10 [00:00<00:03,  2.43it/s]PCA pre treatment, depth components: 10\n",
      "PCA pre treatment, depth components: 10\n",
      "Testing DataLoader 0:  20%|██        | 2/10 [00:00<00:02,  3.65it/s]PCA pre treatment, depth components: 10\n",
      "PCA pre treatment, depth components: 10\n",
      "Testing DataLoader 0:  30%|███       | 3/10 [00:00<00:01,  4.54it/s]PCA pre treatment, depth components: 10\n",
      "PCA pre treatment, depth components: 10\n",
      "Testing DataLoader 0:  40%|████      | 4/10 [00:00<00:01,  5.01it/s]PCA pre treatment, depth components: 10\n",
      "PCA pre treatment, depth components: 10\n",
      "Testing DataLoader 0:  50%|█████     | 5/10 [00:00<00:00,  5.49it/s]PCA pre treatment, depth components: 10\n",
      "PCA pre treatment, depth components: 10\n",
      "Testing DataLoader 0:  60%|██████    | 6/10 [00:01<00:00,  5.72it/s]PCA pre treatment, depth components: 10\n",
      "PCA pre treatment, depth components: 10\n",
      "Testing DataLoader 0:  70%|███████   | 7/10 [00:01<00:00,  6.03it/s]PCA pre treatment, depth components: 10\n",
      "PCA pre treatment, depth components: 10\n",
      "Testing DataLoader 0:  80%|████████  | 8/10 [00:01<00:00,  6.18it/s]PCA pre treatment, depth components: 10\n",
      "PCA pre treatment, depth components: 10\n",
      "Testing DataLoader 0:  90%|█████████ | 9/10 [00:01<00:00,  6.40it/s]PCA pre treatment, depth components: 10\n",
      "PCA pre treatment, depth components: 10\n",
      "Testing DataLoader 0: 100%|██████████| 10/10 [00:01<00:00,  6.59it/s]\n"
     ]
    },
    {
     "data": {
      "text/html": [
       "<pre style=\"white-space:pre;overflow-x:auto;line-height:normal;font-family:Menlo,'DejaVu Sans Mono',consolas,'Courier New',monospace\">┏━━━━━━━━━━━━━━━━━━━━━━━━━━━━━━┳━━━━━━━━━━━━━━━━━━━━━━━━━━━━━━┓\n",
       "┃<span style=\"font-weight: bold\">         Test metric          </span>┃<span style=\"font-weight: bold\">         DataLoader 0         </span>┃\n",
       "┡━━━━━━━━━━━━━━━━━━━━━━━━━━━━━━╇━━━━━━━━━━━━━━━━━━━━━━━━━━━━━━┩\n",
       "│<span style=\"color: #008080; text-decoration-color: #008080\">           ECS RMSE           </span>│<span style=\"color: #800080; text-decoration-color: #800080\">             0.0              </span>│\n",
       "│<span style=\"color: #008080; text-decoration-color: #008080\">           SSP RMSE           </span>│<span style=\"color: #800080; text-decoration-color: #800080\">      5.993666172027588       </span>│\n",
       "│<span style=\"color: #008080; text-decoration-color: #008080\">           fft loss           </span>│<span style=\"color: #800080; text-decoration-color: #800080\">     0.017632270231842995     </span>│\n",
       "│<span style=\"color: #008080; text-decoration-color: #008080\">         fft test mse         </span>│<span style=\"color: #800080; text-decoration-color: #800080\">     0.017632270231842995     </span>│\n",
       "│<span style=\"color: #008080; text-decoration-color: #008080\">        gradient loss         </span>│<span style=\"color: #800080; text-decoration-color: #800080\">    6.880704006562155e-09     </span>│\n",
       "│<span style=\"color: #008080; text-decoration-color: #008080\">      gradient test mse       </span>│<span style=\"color: #800080; text-decoration-color: #800080\">    6.880704006562155e-09     </span>│\n",
       "│<span style=\"color: #008080; text-decoration-color: #008080\">     inflection pos loss      </span>│<span style=\"color: #800080; text-decoration-color: #800080\">             0.0              </span>│\n",
       "│<span style=\"color: #008080; text-decoration-color: #008080\"> inflection position test mse </span>│<span style=\"color: #800080; text-decoration-color: #800080\">             0.0              </span>│\n",
       "│<span style=\"color: #008080; text-decoration-color: #008080\">    inflection value loss     </span>│<span style=\"color: #800080; text-decoration-color: #800080\">    2.0386896721902303e-06    </span>│\n",
       "│<span style=\"color: #008080; text-decoration-color: #008080\">  inflection value test mse   </span>│<span style=\"color: #800080; text-decoration-color: #800080\">    2.0386896721902303e-06    </span>│\n",
       "│<span style=\"color: #008080; text-decoration-color: #008080\">      max position loss       </span>│<span style=\"color: #800080; text-decoration-color: #800080\">             0.0              </span>│\n",
       "│<span style=\"color: #008080; text-decoration-color: #008080\">    max position test mse     </span>│<span style=\"color: #800080; text-decoration-color: #800080\">             0.0              </span>│\n",
       "│<span style=\"color: #008080; text-decoration-color: #008080\">        max value loss        </span>│<span style=\"color: #800080; text-decoration-color: #800080\">    6.0647922509815544e-05    </span>│\n",
       "│<span style=\"color: #008080; text-decoration-color: #008080\">     max value test loss      </span>│<span style=\"color: #800080; text-decoration-color: #800080\">    6.0647922509815544e-05    </span>│\n",
       "│<span style=\"color: #008080; text-decoration-color: #008080\">       prediction loss        </span>│<span style=\"color: #800080; text-decoration-color: #800080\">    0.00018386635929346085    </span>│\n",
       "│<span style=\"color: #008080; text-decoration-color: #008080\">     prediction test mse      </span>│<span style=\"color: #800080; text-decoration-color: #800080\">    0.00018386635929346085    </span>│\n",
       "│<span style=\"color: #008080; text-decoration-color: #008080\">       test_loss_epoch        </span>│<span style=\"color: #800080; text-decoration-color: #800080\">    5.0284794269828126e-05    </span>│\n",
       "│<span style=\"color: #008080; text-decoration-color: #008080\">      weighted mse loss       </span>│<span style=\"color: #800080; text-decoration-color: #800080\">     3.66678686987143e-05     </span>│\n",
       "│<span style=\"color: #008080; text-decoration-color: #008080\">  weighted mse loss test mse  </span>│<span style=\"color: #800080; text-decoration-color: #800080\">     3.66678686987143e-05     </span>│\n",
       "└──────────────────────────────┴──────────────────────────────┘\n",
       "</pre>\n"
      ],
      "text/plain": [
       "┏━━━━━━━━━━━━━━━━━━━━━━━━━━━━━━┳━━━━━━━━━━━━━━━━━━━━━━━━━━━━━━┓\n",
       "┃\u001b[1m \u001b[0m\u001b[1m        Test metric         \u001b[0m\u001b[1m \u001b[0m┃\u001b[1m \u001b[0m\u001b[1m        DataLoader 0        \u001b[0m\u001b[1m \u001b[0m┃\n",
       "┡━━━━━━━━━━━━━━━━━━━━━━━━━━━━━━╇━━━━━━━━━━━━━━━━━━━━━━━━━━━━━━┩\n",
       "│\u001b[36m \u001b[0m\u001b[36m          ECS RMSE          \u001b[0m\u001b[36m \u001b[0m│\u001b[35m \u001b[0m\u001b[35m            0.0             \u001b[0m\u001b[35m \u001b[0m│\n",
       "│\u001b[36m \u001b[0m\u001b[36m          SSP RMSE          \u001b[0m\u001b[36m \u001b[0m│\u001b[35m \u001b[0m\u001b[35m     5.993666172027588      \u001b[0m\u001b[35m \u001b[0m│\n",
       "│\u001b[36m \u001b[0m\u001b[36m          fft loss          \u001b[0m\u001b[36m \u001b[0m│\u001b[35m \u001b[0m\u001b[35m    0.017632270231842995    \u001b[0m\u001b[35m \u001b[0m│\n",
       "│\u001b[36m \u001b[0m\u001b[36m        fft test mse        \u001b[0m\u001b[36m \u001b[0m│\u001b[35m \u001b[0m\u001b[35m    0.017632270231842995    \u001b[0m\u001b[35m \u001b[0m│\n",
       "│\u001b[36m \u001b[0m\u001b[36m       gradient loss        \u001b[0m\u001b[36m \u001b[0m│\u001b[35m \u001b[0m\u001b[35m   6.880704006562155e-09    \u001b[0m\u001b[35m \u001b[0m│\n",
       "│\u001b[36m \u001b[0m\u001b[36m     gradient test mse      \u001b[0m\u001b[36m \u001b[0m│\u001b[35m \u001b[0m\u001b[35m   6.880704006562155e-09    \u001b[0m\u001b[35m \u001b[0m│\n",
       "│\u001b[36m \u001b[0m\u001b[36m    inflection pos loss     \u001b[0m\u001b[36m \u001b[0m│\u001b[35m \u001b[0m\u001b[35m            0.0             \u001b[0m\u001b[35m \u001b[0m│\n",
       "│\u001b[36m \u001b[0m\u001b[36minflection position test mse\u001b[0m\u001b[36m \u001b[0m│\u001b[35m \u001b[0m\u001b[35m            0.0             \u001b[0m\u001b[35m \u001b[0m│\n",
       "│\u001b[36m \u001b[0m\u001b[36m   inflection value loss    \u001b[0m\u001b[36m \u001b[0m│\u001b[35m \u001b[0m\u001b[35m   2.0386896721902303e-06   \u001b[0m\u001b[35m \u001b[0m│\n",
       "│\u001b[36m \u001b[0m\u001b[36m inflection value test mse  \u001b[0m\u001b[36m \u001b[0m│\u001b[35m \u001b[0m\u001b[35m   2.0386896721902303e-06   \u001b[0m\u001b[35m \u001b[0m│\n",
       "│\u001b[36m \u001b[0m\u001b[36m     max position loss      \u001b[0m\u001b[36m \u001b[0m│\u001b[35m \u001b[0m\u001b[35m            0.0             \u001b[0m\u001b[35m \u001b[0m│\n",
       "│\u001b[36m \u001b[0m\u001b[36m   max position test mse    \u001b[0m\u001b[36m \u001b[0m│\u001b[35m \u001b[0m\u001b[35m            0.0             \u001b[0m\u001b[35m \u001b[0m│\n",
       "│\u001b[36m \u001b[0m\u001b[36m       max value loss       \u001b[0m\u001b[36m \u001b[0m│\u001b[35m \u001b[0m\u001b[35m   6.0647922509815544e-05   \u001b[0m\u001b[35m \u001b[0m│\n",
       "│\u001b[36m \u001b[0m\u001b[36m    max value test loss     \u001b[0m\u001b[36m \u001b[0m│\u001b[35m \u001b[0m\u001b[35m   6.0647922509815544e-05   \u001b[0m\u001b[35m \u001b[0m│\n",
       "│\u001b[36m \u001b[0m\u001b[36m      prediction loss       \u001b[0m\u001b[36m \u001b[0m│\u001b[35m \u001b[0m\u001b[35m   0.00018386635929346085   \u001b[0m\u001b[35m \u001b[0m│\n",
       "│\u001b[36m \u001b[0m\u001b[36m    prediction test mse     \u001b[0m\u001b[36m \u001b[0m│\u001b[35m \u001b[0m\u001b[35m   0.00018386635929346085   \u001b[0m\u001b[35m \u001b[0m│\n",
       "│\u001b[36m \u001b[0m\u001b[36m      test_loss_epoch       \u001b[0m\u001b[36m \u001b[0m│\u001b[35m \u001b[0m\u001b[35m   5.0284794269828126e-05   \u001b[0m\u001b[35m \u001b[0m│\n",
       "│\u001b[36m \u001b[0m\u001b[36m     weighted mse loss      \u001b[0m\u001b[36m \u001b[0m│\u001b[35m \u001b[0m\u001b[35m    3.66678686987143e-05    \u001b[0m\u001b[35m \u001b[0m│\n",
       "│\u001b[36m \u001b[0m\u001b[36m weighted mse loss test mse \u001b[0m\u001b[36m \u001b[0m│\u001b[35m \u001b[0m\u001b[35m    3.66678686987143e-05    \u001b[0m\u001b[35m \u001b[0m│\n",
       "└──────────────────────────────┴──────────────────────────────┘\n"
      ]
     },
     "metadata": {},
     "output_type": "display_data"
    },
    {
     "name": "stderr",
     "output_type": "stream",
     "text": [
      " 57%|█████▋    | 20/35 [24:55<07:25, 29.69s/it]"
     ]
    },
    {
     "name": "stdout",
     "output_type": "stream",
     "text": [
      "model: outputs/AE/AE_CNN_3D/dataset_output/8_channels_spatial_pooling_with_pca_pre_treatment/pred_0.01_grad_1000_max_pos_0.01_max_value_0.05_fft_0.0001_weighted_1_inflection_pos_0.01_inflection_value_0.05/depth_pre_treatment_pca_n_components_10/channels_[1, 8]/upsample_mode_trilinear/linear_later_False_lattent_size_50/1_conv_per_layer/padding_reflect/interp_size_25/pooling_Max_on_dim_spatial/final_upsample_upsample_pooling/act_fn_Elu_final_act_fn_Elu/lr_0.001/normalization_min_max/manage_nan_suppress/n_profiles_None/2024-11-13_15-43/checkpoints/val_loss=0.00-epoch=213.ckpt\n"
     ]
    }
   ],
   "source": [
    "for ckpt_path in tqdm(ckpt_list):\n",
    "\n",
    "    ckpt_path = str(ckpt_path)\n",
    "    print(f\"model: {ckpt_path}\")\n",
    "    cfg = get_cfg_from_ckpt_path(ckpt_path, pprint = False)\n",
    "\n",
    "    \n",
    "    if cfg.datamodule in list(dm_dict.keys()):\n",
    "        dm = dm_dict[cfg.datamodule]\n",
    "        train_ssp_tens, test_ssp_tens, _, coords = loading_datamodule(dm)\n",
    "    \n",
    "    else:\n",
    "        print(\"Inititing datamodule; Generating train and test datasets\")\n",
    "        dm = hydra.utils.call(cfg.datamodule)\n",
    "        train_ssp_tens, test_ssp_tens, dm, coords = loading_datamodule(dm)\n",
    "        dm_dict[cfg.datamodule] = dm\n",
    "        \n",
    "    try:\n",
    "        lit_model = load_model(ckpt_path, dm, device, verbose = True)\n",
    "    except:\n",
    "        continue\n",
    "\n",
    "    if log_flag:\n",
    "        logger = TensorBoardLogger(save_dir=ckpt_path.split(\"checkpoints\")[0])\n",
    "    else:\n",
    "        logger = None\n",
    "\n",
    "    trainer = Trainer(inference_mode = True, logger=logger)\n",
    "\n",
    "    trainer.test(model=lit_model,datamodule=dm)\n"
   ]
  },
  {
   "cell_type": "code",
   "execution_count": null,
   "metadata": {},
   "outputs": [],
   "source": []
  }
 ],
 "metadata": {
  "kernelspec": {
   "display_name": "fsc_env",
   "language": "python",
   "name": "python3"
  },
  "language_info": {
   "codemirror_mode": {
    "name": "ipython",
    "version": 3
   },
   "file_extension": ".py",
   "mimetype": "text/x-python",
   "name": "python",
   "nbconvert_exporter": "python",
   "pygments_lexer": "ipython3",
   "version": "3.11.7"
  }
 },
 "nbformat": 4,
 "nbformat_minor": 2
}
