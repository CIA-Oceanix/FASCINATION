{
 "cells": [
  {
   "cell_type": "code",
   "execution_count": 1,
   "metadata": {},
   "outputs": [],
   "source": [
    "import os \n",
    "\n",
    "#sys.path.insert(0,\"/homes/o23gauvr/Documents/thèse/code/FASCINATION/\")\n",
    "running_path = \"/homes/o23gauvr/Documents/thèse/code/FASCINATION/\"\n",
    "os.chdir(running_path)"
   ]
  },
  {
   "cell_type": "code",
   "execution_count": 2,
   "metadata": {},
   "outputs": [],
   "source": [
    "\n",
    "\n",
    "import torch\n",
    "import matplotlib.pyplot as plt\n",
    "import torch.nn.functional as F\n",
    "import hydra\n",
    "import pickle\n",
    "from src.utils import get_cfg_from_ckpt_path \n",
    "from src.select_outputs_on_params import select_outputs_on_params\n",
    "from sklearn.decomposition import PCA\n",
    "import numpy as np\n",
    "import scipy.ndimage\n",
    "from tqdm import tqdm\n",
    "from pathlib import Path\n",
    "import re\n",
    "from src.utils import *\n"
   ]
  },
  {
   "cell_type": "code",
   "execution_count": 3,
   "metadata": {},
   "outputs": [],
   "source": [
    "plt.style.use('ggplot')"
   ]
  },
  {
   "cell_type": "code",
   "execution_count": 4,
   "metadata": {},
   "outputs": [],
   "source": [
    "cmap = plt.get_cmap('viridis')"
   ]
  },
  {
   "cell_type": "code",
   "execution_count": 5,
   "metadata": {},
   "outputs": [],
   "source": [
    "gpu = None\n",
    "    \n",
    "if torch.cuda.is_available() and gpu is not None:\n",
    "##This may not be necessary outside the notebook\n",
    "    dev = f\"cuda:{gpu}\"\n",
    "else:\n",
    "    dev = \"cpu\"\n",
    "\n",
    "device = torch.device(dev)"
   ]
  },
  {
   "cell_type": "code",
   "execution_count": 6,
   "metadata": {},
   "outputs": [
    {
     "name": "stdout",
     "output_type": "stream",
     "text": [
      "Initializing datamodule\n"
     ]
    }
   ],
   "source": [
    "try:\n",
    "    if dm_dict:\n",
    "        print(\"Not reloading datamodule\")\n",
    "\n",
    "except:\n",
    "    \n",
    "    dm_dict = {}\n",
    "    n_components = 0\n",
    "    print(\"Initializing datamodule\")"
   ]
  },
  {
   "cell_type": "code",
   "execution_count": 7,
   "metadata": {},
   "outputs": [],
   "source": [
    "save_fig = False"
   ]
  },
  {
   "cell_type": "code",
   "execution_count": 8,
   "metadata": {},
   "outputs": [],
   "source": [
    "load_pca = True"
   ]
  },
  {
   "cell_type": "code",
   "execution_count": 9,
   "metadata": {},
   "outputs": [],
   "source": [
    "norm = False"
   ]
  },
  {
   "cell_type": "code",
   "execution_count": 10,
   "metadata": {},
   "outputs": [],
   "source": [
    "if load_pca:\n",
    "    with open(f\"pickle/rmse_ssp_pca_on_dm_3D_norm_{norm}.pkl\", \"rb\") as file:\n",
    "        pca_ssp_rmse_dict = pickle.load(file)  \n",
    "        \n",
    "    with open(f\"pickle/rmse_ecs_pca_on_dm_3D_norm_{norm}.pkl\", \"rb\") as file:\n",
    "        pca_ecs_rmse_dict = pickle.load(file)  \n",
    "\n",
    "\n",
    "else:\n",
    "    pca_ssp_rmse_dict = {}\n",
    "    pca_ecs_rmse_dict = {}\n",
    "    "
   ]
  },
  {
   "cell_type": "markdown",
   "metadata": {},
   "source": [
    "# Functions"
   ]
  },
  {
   "cell_type": "code",
   "execution_count": 11,
   "metadata": {},
   "outputs": [],
   "source": [
    "# def explicit_ecs_1D(ssp: torch.tensor,\n",
    "#                     depth_tens: torch.tensor,\n",
    "#                     tau = 100):\n",
    "    \n",
    "#     ssp = ssp.unsqueeze(1).nan_to_num()          # This operation might be unnecessary if ssp already has the correct shape\n",
    "#     kernel = torch.tensor([-1.0, 1.0]).float().view(1, 1, 2).to(ssp.device)\n",
    "#     derivative = F.conv1d(ssp, kernel, padding=0)\n",
    "\n",
    "#     sign = torch.sign(derivative) + F.tanh(tau * derivative) - F.tanh(tau * derivative).detach()\n",
    "\n",
    "#     sign_diff = F.conv1d(sign, kernel, padding=1)\n",
    "#     sign_change = F.tanh(10 * F.relu(-sign_diff))\n",
    "\n",
    "#     for pattern in ([1, 0, 1], [1, -1, 0, 0]):\n",
    "#         n = len(pattern)\n",
    "#         kernel_matrix = torch.eye(n)\n",
    "#         element_match = 0\n",
    "#         for i in range(n):\n",
    "#             kernel_element = kernel_matrix[i, :].view(1, 1, n).to(ssp.device)\n",
    "#             element_match += (F.conv1d(sign, kernel_element, padding=0) - pattern[i]) ** 2\n",
    "\n",
    "#         # Adjust padding to match the length of sign_change\n",
    "#         pattern_recognition = F.pad(element_match, (1, sign_change.shape[2] - element_match.shape[2] - 1), value=1.0)\n",
    "#         mask_discontinuity = 1 - F.relu(pattern_recognition + 1) * F.relu(1 - pattern_recognition)\n",
    "\n",
    "#         sign_change = sign_change * mask_discontinuity\n",
    "\n",
    "#     mask = F.relu(2 - torch.cumsum(sign_change, dim=2))\n",
    "\n",
    "#     # Expand and align depth_array with the reduced shape of the input tensor\n",
    "     \n",
    "#     depth_array_tens = depth_tens[:mask.shape[2]].view(1,-1).to(ssp.device).type(sign_change.dtype)\n",
    "#     depth_array_tens[0, 0] = 0.0  # TODO: Handle the first depth value properly\n",
    "\n",
    "#     ecs_pred = (sign_change * mask).squeeze(dim=1)\n",
    "#     ecs_pred = (ecs_pred * depth_array_tens).max(dim=1).values\n",
    "#     return ecs_pred\n",
    "\n"
   ]
  },
  {
   "cell_type": "code",
   "execution_count": 12,
   "metadata": {},
   "outputs": [],
   "source": [
    "# def explicit_ecs_2D(ssp: torch.tensor,\n",
    "#                     depth_tens: torch.tensor,\n",
    "#                     batch: bool = False,\n",
    "#                     tau = 100):\n",
    "    \n",
    "#     if batch:\n",
    "#         ssp = ssp.unsqueeze(1).nan_to_num()  \n",
    "    \n",
    "#     else:\n",
    "#         ssp = ssp.unsqueeze(0).unsqueeze(0).nan_to_num()  \n",
    "        \n",
    "#     kernel = torch.tensor([-1.0, 1.0]).float().view(1, 1, 2, 1).to(ssp.device)\n",
    "#     derivative = F.conv2d(ssp, kernel, padding=0)\n",
    "\n",
    "#     sign = torch.sign(derivative) + F.tanh(tau * derivative) - F.tanh(tau * derivative).detach()\n",
    "\n",
    "#     sign_diff = F.conv2d(sign, kernel, padding=(1,0))\n",
    "#     sign_change = F.tanh(10 * F.relu(-sign_diff))\n",
    "\n",
    "#     for pattern in ([1, 0, 1], [1, -1, 0, 0]):\n",
    "#         n = len(pattern)\n",
    "#         kernel_matrix = torch.eye(n)\n",
    "#         element_match = 0\n",
    "#         for i in range(n):\n",
    "#             kernel_element = kernel_matrix[i, :].view(1, 1, n, 1).to(ssp.device)\n",
    "#             element_match += (F.conv2d(sign, kernel_element, padding=0) - pattern[i]) ** 2\n",
    "\n",
    "#         # Adjust padding to match the length of sign_change\n",
    "#         pattern_recognition = F.pad(element_match, (0,0,1, sign_change.shape[2] - element_match.shape[2] - 1), value=1.0)\n",
    "#         mask_discontinuity = 1 - F.relu(pattern_recognition + 1) * F.relu(1 - pattern_recognition)\n",
    "\n",
    "#         sign_change = sign_change * mask_discontinuity\n",
    "\n",
    "#     mask = F.relu(2 - torch.cumsum(sign_change, dim=2))\n",
    "\n",
    "#     # Expand and align depth_array with the reduced shape of the input tensor\n",
    "     \n",
    "#     depth_array_tens = depth_tens[:mask.shape[2]].view(1,-1, 1).to(ssp.device).type(sign_change.dtype)\n",
    "#     depth_array_tens[0, 0] = 0.0  # TODO: Handle the first depth value properly\n",
    "\n",
    "#     ecs_pred = (sign_change * mask).squeeze(dim=1)\n",
    "#     ecs_pred = (ecs_pred * depth_array_tens).max(dim=1).values\n",
    "    \n",
    "#     if not batch:\n",
    "#         ecs_pred = ecs_pred.squeeze(0)\n",
    "        \n",
    "#     return ecs_pred\n",
    "\n",
    "# #ecs_2d = explicit_ecs_2D(torch.tensor(ssp_truth_unorm_test_arr[t,:,lat,:]).float(),torch.tensor(depth_array).float()).to(device) \n",
    "\n"
   ]
  },
  {
   "cell_type": "code",
   "execution_count": 13,
   "metadata": {},
   "outputs": [],
   "source": [
    "# def explicit_ecs_3D(ssp: torch.tensor,\n",
    "#                     depth_tens: torch.tensor,\n",
    "#                     batch: bool = False,\n",
    "#                     tau = 100):\n",
    "    \n",
    "#     if batch:\n",
    "#         ssp = ssp.unsqueeze(1).nan_to_num()  \n",
    "    \n",
    "#     else:\n",
    "#         ssp = ssp.unsqueeze(0).unsqueeze(0).nan_to_num()       \n",
    "        \n",
    "#     kernel = torch.tensor([-1.0, 1.0]).float().view(1,1,2,1,1).to(ssp.device)\n",
    "#     derivative = F.conv3d(ssp, kernel, padding=(0,0,0))\n",
    "\n",
    "#     #sign = DF.differentiable_sign(derivative)\n",
    "\n",
    "#     sign = torch.sign(derivative) + F.tanh(tau * derivative) - F.tanh(tau * derivative).detach()\n",
    "#     #print(\"After torch.sign (sign):\", sign.requires_grad, sign.grad_fn)\n",
    "\n",
    "\n",
    "#     sign_diff = F.conv3d(sign, kernel, padding=(1,0,0))\n",
    "#     sign_change = F.tanh(10*F.relu(-sign_diff))\n",
    "\n",
    "#     for pattern in ([1, 0, 1], [1, -1, 0, 0]):  \n",
    "#         n = len(pattern)\n",
    "#         kernel_matrix = torch.eye(n)\n",
    "#         element_match = 0\n",
    "#         for i in range(n):\n",
    "#             kernel_element = kernel_matrix[i,:].view(1,1,n,1,1).to(ssp.device)\n",
    "#             element_match = element_match + (F.conv3d(sign, kernel_element, padding=(0,0,0)) - pattern[i])**2\n",
    "\n",
    "#         pattern_recognition = F.pad( element_match, (0, 0, 0, 0, 1, (sign_change.shape[2]- element_match.shape[2]) - 1),value=1.)    \n",
    "\n",
    "\n",
    "\n",
    "#         mask_discontinuity = 1 - F.relu(pattern_recognition+1) * F.relu(1-pattern_recognition)\n",
    "\n",
    "#         sign_change = sign_change * mask_discontinuity\n",
    "\n",
    "\n",
    "#     mask = F.relu(2 - torch.cumsum(sign_change, dim=2))\n",
    "\n",
    "#     depth_array_tens = depth_tens[:mask.shape[2]].view(1,-1,1,1).to(ssp.device).type(sign_change.dtype)\n",
    "#     depth_array_tens[0,0,0,0] = 0.  ##TODO the true first z value is equal to 48cm. It may have to be considered that way\n",
    "#     ecs_pred = (sign_change * mask ).squeeze(dim=1)\n",
    "#     ecs_pred = (ecs_pred * depth_array_tens).max(dim=1).values \n",
    "    \n",
    "    \n",
    "#     if batch:\n",
    "#         ecs_pred = ecs_pred.squeeze(0)\n",
    "        \n",
    "#     return ecs_pred\n",
    "\n"
   ]
  },
  {
   "cell_type": "code",
   "execution_count": 14,
   "metadata": {},
   "outputs": [],
   "source": [
    "from omegaconf import DictConfig\n",
    "\n",
    "\n",
    "def load_model(model_ckpt_path: str,\n",
    "               dm,\n",
    "               device: str, \n",
    "               verbose: bool = True):\n",
    "\n",
    "    cfg = get_cfg_from_ckpt_path(model_ckpt_path, pprint = False)\n",
    "    \n",
    "    lit_mod = hydra.utils.call(cfg.model)\n",
    "    \n",
    "    # torch.serialization.add_safe_globals([DictConfig])\n",
    "\n",
    "    # checkpoint = torch.load(model_ckpt_path, weights_only=True)\n",
    "    # lit_mod.load_state_dict(checkpoint[\"state_dict\"])\n",
    "    lit_mod.load_state_dict(torch.load(model_ckpt_path)[\"state_dict\"])\n",
    "\n",
    "    lit_mod.verbose = verbose\n",
    "    \n",
    "    lit_mod.depth_pre_treatment = dm.depth_pre_treatment\n",
    "    lit_mod.norm_stats = dm.norm_stats\n",
    "    lit_mod.depth_arr = dm.depth_array\n",
    "\n",
    "    lit_mod = lit_mod.to(device) # Move model to gpu for faster inference\n",
    "    lit_mod = lit_mod.eval() # Model in eval mode\n",
    "    for param in lit_mod.parameters():\n",
    "        param.requires_grad = False  # Ensure no gradients are calculated for this model\n",
    "\n",
    "    return lit_mod\n"
   ]
  },
  {
   "cell_type": "markdown",
   "metadata": {},
   "source": [
    "# RMSE"
   ]
  },
  {
   "cell_type": "code",
   "execution_count": 25,
   "metadata": {},
   "outputs": [],
   "source": [
    "# param_dict = {\"model_name\": \"AE_CNN_3D\",\n",
    "#                 \"channels_list\": [[1,1], [1,1,1],[1,1,1,1], [1,1,1,1,1], [1,1,1,1,1,1]],\n",
    "#                 \"prediction_weight\": 1,\n",
    "#                 \"gradient_weight\": 10000,\n",
    "#                 \"n_conv_per_layer\": 1,\n",
    "#                 \"padding\": \"linear\",\n",
    "#                 \"interp_size\": None,\n",
    "#                 \"pooling\": [\"Max\", \"None\"],\n",
    "#                 \"pooling_dim\": \"all\",\n",
    "#                 \"final_upsample_str\": \"upsample_pooling\",\n",
    "#                 \"act_fn_str\": \"None\",\n",
    "#                 \"final_act_fn_str\": \"None\",\n",
    "#                 \"lr\": 0.001,\n",
    "#                 \"normalization_method\": \"min_max\",\n",
    "#                 \"manage_nan\": \"suppress\",\n",
    "#                 \"n_profiles\": None,  \n",
    "#                 }\n",
    "\n",
    "# output_path = \"outputs/AE/AE_CNN_3D/\"\n",
    "\n",
    "# dir_to_ignore = [\"[1,1]_trilinear_test_on_padding\", \"upsample_mode_test_on_[1,1]\", \"[1,1,2,2,4]_trilinear_test_on_padding\"]\n",
    "#ckpt_list = []\n",
    "# ckpt_list = select_outputs_on_params(output_path, param_dict, dir_to_ignore)\n",
    "#ckpt_list = list(Path().rglob('*.ckpt'))\n",
    "#ckpt_list.extend(list(Path(\"outputs/AE/AE_CNN_3D/8_channels_spatial_pooling_with_pca_pre_treatment_bis\").rglob('*.ckpt')))\n",
    "\n",
    "#\"pca_pre_treatment\":\"outputs/remote/AE_CNN_3D/test_on_loss_weights/pred_0.5_grad_0_max_pos_0.01_max_value_0.5_fft_0_weighted_1_inflection_pos_0_inflection_value_0\"\n",
    "ckpt_dict = {\"spatial_loss_4\":\"outputs/AE/AE_CNN_3D/visualisation/pred_10_grad_1000000_max_pos_0.01_fft_0.1_weighted_100_inflexion_0/pooling_Max_on_dim_spatial\",\n",
    "             \"depth_loss_4\":\"outputs/AE/AE_CNN_3D/visualisation/pred_10_grad_1000000_max_pos_0.01_fft_0.1_weighted_100_inflexion_0/pooling_Max_on_dim_depth\",\n",
    "             \"all_loss_4\":\"outputs/AE/AE_CNN_3D/visualisation/pred_10_grad_1000000_max_pos_0.01_fft_0.1_weighted_100_inflexion_0/pooling_Max_on_dim_all\",\n",
    "            \"pca_10_components\":\"outputs/AE_CNN_3D/8_channels_spatial_pooling_with_pca_pre_treatment_bis/pred_0.5_grad_0_max_pos_0.8_max_value_0.1_fft_0.05_weighted_1_inflection_pos_0_inflection_value_0/depth_pre_treatment_pca_n_components_10\",\n",
    "            \"pca_50_components\":\"outputs/AE_CNN_3D/8_channels_spatial_pooling_with_pca_pre_treatment_bis/pred_0.5_grad_0_max_pos_0.8_max_value_0.1_fft_0.05_weighted_1_inflection_pos_0_inflection_value_0/depth_pre_treatment_pca_n_components_50\",\n",
    "            \"pca_107_components\":\"outputs/AE_CNN_3D/8_channels_spatial_pooling_with_pca_pre_treatment_bis/pred_0.5_grad_0_max_pos_0.8_max_value_0.1_fft_0.05_weighted_1_inflection_pos_0_inflection_value_0/depth_pre_treatment_pca_n_components_107\",}\n",
    "             #\"depth_basic_loss\":\"outputs/AE/AE_CNN_3D/dataset_output/8_channels_depth_pooling/pred_1_grad_0_max_pos_0_max_value_0_fft_0_weighted_0_inflection_pos_0_inflection_value_0\",\n",
    "             #\"all_complex_loss\":\"outputs/AE/AE_CNN_3D/dataset_output/8_channels_all_pooling/pred_0.01_grad_10000_max_pos_0.01_max_value_0.05_fft_0.05_weighted_1_inflection_pos_0.01_inflection_value_0.05\",\n",
    "             #\"all_basic_loss\":\"outputs/AE/AE_CNN_3D/dataset_output/8_channels_all_pooling/pred_1_grad_0_max_pos_0_max_value_0_fft_0_weighted_0_inflection_pos_0_inflection_value_0\"}\n",
    "\n",
    "# ckpt_dict={\"loss_1_pca_10\":\"outputs/AE/AE_CNN_3D/dataset_output/8_channels_spatial_pooling_with_pca_pre_treatment_bis/pred_0.2_grad_0_max_pos_1.5_max_value_1.1_fft_0_weighted_1_inflection_pos_0_inflection_value_0/depth_pre_treatment_pca_n_components_10\",\n",
    "#            \"loss_1_pca_50\":\"outputs/AE/AE_CNN_3D/dataset_output/8_channels_spatial_pooling_with_pca_pre_treatment_bis/pred_0.2_grad_0_max_pos_1.5_max_value_1.1_fft_0_weighted_1_inflection_pos_0_inflection_value_0/depth_pre_treatment_pca_n_components_50\",\n",
    "#            \"loss_1_pca_107\":\"outputs/AE/AE_CNN_3D/dataset_output/8_channels_spatial_pooling_with_pca_pre_treatment_bis/pred_0.2_grad_0_max_pos_1.5_max_value_1.1_fft_0_weighted_1_inflection_pos_0_inflection_value_0/depth_pre_treatment_pca_n_components_107\",\n",
    "#            \"loss_2_pca_10\":\"outputs/AE/AE_CNN_3D/dataset_output/8_channels_spatial_pooling_with_pca_pre_treatment_bis/pred_0.5_grad_0_max_pos_0_max_value_0.1_fft_0_weighted_1_inflection_pos_0_inflection_value_0/depth_pre_treatment_pca_n_components_10\",\n",
    "#            \"loss_2_pca_50\":\"outputs/AE/AE_CNN_3D/dataset_output/8_channels_spatial_pooling_with_pca_pre_treatment_bis/pred_0.5_grad_0_max_pos_0_max_value_0.1_fft_0_weighted_1_inflection_pos_0_inflection_value_0/depth_pre_treatment_pca_n_components_50\",\n",
    "#            \"loss_2_pca_107\":\"outputs/AE/AE_CNN_3D/dataset_output/8_channels_spatial_pooling_with_pca_pre_treatment_bis/pred_0.5_grad_0_max_pos_0_max_value_0.1_fft_0_weighted_1_inflection_pos_0_inflection_value_0/depth_pre_treatment_pca_n_components_107\",\n",
    "#            \"loss_3_pca_10\":\"outputs/AE/AE_CNN_3D/dataset_output/8_channels_spatial_pooling_with_pca_pre_treatment_bis/pred_0.5_grad_0_max_pos_0.8_max_value_0.1_fft_0.05_weighted_1_inflection_pos_0_inflection_value_0/depth_pre_treatment_pca_n_components_10\",\n",
    "#            \"loss_3_pca_50\":\"outputs/AE/AE_CNN_3D/dataset_output/8_channels_spatial_pooling_with_pca_pre_treatment_bis/pred_0.5_grad_0_max_pos_0.8_max_value_0.1_fft_0.05_weighted_1_inflection_pos_0_inflection_value_0/depth_pre_treatment_pca_n_components_50\",\n",
    "#            \"loss_3_pca_107\":\"outputs/AE/AE_CNN_3D/dataset_output/8_channels_spatial_pooling_with_pca_pre_treatment_bis/pred_0.5_grad_0_max_pos_0.8_max_value_0.1_fft_0.05_weighted_1_inflection_pos_0_inflection_value_0/depth_pre_treatment_pca_n_components_107\"}"
   ]
  },
  {
   "cell_type": "code",
   "execution_count": 26,
   "metadata": {},
   "outputs": [
    {
     "name": "stderr",
     "output_type": "stream",
     "text": [
      "  0%|          | 0/9 [00:00<?, ?it/s]"
     ]
    },
    {
     "name": "stdout",
     "output_type": "stream",
     "text": [
      "\n",
      "  CNN  3D visualisation pred  10  grad  1000000  max  pos  0.01  fft  0.1  weighted  100  inflexion  0 pooling  Max  on  dim  spatial channels  [1, 8] depth  pre  treatment  none  n  components  107 upsample  mode  trilinear linear  layer  False  lattent  size  50 1  conv  per  layer padding  reflect interp  size  20 final  upsample  upsample  pooling act  fn  Elu  final  act  fn  Linear lr  0.001 normalization  mean  std manage  nan  suppress n  profiles  None 2024-12-03  17-04 checkpoints val  loss=10.19-epoch=39.ckpt\n",
      "Loading model, generating AE output\n"
     ]
    },
    {
     "name": "stderr",
     "output_type": "stream",
     "text": [
      "/tmp/ipykernel_2793966/2466685462.py:17: FutureWarning: You are using `torch.load` with `weights_only=False` (the current default value), which uses the default pickle module implicitly. It is possible to construct malicious pickle data which will execute arbitrary code during unpickling (See https://github.com/pytorch/pytorch/blob/main/SECURITY.md#untrusted-models for more details). In a future release, the default value for `weights_only` will be flipped to `True`. This limits the functions that could be executed during unpickling. Arbitrary objects will no longer be allowed to be loaded via this mode unless they are explicitly allowlisted by the user via `torch.serialization.add_safe_globals`. We recommend you start setting `weights_only=True` for any use case where you don't have full control of the loaded file. Please open an issue on GitHub for any issues related to this experimental feature.\n",
      "  lit_mod.load_state_dict(torch.load(model_ckpt_path)[\"state_dict\"])\n",
      " 11%|█         | 1/9 [00:49<06:32, 49.07s/it]"
     ]
    },
    {
     "name": "stdout",
     "output_type": "stream",
     "text": [
      "bottleneck:  torch.Size([37, 8, 107, 87, 120])\n",
      "cr:  0.5\n",
      "\n",
      "  CNN  3D visualisation pred  10  grad  1000000  max  pos  0.01  fft  0.1  weighted  100  inflexion  0 pooling  Max  on  dim  spatial channels  [1, 8] depth  pre  treatment  none  n  components  107 upsample  mode  trilinear linear  layer  False  lattent  size  50 1  conv  per  layer padding  reflect interp  size  20 final  upsample  upsample  pooling act  fn  Elu  final  act  fn  Linear lr  0.001 normalization  mean  std manage  nan  suppress n  profiles  None 2024-12-03  18-52 checkpoints val  loss=47.28-epoch=36.ckpt\n"
     ]
    },
    {
     "name": "stderr",
     "output_type": "stream",
     "text": [
      "/tmp/ipykernel_2793966/2466685462.py:17: FutureWarning: You are using `torch.load` with `weights_only=False` (the current default value), which uses the default pickle module implicitly. It is possible to construct malicious pickle data which will execute arbitrary code during unpickling (See https://github.com/pytorch/pytorch/blob/main/SECURITY.md#untrusted-models for more details). In a future release, the default value for `weights_only` will be flipped to `True`. This limits the functions that could be executed during unpickling. Arbitrary objects will no longer be allowed to be loaded via this mode unless they are explicitly allowlisted by the user via `torch.serialization.add_safe_globals`. We recommend you start setting `weights_only=True` for any use case where you don't have full control of the loaded file. Please open an issue on GitHub for any issues related to this experimental feature.\n",
      "  lit_mod.load_state_dict(torch.load(model_ckpt_path)[\"state_dict\"])\n",
      " 22%|██▏       | 2/9 [00:50<02:25, 20.84s/it]"
     ]
    },
    {
     "name": "stdout",
     "output_type": "stream",
     "text": [
      "Loading model, generating AE output\n",
      "\n",
      "  CNN  3D visualisation pred  10  grad  1000000  max  pos  0.01  fft  0.1  weighted  100  inflexion  0 pooling  Max  on  dim  spatial channels  [1, 8] depth  pre  treatment  none  n  components  107 upsample  mode  trilinear linear  layer  False  lattent  size  50 1  conv  per  layer padding  reflect interp  size  20 final  upsample  upsample  pooling act  fn  Elu  final  act  fn  Linear lr  0.001 normalization  mean  std manage  nan  suppress n  profiles  None 2024-12-04  13-46 checkpoints val  loss=11.78-epoch=05.ckpt\n",
      "Loading model, generating AE output\n",
      "outputs/AE/AE_CNN_3D/visualisation/pred_10_grad_1000000_max_pos_0.01_fft_0.1_weighted_100_inflexion_0/pooling_Max_on_dim_spatial/channels_[1, 8]/depth_pre_treatment_none_n_components_107/upsample_mode_trilinear/linear_layer_False_lattent_size_50/1_conv_per_layer/padding_reflect/interp_size_20/final_upsample_upsample_pooling/act_fn_Elu_final_act_fn_Linear/lr_0.001/normalization_mean_std/manage_nan_suppress/n_profiles_None/2024-12-04_13-46/checkpoints/val_loss=11.78-epoch=05.ckpt \n",
      " torch.Size([37, 8, 107, 87, 120])\n"
     ]
    },
    {
     "name": "stderr",
     "output_type": "stream",
     "text": [
      " 33%|███▎      | 3/9 [02:24<05:26, 54.46s/it]"
     ]
    },
    {
     "name": "stdout",
     "output_type": "stream",
     "text": [
      "bottleneck:  torch.Size([37, 8, 107, 87, 120])\n",
      "cr:  0.5\n",
      "\n",
      "  CNN  3D visualisation pred  10  grad  1000000  max  pos  0.01  fft  0.1  weighted  100  inflexion  0 pooling  Max  on  dim  spatial channels  [1, 8, 8] depth  pre  treatment  none  n  components  107 upsample  mode  trilinear linear  layer  False  lattent  size  50 1  conv  per  layer padding  reflect interp  size  20 final  upsample  upsample  pooling act  fn  Elu  final  act  fn  Linear lr  0.001 normalization  mean  std manage  nan  suppress n  profiles  None 2024-12-03  21-00 checkpoints val  loss=53.52-epoch=39.ckpt\n"
     ]
    },
    {
     "name": "stderr",
     "output_type": "stream",
     "text": [
      "/tmp/ipykernel_2793966/2466685462.py:17: FutureWarning: You are using `torch.load` with `weights_only=False` (the current default value), which uses the default pickle module implicitly. It is possible to construct malicious pickle data which will execute arbitrary code during unpickling (See https://github.com/pytorch/pytorch/blob/main/SECURITY.md#untrusted-models for more details). In a future release, the default value for `weights_only` will be flipped to `True`. This limits the functions that could be executed during unpickling. Arbitrary objects will no longer be allowed to be loaded via this mode unless they are explicitly allowlisted by the user via `torch.serialization.add_safe_globals`. We recommend you start setting `weights_only=True` for any use case where you don't have full control of the loaded file. Please open an issue on GitHub for any issues related to this experimental feature.\n",
      "  lit_mod.load_state_dict(torch.load(model_ckpt_path)[\"state_dict\"])\n",
      " 44%|████▍     | 4/9 [02:25<02:47, 33.42s/it]"
     ]
    },
    {
     "name": "stdout",
     "output_type": "stream",
     "text": [
      "Loading model, generating AE output\n",
      "\n",
      "  CNN  3D visualisation pred  10  grad  1000000  max  pos  0.01  fft  0.1  weighted  100  inflexion  0 pooling  Max  on  dim  spatial channels  [1, 8, 8, 8] depth  pre  treatment  none  n  components  107 upsample  mode  trilinear linear  layer  False  lattent  size  50 1  conv  per  layer padding  reflect interp  size  20 final  upsample  upsample  pooling act  fn  Elu  final  act  fn  Linear lr  0.001 normalization  mean  std manage  nan  suppress n  profiles  None 2024-12-03  23-13 checkpoints val  loss=64.32-epoch=39.ckpt\n"
     ]
    },
    {
     "name": "stderr",
     "output_type": "stream",
     "text": [
      " 56%|█████▌    | 5/9 [02:26<01:27, 21.76s/it]"
     ]
    },
    {
     "name": "stdout",
     "output_type": "stream",
     "text": [
      "Loading model, generating AE output\n",
      "\n",
      "  CNN  3D visualisation pred  10  grad  1000000  max  pos  0.01  fft  0.1  weighted  100  inflexion  0 pooling  Max  on  dim  spatial channels  [1, 8, 8, 8, 8] depth  pre  treatment  none  n  components  107 upsample  mode  trilinear linear  layer  False  lattent  size  50 1  conv  per  layer padding  reflect interp  size  20 final  upsample  upsample  pooling act  fn  Elu  final  act  fn  Linear lr  0.001 normalization  mean  std manage  nan  suppress n  profiles  None 2024-12-04  01-45 checkpoints val  loss=76.38-epoch=38.ckpt\n"
     ]
    },
    {
     "name": "stderr",
     "output_type": "stream",
     "text": [
      " 67%|██████▋   | 6/9 [02:28<00:44, 14.86s/it]"
     ]
    },
    {
     "name": "stdout",
     "output_type": "stream",
     "text": [
      "Loading model, generating AE output\n",
      "\n",
      "  CNN  3D visualisation pred  10  grad  1000000  max  pos  0.01  fft  0.1  weighted  100  inflexion  0 pooling  Max  on  dim  spatial pooling  None  on  dim  all channels  [1, 8] depth  pre  treatment  none  n  components  107 upsample  mode  trilinear linear  layer  False  lattent  size  50 1  conv  per  layer padding  reflect interp  size  0 final  upsample  upsample  pooling act  fn  Elu  final  act  fn  Linear lr  0.001 normalization  mean  std manage  nan  suppress n  profiles  None 2024-12-04  03-39 checkpoints val  loss=62.39-epoch=32.ckpt\n"
     ]
    },
    {
     "name": "stderr",
     "output_type": "stream",
     "text": [
      " 78%|███████▊  | 7/9 [02:29<00:20, 10.27s/it]"
     ]
    },
    {
     "name": "stdout",
     "output_type": "stream",
     "text": [
      "Loading model, generating AE output\n",
      "\n",
      "  CNN  3D visualisation pred  10  grad  1000000  max  pos  0.01  fft  0.1  weighted  100  inflexion  0 pooling  Max  on  dim  spatial pooling  None  on  dim  all channels  [1, 8] depth  pre  treatment  none  n  components  107 upsample  mode  trilinear linear  layer  False  lattent  size  50 1  conv  per  layer padding  reflect interp  size  0 final  upsample  upsample  pooling act  fn  Elu  final  act  fn  Linear lr  0.001 normalization  mean  std manage  nan  suppress n  profiles  None 2024-12-04  04-18 checkpoints val  loss=62.30-epoch=28.ckpt\n"
     ]
    },
    {
     "name": "stderr",
     "output_type": "stream",
     "text": [
      " 89%|████████▉ | 8/9 [02:30<00:07,  7.36s/it]"
     ]
    },
    {
     "name": "stdout",
     "output_type": "stream",
     "text": [
      "Loading model, generating AE output\n",
      "\n",
      "  CNN  3D visualisation pred  10  grad  1000000  max  pos  0.01  fft  0.1  weighted  100  inflexion  0 pooling  Max  on  dim  spatial pooling  None  on  dim  all channels  [1, 8] depth  pre  treatment  none  n  components  107 upsample  mode  trilinear linear  layer  False  lattent  size  50 1  conv  per  layer padding  reflect interp  size  0 final  upsample  upsample  pooling act  fn  Elu  final  act  fn  Linear lr  0.001 normalization  mean  std manage  nan  suppress n  profiles  None 2024-12-04  05-29 checkpoints val  loss=62.29-epoch=27.ckpt\n"
     ]
    },
    {
     "name": "stderr",
     "output_type": "stream",
     "text": [
      "100%|██████████| 9/9 [02:31<00:00, 16.85s/it]"
     ]
    },
    {
     "name": "stdout",
     "output_type": "stream",
     "text": [
      "Loading model, generating AE output\n"
     ]
    },
    {
     "name": "stderr",
     "output_type": "stream",
     "text": [
      "\n",
      "  0%|          | 0/9 [00:00<?, ?it/s]"
     ]
    },
    {
     "name": "stdout",
     "output_type": "stream",
     "text": [
      "\n",
      "  CNN  3D visualisation pred  10  grad  1000000  max  pos  0.01  fft  0.1  weighted  100  inflexion  0 pooling  Max  on  dim  depth channels  [1, 8] depth  pre  treatment  none  n  components  107 upsample  mode  trilinear linear  layer  False  lattent  size  50 1  conv  per  layer padding  reflect interp  size  20 final  upsample  upsample  pooling act  fn  Elu  final  act  fn  Linear lr  0.001 normalization  mean  std manage  nan  suppress n  profiles  None 2024-12-03  17-04 checkpoints val  loss=9.35-epoch=39.ckpt\n",
      "Loading model, generating AE output\n",
      "outputs/AE/AE_CNN_3D/visualisation/pred_10_grad_1000000_max_pos_0.01_fft_0.1_weighted_100_inflexion_0/pooling_Max_on_dim_depth/channels_[1, 8]/depth_pre_treatment_none_n_components_107/upsample_mode_trilinear/linear_layer_False_lattent_size_50/1_conv_per_layer/padding_reflect/interp_size_20/final_upsample_upsample_pooling/act_fn_Elu_final_act_fn_Linear/lr_0.001/normalization_mean_std/manage_nan_suppress/n_profiles_None/2024-12-03_17-04/checkpoints/val_loss=9.35-epoch=39.ckpt \n",
      " torch.Size([37, 8, 107, 87, 120])\n"
     ]
    },
    {
     "name": "stderr",
     "output_type": "stream",
     "text": [
      " 11%|█         | 1/9 [00:27<03:43, 27.99s/it]"
     ]
    },
    {
     "name": "stdout",
     "output_type": "stream",
     "text": [
      "bottleneck:  torch.Size([37, 8, 74, 174, 240])\n",
      "cr:  0.18074324324324326\n",
      "\n",
      "  CNN  3D visualisation pred  10  grad  1000000  max  pos  0.01  fft  0.1  weighted  100  inflexion  0 pooling  Max  on  dim  depth channels  [1, 8] depth  pre  treatment  none  n  components  107 upsample  mode  trilinear linear  layer  False  lattent  size  50 1  conv  per  layer padding  reflect interp  size  20 final  upsample  upsample  pooling act  fn  Elu  final  act  fn  Linear lr  0.001 normalization  mean  std manage  nan  suppress n  profiles  None 2024-12-03  18-52 checkpoints val  loss=42.71-epoch=39.ckpt\n"
     ]
    },
    {
     "name": "stderr",
     "output_type": "stream",
     "text": [
      "/tmp/ipykernel_2793966/2466685462.py:17: FutureWarning: You are using `torch.load` with `weights_only=False` (the current default value), which uses the default pickle module implicitly. It is possible to construct malicious pickle data which will execute arbitrary code during unpickling (See https://github.com/pytorch/pytorch/blob/main/SECURITY.md#untrusted-models for more details). In a future release, the default value for `weights_only` will be flipped to `True`. This limits the functions that could be executed during unpickling. Arbitrary objects will no longer be allowed to be loaded via this mode unless they are explicitly allowlisted by the user via `torch.serialization.add_safe_globals`. We recommend you start setting `weights_only=True` for any use case where you don't have full control of the loaded file. Please open an issue on GitHub for any issues related to this experimental feature.\n",
      "  lit_mod.load_state_dict(torch.load(model_ckpt_path)[\"state_dict\"])\n",
      " 22%|██▏       | 2/9 [00:29<01:27, 12.44s/it]"
     ]
    },
    {
     "name": "stdout",
     "output_type": "stream",
     "text": [
      "Loading model, generating AE output\n",
      "\n",
      "  CNN  3D visualisation pred  10  grad  1000000  max  pos  0.01  fft  0.1  weighted  100  inflexion  0 pooling  Max  on  dim  depth channels  [1, 8] depth  pre  treatment  none  n  components  107 upsample  mode  trilinear linear  layer  False  lattent  size  50 1  conv  per  layer padding  reflect interp  size  20 final  upsample  upsample  pooling act  fn  Elu  final  act  fn  Linear lr  0.001 normalization  mean  std manage  nan  suppress n  profiles  None 2024-12-04  13-46 checkpoints val  loss=10.82-epoch=05.ckpt\n",
      "Loading model, generating AE output\n",
      "outputs/AE/AE_CNN_3D/visualisation/pred_10_grad_1000000_max_pos_0.01_fft_0.1_weighted_100_inflexion_0/pooling_Max_on_dim_depth/channels_[1, 8]/depth_pre_treatment_none_n_components_107/upsample_mode_trilinear/linear_layer_False_lattent_size_50/1_conv_per_layer/padding_reflect/interp_size_20/final_upsample_upsample_pooling/act_fn_Elu_final_act_fn_Linear/lr_0.001/normalization_mean_std/manage_nan_suppress/n_profiles_None/2024-12-04_13-46/checkpoints/val_loss=10.82-epoch=05.ckpt \n",
      " torch.Size([37, 8, 74, 174, 240])\n"
     ]
    },
    {
     "name": "stderr",
     "output_type": "stream",
     "text": [
      " 33%|███▎      | 3/9 [01:41<03:56, 39.40s/it]"
     ]
    },
    {
     "name": "stdout",
     "output_type": "stream",
     "text": [
      "bottleneck:  torch.Size([37, 8, 74, 174, 240])\n",
      "cr:  0.18074324324324326\n",
      "\n",
      "  CNN  3D visualisation pred  10  grad  1000000  max  pos  0.01  fft  0.1  weighted  100  inflexion  0 pooling  Max  on  dim  depth channels  [1, 8, 8] depth  pre  treatment  none  n  components  107 upsample  mode  trilinear linear  layer  False  lattent  size  50 1  conv  per  layer padding  reflect interp  size  20 final  upsample  upsample  pooling act  fn  Elu  final  act  fn  Linear lr  0.001 normalization  mean  std manage  nan  suppress n  profiles  None 2024-12-03  20-53 checkpoints val  loss=56.20-epoch=39.ckpt\n"
     ]
    },
    {
     "name": "stderr",
     "output_type": "stream",
     "text": [
      "/tmp/ipykernel_2793966/2466685462.py:17: FutureWarning: You are using `torch.load` with `weights_only=False` (the current default value), which uses the default pickle module implicitly. It is possible to construct malicious pickle data which will execute arbitrary code during unpickling (See https://github.com/pytorch/pytorch/blob/main/SECURITY.md#untrusted-models for more details). In a future release, the default value for `weights_only` will be flipped to `True`. This limits the functions that could be executed during unpickling. Arbitrary objects will no longer be allowed to be loaded via this mode unless they are explicitly allowlisted by the user via `torch.serialization.add_safe_globals`. We recommend you start setting `weights_only=True` for any use case where you don't have full control of the loaded file. Please open an issue on GitHub for any issues related to this experimental feature.\n",
      "  lit_mod.load_state_dict(torch.load(model_ckpt_path)[\"state_dict\"])\n",
      " 44%|████▍     | 4/9 [01:43<02:03, 24.72s/it]"
     ]
    },
    {
     "name": "stdout",
     "output_type": "stream",
     "text": [
      "Loading model, generating AE output\n",
      "\n",
      "  CNN  3D visualisation pred  10  grad  1000000  max  pos  0.01  fft  0.1  weighted  100  inflexion  0 pooling  Max  on  dim  depth channels  [1, 8, 8, 8] depth  pre  treatment  none  n  components  107 upsample  mode  trilinear linear  layer  False  lattent  size  50 1  conv  per  layer padding  reflect interp  size  20 final  upsample  upsample  pooling act  fn  Elu  final  act  fn  Linear lr  0.001 normalization  mean  std manage  nan  suppress n  profiles  None 2024-12-03  22-55 checkpoints val  loss=55.78-epoch=32.ckpt\n"
     ]
    },
    {
     "name": "stderr",
     "output_type": "stream",
     "text": [
      " 56%|█████▌    | 5/9 [01:43<01:04, 16.08s/it]"
     ]
    },
    {
     "name": "stdout",
     "output_type": "stream",
     "text": [
      "Loading model, generating AE output\n",
      "\n",
      "  CNN  3D visualisation pred  10  grad  1000000  max  pos  0.01  fft  0.1  weighted  100  inflexion  0 pooling  Max  on  dim  depth channels  [1, 8, 8, 8, 8] depth  pre  treatment  none  n  components  107 upsample  mode  trilinear linear  layer  False  lattent  size  50 1  conv  per  layer padding  reflect interp  size  20 final  upsample  upsample  pooling act  fn  Elu  final  act  fn  Linear lr  0.001 normalization  mean  std manage  nan  suppress n  profiles  None 2024-12-04  01-13 checkpoints val  loss=96.06-epoch=33.ckpt\n"
     ]
    },
    {
     "name": "stderr",
     "output_type": "stream",
     "text": [
      " 67%|██████▋   | 6/9 [01:45<00:33, 11.03s/it]"
     ]
    },
    {
     "name": "stdout",
     "output_type": "stream",
     "text": [
      "Loading model, generating AE output\n",
      "\n",
      "  CNN  3D visualisation pred  10  grad  1000000  max  pos  0.01  fft  0.1  weighted  100  inflexion  0 pooling  Max  on  dim  depth pooling  None  on  dim  all channels  [1, 8] depth  pre  treatment  none  n  components  107 upsample  mode  trilinear linear  layer  False  lattent  size  50 1  conv  per  layer padding  reflect interp  size  0 final  upsample  upsample  pooling act  fn  Elu  final  act  fn  Linear lr  0.001 normalization  mean  std manage  nan  suppress n  profiles  None 2024-12-04  03-39 checkpoints val  loss=62.39-epoch=32.ckpt\n"
     ]
    },
    {
     "name": "stderr",
     "output_type": "stream",
     "text": [
      " 78%|███████▊  | 7/9 [01:45<00:15,  7.67s/it]"
     ]
    },
    {
     "name": "stdout",
     "output_type": "stream",
     "text": [
      "Loading model, generating AE output\n",
      "\n",
      "  CNN  3D visualisation pred  10  grad  1000000  max  pos  0.01  fft  0.1  weighted  100  inflexion  0 pooling  Max  on  dim  depth pooling  None  on  dim  all channels  [1, 8] depth  pre  treatment  none  n  components  107 upsample  mode  trilinear linear  layer  False  lattent  size  50 1  conv  per  layer padding  reflect interp  size  0 final  upsample  upsample  pooling act  fn  Elu  final  act  fn  Linear lr  0.001 normalization  mean  std manage  nan  suppress n  profiles  None 2024-12-04  04-18 checkpoints val  loss=62.30-epoch=28.ckpt\n"
     ]
    },
    {
     "name": "stderr",
     "output_type": "stream",
     "text": [
      " 89%|████████▉ | 8/9 [01:46<00:05,  5.52s/it]"
     ]
    },
    {
     "name": "stdout",
     "output_type": "stream",
     "text": [
      "Loading model, generating AE output\n",
      "\n",
      "  CNN  3D visualisation pred  10  grad  1000000  max  pos  0.01  fft  0.1  weighted  100  inflexion  0 pooling  Max  on  dim  depth pooling  None  on  dim  all channels  [1, 8] depth  pre  treatment  none  n  components  107 upsample  mode  trilinear linear  layer  False  lattent  size  50 1  conv  per  layer padding  reflect interp  size  0 final  upsample  upsample  pooling act  fn  Elu  final  act  fn  Linear lr  0.001 normalization  mean  std manage  nan  suppress n  profiles  None 2024-12-04  05-29 checkpoints val  loss=62.29-epoch=27.ckpt\n"
     ]
    },
    {
     "name": "stderr",
     "output_type": "stream",
     "text": [
      "100%|██████████| 9/9 [01:47<00:00, 11.97s/it]"
     ]
    },
    {
     "name": "stdout",
     "output_type": "stream",
     "text": [
      "Loading model, generating AE output\n"
     ]
    },
    {
     "name": "stderr",
     "output_type": "stream",
     "text": [
      "\n",
      "  0%|          | 0/7 [00:00<?, ?it/s]"
     ]
    },
    {
     "name": "stdout",
     "output_type": "stream",
     "text": [
      "\n",
      "  CNN  3D visualisation pred  10  grad  1000000  max  pos  0.01  fft  0.1  weighted  100  inflexion  0 pooling  Max  on  dim  all channels  [1, 8] depth  pre  treatment  none  n  components  107 upsample  mode  trilinear linear  layer  False  lattent  size  50 1  conv  per  layer padding  reflect interp  size  20 final  upsample  upsample  pooling act  fn  Elu  final  act  fn  Linear lr  0.001 normalization  mean  std manage  nan  suppress n  profiles  None 2024-12-03  17-04 checkpoints val  loss=11.57-epoch=39.ckpt\n",
      "Loading model, generating AE output\n",
      "outputs/AE/AE_CNN_3D/visualisation/pred_10_grad_1000000_max_pos_0.01_fft_0.1_weighted_100_inflexion_0/pooling_Max_on_dim_all/channels_[1, 8]/depth_pre_treatment_none_n_components_107/upsample_mode_trilinear/linear_layer_False_lattent_size_50/1_conv_per_layer/padding_reflect/interp_size_20/final_upsample_upsample_pooling/act_fn_Elu_final_act_fn_Linear/lr_0.001/normalization_mean_std/manage_nan_suppress/n_profiles_None/2024-12-03_17-04/checkpoints/val_loss=11.57-epoch=39.ckpt \n",
      " torch.Size([37, 8, 74, 174, 240])\n",
      "bottleneck:  torch.Size([37, 8, 74, 87, 120])\n",
      "cr:  0.722972972972973\n"
     ]
    },
    {
     "name": "stderr",
     "output_type": "stream",
     "text": [
      " 14%|█▍        | 1/7 [04:52<29:17, 292.84s/it]"
     ]
    },
    {
     "name": "stdout",
     "output_type": "stream",
     "text": [
      "\n",
      "  CNN  3D visualisation pred  10  grad  1000000  max  pos  0.01  fft  0.1  weighted  100  inflexion  0 pooling  Max  on  dim  all channels  [1, 8, 8] depth  pre  treatment  none  n  components  107 upsample  mode  trilinear linear  layer  False  lattent  size  50 1  conv  per  layer padding  reflect interp  size  20 final  upsample  upsample  pooling act  fn  Elu  final  act  fn  Linear lr  0.001 normalization  mean  std manage  nan  suppress n  profiles  None 2024-12-03  21-24 checkpoints val  loss=1047.33-epoch=39.ckpt\n",
      "Loading model, generating AE output\n",
      "outputs/AE/AE_CNN_3D/visualisation/pred_10_grad_1000000_max_pos_0.01_fft_0.1_weighted_100_inflexion_0/pooling_Max_on_dim_all/channels_[1, 8, 8]/depth_pre_treatment_none_n_components_107/upsample_mode_trilinear/linear_layer_False_lattent_size_50/1_conv_per_layer/padding_reflect/interp_size_20/final_upsample_upsample_pooling/act_fn_Elu_final_act_fn_Linear/lr_0.001/normalization_mean_std/manage_nan_suppress/n_profiles_None/2024-12-03_21-24/checkpoints/val_loss=1047.33-epoch=39.ckpt \n",
      " torch.Size([37, 8, 74, 87, 120])\n"
     ]
    },
    {
     "name": "stderr",
     "output_type": "stream",
     "text": [
      "/tmp/ipykernel_2793966/2466685462.py:17: FutureWarning: You are using `torch.load` with `weights_only=False` (the current default value), which uses the default pickle module implicitly. It is possible to construct malicious pickle data which will execute arbitrary code during unpickling (See https://github.com/pytorch/pytorch/blob/main/SECURITY.md#untrusted-models for more details). In a future release, the default value for `weights_only` will be flipped to `True`. This limits the functions that could be executed during unpickling. Arbitrary objects will no longer be allowed to be loaded via this mode unless they are explicitly allowlisted by the user via `torch.serialization.add_safe_globals`. We recommend you start setting `weights_only=True` for any use case where you don't have full control of the loaded file. Please open an issue on GitHub for any issues related to this experimental feature.\n",
      "  lit_mod.load_state_dict(torch.load(model_ckpt_path)[\"state_dict\"])\n",
      " 29%|██▊       | 2/7 [06:39<15:15, 183.18s/it]"
     ]
    },
    {
     "name": "stdout",
     "output_type": "stream",
     "text": [
      "\n",
      "  CNN  3D visualisation pred  10  grad  1000000  max  pos  0.01  fft  0.1  weighted  100  inflexion  0 pooling  Max  on  dim  all channels  [1, 8, 8, 8] depth  pre  treatment  none  n  components  107 upsample  mode  trilinear linear  layer  False  lattent  size  50 1  conv  per  layer padding  reflect interp  size  20 final  upsample  upsample  pooling act  fn  Elu  final  act  fn  Linear lr  0.001 normalization  mean  std manage  nan  suppress n  profiles  None 2024-12-03  23-54 checkpoints val  loss=144.99-epoch=39.ckpt\n"
     ]
    },
    {
     "name": "stderr",
     "output_type": "stream",
     "text": [
      "/tmp/ipykernel_2793966/2466685462.py:17: FutureWarning: You are using `torch.load` with `weights_only=False` (the current default value), which uses the default pickle module implicitly. It is possible to construct malicious pickle data which will execute arbitrary code during unpickling (See https://github.com/pytorch/pytorch/blob/main/SECURITY.md#untrusted-models for more details). In a future release, the default value for `weights_only` will be flipped to `True`. This limits the functions that could be executed during unpickling. Arbitrary objects will no longer be allowed to be loaded via this mode unless they are explicitly allowlisted by the user via `torch.serialization.add_safe_globals`. We recommend you start setting `weights_only=True` for any use case where you don't have full control of the loaded file. Please open an issue on GitHub for any issues related to this experimental feature.\n",
      "  lit_mod.load_state_dict(torch.load(model_ckpt_path)[\"state_dict\"])\n",
      " 43%|████▎     | 3/7 [06:39<06:39, 99.80s/it] "
     ]
    },
    {
     "name": "stdout",
     "output_type": "stream",
     "text": [
      "Loading model, generating AE output\n",
      "\n",
      "  CNN  3D visualisation pred  10  grad  1000000  max  pos  0.01  fft  0.1  weighted  100  inflexion  0 pooling  Max  on  dim  all channels  [1, 8, 8, 8, 8] depth  pre  treatment  none  n  components  107 upsample  mode  trilinear linear  layer  False  lattent  size  50 1  conv  per  layer padding  reflect interp  size  20 final  upsample  upsample  pooling act  fn  Elu  final  act  fn  Linear lr  0.001 normalization  mean  std manage  nan  suppress n  profiles  None 2024-12-04  02-46 checkpoints val  loss=177.74-epoch=39.ckpt\n"
     ]
    },
    {
     "name": "stderr",
     "output_type": "stream",
     "text": [
      " 57%|█████▋    | 4/7 [06:40<03:02, 60.67s/it]"
     ]
    },
    {
     "name": "stdout",
     "output_type": "stream",
     "text": [
      "Loading model, generating AE output\n",
      "\n",
      "  CNN  3D visualisation pred  10  grad  1000000  max  pos  0.01  fft  0.1  weighted  100  inflexion  0 pooling  Max  on  dim  all pooling  None  on  dim  all channels  [1, 8] depth  pre  treatment  none  n  components  107 upsample  mode  trilinear linear  layer  False  lattent  size  50 1  conv  per  layer padding  reflect interp  size  0 final  upsample  upsample  pooling act  fn  Elu  final  act  fn  Linear lr  0.001 normalization  mean  std manage  nan  suppress n  profiles  None 2024-12-04  03-39 checkpoints val  loss=62.39-epoch=32.ckpt\n"
     ]
    },
    {
     "name": "stderr",
     "output_type": "stream",
     "text": [
      " 71%|███████▏  | 5/7 [06:41<01:18, 39.03s/it]"
     ]
    },
    {
     "name": "stdout",
     "output_type": "stream",
     "text": [
      "Loading model, generating AE output\n",
      "\n",
      "  CNN  3D visualisation pred  10  grad  1000000  max  pos  0.01  fft  0.1  weighted  100  inflexion  0 pooling  Max  on  dim  all pooling  None  on  dim  all channels  [1, 8] depth  pre  treatment  none  n  components  107 upsample  mode  trilinear linear  layer  False  lattent  size  50 1  conv  per  layer padding  reflect interp  size  0 final  upsample  upsample  pooling act  fn  Elu  final  act  fn  Linear lr  0.001 normalization  mean  std manage  nan  suppress n  profiles  None 2024-12-04  04-18 checkpoints val  loss=62.30-epoch=28.ckpt\n"
     ]
    },
    {
     "name": "stderr",
     "output_type": "stream",
     "text": [
      " 86%|████████▌ | 6/7 [06:41<00:25, 25.98s/it]"
     ]
    },
    {
     "name": "stdout",
     "output_type": "stream",
     "text": [
      "Loading model, generating AE output\n",
      "\n",
      "  CNN  3D visualisation pred  10  grad  1000000  max  pos  0.01  fft  0.1  weighted  100  inflexion  0 pooling  Max  on  dim  all pooling  None  on  dim  all channels  [1, 8] depth  pre  treatment  none  n  components  107 upsample  mode  trilinear linear  layer  False  lattent  size  50 1  conv  per  layer padding  reflect interp  size  0 final  upsample  upsample  pooling act  fn  Elu  final  act  fn  Linear lr  0.001 normalization  mean  std manage  nan  suppress n  profiles  None 2024-12-04  05-29 checkpoints val  loss=62.29-epoch=27.ckpt\n"
     ]
    },
    {
     "name": "stderr",
     "output_type": "stream",
     "text": [
      "100%|██████████| 7/7 [06:42<00:00, 57.51s/it]"
     ]
    },
    {
     "name": "stdout",
     "output_type": "stream",
     "text": [
      "Loading model, generating AE output\n"
     ]
    },
    {
     "name": "stderr",
     "output_type": "stream",
     "text": [
      "\n",
      "  0%|          | 0/4 [00:00<?, ?it/s]"
     ]
    },
    {
     "name": "stdout",
     "output_type": "stream",
     "text": [
      "\n",
      "  CNN  3D 8  channels  spatial  pooling  with  pca  pre  treatment  bis pred  0.5  grad  0  max  pos  0.8  max  value  0.1  fft  0.05  weighted  1  inflection  pos  0  inflection  value  0 depth  pre  treatment  pca  n  components  10 channels  [1, 8, 8] upsample  mode  trilinear linear  later  False  lattent  size  50 1  conv  per  layer padding  reflect interp  size  0 pooling  Max  on  dim  spatial final  upsample  upsample  pooling act  fn  Elu  final  act  fn  Linear lr  0.001 normalization  mean  std manage  nan  suppress n  profiles  None 2024-11-20  04-19 checkpoints val  loss=0.54-epoch=22.ckpt\n",
      "Loading model, generating AE output\n"
     ]
    },
    {
     "name": "stderr",
     "output_type": "stream",
     "text": [
      " 50%|█████     | 2/4 [00:00<00:00,  5.97it/s]"
     ]
    },
    {
     "name": "stdout",
     "output_type": "stream",
     "text": [
      "\n",
      "  CNN  3D 8  channels  spatial  pooling  with  pca  pre  treatment  bis pred  0.5  grad  0  max  pos  0.8  max  value  0.1  fft  0.05  weighted  1  inflection  pos  0  inflection  value  0 depth  pre  treatment  pca  n  components  10 channels  [1, 8] upsample  mode  trilinear linear  later  False  lattent  size  50 1  conv  per  layer padding  reflect interp  size  0 pooling  Max  on  dim  spatial final  upsample  upsample  pooling act  fn  Elu  final  act  fn  Linear lr  0.001 normalization  mean  std manage  nan  suppress n  profiles  None 2024-11-20  07-30 checkpoints val  loss=0.60-epoch=09.ckpt\n",
      "Loading model, generating AE output\n",
      "\n",
      "  CNN  3D 8  channels  spatial  pooling  with  pca  pre  treatment  bis pred  0.5  grad  0  max  pos  0.8  max  value  0.1  fft  0.05  weighted  1  inflection  pos  0  inflection  value  0 depth  pre  treatment  pca  n  components  10 channels  [1, 8, 8, 8] upsample  mode  trilinear linear  later  False  lattent  size  50 1  conv  per  layer padding  reflect interp  size  0 pooling  Max  on  dim  spatial final  upsample  upsample  pooling act  fn  Elu  final  act  fn  Linear lr  0.001 normalization  mean  std manage  nan  suppress n  profiles  None 2024-11-20  08-41 checkpoints val  loss=0.66-epoch=21.ckpt\n"
     ]
    },
    {
     "name": "stderr",
     "output_type": "stream",
     "text": [
      "100%|██████████| 4/4 [00:00<00:00,  6.32it/s]"
     ]
    },
    {
     "name": "stdout",
     "output_type": "stream",
     "text": [
      "Loading model, generating AE output\n",
      "\n",
      "  CNN  3D 8  channels  spatial  pooling  with  pca  pre  treatment  bis pred  0.5  grad  0  max  pos  0.8  max  value  0.1  fft  0.05  weighted  1  inflection  pos  0  inflection  value  0 depth  pre  treatment  pca  n  components  10 channels  [1, 8, 8, 8, 8] upsample  mode  trilinear linear  later  False  lattent  size  50 1  conv  per  layer padding  reflect interp  size  0 pooling  Max  on  dim  spatial final  upsample  upsample  pooling act  fn  Elu  final  act  fn  Linear lr  0.001 normalization  mean  std manage  nan  suppress n  profiles  None 2024-11-20  09-56 checkpoints val  loss=1.03-epoch=22.ckpt\n",
      "Loading model, generating AE output\n"
     ]
    },
    {
     "name": "stderr",
     "output_type": "stream",
     "text": [
      "\n",
      "  0%|          | 0/2 [00:00<?, ?it/s]"
     ]
    },
    {
     "name": "stdout",
     "output_type": "stream",
     "text": [
      "\n",
      "  CNN  3D 8  channels  spatial  pooling  with  pca  pre  treatment  bis pred  0.5  grad  0  max  pos  0.8  max  value  0.1  fft  0.05  weighted  1  inflection  pos  0  inflection  value  0 depth  pre  treatment  pca  n  components  50 channels  [1, 8, 8] upsample  mode  trilinear linear  later  False  lattent  size  50 1  conv  per  layer padding  reflect interp  size  0 pooling  Max  on  dim  spatial final  upsample  upsample  pooling act  fn  Elu  final  act  fn  Linear lr  0.001 normalization  mean  std manage  nan  suppress n  profiles  None 2024-11-20  05-44 checkpoints val  loss=1.21-epoch=23.ckpt\n"
     ]
    },
    {
     "name": "stderr",
     "output_type": "stream",
     "text": [
      " 50%|█████     | 1/2 [00:00<00:00,  3.24it/s]"
     ]
    },
    {
     "name": "stdout",
     "output_type": "stream",
     "text": [
      "Loading model, generating AE output\n",
      "\n",
      "  CNN  3D 8  channels  spatial  pooling  with  pca  pre  treatment  bis pred  0.5  grad  0  max  pos  0.8  max  value  0.1  fft  0.05  weighted  1  inflection  pos  0  inflection  value  0 depth  pre  treatment  pca  n  components  50 channels  [1, 8, 8, 8] upsample  mode  trilinear linear  later  False  lattent  size  50 1  conv  per  layer padding  reflect interp  size  0 pooling  Max  on  dim  spatial final  upsample  upsample  pooling act  fn  Elu  final  act  fn  Linear lr  0.001 normalization  mean  std manage  nan  suppress n  profiles  None 2024-11-20  08-58 checkpoints val  loss=1.46-epoch=23.ckpt\n"
     ]
    },
    {
     "name": "stderr",
     "output_type": "stream",
     "text": [
      "100%|██████████| 2/2 [00:00<00:00,  3.13it/s]"
     ]
    },
    {
     "name": "stdout",
     "output_type": "stream",
     "text": [
      "Loading model, generating AE output\n"
     ]
    },
    {
     "name": "stderr",
     "output_type": "stream",
     "text": [
      "\n",
      "  0%|          | 0/3 [00:00<?, ?it/s]"
     ]
    },
    {
     "name": "stdout",
     "output_type": "stream",
     "text": [
      "\n",
      "  CNN  3D 8  channels  spatial  pooling  with  pca  pre  treatment  bis pred  0.5  grad  0  max  pos  0.8  max  value  0.1  fft  0.05  weighted  1  inflection  pos  0  inflection  value  0 depth  pre  treatment  pca  n  components  107 channels  [1, 8] upsample  mode  trilinear linear  later  False  lattent  size  50 1  conv  per  layer padding  reflect interp  size  0 pooling  Max  on  dim  spatial final  upsample  upsample  pooling act  fn  Elu  final  act  fn  Linear lr  0.001 normalization  mean  std manage  nan  suppress n  profiles  None 2024-11-20  08-10 checkpoints val  loss=2.44-epoch=24.ckpt\n"
     ]
    },
    {
     "name": "stderr",
     "output_type": "stream",
     "text": [
      " 33%|███▎      | 1/3 [00:00<00:01,  1.57it/s]"
     ]
    },
    {
     "name": "stdout",
     "output_type": "stream",
     "text": [
      "Loading model, generating AE output\n",
      "\n",
      "  CNN  3D 8  channels  spatial  pooling  with  pca  pre  treatment  bis pred  0.5  grad  0  max  pos  0.8  max  value  0.1  fft  0.05  weighted  1  inflection  pos  0  inflection  value  0 depth  pre  treatment  pca  n  components  107 channels  [1, 8, 8, 8] upsample  mode  trilinear linear  later  False  lattent  size  50 1  conv  per  layer padding  reflect interp  size  0 pooling  Max  on  dim  spatial final  upsample  upsample  pooling act  fn  Elu  final  act  fn  Linear lr  0.001 normalization  mean  std manage  nan  suppress n  profiles  None 2024-11-20  09-19 checkpoints val  loss=3.89-epoch=03.ckpt\n"
     ]
    },
    {
     "name": "stderr",
     "output_type": "stream",
     "text": [
      " 67%|██████▋   | 2/3 [00:01<00:00,  1.52it/s]"
     ]
    },
    {
     "name": "stdout",
     "output_type": "stream",
     "text": [
      "Loading model, generating AE output\n",
      "\n",
      "  CNN  3D 8  channels  spatial  pooling  with  pca  pre  treatment  bis pred  0.5  grad  0  max  pos  0.8  max  value  0.1  fft  0.05  weighted  1  inflection  pos  0  inflection  value  0 depth  pre  treatment  pca  n  components  107 channels  [1, 8, 8, 8, 8] upsample  mode  trilinear linear  later  False  lattent  size  50 1  conv  per  layer padding  reflect interp  size  0 pooling  Max  on  dim  spatial final  upsample  upsample  pooling act  fn  Elu  final  act  fn  Linear lr  0.001 normalization  mean  std manage  nan  suppress n  profiles  None 2024-11-20  12-04 checkpoints val  loss=6.31-epoch=23.ckpt\n"
     ]
    },
    {
     "name": "stderr",
     "output_type": "stream",
     "text": [
      "100%|██████████| 3/3 [00:02<00:00,  1.49it/s]"
     ]
    },
    {
     "name": "stdout",
     "output_type": "stream",
     "text": [
      "Loading model, generating AE output\n"
     ]
    },
    {
     "name": "stderr",
     "output_type": "stream",
     "text": [
      "\n"
     ]
    }
   ],
   "source": [
    "verbose = True\n",
    "\n",
    "ecs_algo = \"max\" #first_max\n",
    "\n",
    "filtering = False\n",
    "mode = \"wrap\"\n",
    "best_median_kernel = 18\n",
    "\n",
    "\n",
    "\n",
    "\n",
    "ae_rmse_dict = {\"SSP\":{},\n",
    "                \"ECS\":{}}\n",
    "\n",
    "if filtering:\n",
    "    ae_rmse_dict[\"Filtered SSP\"] = {}\n",
    "    ae_rmse_dict[\"Filtered ECS\"] = {}\n",
    "\n",
    "        \n",
    "for model_carac in ckpt_dict.keys():\n",
    "\n",
    "    ckpt_list =  list(Path(ckpt_dict[model_carac]).rglob('*.ckpt'))\n",
    "\n",
    "\n",
    "    for ckpt_path in tqdm(ckpt_list):\n",
    "        ckpt_path = str(ckpt_path)\n",
    "        \n",
    "        model_name = \" \".join((ckpt_path.split(\"AE\")[-1]).split(\"/\")).replace(\"_\", \"  \")\n",
    "        print(f\"\\n{model_name}\")\n",
    "        \n",
    "        # try:\n",
    "        #     for carac in ckpt_path.split(\"/\"):\n",
    "        #         if \"pred\" in carac:\n",
    "        #             weight = carac.replace(\"_\", \" \")\n",
    "                    \n",
    "        #     model_carac = re.search(r'AE/(.*?)/pred', ckpt_path).group(1).replace(\"_\", \" \").replace(\"/\",\": \") + f\", {weight}\"  \n",
    "            \n",
    "        # except:\n",
    "        #     model_carac = re.search(r'AE/(.*?)/channels', ckpt_path).group(1).replace(\"_\", \" \").replace(\"/\",\": \")\n",
    "            \n",
    "        \n",
    "\n",
    "        if model_carac not in ae_rmse_dict[\"SSP\"].keys():\n",
    "            for sub_dic in ae_rmse_dict.values():\n",
    "                sub_dic[model_carac] = {}\n",
    "        \n",
    "        \n",
    "        try:\n",
    "            cfg = get_cfg_from_ckpt_path(ckpt_path, pprint = False)        \n",
    "    \n",
    "        except:\n",
    "            print(f\"Can't load model\")\n",
    "            continue\n",
    "        \n",
    "        \n",
    "        if cfg.datamodule in list(dm_dict.keys()):\n",
    "            dm = dm_dict[cfg.datamodule]\n",
    "            test_ssp_arr, test_ssp_tens, _ = loading_datamodule_phase(dm, phase = \"test\")\n",
    "        \n",
    "        else:\n",
    "            if verbose:\n",
    "                print(\"Inititing datamodule; Generating train and test datasets\")\n",
    "            \n",
    "            \n",
    "            dm = hydra.utils.call(cfg.datamodule)  ##TODO this two lines take too long\n",
    "            test_ssp_arr, test_ssp_tens, dm = loading_datamodule_phase(dm, phase = \"test\")\n",
    "            dm_dict[cfg.datamodule] = dm\n",
    "            \n",
    "            # if not norm:\n",
    "            #     test_ssp_arr = unorm_ssp_arr_3D(test_ssp_tens.detach().cpu().numpy(), dm, verbose = False)\n",
    "            \n",
    "            # ecs_truth = explicit_ecs_3D(torch.tensor(test_ssp_arr).float(),torch.tensor(depth_array).float(), batch = True).detach().cpu().numpy()\n",
    "\n",
    "                \n",
    "            if not load_pca:\n",
    "                train_ssp_arr, _, _, _, _ = loading_datamodule_phase(dm, phase = \"fit\")\n",
    "                input_train_shape = train_ssp_arr.shape\n",
    "                \n",
    "        \n",
    "        \n",
    "        input_test_shape = test_ssp_tens.shape\n",
    "        depth_array = dm.depth_array\n",
    "\n",
    "\n",
    "        \n",
    "        if verbose:\n",
    "            print(\"Loading model, generating AE output\")      \n",
    "        \n",
    "        try:\n",
    "            lit_model = load_model(ckpt_path, dm, device, verbose = True)    \n",
    "        except:\n",
    "            continue\n",
    "\n",
    "        ssp_ae_test_arr = lit_model(test_ssp_tens).detach().cpu().numpy()\n",
    "        \n",
    "        # if not norm:\n",
    "        #     ssp_ae_test_arr = unorm_ssp(ssp_ae_test_arr, dm, verbose = False)\n",
    "            \n",
    "        #ecs_pred_ae = explicit_ecs_3D(torch.tensor(ssp_ae_test_arr).float(),torch.tensor(depth_array).float(), batch = True).detach().cpu().numpy()\n",
    "        \n",
    "        # if ecs_max:\n",
    "        #     indices_ecs_ae_max = ssp_ae_test_arr.argmax(axis=1)\n",
    "        #     ecs_pred_ae_max = depth_array[indices_ecs_ae_max]\n",
    "        #     ae_ecs_max_rmse = np.sqrt(np.mean((ecs_truth - ecs_pred_ae_max)**2))\n",
    "\n",
    "\n",
    "        try:\n",
    "            bottleneck_shape = lit_model.model_AE.bottleneck_shape\n",
    "        except:\n",
    "            bottleneck_shape = lit_model.encoder.net(test_ssp_tens.unsqueeze(1)).shape\n",
    "            \n",
    "        compression_rate_ae = test_ssp_tens.numel()/bottleneck_shape.numel()\n",
    "\n",
    "\n",
    "        if bottleneck_shape[2] != n_components:\n",
    "\n",
    "            n_components = bottleneck_shape[2]\n",
    "            compression_rate_pca = 107/n_components\n",
    "            \n",
    "            if not load_pca:\n",
    "\n",
    "                if verbose:\n",
    "                    print(\"training PCA, generating PCA output\")    \n",
    "                    \n",
    "                pca = PCA(n_components = n_components, svd_solver = 'auto')\n",
    "                #pca.fit(train_ssp_arr.transpose(0,2,3,1).reshape(-1,107)) \n",
    "\n",
    "                if norm:\n",
    "                    ssp_pca_test_arr =  pca.inverse_transform(pca.fit_transform(train_ssp_arr.transpose(0,2,3,1).reshape(-1, input_train_shape[1]))).reshape(input_train_shape[0],input_train_shape[2],input_train_shape[3],-1).transpose(0,3,1,2)\n",
    "                \n",
    "                else :\n",
    "                    ssp_pca_test_arr =  pca.inverse_transform(pca.fit_transform(unorm_ssp_arr_3D(train_ssp_arr).transpose(0,2,3,1).reshape(-1, input_train_shape[1]))).reshape(input_train_shape[0],input_train_shape[2],input_train_shape[3],-1).transpose(0,3,1,2)\n",
    "\n",
    "                if ecs_algo == \"first_max\":\n",
    "                    ecs_pred_pca = explicit_ecs_3D(torch.tensor(ssp_pca_test_arr).float(),torch.tensor(depth_array).float(), batch = True).detach().cpu().numpy()\n",
    "                \n",
    "                elif ecs_algo == \"max\":\n",
    "                    max_ssp_pca_idx = np.nanargmax(ssp_pca_test_arr, axis=1)\n",
    "                    ecs_pred_pca = depth_array[max_ssp_pca_idx]\n",
    "                    \n",
    "\n",
    "                pca_ssp_rmse_dict[n_components] = np.sqrt(np.mean((test_ssp_arr - ssp_pca_test_arr)**2))\n",
    "                \n",
    "                pca_ecs_rmse_dict[n_components]  = np.sqrt(np.mean((ecs_truth - ecs_pred_pca)**2))\n",
    "        \n",
    "        \n",
    "        if not norm:\n",
    "            test_ssp_arr = unorm_ssp_arr_3D(test_ssp_arr, dm)\n",
    "            ssp_ae_test_arr = unorm_ssp_arr_3D(ssp_ae_test_arr, dm)\n",
    "            \n",
    "        \n",
    "        \n",
    "        \n",
    "        if ecs_algo == \"first_max\":\n",
    "            ecs_truth = explicit_ecs_3D(torch.tensor(test_ssp_arr).float(),torch.tensor(depth_array).float(), batch = True).to(device)\n",
    "            ecs_pred_ae = explicit_ecs_3D(torch.tensor(ssp_ae_test_arr).float(),torch.tensor(depth_array).float(), batch = True).to(device)\n",
    "        \n",
    "        elif ecs_algo == \"max\":\n",
    "            max_ssp_truth_idx = np.nanargmax(test_ssp_arr, axis=1)\n",
    "            ecs_truth = depth_array[max_ssp_truth_idx]\n",
    "\n",
    "            max_ssp_ae_idx = np.nanargmax(ssp_ae_test_arr, axis=1)\n",
    "            ecs_pred_ae = depth_array[max_ssp_ae_idx]\n",
    "            \n",
    "            \n",
    "        ae_ssp_rmse = np.sqrt(np.mean((test_ssp_arr - ssp_ae_test_arr)**2))\n",
    "        ae_ecs_rmse = np.sqrt(np.mean((ecs_truth - ecs_pred_ae)**2))\n",
    "        \n",
    "        \n",
    "        if bottleneck_shape in ae_rmse_dict[\"SSP\"][model_carac].keys():\n",
    "        \n",
    "            if ae_rmse_dict[\"SSP\"][model_carac][bottleneck_shape] > ae_ssp_rmse:\n",
    "                ae_rmse_dict[\"SSP\"][model_carac][bottleneck_shape] = ae_ssp_rmse\n",
    "                ae_rmse_dict[\"ECS\"][model_carac][bottleneck_shape] = ae_ecs_rmse\n",
    "                \n",
    "\n",
    "                \n",
    "                if filtering:\n",
    "                    if verbose:\n",
    "                        print(\"filtering\")\n",
    "                        \n",
    "                    ssp_3D_median = scipy.ndimage.median_filter(ssp_ae_test_arr,size=(1,best_median_kernel,1,1), mode = mode)\n",
    "                    \n",
    "                    if ecs_algo == \"first_max\":\n",
    "                        ecs_pred_ae_median = explicit_ecs_3D(torch.tensor(ssp_3D_median).float(),torch.tensor(depth_array).float(), batch = True).detach().cpu().numpy()\n",
    "                        \n",
    "                    elif ecs_algo == \"max\":\n",
    "                        ecs_pred_ae_median_idx = np.argmax(ssp_3D_median, axis=1)\n",
    "                        ecs_pred_ae_median = depth_array[ecs_pred_ae_median_idx]\n",
    "                \n",
    "                    ae_rmse_dict[\"Filtered SSP\"][model_carac][bottleneck_shape] = np.sqrt(np.mean((test_ssp_arr - ssp_3D_median)**2))\n",
    "                    ae_rmse_dict[\"Filtered ECS\"][model_carac][bottleneck_shape]  = np.sqrt(np.mean((ecs_truth - ecs_pred_ae_median)**2))\n",
    "                    \n",
    "                \n",
    "                \n",
    "        else:\n",
    "            ae_rmse_dict[\"SSP\"][model_carac][bottleneck_shape] = ae_ssp_rmse\n",
    "            ae_rmse_dict[\"ECS\"][model_carac][bottleneck_shape] = ae_ecs_rmse\n",
    "            \n",
    "\n",
    "\n",
    "            if filtering:\n",
    "                if verbose:\n",
    "                    print(\"filtering\")\n",
    "                    \n",
    "                    ssp_3D_median = scipy.ndimage.median_filter(ssp_ae_test_arr,size=(1,best_median_kernel,1,1), mode = mode)\n",
    "                    \n",
    "                    if ecs_algo == \"first_max\":\n",
    "                        ecs_pred_ae_median = explicit_ecs_3D(torch.tensor(ssp_3D_median).float(),torch.tensor(depth_array).float(), batch = True).detach().cpu().numpy()\n",
    "                        \n",
    "                    elif ecs_algo == \"max\":\n",
    "                        ecs_pred_ae_median_idx = np.argmax(ssp_3D_median, axis=1)\n",
    "                        ecs_pred_ae_median = depth_array[ecs_pred_ae_median_idx]\n",
    "                \n",
    "        if verbose:\n",
    "            print(\"bottleneck: \", bottleneck_shape)\n",
    "            print(\"cr: \",compression_rate_ae)\n",
    "     \n",
    "        \n",
    "\n"
   ]
  },
  {
   "cell_type": "markdown",
   "metadata": {},
   "source": [
    "## add specific model"
   ]
  },
  {
   "cell_type": "code",
   "execution_count": 18,
   "metadata": {},
   "outputs": [],
   "source": [
    "# # ckpt_list= [\n",
    "# #     \"/homes/o23gauvr/Documents/thèse/code/FASCINATION/outputs/AE/AE_CNN_3D/[1,1,2,2,4]_trilinear_test_on_padding/pred_1_grad_0/1_conv_per_layer/padding_linear/interp_size_35/pooling_Max_on_dim_all/final_upsample_upsample_pooling/act_fn_None_final_act_fn_None/lr_0.001/normalization_min_max/manage_nan_suppress/n_profiles_None/2024-10-12_12-04/checkpoints/val_loss=0.00-epoch=229.ckpt\"\n",
    "# # ]\n",
    "# #ckpt_list.extend(list(Path(\"outputs/AE/AE_CNN_3D/channels_[1, 8]\").rglob('*.ckpt')))\n",
    "# ckpt_list = list(Path(\"outputs/AE/AE_CNN_3D/test\").rglob('*.ckpt'))\n",
    "# ckpt_list = []\n",
    "# for ckpt_path in tqdm(ckpt_list):\n",
    "#     ckpt_path = str(ckpt_path)\n",
    "#     for carac in ckpt_path.split(\"/\"):\n",
    "#         if \"pred\" in carac:\n",
    "#             weight = carac.replace(\"_\", \" \")\n",
    "            \n",
    "#     model_carac = re.search(r'AE/(.*?)/pred', ckpt_path).group(1).replace(\"_\", \" \").replace(\"/\",\": \") + f\", {weight}\"  \n",
    "    \n",
    "#     #model_carac = \"AE CNN 3D: [1,1,2,2,4], upsampling trilinear, padding linear, size: 35\"\n",
    "    \n",
    "#     print(f\"\\nload {model_carac}\")\n",
    "\n",
    "#     if model_carac not in ae_rmse_dict[\"SSP\"].keys():\n",
    "#         for sub_dic in ae_rmse_dict.values():\n",
    "#             sub_dic[model_carac] = {}\n",
    "                \n",
    "#     try:\n",
    "#         cfg = get_cfg_from_ckpt_path(ckpt_path, pprint = False)\n",
    "\n",
    "#     except:\n",
    "#         print(f\"Can't load model: {model_carac}\")\n",
    "        \n",
    "\n",
    "        \n",
    "#     if dm_dict == None or cfg.datamodule != dm_dict:\n",
    "#         if verbose:\n",
    "#             print(\"Inititing datamodule; Generating train and test datasets\")\n",
    "        \n",
    "#         dm_dict = cfg.datamodule\n",
    "#         dm = hydra.utils.call(dm_dict)\n",
    "#         test_ssp_arr, test_ssp_tens, dm, coords = loading_datamodule_phase(dm, phase = \"test\")\n",
    "        \n",
    "#         input_test_shape = test_ssp_arr.shape\n",
    "#         depth_array = coords[\"z\"].data\n",
    "        \n",
    "#         if not norm:\n",
    "#             test_ssp_arr = unorm_ssp(test_ssp_tens.detach().cpu().numpy(), dm, verbose = False)\n",
    "        \n",
    "#         ecs_truth = explicit_ecs_3D(torch.tensor(test_ssp_arr).float(),torch.tensor(depth_array).float(), batch = True).detach().cpu().numpy()\n",
    "\n",
    "            \n",
    "#         if not load_pca:\n",
    "#             train_ssp_arr, _, _, _ = loading_datamodule_phase(dm, phase = \"fit\")\n",
    "#             input_train_shape = train_ssp_arr.shape\n",
    "        \n",
    "        \n",
    "#     lit_model = load_model(ckpt_path, dm, device, verbose = True)\n",
    "#     ssp_ae_test_arr = lit_model(test_ssp_tens).detach().cpu().numpy()\n",
    "\n",
    "#     if not norm:\n",
    "#         print(\"Unorming\")\n",
    "#         ssp_ae_test_arr = unorm_ssp(ssp_ae_test_arr, dm, verbose = False)\n",
    "    \n",
    "#     print(\"Deducting ECS\")\n",
    "#     ecs_pred_ae = explicit_ecs_3D(torch.tensor(ssp_ae_test_arr).float(),torch.tensor(depth_array).float(), batch = True).detach().cpu().numpy()\n",
    "\n",
    "#     if ecs_max:\n",
    "#         indices_ecs_ae_max = ssp_ae_test_arr.argmax(axis=1)\n",
    "#         ecs_pred_ae_max = depth_array[indices_ecs_ae_max]\n",
    "#         ae_ecs_max_rmse = np.sqrt(np.mean((ecs_truth - ecs_pred_ae_max)**2))\n",
    "\n",
    "\n",
    "#     bottleneck_shape = lit_model.encoder.net(test_ssp_tens.unsqueeze(1)).shape\n",
    "#     n_components = bottleneck_shape[2]\n",
    "#     compression_rate_ae = test_ssp_tens.numel()/bottleneck_shape.numel()\n",
    "\n",
    "\n",
    "#     ae_ssp_rmse = np.sqrt(np.mean((test_ssp_arr - ssp_ae_test_arr)**2))\n",
    "#     ae_ecs_rmse = np.sqrt(np.mean((ecs_truth - ecs_pred_ae)**2))\n",
    "\n",
    "#     ae_rmse_dict[\"SSP\"][model_carac][bottleneck_shape] = ae_ssp_rmse\n",
    "#     ae_rmse_dict[\"ECS\"][model_carac][bottleneck_shape] = ae_ecs_rmse\n",
    "\n",
    "#     if ecs_max:\n",
    "#         ae_rmse_dict[\"ECS max\"][model_carac][bottleneck_shape]= ae_ecs_max_rmse\n",
    "        \n",
    "        \n",
    "#     if filtering:\n",
    "#         if verbose:\n",
    "#             print(\"filtering\")\n",
    "            \n",
    "#         ssp_3D_median = scipy.ndimage.median_filter(ssp_ae_test_arr,size=(1,best_median_kernel,1,1), mode = mode)\n",
    "#         ecs_pred_ae_median = explicit_ecs_3D(torch.tensor(ssp_3D_median).float(),torch.tensor(depth_array).float(), batch = True).detach().cpu().numpy()\n",
    "#         indices_ecs_ae_filtered_max = ssp_3D_median.argmax(axis=1)\n",
    "#         ecs_pred_ae_filtered_max = depth_array[indices_ecs_ae_filtered_max]\n",
    "\n",
    "#         ae_rmse_dict[\"Filtered SSP\"][model_carac][bottleneck_shape] = np.sqrt(np.mean((test_ssp_arr - ssp_3D_median)**2))\n",
    "#         ae_rmse_dict[\"Filtered ECS\"][model_carac][bottleneck_shape]  = np.sqrt(np.mean((ecs_truth - ecs_pred_ae_median)**2))\n",
    "        \n",
    "#         if ecs_max:\n",
    "#             ae_rmse_dict[\"Filtered ECS max\"][model_carac][bottleneck_shape] = np.sqrt(np.mean((ecs_truth - ecs_pred_ae_filtered_max)**2))\n",
    "\n"
   ]
  },
  {
   "cell_type": "code",
   "execution_count": null,
   "metadata": {},
   "outputs": [],
   "source": []
  },
  {
   "cell_type": "code",
   "execution_count": 19,
   "metadata": {},
   "outputs": [],
   "source": [
    "#pickle_data_path_list = [\"pickle/pooling_upsampling_pca_pre_treatment_rmse.pkl\"]\n",
    "pickle_data_path_list = []\n",
    "new_data = \"\"\n",
    "for data_path in pickle_data_path_list:\n",
    "    with open(data_path, \"rb\") as file:\n",
    "        new_data = pickle.load(file)\n",
    "\n",
    "for key in new_data:\n",
    "    if key in ae_rmse_dict:\n",
    "        ae_rmse_dict[key].update(new_data[key])\n",
    "    else:\n",
    "        ae_rmse_dict[key] = new_data[key]"
   ]
  },
  {
   "cell_type": "markdown",
   "metadata": {},
   "source": [
    "# Plot"
   ]
  },
  {
   "cell_type": "code",
   "execution_count": 20,
   "metadata": {},
   "outputs": [],
   "source": [
    "components_sorted_ae_rmse_dict = {\"SSP\":{},\n",
    "                       \"ECS\":{},\n",
    "                       \"Filtered SSP\": {},\n",
    "                       \"Filtered ECS\": {},\n",
    "                       \"ECS max\": {},\n",
    "                       \"Filtered ECS max\": {}}\n",
    "\n",
    "for model in ae_rmse_dict[\"SSP\"].keys():\n",
    "    \n",
    "    sorted_keys = sorted(ae_rmse_dict[\"SSP\"][model].keys(), key=lambda x: x[2])\n",
    "    sorted_components = [key[2] for key in sorted_keys]\n",
    "    components_sorted_ae_rmse_dict[\"SSP\"][model] = (sorted_components, [ae_rmse_dict[\"SSP\"][model][key] for key in sorted_keys])\n",
    "    components_sorted_ae_rmse_dict[\"ECS\"][model] = (sorted_components, [ae_rmse_dict[\"ECS\"][model][key] for key in sorted_keys])\n",
    "\n",
    "\n",
    "        \n",
    "    if filtering:\n",
    "        components_sorted_ae_rmse_dict[\"Filtered SSP\"][model] = (sorted_components, [ae_rmse_dict[\"Filtered SSP\"][model][key] for key in sorted_keys])\n",
    "        components_sorted_ae_rmse_dict[\"Filtered ECS\"][model] = (sorted_components, [ae_rmse_dict[\"Filtered ECS\"][model][key] for key in sorted_keys])\n",
    "        \n"
   ]
  },
  {
   "cell_type": "code",
   "execution_count": 21,
   "metadata": {},
   "outputs": [
    {
     "name": "stdout",
     "output_type": "stream",
     "text": [
      "0\n",
      "1\n",
      "spatial_loss_4\n",
      "2\n",
      "depth_loss_4\n",
      "3\n",
      "all_loss_4\n",
      "4\n",
      "5\n",
      "6\n"
     ]
    },
    {
     "data": {
      "image/png": "[encoded data removed]",
      "text/plain": [
       "<Figure size 1500x600 with 2 Axes>"
      ]
     },
     "metadata": {},
     "output_type": "display_data"
    }
   ],
   "source": [
    "pickle\n",
    "colors = ['olive', 'mediumblue', 'orchid', 'coral',\n",
    "          'tomato','lightskyblue', 'mediumseagreen',\n",
    "          'orange','yellowgreen', 'deepskyblue', 'navy', \n",
    "          'gold', 'dodgerblue', 'royalblue', \n",
    "          ]\n",
    "\n",
    "fig,axs = plt.subplots(1,2,figsize=(15,6))\n",
    "\n",
    "if not norm:\n",
    "    axs[0].plot(pca_ssp_rmse_dict.keys(),pca_ssp_rmse_dict.values(), label = \"PCA\")\n",
    "    axs[1].plot(pca_ecs_rmse_dict.keys(),pca_ecs_rmse_dict.values(), label = \"PCA\")\n",
    "\n",
    "i = 0\n",
    "\n",
    "for model in components_sorted_ae_rmse_dict[\"SSP\"].keys():\n",
    "    \n",
    "    print(i)\n",
    "    \n",
    "    \n",
    "    if len(components_sorted_ae_rmse_dict[\"SSP\"][model][0]) == 1:\n",
    "        \n",
    "        print(model)\n",
    "        \n",
    "        axs[0].scatter(components_sorted_ae_rmse_dict[\"SSP\"][model][0], components_sorted_ae_rmse_dict[\"SSP\"][model][1], color=colors[i], marker='x', s=80, label = f\"{model}\")  # s adjusts the cross size\n",
    "        axs[0].hlines(components_sorted_ae_rmse_dict[\"SSP\"][model][1], xmin=0, xmax=components_sorted_ae_rmse_dict[\"SSP\"][model][0], colors=colors[i], linestyles='dashed')\n",
    "        axs[0].vlines(components_sorted_ae_rmse_dict[\"SSP\"][model][0], ymin=0, ymax=components_sorted_ae_rmse_dict[\"SSP\"][model][1], colors=colors[i], linestyles='dashed')        \n",
    "\n",
    "        axs[1].scatter(components_sorted_ae_rmse_dict[\"ECS\"][model][0], components_sorted_ae_rmse_dict[\"ECS\"][model][1], color=colors[i], marker='x', s=80, label = f\"{model}, explicit model\")  # s adjusts the cross size\n",
    "        axs[1].hlines(components_sorted_ae_rmse_dict[\"ECS\"][model][1], xmin=0, xmax=components_sorted_ae_rmse_dict[\"ECS\"][model][0], colors=colors[i], linestyles='dashed')\n",
    "        axs[1].vlines(components_sorted_ae_rmse_dict[\"ECS\"][model][0], ymin=0, ymax=components_sorted_ae_rmse_dict[\"ECS\"][model][1], colors=colors[i], linestyles='dashed')    \n",
    "        \n",
    "        i = i+1     \n",
    "        \n",
    "    \n",
    "\n",
    "            \n",
    "        if filtering:\n",
    "            \n",
    "            axs[0].scatter(components_sorted_ae_rmse_dict[\"Filtered SSP\"][model][0], components_sorted_ae_rmse_dict[\"Filtered SSP\"][model][1], color=colors[i], marker='x', s=80, label = f\"{model} filtered, kernel={best_median_kernel}\")  # s adjusts the cross size\n",
    "            axs[0].hlines(components_sorted_ae_rmse_dict[\"Filtered SSP\"][model][1], xmin=0, xmax=components_sorted_ae_rmse_dict[\"Filtered SSP\"][model][0], colors=colors[i], linestyles='dashed')\n",
    "            axs[0].vlines(components_sorted_ae_rmse_dict[\"Filtered SSP\"][model][0], ymin=0, ymax=components_sorted_ae_rmse_dict[\"Filtered SSP\"][model][1], colors=colors[i], linestyles='dashed')        \n",
    "\n",
    "            axs[1].scatter(components_sorted_ae_rmse_dict[\"Filtered ECS\"][model][0], components_sorted_ae_rmse_dict[\"Filtered ECS\"][model][1], color=colors[i+2], marker='x', s=80, label = f\"{model}, filtered, kernel={best_median_kernel}\")  # s adjusts the cross size\n",
    "            axs[1].hlines(components_sorted_ae_rmse_dict[\"Filtered ECS\"][model][1], xmin=0, xmax=components_sorted_ae_rmse_dict[\"Filtered ECS\"][model][0], colors=colors[i],linestyles='dashed')\n",
    "            axs[1].vlines(components_sorted_ae_rmse_dict[\"Filtered ECS\"][model][0], ymin=0, ymax=components_sorted_ae_rmse_dict[\"Filtered ECS\"][model][1], colors=colors[i],linestyles='dashed')  \n",
    "            \n",
    "            i=i+1\n",
    "               \n",
    "             \n",
    "    \n",
    "    else:\n",
    "\n",
    "        axs[0].plot(components_sorted_ae_rmse_dict[\"SSP\"][model][0],components_sorted_ae_rmse_dict[\"SSP\"][model][1], c = colors[i], label = f\"{model}\")\n",
    "        \n",
    "        axs[1].plot(components_sorted_ae_rmse_dict[\"ECS\"][model][0], components_sorted_ae_rmse_dict[\"ECS\"][model][1], c = colors[i], label = f\"{model} \")\n",
    "\n",
    "        i=i+1\n",
    "        \n",
    "        if filtering:\n",
    "                 \n",
    "            axs[0].plot(components_sorted_ae_rmse_dict[\"Filtered SSP\"][model][0],components_sorted_ae_rmse_dict[\"Filtered SSP\"][model][1], c = colors[i], label = f\"{model} filtered, kernel={best_median_kernel}\")\n",
    "            axs[1].plot(components_sorted_ae_rmse_dict[\"Filtered ECS\"][model][0],components_sorted_ae_rmse_dict[\"Filtered ECS\"][model][1], c = colors[i], label = f\"{model}, filtered: kernel={best_median_kernel}\")\n",
    "            \n",
    "            i=i+1\n",
    "            \n",
    "\n",
    "\n",
    "\n",
    "\n",
    "if norm:\n",
    "    axs[0].set_ylabel(\"RMSE (normalized)\")  \n",
    "else:    \n",
    "    axs[0].set_ylabel(\"RMSE (m/s)\")  \n",
    "\n",
    "axs[0].set_title(\"SSP\", fontsize = 12) \n",
    "axs[0].legend(loc = \"upper right\", prop={'size': 8})    \n",
    "    \n",
    "if norm: \n",
    "    axs[1].set_ylabel(\"RMSE\")  \n",
    "    axs[1].set_title(\"First max\",fontsize = 12)  \n",
    "else:   \n",
    "    axs[1].set_ylabel(\"RMSE (m)\")  \n",
    "    axs[1].set_title(\"ECS\",fontsize = 12)  \n",
    "\n",
    "\n",
    "axs[1].legend(loc = \"lower right\", prop={'size': 7})\n",
    "        \n",
    "for ax in axs:\n",
    "    ax.set_xlabel(\"number of depth components\")\n",
    "    \n",
    "\n",
    "\n",
    "    \n",
    "fig_title = f\"RMSE per number of components along depth\"\n",
    "fig.suptitle(fig_title, fontsize = 13, y = 1.0)\n",
    "\n",
    "if save_fig:\n",
    "        \n",
    "    save_name = fig_title.replace(\" \", \"_\").replace(\",\",\"\").replace(\"\\n\",\"_\").replace(\":\",\"\")\n",
    "    \n",
    "    save_name = save_name + f\"_normalized_{norm}\"\n",
    "    \n",
    "    if filtering:\n",
    "        save_name = save_name + f\"_median_filter_kernel_{best_median_kernel}\"\n",
    "    \n",
    "    if ecs_max:\n",
    "        save_name = save_name + f\"_ecs_max\"\n",
    "        \n",
    "    plt.savefig(f\"imgs/{save_name}.png\", dpi=300, bbox_inches='tight')"
   ]
  },
  {
   "cell_type": "code",
   "execution_count": 22,
   "metadata": {},
   "outputs": [],
   "source": [
    "pca_cr_list = [107/i for i in range(1,108)]\n",
    "\n",
    "cr_sorted_ae_rmse_dict = {\"SSP\":{},\n",
    "                       \"ECS\":{},\n",
    "                       \"Filtered SSP\": {},\n",
    "                       \"Filtered ECS\": {},\n",
    "                       \"ECS max\": {},\n",
    "                       \"Filtered ECS max\": {}}\n",
    "\n",
    "for model in ae_rmse_dict[\"SSP\"].keys():\n",
    "    \n",
    "    cr_key_dict = {test_ssp_tens.numel()/key.numel(): key for key in ae_rmse_dict[\"SSP\"][model].keys()}\n",
    "    sorted_cr_key = sorted(cr_key_dict.keys())\n",
    "    \n",
    "    # sorted_keys = sorted(ae_rmse_dict[\"SSP\"][model].keys(), key=lambda x: x[2])\n",
    "    # sorted_components = [key[2] for key in sorted_keys]\n",
    "    cr_sorted_ae_rmse_dict[\"SSP\"][model] = (sorted_cr_key, [ae_rmse_dict[\"SSP\"][model][cr_key_dict[key]] for key in sorted_cr_key])\n",
    "    cr_sorted_ae_rmse_dict[\"ECS\"][model] = (sorted_cr_key, [ae_rmse_dict[\"ECS\"][model][cr_key_dict[key]] for key in sorted_cr_key])\n",
    "     \n",
    "    if filtering:\n",
    "        cr_sorted_ae_rmse_dict[\"Filtered SSP\"][model] = (sorted_cr_key, [ae_rmse_dict[\"Filtered SSP\"][model][cr_key_dict[key]]  for key in sorted_cr_key])\n",
    "        cr_sorted_ae_rmse_dict[\"Filtered ECS\"][model] = (sorted_cr_key, [ae_rmse_dict[\"Filtered ECS\"][model][cr_key_dict[key]]  for key in sorted_cr_key])\n",
    "        \n"
   ]
  },
  {
   "cell_type": "code",
   "execution_count": 23,
   "metadata": {},
   "outputs": [
    {
     "name": "stdout",
     "output_type": "stream",
     "text": [
      "0\n",
      "1\n",
      "spatial_loss_4\n",
      "2\n",
      "depth_loss_4\n",
      "3\n",
      "all_loss_4\n",
      "4\n",
      "5\n",
      "6\n"
     ]
    },
    {
     "data": {
      "image/png": "[encoded data removed]",
      "text/plain": [
       "<Figure size 1500x600 with 2 Axes>"
      ]
     },
     "metadata": {},
     "output_type": "display_data"
    }
   ],
   "source": [
    "ecs_max = False\n",
    "filtering = False\n",
    "\n",
    "colors = ['olive', 'mediumblue', 'orchid', 'coral',\n",
    "            'gold','lightskyblue', 'mediumseagreen',\n",
    "            'tomato','yellowgreen', 'deepskyblue', 'navy', \n",
    "            'orange', 'dodgerblue', 'royalblue', \n",
    "            ]\n",
    "\n",
    "fig,axs = plt.subplots(1,2,figsize=(15,6))\n",
    "\n",
    "if not norm:\n",
    "    axs[0].plot(pca_cr_list, pca_ssp_rmse_dict.values(), label = \"PCA\")\n",
    "    axs[1].plot(pca_cr_list,pca_ecs_rmse_dict.values(), label = \"PCA\")\n",
    "\n",
    "i = 0\n",
    "\n",
    "for model in cr_sorted_ae_rmse_dict[\"SSP\"].keys():\n",
    "    \n",
    "    print(i)\n",
    "    \n",
    "    \n",
    "    if len(cr_sorted_ae_rmse_dict[\"SSP\"][model][0]) == 1:\n",
    "        \n",
    "        print(model)\n",
    "        \n",
    "        axs[0].scatter(cr_sorted_ae_rmse_dict[\"SSP\"][model][0], cr_sorted_ae_rmse_dict[\"SSP\"][model][1], color=colors[i], marker='x', s=80, label = f\"{model}\")  # s adjusts the cross size\n",
    "        axs[0].hlines(cr_sorted_ae_rmse_dict[\"SSP\"][model][1], xmin=0, xmax=cr_sorted_ae_rmse_dict[\"SSP\"][model][0], colors=colors[i], linestyles='dashed')\n",
    "        axs[0].vlines(cr_sorted_ae_rmse_dict[\"SSP\"][model][0], ymin=0, ymax=cr_sorted_ae_rmse_dict[\"SSP\"][model][1], colors=colors[i], linestyles='dashed')        \n",
    "\n",
    "        axs[1].scatter(cr_sorted_ae_rmse_dict[\"ECS\"][model][0], cr_sorted_ae_rmse_dict[\"ECS\"][model][1], color=colors[i], marker='x', s=80, label = f\"{model}, explicit model\")  # s adjusts the cross size\n",
    "        axs[1].hlines(cr_sorted_ae_rmse_dict[\"ECS\"][model][1], xmin=0, xmax=cr_sorted_ae_rmse_dict[\"ECS\"][model][0], colors=colors[i], linestyles='dashed')\n",
    "        axs[1].vlines(cr_sorted_ae_rmse_dict[\"ECS\"][model][0], ymin=0, ymax=cr_sorted_ae_rmse_dict[\"ECS\"][model][1], colors=colors[i], linestyles='dashed')    \n",
    "        \n",
    "        i=i+1    \n",
    "        \n",
    "            \n",
    "        if filtering:\n",
    "            \n",
    "            axs[0].scatter(cr_sorted_ae_rmse_dict[\"Filtered SSP\"][model][0], cr_sorted_ae_rmse_dict[\"Filtered SSP\"][model][1], color=colors[i], marker='x', s=80, label = f\"{model} filtered, kernel={best_median_kernel}\")  # s adjusts the cross size\n",
    "            axs[0].hlines(cr_sorted_ae_rmse_dict[\"Filtered SSP\"][model][1], xmin=0, xmax=cr_sorted_ae_rmse_dict[\"Filtered SSP\"][model][0], colors=colors[i], linestyles='dashed')\n",
    "            axs[0].vlines(cr_sorted_ae_rmse_dict[\"Filtered SSP\"][model][0], ymin=0, ymax=cr_sorted_ae_rmse_dict[\"Filtered SSP\"][model][1], colors=colors[i], linestyles='dashed')        \n",
    "\n",
    "            axs[1].scatter(cr_sorted_ae_rmse_dict[\"Filtered ECS\"][model][0], cr_sorted_ae_rmse_dict[\"Filtered ECS\"][model][1], color=colors[i], marker='x', s=80, label = f\"{model}, filtered, kernel={best_median_kernel}\")  # s adjusts the cross size\n",
    "            axs[1].hlines(cr_sorted_ae_rmse_dict[\"Filtered ECS\"][model][1], xmin=0, xmax=cr_sorted_ae_rmse_dict[\"Filtered ECS\"][model][0], colors=colors[i],linestyles='dashed')\n",
    "            axs[1].vlines(cr_sorted_ae_rmse_dict[\"Filtered ECS\"][model][0], ymin=0, ymax=cr_sorted_ae_rmse_dict[\"Filtered ECS\"][model][1], colors=colors[i],linestyles='dashed')  \n",
    "            \n",
    "            i=i+1\n",
    "            \n",
    "\n",
    "    \n",
    "    else:\n",
    "\n",
    "        axs[0].plot(cr_sorted_ae_rmse_dict[\"SSP\"][model][0],cr_sorted_ae_rmse_dict[\"SSP\"][model][1], c = colors[i], label = f\"{model}\")\n",
    "        \n",
    "        axs[1].plot(cr_sorted_ae_rmse_dict[\"ECS\"][model][0], cr_sorted_ae_rmse_dict[\"ECS\"][model][1], c = colors[i], label = f\"{model}\")\n",
    "\n",
    "        i=i+1\n",
    "        \n",
    "        \n",
    "        if ecs_max:\n",
    "            axs[1].plot(cr_sorted_ae_rmse_dict[\"ECS max\"][model][0], cr_sorted_ae_rmse_dict[\"ECS max\"][model][1], c = colors[i], label = f\"{model} max algo\")\n",
    "\n",
    "            i=i+1\n",
    "            \n",
    "            \n",
    "        if filtering:\n",
    "            axs[0].plot(cr_sorted_ae_rmse_dict[\"Filtered SSP\"][model][0],cr_sorted_ae_rmse_dict[\"Filtered SSP\"][model][1], c = colors[i], label = f\"{model} filtered, kernel={best_median_kernel}\")\n",
    "            axs[1].plot(cr_sorted_ae_rmse_dict[\"Filtered ECS\"][model][0],cr_sorted_ae_rmse_dict[\"Filtered ECS\"][model][1], c = colors[i], label = f\"{model}, filtered: kernel={best_median_kernel}\")\n",
    "            \n",
    "            i=i+1\n",
    "            \n",
    "            if ecs_max:\n",
    "                axs[1].plot(cr_sorted_ae_rmse_dict[\"Filtered ECS max\"][model][0],cr_sorted_ae_rmse_dict[\"Filtered ECS max\"][model][1], c = colors[i], label = f\"{model} max algo, filtered: kernel={best_median_kernel}\")\n",
    "                \n",
    "                i=i+1\n",
    "                \n",
    "\n",
    "\n",
    "\n",
    "\n",
    "axs[0].set_title(\"SSP\", fontsize = 12) \n",
    "#axs[0].legend(loc = \"upper left\", prop={'size': 8})    \n",
    "\n",
    "\n",
    "if norm: \n",
    "    axs[0].set_ylabel(\"RMSE\")  \n",
    "    axs[1].set_ylabel(\"RMSE\")  \n",
    "    axs[1].set_title(\"First max\",fontsize = 12)  \n",
    "    fig_title = f\"Normalized RMSE per compression rate\"\n",
    "    \n",
    "else:   \n",
    "    axs[0].set_ylabel(\"RMSE (m/s)\")  \n",
    "    axs[1].set_ylabel(\"RMSE (m)\")  \n",
    "    axs[1].set_title(\"ECS\",fontsize = 12)  \n",
    "    fig_title = f\"Unormalized RMSE per compression rate\"\n",
    "\n",
    "\n",
    "axs[1].legend(loc = \"best\", prop={'size': 7})\n",
    "        \n",
    "for ax in axs:\n",
    "\n",
    "    ax.set_xlabel(\"Compresssion Rate (log scale)\")\n",
    "    ax.set_xscale(\"log\")\n",
    "    \n",
    "\n",
    "\n",
    "    \n",
    "\n",
    "fig.suptitle(fig_title, fontsize = 13, y = 1.0)\n",
    "\n",
    "if save_fig:\n",
    "        \n",
    "    save_name = fig_title.replace(\" \", \"_\").replace(\",\",\"\").replace(\"\\n\",\"_\").replace(\":\",\"\")\n",
    "    \n",
    "    save_name = save_name + f\"_normalized_{norm}\"\n",
    "    \n",
    "    if filtering:\n",
    "        save_name = save_name + f\"_median_filter_kernel_{best_median_kernel}\"\n",
    "    \n",
    "    if ecs_max:\n",
    "        save_name = save_name + f\"_ecs_max\"\n",
    "        \n",
    "    plt.savefig(f\"imgs/{save_name}.png\", dpi=300, bbox_inches='tight')"
   ]
  },
  {
   "cell_type": "code",
   "execution_count": null,
   "metadata": {},
   "outputs": [],
   "source": []
  },
  {
   "cell_type": "code",
   "execution_count": null,
   "metadata": {},
   "outputs": [],
   "source": []
  }
 ],
 "metadata": {
  "kernelspec": {
   "display_name": "fsc_env",
   "language": "python",
   "name": "python3"
  },
  "language_info": {
   "codemirror_mode": {
    "name": "ipython",
    "version": 3
   },
   "file_extension": ".py",
   "mimetype": "text/x-python",
   "name": "python",
   "nbconvert_exporter": "python",
   "pygments_lexer": "ipython3",
   "version": "3.12.7"
  }
 },
 "nbformat": 4,
 "nbformat_minor": 2
}
