{
 "cells": [
  {
   "cell_type": "code",
   "execution_count": null,
   "metadata": {},
   "outputs": [],
   "source": []
  },
  {
   "cell_type": "code",
   "execution_count": 1,
   "metadata": {},
   "outputs": [],
   "source": [
    "import os\n",
    "os.chdir('/homes/o23gauvr/Documents/thèse/code/FASCINATION/')\n",
    "\n",
    "\n",
    "import glob\n",
    "import torch\n",
    "import hydra\n",
    "import matplotlib.pyplot as plt\n",
    "import numpy as np\n",
    "from src.utils import get_cfg_from_from_ckpt_path\n",
    "import xarray as xr\n",
    "\n",
    "import torch.nn.functional as F"
   ]
  },
  {
   "cell_type": "markdown",
   "metadata": {},
   "source": [
    "# Utils get ap arch shape from ap ckpt"
   ]
  },
  {
   "cell_type": "code",
   "execution_count": 2,
   "metadata": {},
   "outputs": [],
   "source": [
    "ap_ckpt_path = \"/homes/o23gauvr/Documents/thèse/code/FASCINATION/outputs/accoustic_predictor_50/dense_2D_CNN_ReLu/pred_weight_1_classif_weight_0_2024-05-18_13-25/checkpoints/val_loss=0.02-epoch=46.ckpt\""
   ]
  },
  {
   "cell_type": "code",
   "execution_count": 3,
   "metadata": {},
   "outputs": [],
   "source": [
    "splited_path = ap_ckpt_path.split(os.sep)"
   ]
  },
  {
   "cell_type": "code",
   "execution_count": 4,
   "metadata": {},
   "outputs": [
    {
     "name": "stdout",
     "output_type": "stream",
     "text": [
      "/homes/o23gauvr/Documents/thèse/code/FASCINATION/outputs/accoustic_predictor_50/dense_2D_CNN_ReLu/pred_weight_1_classif_weight_0_2024-05-18_13-25\n",
      "/homes/o23gauvr/Documents/thèse/code/FASCINATION/outputs/accoustic_predictor_50/dense_2D_CNN_ReLu/pred_weight_1_classif_weight_0_2024-05-18_13-25/.hydra/config.yaml\n"
     ]
    }
   ],
   "source": [
    "try:\n",
    "    index = splited_path.index('checkpoints')\n",
    "    # Join the components back into a path up to the index before 'checkpoints'\n",
    "    path_to_config = os.sep.join(splited_path[:index])\n",
    "except ValueError:\n",
    "    # If 'checkpoints' is not in the path, return the original path\n",
    "    print(\"The given path does not matches the expected structure\")\n",
    "    \n",
    "config_path = glob.glob(f\"{path_to_config}/.hydra/config.yaml\")[0]\n",
    "\n",
    "print(path_to_config)\n",
    "print(config_path)"
   ]
  },
  {
   "cell_type": "code",
   "execution_count": 5,
   "metadata": {},
   "outputs": [
    {
     "data": {
      "text/plain": [
       "{'paths': {'sound': '/DATASET/eNATL/eNATL60_BLB002_sound_speed_regrid_0_1000m.nc',\n",
       "  'variables': '/DATASET/envs/o23gauvr/tmp/eNATL60_BLB002_ECS_at_0_regrid_0_1000m.nc'},\n",
       " 'normalization': {'x_min': 1459.0439165829073, 'x_max': 1545.8698054910844},\n",
       " 'trainer': {'_target_': 'pytorch_lightning.Trainer',\n",
       "  'inference_mode': False,\n",
       "  'accelerator': 'gpu',\n",
       "  'devices': 1,\n",
       "  'check_val_every_n_epoch': 1,\n",
       "  'logger': {'_target_': 'pytorch_lightning.loggers.tensorboard.TensorBoardLogger',\n",
       "   'save_dir': '/homes/o23gauvr/Documents/thèse/code/FASCINATION/outputs/accoustic_predictor/',\n",
       "   'name': '${model.arch_shape}',\n",
       "   'version': 'pred_weight_${model.pred_weight}_classif_weight_${model.classif_weight}_${now:%Y-%m-%d_%H-%M}'},\n",
       "  'min_epochs': 0,\n",
       "  'max_epochs': 50,\n",
       "  'callbacks': [{'_target_': 'pytorch_lightning.callbacks.LearningRateMonitor'},\n",
       "   {'_target_': 'pytorch_lightning.callbacks.ModelCheckpoint',\n",
       "    'monitor': 'val_loss',\n",
       "    'save_top_k': 1,\n",
       "    'filename': '{val_loss:.2f}-{epoch:02d}',\n",
       "    'mode': 'min'}]},\n",
       " 'datamodule': {'_target_': 'src.data.BaseDatamodule',\n",
       "  'input_da': {'_target_': 'src.utils.load_ssf_acoustic_variables',\n",
       "   'path1': '${paths.sound}',\n",
       "   'path2': '${paths.variables}'},\n",
       "  'dl_kw': {'batch_size': 4, 'num_workers': 4},\n",
       "  'x_min': '${normalization.x_min}',\n",
       "  'x_max': '${normalization.x_max}'},\n",
       " 'model': {'_target_': 'src.acoustic_predictor.AcousticPredictor',\n",
       "  'input_depth': 107,\n",
       "  'acoustic_variables': 1,\n",
       "  'lr': 0.001,\n",
       "  'T_max': 10,\n",
       "  'classif_weight': 0,\n",
       "  'pred_weight': 1,\n",
       "  'kernel_size': 8,\n",
       "  'arch_shape': 'dense_2D_CNN_ReLu'},\n",
       " 'entrypoints': [{'_target_': 'pytorch_lightning.seed_everything',\n",
       "   'seed': 333},\n",
       "  {'_target_': 'src.train.base_training',\n",
       "   'trainer': '${trainer}',\n",
       "   'lit_mod': '${model}',\n",
       "   'dm': '${datamodule}'}]}"
      ]
     },
     "execution_count": 5,
     "metadata": {},
     "output_type": "execute_result"
    }
   ],
   "source": [
    "with open(config_path,'r') as f:\n",
    "    config = yaml.safe_load(f)\n",
    "    \n",
    "config"
   ]
  },
  {
   "cell_type": "code",
   "execution_count": 6,
   "metadata": {},
   "outputs": [
    {
     "data": {
      "text/plain": [
       "107"
      ]
     },
     "execution_count": 6,
     "metadata": {},
     "output_type": "execute_result"
    }
   ],
   "source": [
    "config['model']['input_depth']"
   ]
  },
  {
   "cell_type": "code",
   "execution_count": 4,
   "metadata": {},
   "outputs": [],
   "source": [
    "import os"
   ]
  },
  {
   "cell_type": "code",
   "execution_count": 7,
   "metadata": {},
   "outputs": [
    {
     "data": {
      "text/plain": [
       "'/homes/o23gauvr/Documents/thèse/code/FASCINATION/dev'"
      ]
     },
     "execution_count": 7,
     "metadata": {},
     "output_type": "execute_result"
    }
   ],
   "source": [
    "os.getcwd()"
   ]
  },
  {
   "cell_type": "code",
   "execution_count": 36,
   "metadata": {},
   "outputs": [],
   "source": [
    "os.chdir('/homes/o23gauvr/Documents/thèse/code/FASCINATION/')"
   ]
  },
  {
   "cell_type": "code",
   "execution_count": 37,
   "metadata": {},
   "outputs": [
    {
     "data": {
      "text/plain": [
       "'/homes/o23gauvr/Documents/thèse/code/FASCINATION'"
      ]
     },
     "execution_count": 37,
     "metadata": {},
     "output_type": "execute_result"
    }
   ],
   "source": [
    "os.getcwd()"
   ]
  },
  {
   "cell_type": "code",
   "execution_count": 17,
   "metadata": {},
   "outputs": [],
   "source": [
    "from src.utils import get_cfg_from_from_ckpt_path\n",
    "\n",
    "import glob"
   ]
  },
  {
   "cell_type": "code",
   "execution_count": 18,
   "metadata": {},
   "outputs": [],
   "source": [
    "def get_config_file_path_from_ckpt_path(ap_ckpt_path):\n",
    "    splited_path = ap_ckpt_path.split(os.sep)\n",
    "    \n",
    "    try:\n",
    "        index = splited_path.index('checkpoints')\n",
    "        # Join the components back into a path up to the index before 'checkpoints'\n",
    "        path_to_config = os.sep.join(splited_path[:index])\n",
    "    except ValueError:\n",
    "        # If 'checkpoints' is not in the path, return the original path\n",
    "        print(\"The given path does not match the expected structure\")\n",
    "        \n",
    "    config_path = glob.glob(f\"{path_to_config}/.hydra/config.yaml\")[0]\n",
    "    \n",
    "    return config_path"
   ]
  },
  {
   "cell_type": "code",
   "execution_count": 49,
   "metadata": {},
   "outputs": [],
   "source": [
    "def get_cfg_from_from_ckpt_path(ckpt_path):\n",
    "    \n",
    "    \n",
    "    cfg_path = get_config_file_path_from_ckpt_path(ckpt_path)\n",
    "    cfg_dir_path = (\"/\").join(cfg_path.split(\"/\")[:-1])\n",
    "    cfg_name = cfg_path.split(\"/\")[-1].split(\".yaml\")[0]\n",
    "    with hydra.initialize_config_dir(cfg_dir_path, version_base='1.3'):\n",
    "        cfg = hydra.compose(cfg_name)\n",
    "\n",
    "    return cfg"
   ]
  },
  {
   "cell_type": "code",
   "execution_count": 57,
   "metadata": {},
   "outputs": [],
   "source": [
    "ap_ckpt_path = \"/homes/o23gauvr/Documents/thèse/code/FASCINATION/outputs/ap_classif/CNN_2D/2024-05-31_18-03/checkpoints/val_loss=0.69-epoch=00.ckpt\""
   ]
  },
  {
   "cell_type": "code",
   "execution_count": 58,
   "metadata": {},
   "outputs": [],
   "source": [
    "cfg_path = get_config_file_path_from_ckpt_path(ap_ckpt_path)\n",
    "cfg_dir_path = (\"/\").join(cfg_path.split(\"/\")[:-1])\n",
    "cfg_name = cfg_path.split(\"/\")[-1].split(\".yaml\")[0]"
   ]
  },
  {
   "cell_type": "code",
   "execution_count": 46,
   "metadata": {},
   "outputs": [
    {
     "data": {
      "text/plain": [
       "'/homes/o23gauvr/Documents/thèse/code/FASCINATION/outputs/ap_classif/UNet/2024-05-28_16-04/.hydra'"
      ]
     },
     "execution_count": 46,
     "metadata": {},
     "output_type": "execute_result"
    }
   ],
   "source": [
    "cfg_dir_path"
   ]
  },
  {
   "cell_type": "code",
   "execution_count": 32,
   "metadata": {},
   "outputs": [
    {
     "data": {
      "text/plain": [
       "True"
      ]
     },
     "execution_count": 32,
     "metadata": {},
     "output_type": "execute_result"
    }
   ],
   "source": [
    "os.access(cfg_dir_path, os.R_OK)"
   ]
  },
  {
   "cell_type": "code",
   "execution_count": 50,
   "metadata": {},
   "outputs": [
    {
     "name": "stdout",
     "output_type": "stream",
     "text": [
      "/homes/o23gauvr/Documents/thèse/code/FASCINATION/outputs/ap_classif/UNet/2024-05-28_16-04/.hydra\n"
     ]
    },
    {
     "data": {
      "text/plain": [
       "{'paths': {'sound': '/DATASET/eNATL/eNATL60_BLB002_sound_speed_regrid_0_1000m.nc', 'variables': '/DATASET/envs/o23gauvr/tmp/eNATL60_BLB002_ECS_binary_classification_at_0_regrid_0_1000m.nc'}, 'normalization': {'x_min': 1459.0439165829073, 'x_max': 1545.8698054910844}, 'dtype': 'float32', 'trainer': {'_target_': 'pytorch_lightning.Trainer', 'inference_mode': False, 'accelerator': 'gpu', 'devices': 1, 'check_val_every_n_epoch': 1, 'accumulate_grad_batches': 4, 'logger': {'_target_': 'pytorch_lightning.loggers.tensorboard.TensorBoardLogger', 'save_dir': '/homes/o23gauvr/Documents/thèse/code/FASCINATION/outputs/ap_classif/', 'name': '${model.model_name}', 'version': '${now:%Y-%m-%d_%H-%M}'}, 'min_epochs': 0, 'max_epochs': 1000, 'callbacks': [{'_target_': 'pytorch_lightning.callbacks.LearningRateMonitor'}, {'_target_': 'pytorch_lightning.callbacks.ModelCheckpoint', 'monitor': 'val_loss', 'save_top_k': 1, 'filename': '{val_loss:.2f}-{epoch:02d}', 'mode': 'min'}, {'_target_': 'pytorch_lightning.callbacks.EarlyStopping', 'monitor': 'val_loss', 'min_delta': 0.0, 'check_on_train_epoch_end': True, 'patience': 5, 'verbose': True}]}, 'datamodule': {'_target_': 'src.data.BaseDatamodule_ecs_classif', 'input_da': {'_target_': 'src.utils.load_ssf_ecs_classif_da', 'ssf_da_path': '${paths.sound}', 'ecs_classif_da_path': '${paths.variables}'}, 'dl_kw': {'batch_size': 1, 'num_workers': 4}, 'x_min': '${normalization.x_min}', 'x_max': '${normalization.x_max}', 'dtype_str': '${dtype}'}, 'model': {'_target_': 'src.ecs_classification.ECS_classification', 'model_name': 'UNet', 'model_hparams': '${model_config.${model.model_name}}', 'opt_fn': {'_target_': 'src.ecs_classification.ECS_classification.cosanneal_lr_adamw', '_partial_': True, 'lr': 0.001, 'T_max': '${trainer.max_epochs}', 'weight_decay': 0.01}, 'depth_array': {'_target_': 'src.utils.get_depth_array', 'ssf_da_path': '${paths.sound}'}}, 'model_config': {'UNet': {'num_classes': 2, 'num_layers': 5, 'features_start': 64, 'bilinear': False, 'batch_norm': True, 'avg_pool': False, 'dtype_str': '${dtype}'}, 'ResNet': None}, 'entrypoints': [{'_target_': 'pytorch_lightning.seed_everything', 'seed': 333}, {'_target_': 'src.train.base_training', 'trainer': '${trainer}', 'lit_mod': '${model}', 'dm': '${datamodule}'}]}"
      ]
     },
     "execution_count": 50,
     "metadata": {},
     "output_type": "execute_result"
    }
   ],
   "source": [
    "get_cfg_from_from_ckpt_path(ap_ckpt_path)"
   ]
  },
  {
   "cell_type": "code",
   "execution_count": 51,
   "metadata": {},
   "outputs": [],
   "source": [
    "from omegaconf import OmegaConf"
   ]
  },
  {
   "cell_type": "code",
   "execution_count": 59,
   "metadata": {},
   "outputs": [],
   "source": [
    "cfg = OmegaConf.load(cfg_path)"
   ]
  },
  {
   "cell_type": "code",
   "execution_count": 60,
   "metadata": {},
   "outputs": [
    {
     "data": {
      "text/plain": [
       "ECS_classification(\n",
       "  (model): CNN_2D(\n",
       "    (net): Sequential(\n",
       "      (0): Conv2d(3, 20, kernel_size=(1, 1), stride=(1, 1))\n",
       "      (1): Dim_reduction(\n",
       "        (net): Sequential(\n",
       "          (0): BatchNorm2d(20, eps=1e-05, momentum=0.1, affine=True, track_running_stats=True)\n",
       "          (1): ReLU(inplace=True)\n",
       "          (2): MaxPool2d(kernel_size=1, stride=1, padding=0, dilation=1, ceil_mode=False)\n",
       "        )\n",
       "      )\n",
       "      (2): Conv2d(20, 40, kernel_size=(1, 1), stride=(1, 1))\n",
       "      (3): Dim_reduction(\n",
       "        (net): Sequential(\n",
       "          (0): BatchNorm2d(40, eps=1e-05, momentum=0.1, affine=True, track_running_stats=True)\n",
       "          (1): ReLU(inplace=True)\n",
       "          (2): MaxPool2d(kernel_size=1, stride=1, padding=0, dilation=1, ceil_mode=False)\n",
       "        )\n",
       "      )\n",
       "      (4): Conv2d(40, 60, kernel_size=(1, 1), stride=(1, 1))\n",
       "      (5): Dim_reduction(\n",
       "        (net): Sequential(\n",
       "          (0): BatchNorm2d(60, eps=1e-05, momentum=0.1, affine=True, track_running_stats=True)\n",
       "          (1): ReLU(inplace=True)\n",
       "          (2): MaxPool2d(kernel_size=1, stride=1, padding=0, dilation=1, ceil_mode=False)\n",
       "        )\n",
       "      )\n",
       "      (6): Conv2d(60, 80, kernel_size=(1, 1), stride=(1, 1))\n",
       "      (7): BatchNorm2d(80, eps=1e-05, momentum=0.1, affine=True, track_running_stats=True)\n",
       "      (8): AdaptiveMaxPool2d(output_size=[240, 240])\n",
       "      (9): ReLU(inplace=True)\n",
       "      (10): Last_Block(\n",
       "        (net): Sequential(\n",
       "          (0): Linear(in_features=80, out_features=20, bias=True)\n",
       "          (1): ReLU(inplace=True)\n",
       "          (2): Dropout(p=0.25, inplace=False)\n",
       "          (3): Linear(in_features=20, out_features=2, bias=True)\n",
       "          (4): Sigmoid()\n",
       "        )\n",
       "      )\n",
       "    )\n",
       "  )\n",
       ")"
      ]
     },
     "execution_count": 60,
     "metadata": {},
     "output_type": "execute_result"
    }
   ],
   "source": [
    "hydra.utils.call(cfg.model)"
   ]
  },
  {
   "cell_type": "code",
   "execution_count": null,
   "metadata": {},
   "outputs": [],
   "source": []
  },
  {
   "cell_type": "markdown",
   "metadata": {},
   "source": [
    "# Class 0 over class 1 per test dataset"
   ]
  },
  {
   "cell_type": "code",
   "execution_count": 36,
   "metadata": {},
   "outputs": [],
   "source": [
    "model_ecs_classif_path = \"/homes/o23gauvr/Documents/thèse/code/FASCINATION/outputs/ecs_classif/UNet_3D/2024-06-05_19-46/checkpoints/val_loss=0.14-epoch=04.ckpt\""
   ]
  },
  {
   "cell_type": "code",
   "execution_count": 37,
   "metadata": {},
   "outputs": [
    {
     "data": {
      "text/markdown": [
       "```yaml\n",
       "\n",
       "datamodule:\n",
       "  _target_: src.data.BaseDatamodule_ecs_classif\n",
       "  dl_kw: {batch_size: '${model_config.batch_size.${dimensions}}', num_workers: 4}\n",
       "  dtype_str: ${dtype}\n",
       "  input_da: {_target_: src.utils.load_ssf_ecs_classif_da, ecs_classif_da_path: '${model_config.ECS_classif_path.${model.model_name}}',\n",
       "    ssf_da_path: '${ssp_path}'}\n",
       "  model_name: ${model.model_name}\n",
       "  x_max: ${normalization.x_max}\n",
       "  x_min: ${normalization.x_min}\n",
       "dimensions: 3D\n",
       "dtype: float32\n",
       "entrypoints:\n",
       "- {_target_: pytorch_lightning.seed_everything, seed: 333}\n",
       "- {_target_: src.train.base_training, dm: '${datamodule}', lit_mod: '${model}', trainer: '${trainer}'}\n",
       "model:\n",
       "  _target_: src.ecs_classification.ECS_classification\n",
       "  depth_array: {_target_: src.utils.get_depth_array, ssf_da_path: '${ssp_path}'}\n",
       "  loss_weight: {ecs_weight: 1, no_ecs_weight: 1}\n",
       "  model_hparams: ${model_config.model_hparams.${model.model_name}}\n",
       "  model_name: ${model_architecture}_${dimensions}\n",
       "  opt_fn: {T_max: '${trainer.max_epochs}', _partial_: true, _target_: src.ecs_classification.ECS_classification.cosanneal_lr_adamw,\n",
       "    lr: 0.001, weight_decay: 0.01}\n",
       "model_architecture: UNet\n",
       "model_config:\n",
       "  ECS_classif_path: {CNN_2D: /DATASET/envs/o23gauvr/tmp/eNATL60_BLB002_ECS_2D_binary_classification_at_0_regrid_0_1000m.nc,\n",
       "    CNN_3D: /DATASET/envs/o23gauvr/tmp/eNATL60_BLB002_ECS_2D_binary_classification_at_0_regrid_0_1000m.nc,\n",
       "    UNet_2D: /DATASET/envs/o23gauvr/tmp/eNATL60_BLB002_ECS_2D_binary_classification_at_0_regrid_0_1000m.nc,\n",
       "    UNet_3D: /DATASET/envs/o23gauvr/tmp/eNATL60_BLB002_ECS_3D_binary_classification_at_0_regrid_0_1000m.nc}\n",
       "  accumulate_grad_batches: {2D: 1, 3D: 4}\n",
       "  batch_size: {2D: 4, 3D: 1}\n",
       "  model_hparams:\n",
       "    CNN_2D:\n",
       "      avg_pool: false\n",
       "      batch_norm: true\n",
       "      channels_start: 20\n",
       "      dtype_str: ${dtype}\n",
       "      final_act_func_str: Sigmoid\n",
       "      in_ch: 107\n",
       "      num_classes: 1\n",
       "      num_layers: 4\n",
       "      spatial_dim: [240, 240]\n",
       "    CNN_3D:\n",
       "      avg_pool: false\n",
       "      batch_norm: true\n",
       "      channels_start: 20\n",
       "      dtype_str: ${dtype}\n",
       "      final_act_func_str: Sigmoid\n",
       "      in_ch: 3\n",
       "      num_classes: 1\n",
       "      num_layers: 4\n",
       "      spatial_dim: [240, 240]\n",
       "    UNet_2D: {avg_pool: false, batch_norm: true, bilinear: false, dtype_str: '${dtype}',\n",
       "      features_start: 64, final_act_func_str: Sigmoid, in_ch: 107, num_classes: 1,\n",
       "      num_layers: 5}\n",
       "    UNet_3D: {avg_pool: false, batch_norm: true, bilinear: false, dtype_str: '${dtype}',\n",
       "      features_start: 64, final_act_func_str: Sigmoid, in_ch: 3, num_classes: 1, num_layers: 5}\n",
       "normalization: {x_max: 1545.8698054910844, x_min: 1459.0439165829073}\n",
       "ssp_path: /DATASET/eNATL/eNATL60_BLB002_sound_speed_regrid_0_1000m.nc\n",
       "trainer:\n",
       "  _target_: pytorch_lightning.Trainer\n",
       "  accelerator: gpu\n",
       "  accumulate_grad_batches: ${model_config.accumulate_grad_batches.${dimensions}}\n",
       "  callbacks:\n",
       "  - {_target_: pytorch_lightning.callbacks.LearningRateMonitor}\n",
       "  - {_target_: pytorch_lightning.callbacks.ModelCheckpoint, filename: '{val_loss:.2f}-{epoch:02d}',\n",
       "    mode: min, monitor: val_loss, save_top_k: 1}\n",
       "  - {_target_: pytorch_lightning.callbacks.EarlyStopping, check_on_train_epoch_end: true,\n",
       "    min_delta: 0.0, monitor: val_loss, patience: 3, verbose: true}\n",
       "  check_val_every_n_epoch: 1\n",
       "  devices: 1\n",
       "  inference_mode: false\n",
       "  logger: {_target_: pytorch_lightning.loggers.tensorboard.TensorBoardLogger, name: '${model.model_name}',\n",
       "    save_dir: \"/homes/o23gauvr/Documents/th\\xE8se/code/FASCINATION/outputs/ecs_classif/\",\n",
       "    version: '${now:%Y-%m-%d_%H-%M}'}\n",
       "  max_epochs: 1000\n",
       "  min_epochs: 0\n",
       "\n",
       "\n",
       "```"
      ],
      "text/plain": [
       "<IPython.core.display.Markdown object>"
      ]
     },
     "metadata": {},
     "output_type": "display_data"
    }
   ],
   "source": [
    "cfg = get_cfg_from_from_ckpt_path(model_ecs_classif_path, pprint = True)\n"
   ]
  },
  {
   "cell_type": "code",
   "execution_count": 38,
   "metadata": {},
   "outputs": [],
   "source": [
    "dm = hydra.utils.call(cfg.datamodule) # will instantiate src.data.BaseDataModule with parameters specified in config\n",
    "dm.setup(stage=\"fit\") # setup the datamodule see https://lightning.ai/docs/pytorch/stable/data/datamodule.html#lightningdatamodule-api"
   ]
  },
  {
   "cell_type": "code",
   "execution_count": 39,
   "metadata": {},
   "outputs": [
    {
     "data": {
      "text/plain": [
       "ECS_classification(\n",
       "  (model): UNet_3D(\n",
       "    (layers): ModuleList(\n",
       "      (0): DoubleConv(\n",
       "        (net): Sequential(\n",
       "          (0): Conv3d(3, 64, kernel_size=(3, 1, 1), stride=(1, 1, 1), padding=(1, 1, 1))\n",
       "          (1): BatchNorm3d(64, eps=1e-05, momentum=0.1, affine=True, track_running_stats=True)\n",
       "          (2): ReLU(inplace=True)\n",
       "          (3): Conv3d(64, 64, kernel_size=(3, 1, 1), stride=(1, 1, 1), padding=(1, 1, 1))\n",
       "          (4): BatchNorm3d(64, eps=1e-05, momentum=0.1, affine=True, track_running_stats=True)\n",
       "          (5): ReLU(inplace=True)\n",
       "        )\n",
       "      )\n",
       "      (1): Down(\n",
       "        (net): Sequential(\n",
       "          (0): MaxPool3d(kernel_size=2, stride=2, padding=0, dilation=1, ceil_mode=False)\n",
       "          (1): DoubleConv(\n",
       "            (net): Sequential(\n",
       "              (0): Conv3d(64, 128, kernel_size=(3, 1, 1), stride=(1, 1, 1), padding=(1, 1, 1))\n",
       "              (1): BatchNorm3d(128, eps=1e-05, momentum=0.1, affine=True, track_running_stats=True)\n",
       "              (2): ReLU(inplace=True)\n",
       "              (3): Conv3d(128, 128, kernel_size=(3, 1, 1), stride=(1, 1, 1), padding=(1, 1, 1))\n",
       "              (4): BatchNorm3d(128, eps=1e-05, momentum=0.1, affine=True, track_running_stats=True)\n",
       "              (5): ReLU(inplace=True)\n",
       "            )\n",
       "          )\n",
       "        )\n",
       "      )\n",
       "      (2): Down(\n",
       "        (net): Sequential(\n",
       "          (0): MaxPool3d(kernel_size=2, stride=2, padding=0, dilation=1, ceil_mode=False)\n",
       "          (1): DoubleConv(\n",
       "            (net): Sequential(\n",
       "              (0): Conv3d(128, 256, kernel_size=(3, 1, 1), stride=(1, 1, 1), padding=(1, 1, 1))\n",
       "              (1): BatchNorm3d(256, eps=1e-05, momentum=0.1, affine=True, track_running_stats=True)\n",
       "              (2): ReLU(inplace=True)\n",
       "              (3): Conv3d(256, 256, kernel_size=(3, 1, 1), stride=(1, 1, 1), padding=(1, 1, 1))\n",
       "              (4): BatchNorm3d(256, eps=1e-05, momentum=0.1, affine=True, track_running_stats=True)\n",
       "              (5): ReLU(inplace=True)\n",
       "            )\n",
       "          )\n",
       "        )\n",
       "      )\n",
       "      (3): Down(\n",
       "        (net): Sequential(\n",
       "          (0): MaxPool3d(kernel_size=2, stride=2, padding=0, dilation=1, ceil_mode=False)\n",
       "          (1): DoubleConv(\n",
       "            (net): Sequential(\n",
       "              (0): Conv3d(256, 512, kernel_size=(3, 1, 1), stride=(1, 1, 1), padding=(1, 1, 1))\n",
       "              (1): BatchNorm3d(512, eps=1e-05, momentum=0.1, affine=True, track_running_stats=True)\n",
       "              (2): ReLU(inplace=True)\n",
       "              (3): Conv3d(512, 512, kernel_size=(3, 1, 1), stride=(1, 1, 1), padding=(1, 1, 1))\n",
       "              (4): BatchNorm3d(512, eps=1e-05, momentum=0.1, affine=True, track_running_stats=True)\n",
       "              (5): ReLU(inplace=True)\n",
       "            )\n",
       "          )\n",
       "        )\n",
       "      )\n",
       "      (4): Down(\n",
       "        (net): Sequential(\n",
       "          (0): MaxPool3d(kernel_size=2, stride=2, padding=0, dilation=1, ceil_mode=False)\n",
       "          (1): DoubleConv(\n",
       "            (net): Sequential(\n",
       "              (0): Conv3d(512, 1024, kernel_size=(3, 1, 1), stride=(1, 1, 1), padding=(1, 1, 1))\n",
       "              (1): BatchNorm3d(1024, eps=1e-05, momentum=0.1, affine=True, track_running_stats=True)\n",
       "              (2): ReLU(inplace=True)\n",
       "              (3): Conv3d(1024, 1024, kernel_size=(3, 1, 1), stride=(1, 1, 1), padding=(1, 1, 1))\n",
       "              (4): BatchNorm3d(1024, eps=1e-05, momentum=0.1, affine=True, track_running_stats=True)\n",
       "              (5): ReLU(inplace=True)\n",
       "            )\n",
       "          )\n",
       "        )\n",
       "      )\n",
       "      (5): Up(\n",
       "        (upsample): ConvTranspose3d(1024, 512, kernel_size=(2, 2, 2), stride=(2, 2, 2))\n",
       "        (conv): DoubleConv(\n",
       "          (net): Sequential(\n",
       "            (0): Conv3d(1024, 512, kernel_size=(3, 1, 1), stride=(1, 1, 1), padding=(1, 1, 1))\n",
       "            (1): BatchNorm3d(512, eps=1e-05, momentum=0.1, affine=True, track_running_stats=True)\n",
       "            (2): ReLU(inplace=True)\n",
       "            (3): Conv3d(512, 512, kernel_size=(3, 1, 1), stride=(1, 1, 1), padding=(1, 1, 1))\n",
       "            (4): BatchNorm3d(512, eps=1e-05, momentum=0.1, affine=True, track_running_stats=True)\n",
       "            (5): ReLU(inplace=True)\n",
       "          )\n",
       "        )\n",
       "      )\n",
       "      (6): Up(\n",
       "        (upsample): ConvTranspose3d(512, 256, kernel_size=(2, 2, 2), stride=(2, 2, 2))\n",
       "        (conv): DoubleConv(\n",
       "          (net): Sequential(\n",
       "            (0): Conv3d(512, 256, kernel_size=(3, 1, 1), stride=(1, 1, 1), padding=(1, 1, 1))\n",
       "            (1): BatchNorm3d(256, eps=1e-05, momentum=0.1, affine=True, track_running_stats=True)\n",
       "            (2): ReLU(inplace=True)\n",
       "            (3): Conv3d(256, 256, kernel_size=(3, 1, 1), stride=(1, 1, 1), padding=(1, 1, 1))\n",
       "            (4): BatchNorm3d(256, eps=1e-05, momentum=0.1, affine=True, track_running_stats=True)\n",
       "            (5): ReLU(inplace=True)\n",
       "          )\n",
       "        )\n",
       "      )\n",
       "      (7): Up(\n",
       "        (upsample): ConvTranspose3d(256, 128, kernel_size=(2, 2, 2), stride=(2, 2, 2))\n",
       "        (conv): DoubleConv(\n",
       "          (net): Sequential(\n",
       "            (0): Conv3d(256, 128, kernel_size=(3, 1, 1), stride=(1, 1, 1), padding=(1, 1, 1))\n",
       "            (1): BatchNorm3d(128, eps=1e-05, momentum=0.1, affine=True, track_running_stats=True)\n",
       "            (2): ReLU(inplace=True)\n",
       "            (3): Conv3d(128, 128, kernel_size=(3, 1, 1), stride=(1, 1, 1), padding=(1, 1, 1))\n",
       "            (4): BatchNorm3d(128, eps=1e-05, momentum=0.1, affine=True, track_running_stats=True)\n",
       "            (5): ReLU(inplace=True)\n",
       "          )\n",
       "        )\n",
       "      )\n",
       "      (8): Up(\n",
       "        (upsample): ConvTranspose3d(128, 64, kernel_size=(2, 2, 2), stride=(2, 2, 2))\n",
       "        (conv): DoubleConv(\n",
       "          (net): Sequential(\n",
       "            (0): Conv3d(128, 64, kernel_size=(3, 1, 1), stride=(1, 1, 1), padding=(1, 1, 1))\n",
       "            (1): BatchNorm3d(64, eps=1e-05, momentum=0.1, affine=True, track_running_stats=True)\n",
       "            (2): ReLU(inplace=True)\n",
       "            (3): Conv3d(64, 64, kernel_size=(3, 1, 1), stride=(1, 1, 1), padding=(1, 1, 1))\n",
       "            (4): BatchNorm3d(64, eps=1e-05, momentum=0.1, affine=True, track_running_stats=True)\n",
       "            (5): ReLU(inplace=True)\n",
       "          )\n",
       "        )\n",
       "      )\n",
       "      (9): Conv3d(64, 1, kernel_size=(1, 1, 1), stride=(1, 1, 1))\n",
       "      (10): AdaptiveMaxPool3d(output_size=(107, 240, 240))\n",
       "      (11): Sigmoid()\n",
       "    )\n",
       "  )\n",
       ")"
      ]
     },
     "execution_count": 39,
     "metadata": {},
     "output_type": "execute_result"
    }
   ],
   "source": [
    "lit_mod =  hydra.utils.call(cfg.model)\n",
    "lit_mod.load_state_dict(torch.load(model_ecs_classif_path)[\"state_dict\"]) \n",
    "lit_mod"
   ]
  },
  {
   "cell_type": "code",
   "execution_count": 40,
   "metadata": {},
   "outputs": [],
   "source": [
    "lit_mod = lit_mod.to('cuda:1') # Move model to gpu for faster inference\n",
    "lit_mod = lit_mod.eval() # Model in eval mode\n",
    "\n",
    "for param in lit_mod.parameters():\n",
    "    param.requires_grad = False  # Ensure no gradients are calculated for this model"
   ]
  },
  {
   "cell_type": "code",
   "execution_count": 41,
   "metadata": {},
   "outputs": [],
   "source": [
    "train_dl = dm.train_dataloader()"
   ]
  },
  {
   "cell_type": "code",
   "execution_count": 42,
   "metadata": {},
   "outputs": [],
   "source": [
    "ssf_input, ecs_classif_truth = train_dl.dataset.input.data, train_dl.dataset.tgt.data\n",
    "ssf_input, ecs_classif_truth  = torch.tensor(ssf_input).to(lit_mod.device), torch.tensor(ecs_classif_truth).to(lit_mod.device) "
   ]
  },
  {
   "cell_type": "code",
   "execution_count": 43,
   "metadata": {},
   "outputs": [
    {
     "name": "stdout",
     "output_type": "stream",
     "text": [
      "\tnumber of class 0: 1566987730\n",
      "\tnumber of class 1: 10791470\n",
      "\tratio of class 1 over class 0: 0.0068867610086519315\n"
     ]
    }
   ],
   "source": [
    "print(f\"\\tnumber of class 0: {(ecs_classif_truth == 0).sum().item()}\")\n",
    "print(f\"\\tnumber of class 1: {(ecs_classif_truth == 1).sum().item()}\")\n",
    "print(f\"\\tratio of class 1 over class 0: {(ecs_classif_truth == 1).sum().item()/(ecs_classif_truth == 0).sum().item()}\")"
   ]
  },
  {
   "cell_type": "code",
   "execution_count": 44,
   "metadata": {},
   "outputs": [
    {
     "name": "stdout",
     "output_type": "stream",
     "text": [
      "\n",
      "batch n° 0: \n",
      "\tnumber of class 0: 6143227\n",
      "\tnumber of class 1: 19973\n",
      "\tratio of class 1 over class 0: 0.0032512228507916114\n",
      "\n",
      "batch n° 1: \n",
      "\tnumber of class 0: 6156956\n",
      "\tnumber of class 1: 6244\n",
      "\tratio of class 1 over class 0: 0.0010141375056115392\n",
      "\n",
      "batch n° 2: \n",
      "\tnumber of class 0: 6131640\n",
      "\tnumber of class 1: 31560\n",
      "\tratio of class 1 over class 0: 0.005147073213691606\n",
      "\n",
      "batch n° 3: \n",
      "\tnumber of class 0: 6105927\n",
      "\tnumber of class 1: 57273\n",
      "\tratio of class 1 over class 0: 0.009379902511117477\n",
      "\n",
      "batch n° 4: \n",
      "\tnumber of class 0: 6105737\n",
      "\tnumber of class 1: 57463\n",
      "\tratio of class 1 over class 0: 0.00941131267200012\n",
      "\n",
      "batch n° 5: \n",
      "\tnumber of class 0: 6127559\n",
      "\tnumber of class 1: 35641\n",
      "\tratio of class 1 over class 0: 0.005816508661932101\n",
      "\n",
      "batch n° 6: \n",
      "\tnumber of class 0: 6113667\n",
      "\tnumber of class 1: 49533\n",
      "\tratio of class 1 over class 0: 0.00810201144419544\n",
      "\n",
      "batch n° 7: \n",
      "\tnumber of class 0: 6142748\n",
      "\tnumber of class 1: 20452\n",
      "\tratio of class 1 over class 0: 0.003329454504726549\n",
      "\n",
      "batch n° 8: \n",
      "\tnumber of class 0: 6106308\n",
      "\tnumber of class 1: 56892\n",
      "\tratio of class 1 over class 0: 0.009316922762494129\n",
      "\n",
      "batch n° 9: \n",
      "\tnumber of class 0: 6132861\n",
      "\tnumber of class 1: 30339\n",
      "\tratio of class 1 over class 0: 0.004946957056421139\n",
      "\n",
      "batch n° 10: \n",
      "\tnumber of class 0: 6107858\n",
      "\tnumber of class 1: 55342\n",
      "\tratio of class 1 over class 0: 0.009060786940364364\n",
      "\n",
      "batch n° 11: \n",
      "\tnumber of class 0: 6106067\n",
      "\tnumber of class 1: 57133\n",
      "\tratio of class 1 over class 0: 0.009356759432872256\n",
      "\n",
      "batch n° 12: \n",
      "\tnumber of class 0: 6156316\n",
      "\tnumber of class 1: 6884\n",
      "\tratio of class 1 over class 0: 0.0011182012099443888\n",
      "\n",
      "batch n° 13: \n",
      "\tnumber of class 0: 6105737\n",
      "\tnumber of class 1: 57463\n",
      "\tratio of class 1 over class 0: 0.00941131267200012\n",
      "\n",
      "batch n° 14: \n",
      "\tnumber of class 0: 6105737\n",
      "\tnumber of class 1: 57463\n",
      "\tratio of class 1 over class 0: 0.00941131267200012\n",
      "\n",
      "batch n° 15: \n",
      "\tnumber of class 0: 6107176\n",
      "\tnumber of class 1: 56024\n",
      "\tratio of class 1 over class 0: 0.009173470684322836\n",
      "\n",
      "batch n° 16: \n",
      "\tnumber of class 0: 6110648\n",
      "\tnumber of class 1: 52552\n",
      "\tratio of class 1 over class 0: 0.00860006991075251\n",
      "\n",
      "batch n° 17: \n",
      "\tnumber of class 0: 6112277\n",
      "\tnumber of class 1: 50923\n",
      "\tratio of class 1 over class 0: 0.008331265091552624\n",
      "\n",
      "batch n° 18: \n",
      "\tnumber of class 0: 6127005\n",
      "\tnumber of class 1: 36195\n",
      "\tratio of class 1 over class 0: 0.005907453968129616\n",
      "\n",
      "batch n° 19: \n",
      "\tnumber of class 0: 6133572\n",
      "\tnumber of class 1: 29628\n",
      "\tratio of class 1 over class 0: 0.004830464205849381\n",
      "\n",
      "batch n° 20: \n",
      "\tnumber of class 0: 6139773\n",
      "\tnumber of class 1: 23427\n",
      "\tratio of class 1 over class 0: 0.0038156133785402164\n",
      "\n",
      "batch n° 21: \n",
      "\tnumber of class 0: 6105737\n",
      "\tnumber of class 1: 57463\n",
      "\tratio of class 1 over class 0: 0.00941131267200012\n",
      "\n",
      "batch n° 22: \n",
      "\tnumber of class 0: 6105737\n",
      "\tnumber of class 1: 57463\n",
      "\tratio of class 1 over class 0: 0.00941131267200012\n",
      "\n",
      "batch n° 23: \n",
      "\tnumber of class 0: 6127951\n",
      "\tnumber of class 1: 35249\n",
      "\tratio of class 1 over class 0: 0.005752167404732838\n",
      "\n",
      "batch n° 24: \n",
      "\tnumber of class 0: 6105737\n",
      "\tnumber of class 1: 57463\n",
      "\tratio of class 1 over class 0: 0.00941131267200012\n",
      "\n",
      "batch n° 25: \n",
      "\tnumber of class 0: 6125374\n",
      "\tnumber of class 1: 37826\n",
      "\tratio of class 1 over class 0: 0.006175296398228092\n",
      "\n",
      "batch n° 26: \n",
      "\tnumber of class 0: 6110640\n",
      "\tnumber of class 1: 52560\n",
      "\tratio of class 1 over class 0: 0.008601390361729704\n",
      "\n",
      "batch n° 27: \n",
      "\tnumber of class 0: 6123662\n",
      "\tnumber of class 1: 39538\n",
      "\tratio of class 1 over class 0: 0.006456594109864326\n",
      "\n",
      "batch n° 28: \n",
      "\tnumber of class 0: 6105737\n",
      "\tnumber of class 1: 57463\n",
      "\tratio of class 1 over class 0: 0.00941131267200012\n",
      "\n",
      "batch n° 29: \n",
      "\tnumber of class 0: 6156886\n",
      "\tnumber of class 1: 6314\n",
      "\tratio of class 1 over class 0: 0.0010255184195387085\n",
      "\n",
      "batch n° 30: \n",
      "\tnumber of class 0: 6120705\n",
      "\tnumber of class 1: 42495\n",
      "\tratio of class 1 over class 0: 0.006942827664460222\n",
      "\n",
      "batch n° 31: \n",
      "\tnumber of class 0: 6148762\n",
      "\tnumber of class 1: 14438\n",
      "\tratio of class 1 over class 0: 0.0023481149538720153\n",
      "\n",
      "batch n° 32: \n",
      "\tnumber of class 0: 6157309\n",
      "\tnumber of class 1: 5891\n",
      "\tratio of class 1 over class 0: 0.0009567491253078252\n",
      "\n",
      "batch n° 33: \n",
      "\tnumber of class 0: 6138451\n",
      "\tnumber of class 1: 24749\n",
      "\tratio of class 1 over class 0: 0.004031798901709894\n",
      "\n",
      "batch n° 34: \n",
      "\tnumber of class 0: 6135057\n",
      "\tnumber of class 1: 28143\n",
      "\tratio of class 1 over class 0: 0.004587243443703946\n",
      "\n",
      "batch n° 35: \n",
      "\tnumber of class 0: 6105737\n",
      "\tnumber of class 1: 57463\n",
      "\tratio of class 1 over class 0: 0.00941131267200012\n",
      "\n",
      "batch n° 36: \n",
      "\tnumber of class 0: 6105737\n",
      "\tnumber of class 1: 57463\n",
      "\tratio of class 1 over class 0: 0.00941131267200012\n",
      "\n",
      "batch n° 37: \n",
      "\tnumber of class 0: 6121008\n",
      "\tnumber of class 1: 42192\n",
      "\tratio of class 1 over class 0: 0.006892982332321735\n",
      "\n",
      "batch n° 38: \n",
      "\tnumber of class 0: 6106431\n",
      "\tnumber of class 1: 56769\n",
      "\tratio of class 1 over class 0: 0.009296592395787326\n",
      "\n",
      "batch n° 39: \n",
      "\tnumber of class 0: 6156758\n",
      "\tnumber of class 1: 6442\n",
      "\tratio of class 1 over class 0: 0.0010463299028482197\n",
      "\n",
      "batch n° 40: \n",
      "\tnumber of class 0: 6110185\n",
      "\tnumber of class 1: 53015\n",
      "\tratio of class 1 over class 0: 0.008676496701818357\n",
      "\n",
      "batch n° 41: \n",
      "\tnumber of class 0: 6123181\n",
      "\tnumber of class 1: 40019\n",
      "\tratio of class 1 over class 0: 0.006535655241940423\n",
      "\n",
      "batch n° 42: \n",
      "\tnumber of class 0: 6106840\n",
      "\tnumber of class 1: 56360\n",
      "\tratio of class 1 over class 0: 0.009228995683528633\n",
      "\n",
      "batch n° 43: \n",
      "\tnumber of class 0: 6114458\n",
      "\tnumber of class 1: 48742\n",
      "\tratio of class 1 over class 0: 0.007971597809650503\n",
      "\n",
      "batch n° 44: \n",
      "\tnumber of class 0: 6115887\n",
      "\tnumber of class 1: 47313\n",
      "\tratio of class 1 over class 0: 0.007736081454742378\n",
      "\n",
      "batch n° 45: \n",
      "\tnumber of class 0: 6105737\n",
      "\tnumber of class 1: 57463\n",
      "\tratio of class 1 over class 0: 0.00941131267200012\n",
      "\n",
      "batch n° 46: \n",
      "\tnumber of class 0: 6141122\n",
      "\tnumber of class 1: 22078\n",
      "\tratio of class 1 over class 0: 0.003595108516000822\n",
      "\n",
      "batch n° 47: \n",
      "\tnumber of class 0: 6148867\n",
      "\tnumber of class 1: 14333\n",
      "\tratio of class 1 over class 0: 0.0023309985400562414\n",
      "\n",
      "batch n° 48: \n",
      "\tnumber of class 0: 6111170\n",
      "\tnumber of class 1: 52030\n",
      "\tratio of class 1 over class 0: 0.008513917956790597\n",
      "\n",
      "batch n° 49: \n",
      "\tnumber of class 0: 6118272\n",
      "\tnumber of class 1: 44928\n",
      "\tratio of class 1 over class 0: 0.007343249858783657\n",
      "\n",
      "batch n° 50: \n",
      "\tnumber of class 0: 6105737\n",
      "\tnumber of class 1: 57463\n",
      "\tratio of class 1 over class 0: 0.00941131267200012\n",
      "\n",
      "batch n° 51: \n",
      "\tnumber of class 0: 6105737\n",
      "\tnumber of class 1: 57463\n",
      "\tratio of class 1 over class 0: 0.00941131267200012\n",
      "\n",
      "batch n° 52: \n",
      "\tnumber of class 0: 6133484\n",
      "\tnumber of class 1: 29716\n",
      "\tratio of class 1 over class 0: 0.004844880984445382\n",
      "\n",
      "batch n° 53: \n",
      "\tnumber of class 0: 6105737\n",
      "\tnumber of class 1: 57463\n",
      "\tratio of class 1 over class 0: 0.00941131267200012\n",
      "\n",
      "batch n° 54: \n",
      "\tnumber of class 0: 6111138\n",
      "\tnumber of class 1: 52062\n",
      "\tratio of class 1 over class 0: 0.008519198879161295\n",
      "\n",
      "batch n° 55: \n",
      "\tnumber of class 0: 6105925\n",
      "\tnumber of class 1: 57275\n",
      "\tratio of class 1 over class 0: 0.009380233134209805\n",
      "\n",
      "batch n° 56: \n",
      "\tnumber of class 0: 6105737\n",
      "\tnumber of class 1: 57463\n",
      "\tratio of class 1 over class 0: 0.00941131267200012\n",
      "\n",
      "batch n° 57: \n",
      "\tnumber of class 0: 6109251\n",
      "\tnumber of class 1: 53949\n",
      "\tratio of class 1 over class 0: 0.008830706088193136\n",
      "\n",
      "batch n° 58: \n",
      "\tnumber of class 0: 6129371\n",
      "\tnumber of class 1: 33829\n",
      "\tratio of class 1 over class 0: 0.005519163385606778\n",
      "\n",
      "batch n° 59: \n",
      "\tnumber of class 0: 6105738\n",
      "\tnumber of class 1: 57462\n",
      "\tratio of class 1 over class 0: 0.009411147350246604\n",
      "\n",
      "batch n° 60: \n",
      "\tnumber of class 0: 6105737\n",
      "\tnumber of class 1: 57463\n",
      "\tratio of class 1 over class 0: 0.00941131267200012\n",
      "\n",
      "batch n° 61: \n",
      "\tnumber of class 0: 6106048\n",
      "\tnumber of class 1: 57152\n",
      "\tratio of class 1 over class 0: 0.009359900216965212\n",
      "\n",
      "batch n° 62: \n",
      "\tnumber of class 0: 6152447\n",
      "\tnumber of class 1: 10753\n",
      "\tratio of class 1 over class 0: 0.0017477598750545921\n",
      "\n",
      "batch n° 63: \n",
      "\tnumber of class 0: 6163113\n",
      "\tnumber of class 1: 87\n",
      "\tratio of class 1 over class 0: 1.411624287920731e-05\n",
      "\n",
      "batch n° 64: \n",
      "\tnumber of class 0: 6149706\n",
      "\tnumber of class 1: 13494\n",
      "\tratio of class 1 over class 0: 0.002194251237376226\n",
      "\n",
      "batch n° 65: \n",
      "\tnumber of class 0: 6105737\n",
      "\tnumber of class 1: 57463\n",
      "\tratio of class 1 over class 0: 0.00941131267200012\n",
      "\n",
      "batch n° 66: \n",
      "\tnumber of class 0: 6105737\n",
      "\tnumber of class 1: 57463\n",
      "\tratio of class 1 over class 0: 0.00941131267200012\n",
      "\n",
      "batch n° 67: \n",
      "\tnumber of class 0: 6105737\n",
      "\tnumber of class 1: 57463\n",
      "\tratio of class 1 over class 0: 0.00941131267200012\n",
      "\n",
      "batch n° 68: \n",
      "\tnumber of class 0: 6105737\n",
      "\tnumber of class 1: 57463\n",
      "\tratio of class 1 over class 0: 0.00941131267200012\n",
      "\n",
      "batch n° 69: \n",
      "\tnumber of class 0: 6134104\n",
      "\tnumber of class 1: 29096\n",
      "\tratio of class 1 over class 0: 0.004743317035381206\n",
      "\n",
      "batch n° 70: \n",
      "\tnumber of class 0: 6141419\n",
      "\tnumber of class 1: 21781\n",
      "\tratio of class 1 over class 0: 0.003546574496871163\n",
      "\n",
      "batch n° 71: \n",
      "\tnumber of class 0: 6105740\n",
      "\tnumber of class 1: 57460\n",
      "\tratio of class 1 over class 0: 0.00941081670690203\n",
      "\n",
      "batch n° 72: \n",
      "\tnumber of class 0: 6118544\n",
      "\tnumber of class 1: 44656\n",
      "\tratio of class 1 over class 0: 0.007298468393787803\n",
      "\n",
      "batch n° 73: \n",
      "\tnumber of class 0: 6105737\n",
      "\tnumber of class 1: 57463\n",
      "\tratio of class 1 over class 0: 0.00941131267200012\n",
      "\n",
      "batch n° 74: \n",
      "\tnumber of class 0: 6108635\n",
      "\tnumber of class 1: 54565\n",
      "\tratio of class 1 over class 0: 0.008932437443062158\n",
      "\n",
      "batch n° 75: \n",
      "\tnumber of class 0: 6116882\n",
      "\tnumber of class 1: 46318\n",
      "\tratio of class 1 over class 0: 0.007572158495128727\n",
      "\n",
      "batch n° 76: \n",
      "\tnumber of class 0: 6107782\n",
      "\tnumber of class 1: 55418\n",
      "\tratio of class 1 over class 0: 0.009073342827232538\n",
      "\n",
      "batch n° 77: \n",
      "\tnumber of class 0: 6162932\n",
      "\tnumber of class 1: 268\n",
      "\tratio of class 1 over class 0: 4.348579539738553e-05\n",
      "\n",
      "batch n° 78: \n",
      "\tnumber of class 0: 6130924\n",
      "\tnumber of class 1: 32276\n",
      "\tratio of class 1 over class 0: 0.005264459321302956\n",
      "\n",
      "batch n° 79: \n",
      "\tnumber of class 0: 6123743\n",
      "\tnumber of class 1: 39457\n",
      "\tratio of class 1 over class 0: 0.0064432815028325\n",
      "\n",
      "batch n° 80: \n",
      "\tnumber of class 0: 6105737\n",
      "\tnumber of class 1: 57463\n",
      "\tratio of class 1 over class 0: 0.00941131267200012\n",
      "\n",
      "batch n° 81: \n",
      "\tnumber of class 0: 6105935\n",
      "\tnumber of class 1: 57265\n",
      "\tratio of class 1 over class 0: 0.009378580020914079\n",
      "\n",
      "batch n° 82: \n",
      "\tnumber of class 0: 6136272\n",
      "\tnumber of class 1: 26928\n",
      "\tratio of class 1 over class 0: 0.0043883321990941734\n",
      "\n",
      "batch n° 83: \n",
      "\tnumber of class 0: 6112285\n",
      "\tnumber of class 1: 50915\n",
      "\tratio of class 1 over class 0: 0.008329945347770923\n",
      "\n",
      "batch n° 84: \n",
      "\tnumber of class 0: 6105737\n",
      "\tnumber of class 1: 57463\n",
      "\tratio of class 1 over class 0: 0.00941131267200012\n",
      "\n",
      "batch n° 85: \n",
      "\tnumber of class 0: 6109848\n",
      "\tnumber of class 1: 53352\n",
      "\tratio of class 1 over class 0: 0.008732132125054502\n",
      "\n",
      "batch n° 86: \n",
      "\tnumber of class 0: 6143432\n",
      "\tnumber of class 1: 19768\n",
      "\tratio of class 1 over class 0: 0.0032177453905243843\n",
      "\n",
      "batch n° 87: \n",
      "\tnumber of class 0: 6105846\n",
      "\tnumber of class 1: 57354\n",
      "\tratio of class 1 over class 0: 0.009393292919605244\n",
      "\n",
      "batch n° 88: \n",
      "\tnumber of class 0: 6105737\n",
      "\tnumber of class 1: 57463\n",
      "\tratio of class 1 over class 0: 0.00941131267200012\n",
      "\n",
      "batch n° 89: \n",
      "\tnumber of class 0: 6106179\n",
      "\tnumber of class 1: 57021\n",
      "\tratio of class 1 over class 0: 0.009338245734361865\n",
      "\n",
      "batch n° 90: \n",
      "\tnumber of class 0: 6107999\n",
      "\tnumber of class 1: 55201\n",
      "\tratio of class 1 over class 0: 0.009037493293630206\n",
      "\n",
      "batch n° 91: \n",
      "\tnumber of class 0: 6148770\n",
      "\tnumber of class 1: 14430\n",
      "\tratio of class 1 over class 0: 0.00234681082557975\n",
      "\n",
      "batch n° 92: \n",
      "\tnumber of class 0: 6105737\n",
      "\tnumber of class 1: 57463\n",
      "\tratio of class 1 over class 0: 0.00941131267200012\n",
      "\n",
      "batch n° 93: \n",
      "\tnumber of class 0: 6113000\n",
      "\tnumber of class 1: 50200\n",
      "\tratio of class 1 over class 0: 0.008212007197775232\n",
      "\n",
      "batch n° 94: \n",
      "\tnumber of class 0: 6122848\n",
      "\tnumber of class 1: 40352\n",
      "\tratio of class 1 over class 0: 0.006590397148516508\n",
      "\n",
      "batch n° 95: \n",
      "\tnumber of class 0: 6106177\n",
      "\tnumber of class 1: 57023\n",
      "\tratio of class 1 over class 0: 0.009338576330165339\n",
      "\n",
      "batch n° 96: \n",
      "\tnumber of class 0: 6146282\n",
      "\tnumber of class 1: 16918\n",
      "\tratio of class 1 over class 0: 0.0027525583759417482\n",
      "\n",
      "batch n° 97: \n",
      "\tnumber of class 0: 6139855\n",
      "\tnumber of class 1: 23345\n",
      "\tratio of class 1 over class 0: 0.0038022070553783436\n",
      "\n",
      "batch n° 98: \n",
      "\tnumber of class 0: 6105745\n",
      "\tnumber of class 1: 57455\n",
      "\tratio of class 1 over class 0: 0.009409990099488268\n",
      "\n",
      "batch n° 99: \n",
      "\tnumber of class 0: 6147158\n",
      "\tnumber of class 1: 16042\n",
      "\tratio of class 1 over class 0: 0.002609661245082687\n",
      "\n",
      "batch n° 100: \n",
      "\tnumber of class 0: 6151739\n",
      "\tnumber of class 1: 11461\n",
      "\tratio of class 1 over class 0: 0.0018630504317559637\n",
      "\n",
      "batch n° 101: \n",
      "\tnumber of class 0: 6155129\n",
      "\tnumber of class 1: 8071\n",
      "\tratio of class 1 over class 0: 0.0013112641505970061\n",
      "\n",
      "batch n° 102: \n",
      "\tnumber of class 0: 6110232\n",
      "\tnumber of class 1: 52968\n",
      "\tratio of class 1 over class 0: 0.00866873794644786\n",
      "\n",
      "batch n° 103: \n",
      "\tnumber of class 0: 6119416\n",
      "\tnumber of class 1: 43784\n",
      "\tratio of class 1 over class 0: 0.007154931124146487\n",
      "\n",
      "batch n° 104: \n",
      "\tnumber of class 0: 6105737\n",
      "\tnumber of class 1: 57463\n",
      "\tratio of class 1 over class 0: 0.00941131267200012\n",
      "\n",
      "batch n° 105: \n",
      "\tnumber of class 0: 6108173\n",
      "\tnumber of class 1: 55027\n",
      "\tratio of class 1 over class 0: 0.009008749424746155\n",
      "\n",
      "batch n° 106: \n",
      "\tnumber of class 0: 6105737\n",
      "\tnumber of class 1: 57463\n",
      "\tratio of class 1 over class 0: 0.00941131267200012\n",
      "\n",
      "batch n° 107: \n",
      "\tnumber of class 0: 6106913\n",
      "\tnumber of class 1: 56287\n",
      "\tratio of class 1 over class 0: 0.009216931696914628\n",
      "\n",
      "batch n° 108: \n",
      "\tnumber of class 0: 6105737\n",
      "\tnumber of class 1: 57463\n",
      "\tratio of class 1 over class 0: 0.00941131267200012\n",
      "\n",
      "batch n° 109: \n",
      "\tnumber of class 0: 6107498\n",
      "\tnumber of class 1: 55702\n",
      "\tratio of class 1 over class 0: 0.00912026495956282\n",
      "\n",
      "batch n° 110: \n",
      "\tnumber of class 0: 6109671\n",
      "\tnumber of class 1: 53529\n",
      "\tratio of class 1 over class 0: 0.008761355562353522\n",
      "\n",
      "batch n° 111: \n",
      "\tnumber of class 0: 6105737\n",
      "\tnumber of class 1: 57463\n",
      "\tratio of class 1 over class 0: 0.00941131267200012\n",
      "\n",
      "batch n° 112: \n",
      "\tnumber of class 0: 6108366\n",
      "\tnumber of class 1: 54834\n",
      "\tratio of class 1 over class 0: 0.008976868773089236\n",
      "\n",
      "batch n° 113: \n",
      "\tnumber of class 0: 6132423\n",
      "\tnumber of class 1: 30777\n",
      "\tratio of class 1 over class 0: 0.0050187340305781255\n",
      "\n",
      "batch n° 114: \n",
      "\tnumber of class 0: 6134956\n",
      "\tnumber of class 1: 28244\n",
      "\tratio of class 1 over class 0: 0.004603781999414503\n",
      "\n",
      "batch n° 115: \n",
      "\tnumber of class 0: 6108662\n",
      "\tnumber of class 1: 54538\n",
      "\tratio of class 1 over class 0: 0.008927978008932235\n",
      "\n",
      "batch n° 116: \n",
      "\tnumber of class 0: 6106541\n",
      "\tnumber of class 1: 56659\n",
      "\tratio of class 1 over class 0: 0.009278411460759865\n",
      "\n",
      "batch n° 117: \n",
      "\tnumber of class 0: 6119896\n",
      "\tnumber of class 1: 43304\n",
      "\tratio of class 1 over class 0: 0.007075937238149145\n",
      "\n",
      "batch n° 118: \n",
      "\tnumber of class 0: 6114544\n",
      "\tnumber of class 1: 48656\n",
      "\tratio of class 1 over class 0: 0.007957420864090601\n",
      "\n",
      "batch n° 119: \n",
      "\tnumber of class 0: 6139492\n",
      "\tnumber of class 1: 23708\n",
      "\tratio of class 1 over class 0: 0.0038615572754227873\n",
      "\n",
      "batch n° 120: \n",
      "\tnumber of class 0: 6124281\n",
      "\tnumber of class 1: 38919\n",
      "\tratio of class 1 over class 0: 0.006354868432718878\n",
      "\n",
      "batch n° 121: \n",
      "\tnumber of class 0: 6107904\n",
      "\tnumber of class 1: 55296\n",
      "\tratio of class 1 over class 0: 0.009053187476423991\n",
      "\n",
      "batch n° 122: \n",
      "\tnumber of class 0: 6161202\n",
      "\tnumber of class 1: 1998\n",
      "\tratio of class 1 over class 0: 0.0003242873711980227\n",
      "\n",
      "batch n° 123: \n",
      "\tnumber of class 0: 6105737\n",
      "\tnumber of class 1: 57463\n",
      "\tratio of class 1 over class 0: 0.00941131267200012\n",
      "\n",
      "batch n° 124: \n",
      "\tnumber of class 0: 6108678\n",
      "\tnumber of class 1: 54522\n",
      "\tratio of class 1 over class 0: 0.008925335399901582\n",
      "\n",
      "batch n° 125: \n",
      "\tnumber of class 0: 6105737\n",
      "\tnumber of class 1: 57463\n",
      "\tratio of class 1 over class 0: 0.00941131267200012\n",
      "\n",
      "batch n° 126: \n",
      "\tnumber of class 0: 6105737\n",
      "\tnumber of class 1: 57463\n",
      "\tratio of class 1 over class 0: 0.00941131267200012\n",
      "\n",
      "batch n° 127: \n",
      "\tnumber of class 0: 6105737\n",
      "\tnumber of class 1: 57463\n",
      "\tratio of class 1 over class 0: 0.00941131267200012\n",
      "\n",
      "batch n° 128: \n",
      "\tnumber of class 0: 6131673\n",
      "\tnumber of class 1: 31527\n",
      "\tratio of class 1 over class 0: 0.005141663621005229\n",
      "\n",
      "batch n° 129: \n",
      "\tnumber of class 0: 6108639\n",
      "\tnumber of class 1: 54561\n",
      "\tratio of class 1 over class 0: 0.008931776783666542\n",
      "\n",
      "batch n° 130: \n",
      "\tnumber of class 0: 6106201\n",
      "\tnumber of class 1: 56999\n",
      "\tratio of class 1 over class 0: 0.009334609194816875\n",
      "\n",
      "batch n° 131: \n",
      "\tnumber of class 0: 6152885\n",
      "\tnumber of class 1: 10315\n",
      "\tratio of class 1 over class 0: 0.0016764493404313587\n",
      "\n",
      "batch n° 132: \n",
      "\tnumber of class 0: 6110062\n",
      "\tnumber of class 1: 53138\n",
      "\tratio of class 1 over class 0: 0.008696802094643229\n",
      "\n",
      "batch n° 133: \n",
      "\tnumber of class 0: 6105737\n",
      "\tnumber of class 1: 57463\n",
      "\tratio of class 1 over class 0: 0.00941131267200012\n",
      "\n",
      "batch n° 134: \n",
      "\tnumber of class 0: 6163200\n",
      "\tnumber of class 1: 0\n",
      "\tratio of class 1 over class 0: 0.0\n",
      "\n",
      "batch n° 135: \n",
      "\tnumber of class 0: 6139832\n",
      "\tnumber of class 1: 23368\n",
      "\tratio of class 1 over class 0: 0.003805967329399241\n",
      "\n",
      "batch n° 136: \n",
      "\tnumber of class 0: 6121221\n",
      "\tnumber of class 1: 41979\n",
      "\tratio of class 1 over class 0: 0.00685794549812856\n",
      "\n",
      "batch n° 137: \n",
      "\tnumber of class 0: 6105810\n",
      "\tnumber of class 1: 57390\n",
      "\tratio of class 1 over class 0: 0.0093992443263056\n",
      "\n",
      "batch n° 138: \n",
      "\tnumber of class 0: 6106058\n",
      "\tnumber of class 1: 57142\n",
      "\tratio of class 1 over class 0: 0.009358247170269264\n",
      "\n",
      "batch n° 139: \n",
      "\tnumber of class 0: 6154453\n",
      "\tnumber of class 1: 8747\n",
      "\tratio of class 1 over class 0: 0.0014212473472459697\n",
      "\n",
      "batch n° 140: \n",
      "\tnumber of class 0: 6145394\n",
      "\tnumber of class 1: 17806\n",
      "\tratio of class 1 over class 0: 0.002897454581431231\n",
      "\n",
      "batch n° 141: \n",
      "\tnumber of class 0: 6156028\n",
      "\tnumber of class 1: 7172\n",
      "\tratio of class 1 over class 0: 0.0011650369361542864\n",
      "\n",
      "batch n° 142: \n",
      "\tnumber of class 0: 6141224\n",
      "\tnumber of class 1: 21976\n",
      "\tratio of class 1 over class 0: 0.003578439737746091\n",
      "\n",
      "batch n° 143: \n",
      "\tnumber of class 0: 6114164\n",
      "\tnumber of class 1: 49036\n",
      "\tratio of class 1 over class 0: 0.008020066193841055\n",
      "\n",
      "batch n° 144: \n",
      "\tnumber of class 0: 6105737\n",
      "\tnumber of class 1: 57463\n",
      "\tratio of class 1 over class 0: 0.00941131267200012\n",
      "\n",
      "batch n° 145: \n",
      "\tnumber of class 0: 6105737\n",
      "\tnumber of class 1: 57463\n",
      "\tratio of class 1 over class 0: 0.00941131267200012\n",
      "\n",
      "batch n° 146: \n",
      "\tnumber of class 0: 6139208\n",
      "\tnumber of class 1: 23992\n",
      "\tratio of class 1 over class 0: 0.003907995949966185\n",
      "\n",
      "batch n° 147: \n",
      "\tnumber of class 0: 6105737\n",
      "\tnumber of class 1: 57463\n",
      "\tratio of class 1 over class 0: 0.00941131267200012\n",
      "\n",
      "batch n° 148: \n",
      "\tnumber of class 0: 6138309\n",
      "\tnumber of class 1: 24891\n",
      "\tratio of class 1 over class 0: 0.00405502557789124\n",
      "\n",
      "batch n° 149: \n",
      "\tnumber of class 0: 6106335\n",
      "\tnumber of class 1: 56865\n",
      "\tratio of class 1 over class 0: 0.009312459928909894\n",
      "\n",
      "batch n° 150: \n",
      "\tnumber of class 0: 6107618\n",
      "\tnumber of class 1: 55582\n",
      "\tratio of class 1 over class 0: 0.009100438174096677\n",
      "\n",
      "batch n° 151: \n",
      "\tnumber of class 0: 6105737\n",
      "\tnumber of class 1: 57463\n",
      "\tratio of class 1 over class 0: 0.00941131267200012\n",
      "\n",
      "batch n° 152: \n",
      "\tnumber of class 0: 6151271\n",
      "\tnumber of class 1: 11929\n",
      "\tratio of class 1 over class 0: 0.0019392740134518542\n",
      "\n",
      "batch n° 153: \n",
      "\tnumber of class 0: 6113426\n",
      "\tnumber of class 1: 49774\n",
      "\tratio of class 1 over class 0: 0.008141752267877292\n",
      "\n",
      "batch n° 154: \n",
      "\tnumber of class 0: 6147829\n",
      "\tnumber of class 1: 15371\n",
      "\tratio of class 1 over class 0: 0.0025002321957881394\n",
      "\n",
      "batch n° 155: \n",
      "\tnumber of class 0: 6155763\n",
      "\tnumber of class 1: 7437\n",
      "\tratio of class 1 over class 0: 0.00120813618068142\n",
      "\n",
      "batch n° 156: \n",
      "\tnumber of class 0: 6105737\n",
      "\tnumber of class 1: 57463\n",
      "\tratio of class 1 over class 0: 0.00941131267200012\n",
      "\n",
      "batch n° 157: \n",
      "\tnumber of class 0: 6105737\n",
      "\tnumber of class 1: 57463\n",
      "\tratio of class 1 over class 0: 0.00941131267200012\n",
      "\n",
      "batch n° 158: \n",
      "\tnumber of class 0: 6116778\n",
      "\tnumber of class 1: 46422\n",
      "\tratio of class 1 over class 0: 0.007589289655436244\n",
      "\n",
      "batch n° 159: \n",
      "\tnumber of class 0: 6149282\n",
      "\tnumber of class 1: 13918\n",
      "\tratio of class 1 over class 0: 0.0022633536728353\n",
      "\n",
      "batch n° 160: \n",
      "\tnumber of class 0: 6105737\n",
      "\tnumber of class 1: 57463\n",
      "\tratio of class 1 over class 0: 0.00941131267200012\n",
      "\n",
      "batch n° 161: \n",
      "\tnumber of class 0: 6109332\n",
      "\tnumber of class 1: 53868\n",
      "\tratio of class 1 over class 0: 0.008817330601774465\n",
      "\n",
      "batch n° 162: \n",
      "\tnumber of class 0: 6124906\n",
      "\tnumber of class 1: 38294\n",
      "\tratio of class 1 over class 0: 0.006252177584439664\n",
      "\n",
      "batch n° 163: \n",
      "\tnumber of class 0: 6130269\n",
      "\tnumber of class 1: 32931\n",
      "\tratio of class 1 over class 0: 0.005371868673299655\n",
      "\n",
      "batch n° 164: \n",
      "\tnumber of class 0: 6163114\n",
      "\tnumber of class 1: 86\n",
      "\tratio of class 1 over class 0: 1.3953984949815954e-05\n",
      "\n",
      "batch n° 165: \n",
      "\tnumber of class 0: 6162577\n",
      "\tnumber of class 1: 623\n",
      "\tratio of class 1 over class 0: 0.00010109407152235177\n",
      "\n",
      "batch n° 166: \n",
      "\tnumber of class 0: 6105737\n",
      "\tnumber of class 1: 57463\n",
      "\tratio of class 1 over class 0: 0.00941131267200012\n",
      "\n",
      "batch n° 167: \n",
      "\tnumber of class 0: 6161091\n",
      "\tnumber of class 1: 2109\n",
      "\tratio of class 1 over class 0: 0.00034230950330063295\n",
      "\n",
      "batch n° 168: \n",
      "\tnumber of class 0: 6106037\n",
      "\tnumber of class 1: 57163\n",
      "\tratio of class 1 over class 0: 0.009361718574584465\n",
      "\n",
      "batch n° 169: \n",
      "\tnumber of class 0: 6107805\n",
      "\tnumber of class 1: 55395\n",
      "\tratio of class 1 over class 0: 0.009069542986392001\n",
      "\n",
      "batch n° 170: \n",
      "\tnumber of class 0: 6154643\n",
      "\tnumber of class 1: 8557\n",
      "\tratio of class 1 over class 0: 0.0013903324693243784\n",
      "\n",
      "batch n° 171: \n",
      "\tnumber of class 0: 6106320\n",
      "\tnumber of class 1: 56880\n",
      "\tratio of class 1 over class 0: 0.00931493927602877\n",
      "\n",
      "batch n° 172: \n",
      "\tnumber of class 0: 6113845\n",
      "\tnumber of class 1: 49355\n",
      "\tratio of class 1 over class 0: 0.008072661312152991\n",
      "\n",
      "batch n° 173: \n",
      "\tnumber of class 0: 6147439\n",
      "\tnumber of class 1: 15761\n",
      "\tratio of class 1 over class 0: 0.0025638318655947625\n",
      "\n",
      "batch n° 174: \n",
      "\tnumber of class 0: 6126702\n",
      "\tnumber of class 1: 36498\n",
      "\tratio of class 1 over class 0: 0.0059572017702183\n",
      "\n",
      "batch n° 175: \n",
      "\tnumber of class 0: 6105737\n",
      "\tnumber of class 1: 57463\n",
      "\tratio of class 1 over class 0: 0.00941131267200012\n",
      "\n",
      "batch n° 176: \n",
      "\tnumber of class 0: 6105737\n",
      "\tnumber of class 1: 57463\n",
      "\tratio of class 1 over class 0: 0.00941131267200012\n",
      "\n",
      "batch n° 177: \n",
      "\tnumber of class 0: 6107278\n",
      "\tnumber of class 1: 55922\n",
      "\tratio of class 1 over class 0: 0.00915661608985214\n",
      "\n",
      "batch n° 178: \n",
      "\tnumber of class 0: 6153441\n",
      "\tnumber of class 1: 9759\n",
      "\tratio of class 1 over class 0: 0.0015859419144507926\n",
      "\n",
      "batch n° 179: \n",
      "\tnumber of class 0: 6119731\n",
      "\tnumber of class 1: 43469\n",
      "\tratio of class 1 over class 0: 0.00710308998875931\n",
      "\n",
      "batch n° 180: \n",
      "\tnumber of class 0: 6107874\n",
      "\tnumber of class 1: 55326\n",
      "\tratio of class 1 over class 0: 0.00905814363557598\n",
      "\n",
      "batch n° 181: \n",
      "\tnumber of class 0: 6129688\n",
      "\tnumber of class 1: 33512\n",
      "\tratio of class 1 over class 0: 0.0054671624395890945\n",
      "\n",
      "batch n° 182: \n",
      "\tnumber of class 0: 6106955\n",
      "\tnumber of class 1: 56245\n",
      "\tratio of class 1 over class 0: 0.009209990903813766\n",
      "\n",
      "batch n° 183: \n",
      "\tnumber of class 0: 6122046\n",
      "\tnumber of class 1: 41154\n",
      "\tratio of class 1 over class 0: 0.006722262459315072\n",
      "\n",
      "batch n° 184: \n",
      "\tnumber of class 0: 6105737\n",
      "\tnumber of class 1: 57463\n",
      "\tratio of class 1 over class 0: 0.00941131267200012\n",
      "\n",
      "batch n° 185: \n",
      "\tnumber of class 0: 6113406\n",
      "\tnumber of class 1: 49794\n",
      "\tratio of class 1 over class 0: 0.008145050402345273\n",
      "\n",
      "batch n° 186: \n",
      "\tnumber of class 0: 6136623\n",
      "\tnumber of class 1: 26577\n",
      "\tratio of class 1 over class 0: 0.004330883614652554\n",
      "\n",
      "batch n° 187: \n",
      "\tnumber of class 0: 6158704\n",
      "\tnumber of class 1: 4496\n",
      "\tratio of class 1 over class 0: 0.0007300237192760036\n",
      "\n",
      "batch n° 188: \n",
      "\tnumber of class 0: 6105737\n",
      "\tnumber of class 1: 57463\n",
      "\tratio of class 1 over class 0: 0.00941131267200012\n",
      "\n",
      "batch n° 189: \n",
      "\tnumber of class 0: 6105818\n",
      "\tnumber of class 1: 57382\n",
      "\tratio of class 1 over class 0: 0.009397921785418432\n",
      "\n",
      "batch n° 190: \n",
      "\tnumber of class 0: 6117844\n",
      "\tnumber of class 1: 45356\n",
      "\tratio of class 1 over class 0: 0.007413722873613645\n",
      "\n",
      "batch n° 191: \n",
      "\tnumber of class 0: 6105844\n",
      "\tnumber of class 1: 57356\n",
      "\tratio of class 1 over class 0: 0.009393623551469707\n",
      "\n",
      "batch n° 192: \n",
      "\tnumber of class 0: 6116575\n",
      "\tnumber of class 1: 46625\n",
      "\tratio of class 1 over class 0: 0.00762273004091342\n",
      "\n",
      "batch n° 193: \n",
      "\tnumber of class 0: 6106477\n",
      "\tnumber of class 1: 56723\n",
      "\tratio of class 1 over class 0: 0.009288989379637392\n",
      "\n",
      "batch n° 194: \n",
      "\tnumber of class 0: 6105737\n",
      "\tnumber of class 1: 57463\n",
      "\tratio of class 1 over class 0: 0.00941131267200012\n",
      "\n",
      "batch n° 195: \n",
      "\tnumber of class 0: 6137358\n",
      "\tnumber of class 1: 25842\n",
      "\tratio of class 1 over class 0: 0.004210606583484294\n",
      "\n",
      "batch n° 196: \n",
      "\tnumber of class 0: 6133367\n",
      "\tnumber of class 1: 29833\n",
      "\tratio of class 1 over class 0: 0.004864049387554992\n",
      "\n",
      "batch n° 197: \n",
      "\tnumber of class 0: 6105737\n",
      "\tnumber of class 1: 57463\n",
      "\tratio of class 1 over class 0: 0.00941131267200012\n",
      "\n",
      "batch n° 198: \n",
      "\tnumber of class 0: 6107972\n",
      "\tnumber of class 1: 55228\n",
      "\tratio of class 1 over class 0: 0.00904195369592395\n",
      "\n",
      "batch n° 199: \n",
      "\tnumber of class 0: 6105737\n",
      "\tnumber of class 1: 57463\n",
      "\tratio of class 1 over class 0: 0.00941131267200012\n",
      "\n",
      "batch n° 200: \n",
      "\tnumber of class 0: 6107183\n",
      "\tnumber of class 1: 56017\n",
      "\tratio of class 1 over class 0: 0.0091723139784742\n",
      "\n",
      "batch n° 201: \n",
      "\tnumber of class 0: 6107405\n",
      "\tnumber of class 1: 55795\n",
      "\tratio of class 1 over class 0: 0.00913563125419061\n",
      "\n",
      "batch n° 202: \n",
      "\tnumber of class 0: 6146622\n",
      "\tnumber of class 1: 16578\n",
      "\tratio of class 1 over class 0: 0.0026970911827667293\n",
      "\n",
      "batch n° 203: \n",
      "\tnumber of class 0: 6146892\n",
      "\tnumber of class 1: 16308\n",
      "\tratio of class 1 over class 0: 0.0026530480769793906\n",
      "\n",
      "batch n° 204: \n",
      "\tnumber of class 0: 6113701\n",
      "\tnumber of class 1: 49499\n",
      "\tratio of class 1 over class 0: 0.008096405107151953\n",
      "\n",
      "batch n° 205: \n",
      "\tnumber of class 0: 6118859\n",
      "\tnumber of class 1: 44341\n",
      "\tratio of class 1 over class 0: 0.007246612481183175\n",
      "\n",
      "batch n° 206: \n",
      "\tnumber of class 0: 6105737\n",
      "\tnumber of class 1: 57463\n",
      "\tratio of class 1 over class 0: 0.00941131267200012\n",
      "\n",
      "batch n° 207: \n",
      "\tnumber of class 0: 6105737\n",
      "\tnumber of class 1: 57463\n",
      "\tratio of class 1 over class 0: 0.00941131267200012\n",
      "\n",
      "batch n° 208: \n",
      "\tnumber of class 0: 6133217\n",
      "\tnumber of class 1: 29983\n",
      "\tratio of class 1 over class 0: 0.004888625333165287\n",
      "\n",
      "batch n° 209: \n",
      "\tnumber of class 0: 6105831\n",
      "\tnumber of class 1: 57369\n",
      "\tratio of class 1 over class 0: 0.009395772663868358\n",
      "\n",
      "batch n° 210: \n",
      "\tnumber of class 0: 6155550\n",
      "\tnumber of class 1: 7650\n",
      "\tratio of class 1 over class 0: 0.001242780905036918\n",
      "\n",
      "batch n° 211: \n",
      "\tnumber of class 0: 6106583\n",
      "\tnumber of class 1: 56617\n",
      "\tratio of class 1 over class 0: 0.00927146982199374\n",
      "\n",
      "batch n° 212: \n",
      "\tnumber of class 0: 6129230\n",
      "\tnumber of class 1: 33970\n",
      "\tratio of class 1 over class 0: 0.005542294872275963\n",
      "\n",
      "batch n° 213: \n",
      "\tnumber of class 0: 6116236\n",
      "\tnumber of class 1: 46964\n",
      "\tratio of class 1 over class 0: 0.007678578786037687\n",
      "\n",
      "batch n° 214: \n",
      "\tnumber of class 0: 6117637\n",
      "\tnumber of class 1: 45563\n",
      "\tratio of class 1 over class 0: 0.007447810322841973\n",
      "\n",
      "batch n° 215: \n",
      "\tnumber of class 0: 6105740\n",
      "\tnumber of class 1: 57460\n",
      "\tratio of class 1 over class 0: 0.00941081670690203\n",
      "\n",
      "batch n° 216: \n",
      "\tnumber of class 0: 6162059\n",
      "\tnumber of class 1: 1141\n",
      "\tratio of class 1 over class 0: 0.00018516538059762166\n",
      "\n",
      "batch n° 217: \n",
      "\tnumber of class 0: 6107269\n",
      "\tnumber of class 1: 55931\n",
      "\tratio of class 1 over class 0: 0.009158103237306233\n",
      "\n",
      "batch n° 218: \n",
      "\tnumber of class 0: 6105959\n",
      "\tnumber of class 1: 57241\n",
      "\tratio of class 1 over class 0: 0.00937461257109653\n",
      "\n",
      "batch n° 219: \n",
      "\tnumber of class 0: 6105737\n",
      "\tnumber of class 1: 57463\n",
      "\tratio of class 1 over class 0: 0.00941131267200012\n",
      "\n",
      "batch n° 220: \n",
      "\tnumber of class 0: 6128127\n",
      "\tnumber of class 1: 35073\n",
      "\tratio of class 1 over class 0: 0.005723282170881902\n",
      "\n",
      "batch n° 221: \n",
      "\tnumber of class 0: 6132616\n",
      "\tnumber of class 1: 30584\n",
      "\tratio of class 1 over class 0: 0.004987105013586372\n",
      "\n",
      "batch n° 222: \n",
      "\tnumber of class 0: 6105737\n",
      "\tnumber of class 1: 57463\n",
      "\tratio of class 1 over class 0: 0.00941131267200012\n",
      "\n",
      "batch n° 223: \n",
      "\tnumber of class 0: 6126001\n",
      "\tnumber of class 1: 37199\n",
      "\tratio of class 1 over class 0: 0.0060723137328903476\n",
      "\n",
      "batch n° 224: \n",
      "\tnumber of class 0: 6105737\n",
      "\tnumber of class 1: 57463\n",
      "\tratio of class 1 over class 0: 0.00941131267200012\n",
      "\n",
      "batch n° 225: \n",
      "\tnumber of class 0: 6105872\n",
      "\tnumber of class 1: 57328\n",
      "\tratio of class 1 over class 0: 0.009388994725077761\n",
      "\n",
      "batch n° 226: \n",
      "\tnumber of class 0: 6107866\n",
      "\tnumber of class 1: 55334\n",
      "\tratio of class 1 over class 0: 0.009059465286239089\n",
      "\n",
      "batch n° 227: \n",
      "\tnumber of class 0: 6128480\n",
      "\tnumber of class 1: 34720\n",
      "\tratio of class 1 over class 0: 0.005665352583348562\n",
      "\n",
      "batch n° 228: \n",
      "\tnumber of class 0: 6105737\n",
      "\tnumber of class 1: 57463\n",
      "\tratio of class 1 over class 0: 0.00941131267200012\n",
      "\n",
      "batch n° 229: \n",
      "\tnumber of class 0: 6122170\n",
      "\tnumber of class 1: 41030\n",
      "\tratio of class 1 over class 0: 0.0067018720486363495\n",
      "\n",
      "batch n° 230: \n",
      "\tnumber of class 0: 6105819\n",
      "\tnumber of class 1: 57381\n",
      "\tratio of class 1 over class 0: 0.009397756468051214\n",
      "\n",
      "batch n° 231: \n",
      "\tnumber of class 0: 6121226\n",
      "\tnumber of class 1: 41974\n",
      "\tratio of class 1 over class 0: 0.006857123066522948\n",
      "\n",
      "batch n° 232: \n",
      "\tnumber of class 0: 6105739\n",
      "\tnumber of class 1: 57461\n",
      "\tratio of class 1 over class 0: 0.009410982028547241\n",
      "\n",
      "batch n° 233: \n",
      "\tnumber of class 0: 6138649\n",
      "\tnumber of class 1: 24551\n",
      "\tratio of class 1 over class 0: 0.003999414203353213\n",
      "\n",
      "batch n° 234: \n",
      "\tnumber of class 0: 6107433\n",
      "\tnumber of class 1: 55767\n",
      "\tratio of class 1 over class 0: 0.009131004793666995\n",
      "\n",
      "batch n° 235: \n",
      "\tnumber of class 0: 6106431\n",
      "\tnumber of class 1: 56769\n",
      "\tratio of class 1 over class 0: 0.009296592395787326\n",
      "\n",
      "batch n° 236: \n",
      "\tnumber of class 0: 6105737\n",
      "\tnumber of class 1: 57463\n",
      "\tratio of class 1 over class 0: 0.00941131267200012\n",
      "\n",
      "batch n° 237: \n",
      "\tnumber of class 0: 6105737\n",
      "\tnumber of class 1: 57463\n",
      "\tratio of class 1 over class 0: 0.00941131267200012\n",
      "\n",
      "batch n° 238: \n",
      "\tnumber of class 0: 6125263\n",
      "\tnumber of class 1: 37937\n",
      "\tratio of class 1 over class 0: 0.006193529975774102\n",
      "\n",
      "batch n° 239: \n",
      "\tnumber of class 0: 6105737\n",
      "\tnumber of class 1: 57463\n",
      "\tratio of class 1 over class 0: 0.00941131267200012\n",
      "\n",
      "batch n° 240: \n",
      "\tnumber of class 0: 6147177\n",
      "\tnumber of class 1: 16023\n",
      "\tratio of class 1 over class 0: 0.0026065623293423956\n",
      "\n",
      "batch n° 241: \n",
      "\tnumber of class 0: 6160825\n",
      "\tnumber of class 1: 2375\n",
      "\tratio of class 1 over class 0: 0.00038550031854500005\n",
      "\n",
      "batch n° 242: \n",
      "\tnumber of class 0: 6105737\n",
      "\tnumber of class 1: 57463\n",
      "\tratio of class 1 over class 0: 0.00941131267200012\n",
      "\n",
      "batch n° 243: \n",
      "\tnumber of class 0: 6145975\n",
      "\tnumber of class 1: 17225\n",
      "\tratio of class 1 over class 0: 0.0028026472610122887\n",
      "\n",
      "batch n° 244: \n",
      "\tnumber of class 0: 6106762\n",
      "\tnumber of class 1: 56438\n",
      "\tratio of class 1 over class 0: 0.009241886289329763\n",
      "\n",
      "batch n° 245: \n",
      "\tnumber of class 0: 6111284\n",
      "\tnumber of class 1: 51916\n",
      "\tratio of class 1 over class 0: 0.008495105120298779\n",
      "\n",
      "batch n° 246: \n",
      "\tnumber of class 0: 6120976\n",
      "\tnumber of class 1: 42224\n",
      "\tratio of class 1 over class 0: 0.006898246292748085\n",
      "\n",
      "batch n° 247: \n",
      "\tnumber of class 0: 6107627\n",
      "\tnumber of class 1: 55573\n",
      "\tratio of class 1 over class 0: 0.009098951196594028\n",
      "\n",
      "batch n° 248: \n",
      "\tnumber of class 0: 6105741\n",
      "\tnumber of class 1: 57459\n",
      "\tratio of class 1 over class 0: 0.009410651385310971\n",
      "\n",
      "batch n° 249: \n",
      "\tnumber of class 0: 6131458\n",
      "\tnumber of class 1: 31742\n",
      "\tratio of class 1 over class 0: 0.00517690898314887\n",
      "\n",
      "batch n° 250: \n",
      "\tnumber of class 0: 6122844\n",
      "\tnumber of class 1: 40356\n",
      "\tratio of class 1 over class 0: 0.0065910547451478434\n",
      "\n",
      "batch n° 251: \n",
      "\tnumber of class 0: 6140007\n",
      "\tnumber of class 1: 23193\n",
      "\tratio of class 1 over class 0: 0.0037773572570845605\n",
      "\n",
      "batch n° 252: \n",
      "\tnumber of class 0: 6157424\n",
      "\tnumber of class 1: 5776\n",
      "\tratio of class 1 over class 0: 0.0009380546150468118\n",
      "\n",
      "batch n° 253: \n",
      "\tnumber of class 0: 6159075\n",
      "\tnumber of class 1: 4125\n",
      "\tratio of class 1 over class 0: 0.0006697434273815467\n",
      "\n",
      "batch n° 254: \n",
      "\tnumber of class 0: 6105929\n",
      "\tnumber of class 1: 57271\n",
      "\tratio of class 1 over class 0: 0.00937957188824174\n",
      "\n",
      "batch n° 255: \n",
      "\tnumber of class 0: 6109637\n",
      "\tnumber of class 1: 53563\n",
      "\tratio of class 1 over class 0: 0.008766969297848629\n"
     ]
    }
   ],
   "source": [
    "ratio_list = []\n",
    "\n",
    "for i,train_batch in enumerate(dm.train_dataloader()):\n",
    "    ssf_input_batch, ecs_classif_truth_batch = train_batch\n",
    "    print(f\"\\nbatch n° {i}: \")\n",
    "    print(f\"\\tnumber of class 0: {(ecs_classif_truth_batch == 0).sum().item()}\")\n",
    "    print(f\"\\tnumber of class 1: {(ecs_classif_truth_batch == 1).sum().item()}\")\n",
    "    print(f\"\\tratio of class 1 over class 0: {(ecs_classif_truth_batch == 1).sum().item()/(ecs_classif_truth_batch == 0).sum().item()}\")\n",
    "    ratio_list.append((ecs_classif_truth_batch == 1).sum().item()/(ecs_classif_truth_batch == 0).sum().item())\n",
    "    "
   ]
  },
  {
   "cell_type": "code",
   "execution_count": 45,
   "metadata": {},
   "outputs": [
    {
     "data": {
      "text/plain": [
       "Text(0.5, 1.0, 'Ratio of class 1 (ECS existence) over class 0 (no ECS)')"
      ]
     },
     "execution_count": 45,
     "metadata": {},
     "output_type": "execute_result"
    },
    {
     "data": {
      "image/png": "[encoded data removed]",
      "text/plain": [
       "<Figure size 640x480 with 1 Axes>"
      ]
     },
     "metadata": {},
     "output_type": "display_data"
    }
   ],
   "source": [
    "plt.bar(np.arange(len(ratio_list)),np.sort(ratio_list))\n",
    "plt.ylabel(\"n° of class 1/ n) of class 0\")\n",
    "plt.xlabel(\"train batch\")\n",
    "plt.title(\"Ratio of class 1 (ECS existence) over class 0 (no ECS)\")"
   ]
  },
  {
   "cell_type": "code",
   "execution_count": 46,
   "metadata": {},
   "outputs": [
    {
     "data": {
      "text/plain": [
       "Text(0, 0.5, 'ECS class')"
      ]
     },
     "execution_count": 46,
     "metadata": {},
     "output_type": "execute_result"
    },
    {
     "data": {
      "image/png": "[encoded data removed]",
      "text/plain": [
       "<Figure size 640x480 with 1 Axes>"
      ]
     },
     "metadata": {},
     "output_type": "display_data"
    }
   ],
   "source": [
    "plt.plot(np.sort(ecs_classif_truth.flatten().cpu().detach().numpy()))\n",
    "plt.xlabel(\"profiles\")\n",
    "plt.ylabel(\"ECS class\")"
   ]
  },
  {
   "cell_type": "code",
   "execution_count": 47,
   "metadata": {},
   "outputs": [
    {
     "data": {
      "text/plain": [
       "145.20614244398584"
      ]
     },
     "execution_count": 47,
     "metadata": {},
     "output_type": "execute_result"
    },
    {
     "ename": "",
     "evalue": "",
     "output_type": "error",
     "traceback": [
      "\u001b[1;31mThe Kernel crashed while executing code in the current cell or a previous cell. \n",
      "\u001b[1;31mPlease review the code in the cell(s) to identify a possible cause of the failure. \n",
      "\u001b[1;31mClick <a href='https://aka.ms/vscodeJupyterKernelCrash'>here</a> for more info. \n",
      "\u001b[1;31mView Jupyter <a href='command:jupyter.viewOutput'>log</a> for further details."
     ]
    }
   ],
   "source": [
    "1/0.0068867610086519315"
   ]
  },
  {
   "cell_type": "code",
   "execution_count": null,
   "metadata": {},
   "outputs": [],
   "source": []
  },
  {
   "cell_type": "markdown",
   "metadata": {},
   "source": [
    "# ECS through conv1D"
   ]
  },
  {
   "cell_type": "code",
   "execution_count": 2,
   "metadata": {},
   "outputs": [],
   "source": [
    "ssp_path = \"/DATASET/eNATL/eNATL60_BLB002_sound_speed_regrid_0_1000m.nc\"\n",
    "ecs_path = \"/DATASET/envs/o23gauvr/tmp/eNATL60_BLB002_ECS_at_0_regrid_0_1000m.nc\""
   ]
  },
  {
   "cell_type": "code",
   "execution_count": 3,
   "metadata": {},
   "outputs": [],
   "source": [
    "ssf_arr = xr.open_dataarray(ssp_path).data\n",
    "ecs_arr = xr.open_dataarray(ecs_path).data\n"
   ]
  },
  {
   "cell_type": "code",
   "execution_count": 24,
   "metadata": {},
   "outputs": [
    {
     "data": {
      "text/plain": [
       "(array([  0,   0,   0, ..., 364, 364, 364]),\n",
       " array([  0,   0,   0, ..., 229, 229, 235]),\n",
       " array([  0,   1,   2, ..., 188, 189, 231]))"
      ]
     },
     "execution_count": 24,
     "metadata": {},
     "output_type": "execute_result"
    }
   ],
   "source": [
    "ecs_arr.nonzero()"
   ]
  },
  {
   "cell_type": "code",
   "execution_count": 42,
   "metadata": {},
   "outputs": [
    {
     "data": {
      "text/plain": [
       "141.3820115025511"
      ]
     },
     "execution_count": 42,
     "metadata": {},
     "output_type": "execute_result"
    }
   ],
   "source": [
    "ecs_arr[364,235,231]"
   ]
  },
  {
   "cell_type": "code",
   "execution_count": 43,
   "metadata": {},
   "outputs": [
    {
     "data": {
      "text/plain": [
       "array([1491.00479648, 1491.09163658, 1491.51755142, 1491.93500344,\n",
       "       1492.37671277, 1492.82795051, 1493.23370797, 1493.4730421 ,\n",
       "       1493.74689009, 1494.02766149, 1494.30661804, 1494.58562211,\n",
       "       1494.86960144, 1495.16823323, 1495.49535351, 1495.86712814,\n",
       "       1496.27902948, 1496.69613516, 1497.08055671, 1497.43840946,\n",
       "       1497.78070178, 1498.12267404, 1498.48147989, 1498.86919889,\n",
       "       1499.29493853, 1499.75915294, 1500.24308701, 1500.72612501,\n",
       "       1501.18706087, 1501.61472727, 1502.00708215, 1502.36850669,\n",
       "       1502.70972687, 1503.03135549, 1503.31852277, 1503.53254644,\n",
       "       1503.61459263, 1503.56103144, 1503.45085011, 1503.31053534,\n",
       "       1503.14518869, 1502.97898735, 1502.82108444, 1502.66411627,\n",
       "       1502.48634719, 1502.26061249, 1501.9695366 , 1501.60877309,\n",
       "       1501.17718292, 1500.6677739 , 1500.08080681, 1499.41907638,\n",
       "       1498.68966866, 1497.90477865, 1497.07858111, 1496.2277727 ,\n",
       "       1495.37356693, 1494.53181471, 1493.70570887, 1492.89123634,\n",
       "       1492.09006211, 1491.31336125, 1490.56192855, 1489.83025455,\n",
       "       1489.1174407 , 1488.4295325 , 1487.75632748, 1487.07218121,\n",
       "       1486.36850897, 1485.65705255, 1484.95930147, 1484.29406436,\n",
       "       1483.66905037, 1483.09223731, 1482.56874653, 1482.10182339,\n",
       "       1481.69374033, 1481.33842391, 1481.03297751, 1480.7830899 ,\n",
       "       1480.59490258, 1480.46973387, 1480.40346012, 1480.38966927,\n",
       "       1480.41955652, 1480.48580366, 1480.58155015, 1480.6997753 ,\n",
       "       1480.83343282, 1480.97649083, 1481.1247361 , 1481.27498724,\n",
       "       1481.42578464, 1481.57724748, 1481.72997516, 1481.88566103,\n",
       "       1482.04588056, 1482.21103302, 1482.38076114, 1482.55451606,\n",
       "       1482.7321514 , 1482.91405362, 1483.10090224, 1483.29322537,\n",
       "       1483.49135169, 1483.69560339, 1483.90588117])"
      ]
     },
     "execution_count": 43,
     "metadata": {},
     "output_type": "execute_result"
    }
   ],
   "source": [
    "ssf_arr[364,:,235,231]"
   ]
  },
  {
   "cell_type": "code",
   "execution_count": 44,
   "metadata": {},
   "outputs": [
    {
     "data": {
      "image/png": "[encoded data removed]",
      "text/plain": [
       "<Figure size 640x480 with 1 Axes>"
      ]
     },
     "metadata": {},
     "output_type": "display_data"
    }
   ],
   "source": [
    "plt.plot(ssf_arr[364,:,235,231],np.arange(107))\n",
    "plt.gca().invert_yaxis()"
   ]
  },
  {
   "cell_type": "code",
   "execution_count": 45,
   "metadata": {},
   "outputs": [],
   "source": [
    "import torch.nn.functional as F"
   ]
  },
  {
   "cell_type": "code",
   "execution_count": 60,
   "metadata": {},
   "outputs": [
    {
     "data": {
      "text/plain": [
       "torch.Size([1, 1, 107])"
      ]
     },
     "execution_count": 60,
     "metadata": {},
     "output_type": "execute_result"
    }
   ],
   "source": [
    "input_sequence = torch.tensor(ssf_arr[364,:,235,231]).unsqueeze(0).unsqueeze(0) \n",
    "input_sequence.shape"
   ]
  },
  {
   "cell_type": "code",
   "execution_count": 61,
   "metadata": {},
   "outputs": [
    {
     "data": {
      "text/plain": [
       "torch.Size([1, 1, 3])"
      ]
     },
     "execution_count": 61,
     "metadata": {},
     "output_type": "execute_result"
    }
   ],
   "source": [
    "kernel = torch.tensor([-1.0, 0.0, 1.0]).double().unsqueeze(0).unsqueeze(0)\n",
    "kernel.shape"
   ]
  },
  {
   "cell_type": "code",
   "execution_count": 62,
   "metadata": {},
   "outputs": [
    {
     "data": {
      "text/plain": [
       "torch.Size([1, 1, 107])"
      ]
     },
     "execution_count": 62,
     "metadata": {},
     "output_type": "execute_result"
    }
   ],
   "source": [
    "derivative = F.conv1d(input_sequence, kernel, padding=1)\n",
    "derivative.shape"
   ]
  },
  {
   "cell_type": "code",
   "execution_count": 68,
   "metadata": {},
   "outputs": [
    {
     "data": {
      "text/plain": [
       "tensor([ 1.4911e+03,  5.1275e-01,  8.4337e-01,  8.5916e-01,  8.9295e-01,\n",
       "         8.5700e-01,  6.4509e-01,  5.1318e-01,  5.5462e-01,  5.5973e-01,\n",
       "         5.5796e-01,  5.6298e-01,  5.8261e-01,  6.2575e-01,  6.9889e-01,\n",
       "         7.8368e-01,  8.2901e-01,  8.0153e-01,  7.4227e-01,  7.0015e-01,\n",
       "         6.8426e-01,  7.0078e-01,  7.4652e-01,  8.1346e-01,  8.8995e-01,\n",
       "         9.4815e-01,  9.6697e-01,  9.4397e-01,  8.8860e-01,  8.2002e-01,\n",
       "         7.5378e-01,  7.0264e-01,  6.6285e-01,  6.0880e-01,  5.0119e-01,\n",
       "         2.9607e-01,  2.8485e-02, -1.6374e-01, -2.5050e-01, -3.0566e-01,\n",
       "        -3.3155e-01, -3.2410e-01, -3.1487e-01, -3.3474e-01, -4.0350e-01,\n",
       "        -5.1681e-01, -6.5184e-01, -7.9235e-01, -9.4100e-01, -1.0964e+00,\n",
       "        -1.2487e+00, -1.3911e+00, -1.5143e+00, -1.6111e+00, -1.6770e+00,\n",
       "        -1.7050e+00, -1.6960e+00, -1.6679e+00, -1.6406e+00, -1.6156e+00,\n",
       "        -1.5779e+00, -1.5281e+00, -1.4831e+00, -1.4445e+00, -1.4007e+00,\n",
       "        -1.3611e+00, -1.3574e+00, -1.3878e+00, -1.4151e+00, -1.4092e+00,\n",
       "        -1.3630e+00, -1.2903e+00, -1.2018e+00, -1.1003e+00, -9.9041e-01,\n",
       "        -8.7501e-01, -7.6340e-01, -6.6076e-01, -5.5533e-01, -4.3807e-01,\n",
       "        -3.1336e-01, -1.9144e-01, -8.0065e-02,  1.6096e-02,  9.6134e-02,\n",
       "         1.6199e-01,  2.1397e-01,  2.5188e-01,  2.7672e-01,  2.9130e-01,\n",
       "         2.9850e-01,  3.0105e-01,  3.0226e-01,  3.0419e-01,  3.0841e-01,\n",
       "         3.1591e-01,  3.2537e-01,  3.3488e-01,  3.4348e-01,  3.5139e-01,\n",
       "         3.5954e-01,  3.6875e-01,  3.7917e-01,  3.9045e-01,  4.0238e-01,\n",
       "         4.1453e-01, -1.4837e+03], dtype=torch.float64)"
      ]
     },
     "execution_count": 68,
     "metadata": {},
     "output_type": "execute_result"
    }
   ],
   "source": [
    "derivative = derivative.squeeze()\n",
    "derivative\n"
   ]
  },
  {
   "cell_type": "code",
   "execution_count": 71,
   "metadata": {},
   "outputs": [
    {
     "data": {
      "text/plain": [
       "tensor([ 1.,  1.,  1.,  1.,  1.,  1.,  1.,  1.,  1.,  1.,  1.,  1.,  1.,  1.,\n",
       "         1.,  1.,  1.,  1.,  1.,  1.,  1.,  1.,  1.,  1.,  1.,  1.,  1.,  1.,\n",
       "         1.,  1.,  1.,  1.,  1.,  1.,  1.,  1.,  1., -1., -1., -1., -1., -1.,\n",
       "        -1., -1., -1., -1., -1., -1., -1., -1., -1., -1., -1., -1., -1., -1.,\n",
       "        -1., -1., -1., -1., -1., -1., -1., -1., -1., -1., -1., -1., -1., -1.,\n",
       "        -1., -1., -1., -1., -1., -1., -1., -1., -1., -1., -1., -1., -1.,  1.,\n",
       "         1.,  1.,  1.,  1.,  1.,  1.,  1.,  1.,  1.,  1.,  1.,  1.,  1.,  1.,\n",
       "         1.,  1.,  1.,  1.,  1.,  1.,  1.,  1., -1.], dtype=torch.float64)"
      ]
     },
     "execution_count": 71,
     "metadata": {},
     "output_type": "execute_result"
    }
   ],
   "source": [
    "sign = torch.sign(derivative)\n",
    "sign"
   ]
  },
  {
   "cell_type": "code",
   "execution_count": 73,
   "metadata": {},
   "outputs": [
    {
     "data": {
      "text/plain": [
       "tensor([ 0.,  0.,  0.,  0.,  0.,  0.,  0.,  0.,  0.,  0.,  0.,  0.,  0.,  0.,\n",
       "         0.,  0.,  0.,  0.,  0.,  0.,  0.,  0.,  0.,  0.,  0.,  0.,  0.,  0.,\n",
       "         0.,  0.,  0.,  0.,  0.,  0.,  0.,  0., -2.,  0.,  0.,  0.,  0.,  0.,\n",
       "         0.,  0.,  0.,  0.,  0.,  0.,  0.,  0.,  0.,  0.,  0.,  0.,  0.,  0.,\n",
       "         0.,  0.,  0.,  0.,  0.,  0.,  0.,  0.,  0.,  0.,  0.,  0.,  0.,  0.,\n",
       "         0.,  0.,  0.,  0.,  0.,  0.,  0.,  0.,  0.,  0.,  0.,  0.,  2.,  0.,\n",
       "         0.,  0.,  0.,  0.,  0.,  0.,  0.,  0.,  0.,  0.,  0.,  0.,  0.,  0.,\n",
       "         0.,  0.,  0.,  0.,  0.,  0.,  0., -2.], dtype=torch.float64)"
      ]
     },
     "execution_count": 73,
     "metadata": {},
     "output_type": "execute_result"
    }
   ],
   "source": [
    "sign_diff = sign[1:] - sign[:-1] ##? conv1D kernel [-1.0, 1.0]\n",
    "sign_diff"
   ]
  },
  {
   "cell_type": "code",
   "execution_count": 80,
   "metadata": {},
   "outputs": [
    {
     "data": {
      "text/plain": [
       "tensor([[[ 0.,  0.,  0.,  0.,  0.,  0.,  0.,  0.,  0.,  0.,  0.,  0.,  0.,  0.,\n",
       "           0.,  0.,  0.,  0.,  0.,  0.,  0.,  0.,  0.,  0.,  0.,  0.,  0.,  0.,\n",
       "           0.,  0.,  0.,  0.,  0.,  0.,  0.,  0., -2.,  0.,  0.,  0.,  0.,  0.,\n",
       "           0.,  0.,  0.,  0.,  0.,  0.,  0.,  0.,  0.,  0.,  0.,  0.,  0.,  0.,\n",
       "           0.,  0.,  0.,  0.,  0.,  0.,  0.,  0.,  0.,  0.,  0.,  0.,  0.,  0.,\n",
       "           0.,  0.,  0.,  0.,  0.,  0.,  0.,  0.,  0.,  0.,  0.,  0.,  2.,  0.,\n",
       "           0.,  0.,  0.,  0.,  0.,  0.,  0.,  0.,  0.,  0.,  0.,  0.,  0.,  0.,\n",
       "           0.,  0.,  0.,  0.,  0.,  0.,  0., -2.]]], dtype=torch.float64)"
      ]
     },
     "execution_count": 80,
     "metadata": {},
     "output_type": "execute_result"
    }
   ],
   "source": [
    "F.conv1d(sign.unsqueeze(0).unsqueeze(0),  torch.tensor([-1.0, 1.0]).double().unsqueeze(0).unsqueeze(0), padding=0)"
   ]
  },
  {
   "cell_type": "code",
   "execution_count": 76,
   "metadata": {},
   "outputs": [
    {
     "data": {
      "text/plain": [
       "36"
      ]
     },
     "execution_count": 76,
     "metadata": {},
     "output_type": "execute_result"
    }
   ],
   "source": [
    "first_sign_change_index = (sign_diff != 0).nonzero(as_tuple=True)[0]\n",
    "first_sign_change_index = first_sign_change_index[0].item() if len(first_sign_change_index) > 0 else None\n",
    "first_sign_change_index"
   ]
  },
  {
   "cell_type": "code",
   "execution_count": 149,
   "metadata": {},
   "outputs": [],
   "source": [
    "def get_ecs(ssp: torch.tensor):\n",
    "\n",
    "    kernel = torch.tensor([-1.0, 0.0, 1.0]).double().unsqueeze(0).unsqueeze(0)\n",
    "    derivative = F.conv1d(ssp, kernel, padding=1)\n",
    "\n",
    "    derivative = derivative.squeeze()\n",
    "    sign = torch.sign(derivative)\n",
    "\n",
    "\n",
    "    sign_diff = sign[1:] - sign[:-1]\n",
    "    ##ou F.conv1d(sign.unsqueeze(0).unsqueeze(0),  torch.tensor([-1.0, 1.0]).double().unsqueeze(0).unsqueeze(0), padding=0)\n",
    "\n",
    "    first_sign_change_index = (sign_diff != 0).nonzero(as_tuple=True)[0]\n",
    "    first_sign_change_index = first_sign_change_index[0].item() if len(first_sign_change_index) > 0 else None\n",
    "    \n",
    "    return first_sign_change_index\n"
   ]
  },
  {
   "cell_type": "code",
   "execution_count": 178,
   "metadata": {},
   "outputs": [],
   "source": [
    "ssp = torch.tensor(ssf_arr[364,:,235,231], requires_grad=True).unsqueeze(0).unsqueeze(0) "
   ]
  },
  {
   "cell_type": "code",
   "execution_count": 179,
   "metadata": {},
   "outputs": [
    {
     "data": {
      "text/plain": [
       "tensor([[[1491.0048, 1491.0916, 1491.5176, 1491.9350, 1492.3767, 1492.8280,\n",
       "          1493.2337, 1493.4730, 1493.7469, 1494.0277, 1494.3066, 1494.5856,\n",
       "          1494.8696, 1495.1682, 1495.4954, 1495.8671, 1496.2790, 1496.6961,\n",
       "          1497.0806, 1497.4384, 1497.7807, 1498.1227, 1498.4815, 1498.8692,\n",
       "          1499.2949, 1499.7592, 1500.2431, 1500.7261, 1501.1871, 1501.6147,\n",
       "          1502.0071, 1502.3685, 1502.7097, 1503.0314, 1503.3185, 1503.5325,\n",
       "          1503.6146, 1503.5610, 1503.4509, 1503.3105, 1503.1452, 1502.9790,\n",
       "          1502.8211, 1502.6641, 1502.4863, 1502.2606, 1501.9695, 1501.6088,\n",
       "          1501.1772, 1500.6678, 1500.0808, 1499.4191, 1498.6897, 1497.9048,\n",
       "          1497.0786, 1496.2278, 1495.3736, 1494.5318, 1493.7057, 1492.8912,\n",
       "          1492.0901, 1491.3134, 1490.5619, 1489.8303, 1489.1174, 1488.4295,\n",
       "          1487.7563, 1487.0722, 1486.3685, 1485.6571, 1484.9593, 1484.2941,\n",
       "          1483.6691, 1483.0922, 1482.5687, 1482.1018, 1481.6937, 1481.3384,\n",
       "          1481.0330, 1480.7831, 1480.5949, 1480.4697, 1480.4035, 1480.3897,\n",
       "          1480.4196, 1480.4858, 1480.5816, 1480.6998, 1480.8334, 1480.9765,\n",
       "          1481.1247, 1481.2750, 1481.4258, 1481.5772, 1481.7300, 1481.8857,\n",
       "          1482.0459, 1482.2110, 1482.3808, 1482.5545, 1482.7322, 1482.9141,\n",
       "          1483.1009, 1483.2932, 1483.4914, 1483.6956, 1483.9059]]],\n",
       "       dtype=torch.float64, grad_fn=<UnsqueezeBackward0>)"
      ]
     },
     "execution_count": 179,
     "metadata": {},
     "output_type": "execute_result"
    }
   ],
   "source": [
    "ssp"
   ]
  },
  {
   "cell_type": "code",
   "execution_count": 86,
   "metadata": {},
   "outputs": [
    {
     "data": {
      "text/plain": [
       "<SignBackward0 at 0x7fe7feae4100>"
      ]
     },
     "execution_count": 86,
     "metadata": {},
     "output_type": "execute_result"
    }
   ],
   "source": [
    "kernel = torch.tensor([-1.0, 0.0, 1.0]).double().unsqueeze(0).unsqueeze(0)\n",
    "derivative = F.conv1d(ssp, kernel, padding=1)\n",
    "\n",
    "derivative = derivative.squeeze()\n",
    "sign = torch.sign(derivative)\n",
    "sign.grad_fn"
   ]
  },
  {
   "cell_type": "code",
   "execution_count": 90,
   "metadata": {},
   "outputs": [
    {
     "data": {
      "text/plain": [
       "[<matplotlib.lines.Line2D at 0x7fe7e3b2c310>]"
      ]
     },
     "execution_count": 90,
     "metadata": {},
     "output_type": "execute_result"
    },
    {
     "data": {
      "image/png": "[encoded data removed]",
      "text/plain": [
       "<Figure size 640x480 with 1 Axes>"
      ]
     },
     "metadata": {},
     "output_type": "display_data"
    }
   ],
   "source": [
    "plt.plot(derivative.cpu().detach().numpy())"
   ]
  },
  {
   "cell_type": "code",
   "execution_count": 153,
   "metadata": {},
   "outputs": [
    {
     "data": {
      "text/plain": [
       "tensor([ 36,  82, 105])"
      ]
     },
     "execution_count": 153,
     "metadata": {},
     "output_type": "execute_result"
    }
   ],
   "source": [
    "sign_diff = sign[1:] - sign[:-1]\n",
    "##ou F.conv1d(sign.unsqueeze(0).unsqueeze(0),  torch.tensor([-1.0, 1.0]).double().unsqueeze(0).unsqueeze(0), padding=0)\n",
    "\n",
    "first_sign_change_index = (sign_diff != 0).nonzero(as_tuple=True)[0]\n",
    "first_sign_change_index"
   ]
  },
  {
   "cell_type": "code",
   "execution_count": 155,
   "metadata": {},
   "outputs": [
    {
     "data": {
      "text/plain": [
       "tensor([[ 36],\n",
       "        [ 82],\n",
       "        [105]])"
      ]
     },
     "execution_count": 155,
     "metadata": {},
     "output_type": "execute_result"
    }
   ],
   "source": [
    "(sign_diff != 0).nonzero()"
   ]
  },
  {
   "cell_type": "code",
   "execution_count": 127,
   "metadata": {},
   "outputs": [
    {
     "data": {
      "text/plain": [
       "tensor([ 1.4911e+03,  5.1275e-01,  8.4337e-01,  8.5916e-01,  8.9295e-01,\n",
       "         8.5700e-01,  6.4509e-01,  5.1318e-01,  5.5462e-01,  5.5973e-01,\n",
       "         5.5796e-01,  5.6298e-01,  5.8261e-01,  6.2575e-01,  6.9889e-01,\n",
       "         7.8368e-01,  8.2901e-01,  8.0153e-01,  7.4227e-01,  7.0015e-01,\n",
       "         6.8426e-01,  7.0078e-01,  7.4652e-01,  8.1346e-01,  8.8995e-01,\n",
       "         9.4815e-01,  9.6697e-01,  9.4397e-01,  8.8860e-01,  8.2002e-01,\n",
       "         7.5378e-01,  7.0264e-01,  6.6285e-01,  6.0880e-01,  5.0119e-01,\n",
       "         2.9607e-01,  2.8485e-02, -1.6374e-01, -2.5050e-01, -3.0566e-01,\n",
       "        -3.3155e-01, -3.2410e-01, -3.1487e-01, -3.3474e-01, -4.0350e-01,\n",
       "        -5.1681e-01, -6.5184e-01, -7.9235e-01, -9.4100e-01, -1.0964e+00,\n",
       "        -1.2487e+00, -1.3911e+00, -1.5143e+00, -1.6111e+00, -1.6770e+00,\n",
       "        -1.7050e+00, -1.6960e+00, -1.6679e+00, -1.6406e+00, -1.6156e+00,\n",
       "        -1.5779e+00, -1.5281e+00, -1.4831e+00, -1.4445e+00, -1.4007e+00,\n",
       "        -1.3611e+00, -1.3574e+00, -1.3878e+00, -1.4151e+00, -1.4092e+00,\n",
       "        -1.3630e+00, -1.2903e+00, -1.2018e+00, -1.1003e+00, -9.9041e-01,\n",
       "        -8.7501e-01, -7.6340e-01, -6.6076e-01, -5.5533e-01, -4.3807e-01,\n",
       "        -3.1336e-01, -1.9144e-01, -8.0065e-02,  1.6096e-02,  9.6134e-02,\n",
       "         1.6199e-01,  2.1397e-01,  2.5188e-01,  2.7672e-01,  2.9130e-01,\n",
       "         2.9850e-01,  3.0105e-01,  3.0226e-01,  3.0419e-01,  3.0841e-01,\n",
       "         3.1591e-01,  3.2537e-01,  3.3488e-01,  3.4348e-01,  3.5139e-01,\n",
       "         3.5954e-01,  3.6875e-01,  3.7917e-01,  3.9045e-01,  4.0238e-01,\n",
       "         4.1453e-01, -1.4837e+03], dtype=torch.float64,\n",
       "       grad_fn=<SqueezeBackward0>)"
      ]
     },
     "execution_count": 127,
     "metadata": {},
     "output_type": "execute_result"
    }
   ],
   "source": [
    "derivative"
   ]
  },
  {
   "cell_type": "code",
   "execution_count": 157,
   "metadata": {},
   "outputs": [
    {
     "data": {
      "text/plain": [
       "[<matplotlib.lines.Line2D at 0x7fe7e3cd3250>]"
      ]
     },
     "execution_count": 157,
     "metadata": {},
     "output_type": "execute_result"
    },
    {
     "data": {
      "image/png": "[encoded data removed]",
      "text/plain": [
       "<Figure size 640x480 with 1 Axes>"
      ]
     },
     "metadata": {},
     "output_type": "display_data"
    }
   ],
   "source": [
    "y = differentiable_sign(derivative).detach().numpy()\n",
    "plt.plot(y)"
   ]
  },
  {
   "cell_type": "code",
   "execution_count": 148,
   "metadata": {},
   "outputs": [
    {
     "data": {
      "text/plain": [
       "[<matplotlib.lines.Line2D at 0x7fe7acfbcd10>]"
      ]
     },
     "execution_count": 148,
     "metadata": {},
     "output_type": "execute_result"
    },
    {
     "data": {
      "image/png": "[encoded data removed]",
      "text/plain": [
       "<Figure size 640x480 with 1 Axes>"
      ]
     },
     "metadata": {},
     "output_type": "display_data"
    }
   ],
   "source": [
    "y = F.tanh(derivative*10).detach().numpy()\n",
    "plt.plot(y)\n",
    "        "
   ]
  },
  {
   "cell_type": "code",
   "execution_count": 152,
   "metadata": {},
   "outputs": [
    {
     "data": {
      "text/plain": [
       "<matplotlib.legend.Legend at 0x7fe7ad9a8550>"
      ]
     },
     "execution_count": 152,
     "metadata": {},
     "output_type": "execute_result"
    },
    {
     "data": {
      "image/png": "[encoded data removed]",
      "text/plain": [
       "<Figure size 640x480 with 1 Axes>"
      ]
     },
     "metadata": {},
     "output_type": "display_data"
    }
   ],
   "source": [
    "x = np.linspace(-5,5)\n",
    "#plt.plot(x, label = \"x\")\n",
    "plt.plot(np.tanh(x), label=\"tanh(x)\")\n",
    "plt.plot(np.tanh(x*2), label=\"tanh(2x)\")\n",
    "plt.plot(np.tanh(x*10), label=\"tanh(10x)\")\n",
    "plt.legend()"
   ]
  },
  {
   "cell_type": "code",
   "execution_count": 162,
   "metadata": {},
   "outputs": [
    {
     "data": {
      "text/plain": [
       "tensor([-0., -0., -0., -0., -0., -0., -0., -0., -0., -0., -0., -0., -0., -0.,\n",
       "        -0., -0., -0., -0., -0., -0., -0., -0., -0., -0., -0., -0., -0., -0.,\n",
       "        -0., -0., -0., -0., -0., -0., -0., -0.,  2., -0., -0., -0., -0., -0.,\n",
       "        -0., -0., -0., -0., -0., -0., -0., -0., -0., -0., -0., -0., -0., -0.,\n",
       "        -0., -0., -0., -0., -0., -0., -0., -0., -0., -0., -0., -0., -0., -0.,\n",
       "        -0., -0., -0., -0., -0., -0., -0., -0., -0., -0., -0., -0., -2., -0.,\n",
       "        -0., -0., -0., -0., -0., -0., -0., -0., -0., -0., -0., -0., -0., -0.,\n",
       "        -0., -0., -0., -0., -0., -0., -0.,  2.], dtype=torch.float64,\n",
       "       grad_fn=<NegBackward0>)"
      ]
     },
     "execution_count": 162,
     "metadata": {},
     "output_type": "execute_result"
    }
   ],
   "source": [
    "-sign_diff"
   ]
  },
  {
   "cell_type": "code",
   "execution_count": 167,
   "metadata": {},
   "outputs": [
    {
     "data": {
      "text/plain": [
       "tensor([-0., -0., -0., -0., -0., -0., -0., -0., -0., -0., -0., -0., -0., -0., -0., -0., -0., -0.,\n",
       "        -0., -0., -0., -0., -0., -0., -0., -0., -0., -0., -0., -0., -0., -0., -0., -0., -0., -0.,\n",
       "        1., -0., -0., -0., -0., -0., -0., -0., -0., -0., -0., -0., -0., -0., -0., -0., -0., -0.,\n",
       "        -0., -0., -0., -0., -0., -0., -0., -0., -0., -0., -0., -0., -0., -0., -0., -0., -0., -0.,\n",
       "        -0., -0., -0., -0., -0., -0., -0., -0., -0., -0., 0., -0., -0., -0., -0., -0., -0., -0.,\n",
       "        -0., -0., -0., -0., -0., -0., -0., -0., -0., -0., -0., -0., -0., -0., -0., 1.],\n",
       "       dtype=torch.float64, grad_fn=<ReluBackward0>)"
      ]
     },
     "execution_count": 167,
     "metadata": {},
     "output_type": "execute_result"
    }
   ],
   "source": [
    "sign_change = F.relu(-0.5*sign_diff)\n",
    "sign_change"
   ]
  },
  {
   "cell_type": "code",
   "execution_count": 168,
   "metadata": {},
   "outputs": [
    {
     "data": {
      "text/plain": [
       "[<matplotlib.lines.Line2D at 0x7fe7acde1490>]"
      ]
     },
     "execution_count": 168,
     "metadata": {},
     "output_type": "execute_result"
    },
    {
     "data": {
      "image/png": "[encoded data removed]",
      "text/plain": [
       "<Figure size 640x480 with 1 Axes>"
      ]
     },
     "metadata": {},
     "output_type": "display_data"
    }
   ],
   "source": [
    "plt.plot(sign_change.detach().numpy())"
   ]
  },
  {
   "cell_type": "code",
   "execution_count": 169,
   "metadata": {},
   "outputs": [
    {
     "data": {
      "text/plain": [
       "tensor([0., 0., 0., 0., 0., 0., 0., 0., 0., 0., 0., 0., 0., 0., 0., 0., 0., 0.,\n",
       "        0., 0., 0., 0., 0., 0., 0., 0., 0., 0., 0., 0., 0., 0., 0., 0., 0., 0.,\n",
       "        1., 1., 1., 1., 1., 1., 1., 1., 1., 1., 1., 1., 1., 1., 1., 1., 1., 1.,\n",
       "        1., 1., 1., 1., 1., 1., 1., 1., 1., 1., 1., 1., 1., 1., 1., 1., 1., 1.,\n",
       "        1., 1., 1., 1., 1., 1., 1., 1., 1., 1., 1., 1., 1., 1., 1., 1., 1., 1.,\n",
       "        1., 1., 1., 1., 1., 1., 1., 1., 1., 1., 1., 1., 1., 1., 1., 2.],\n",
       "       dtype=torch.float64, grad_fn=<CumsumBackward0>)"
      ]
     },
     "execution_count": 169,
     "metadata": {},
     "output_type": "execute_result"
    }
   ],
   "source": [
    "torch.cumsum(sign_change, dim=0)"
   ]
  },
  {
   "cell_type": "code",
   "execution_count": 174,
   "metadata": {},
   "outputs": [
    {
     "data": {
      "text/plain": [
       "tensor([0., 0., 0., 0., 0., 0., 0., 0., 0., 0., 0., 0., 0., 0., 0., 0., 0., 0.,\n",
       "        0., 0., 0., 0., 0., 0., 0., 0., 0., 0., 0., 0., 0., 0., 0., 0., 0., 0.,\n",
       "        1., 1., 1., 1., 1., 1., 1., 1., 1., 1., 1., 1., 1., 1., 1., 1., 1., 1.,\n",
       "        1., 1., 1., 1., 1., 1., 1., 1., 1., 1., 1., 1., 1., 1., 1., 1., 1., 1.,\n",
       "        1., 1., 1., 1., 1., 1., 1., 1., 1., 1., 1., 1., 1., 1., 1., 1., 1., 1.,\n",
       "        1., 1., 1., 1., 1., 1., 1., 1., 1., 1., 1., 1., 1., 1., 1., 0.])"
      ]
     },
     "execution_count": 174,
     "metadata": {},
     "output_type": "execute_result"
    }
   ],
   "source": [
    "mask = (torch.cumsum(sign_change, dim=0) == 1).float()\n",
    "mask"
   ]
  },
  {
   "cell_type": "code",
   "execution_count": 175,
   "metadata": {},
   "outputs": [
    {
     "data": {
      "text/plain": [
       "tensor([-0., -0., -0., -0., -0., -0., -0., -0., -0., -0., -0., -0., -0., -0., -0., -0., -0., -0.,\n",
       "        -0., -0., -0., -0., -0., -0., -0., -0., -0., -0., -0., -0., -0., -0., -0., -0., -0., -0.,\n",
       "        1., -0., -0., -0., -0., -0., -0., -0., -0., -0., -0., -0., -0., -0., -0., -0., -0., -0.,\n",
       "        -0., -0., -0., -0., -0., -0., -0., -0., -0., -0., -0., -0., -0., -0., -0., -0., -0., -0.,\n",
       "        -0., -0., -0., -0., -0., -0., -0., -0., -0., -0., 0., -0., -0., -0., -0., -0., -0., -0.,\n",
       "        -0., -0., -0., -0., -0., -0., -0., -0., -0., -0., -0., -0., -0., -0., -0., 0.],\n",
       "       dtype=torch.float64, grad_fn=<MulBackward0>)"
      ]
     },
     "execution_count": 175,
     "metadata": {},
     "output_type": "execute_result"
    }
   ],
   "source": [
    "sign_change * mask"
   ]
  },
  {
   "cell_type": "code",
   "execution_count": 8,
   "metadata": {},
   "outputs": [],
   "source": [
    "class DifferentiableSign(torch.autograd.Function):\n",
    "\n",
    "    @staticmethod\n",
    "    def forward(ctx, input: torch.tensor, tau: float):\n",
    "\n",
    "        ctx.save_for_backward(input)\n",
    "        ctx.tau = tau\n",
    "        return torch.sign(input)\n",
    "\n",
    "    @staticmethod\n",
    "    def backward(ctx, grad_output):\n",
    "\n",
    "        input, = ctx.saved_tensors\n",
    "        tau = ctx.tau\n",
    "        \n",
    "        # Compute tanh with temperature in the backward pass\n",
    "        input_scaled = input * tau\n",
    "        tanh_grad = F.tanh(input_scaled)\n",
    "        \n",
    "        return grad_output * tanh_grad, None\n",
    "    \n",
    "    \n",
    "def differentiable_sign(input, tau: float = 10):\n",
    "    return DifferentiableSign.apply(input, tau)"
   ]
  },
  {
   "cell_type": "code",
   "execution_count": 177,
   "metadata": {},
   "outputs": [],
   "source": [
    "def get_differentiable_ecs(ssp: torch.tensor):\n",
    "    kernel = torch.tensor([-1.0, 0.0, 1.0]).double().unsqueeze(0).unsqueeze(0)\n",
    "    derivative = F.conv1d(ssp, kernel, padding=1)\n",
    "\n",
    "    derivative = derivative.squeeze()\n",
    "    sign = differentiable_sign(derivative)\n",
    "\n",
    "\n",
    "    sign_diff = sign[1:] - sign[:-1]\n",
    "    ##ou sign_diff = F.conv1d(sign.unsqueeze(0).unsqueeze(0),  torch.tensor([-1.0, 1.0]).double().unsqueeze(0).unsqueeze(0), padding=0)\n",
    "\n",
    "    sign_change = F.relu(-0.5*sign_diff)\n",
    "    \n",
    "    mask = (torch.cumsum(sign_change, dim=0) == 1).float()\n",
    "    first_sign_change_index = sign_change * mask\n",
    "    \n",
    "    return first_sign_change_index"
   ]
  },
  {
   "cell_type": "code",
   "execution_count": 180,
   "metadata": {},
   "outputs": [
    {
     "data": {
      "text/plain": [
       "36"
      ]
     },
     "execution_count": 180,
     "metadata": {},
     "output_type": "execute_result"
    }
   ],
   "source": [
    "get_ecs(ssp)"
   ]
  },
  {
   "cell_type": "code",
   "execution_count": 185,
   "metadata": {},
   "outputs": [
    {
     "data": {
      "text/plain": [
       "tensor([-0., -0., -0., -0., -0., -0., -0., -0., -0., -0., -0., -0., -0., -0., -0., -0., -0., -0.,\n",
       "        -0., -0., -0., -0., -0., -0., -0., -0., -0., -0., -0., -0., -0., -0., -0., -0., -0., -0.,\n",
       "        1., -0., -0., -0., -0., -0., -0., -0., -0., -0., -0., -0., -0., -0., -0., -0., -0., -0.,\n",
       "        -0., -0., -0., -0., -0., -0., -0., -0., -0., -0., -0., -0., -0., -0., -0., -0., -0., -0.,\n",
       "        -0., -0., -0., -0., -0., -0., -0., -0., -0., -0., 0., -0., -0., -0., -0., -0., -0., -0.,\n",
       "        -0., -0., -0., -0., -0., -0., -0., -0., -0., -0., -0., -0., -0., -0., -0., 0.],\n",
       "       dtype=torch.float64, grad_fn=<MulBackward0>)"
      ]
     },
     "execution_count": 185,
     "metadata": {},
     "output_type": "execute_result"
    }
   ],
   "source": [
    "get_differentiable_ecs(ssp)"
   ]
  },
  {
   "cell_type": "code",
   "execution_count": 9,
   "metadata": {},
   "outputs": [
    {
     "data": {
      "text/plain": [
       "torch.Size([365, 1, 107, 57600])"
      ]
     },
     "execution_count": 9,
     "metadata": {},
     "output_type": "execute_result"
    }
   ],
   "source": [
    "ssf_batch = torch.tensor(ssf_arr[:,:,:,:])\n",
    "ssf_batch = ssf_batch.reshape(365,107,-1).unsqueeze(1)\n",
    "ssf_batch.shape"
   ]
  },
  {
   "cell_type": "code",
   "execution_count": 12,
   "metadata": {},
   "outputs": [
    {
     "data": {
      "text/plain": [
       "torch.Size([365, 1, 107, 57600])"
      ]
     },
     "execution_count": 12,
     "metadata": {},
     "output_type": "execute_result"
    }
   ],
   "source": [
    "kernel = torch.tensor([-1.0, 0.0, 1.0]).double().unsqueeze(0).unsqueeze(0).unsqueeze(-1)\n",
    "derivative = F.conv2d(ssf_batch, kernel, padding=(1,0))\n",
    "derivative.shape"
   ]
  },
  {
   "cell_type": "code",
   "execution_count": 13,
   "metadata": {},
   "outputs": [
    {
     "data": {
      "text/plain": [
       "torch.Size([365, 1, 107, 57600])"
      ]
     },
     "execution_count": 13,
     "metadata": {},
     "output_type": "execute_result"
    }
   ],
   "source": [
    "sign = differentiable_sign(derivative)\n",
    "sign.shape"
   ]
  },
  {
   "cell_type": "code",
   "execution_count": 14,
   "metadata": {},
   "outputs": [
    {
     "data": {
      "text/plain": [
       "torch.Size([365, 1, 107, 57600])"
      ]
     },
     "execution_count": 14,
     "metadata": {},
     "output_type": "execute_result"
    }
   ],
   "source": [
    "F.tanh(derivative).shape"
   ]
  },
  {
   "cell_type": "code",
   "execution_count": 15,
   "metadata": {},
   "outputs": [
    {
     "data": {
      "text/plain": [
       "torch.Size([365, 1, 107, 57600])"
      ]
     },
     "execution_count": 15,
     "metadata": {},
     "output_type": "execute_result"
    }
   ],
   "source": [
    "sign_diff = F.conv2d(sign,  torch.tensor([-1.0, 1.0, 0.]).double().unsqueeze(0).unsqueeze(0).unsqueeze(-1), padding=(1,0))\n",
    "sign_diff.shape"
   ]
  },
  {
   "cell_type": "code",
   "execution_count": 17,
   "metadata": {},
   "outputs": [
    {
     "data": {
      "text/plain": [
       "torch.Size([365, 1, 107, 57600])"
      ]
     },
     "execution_count": 17,
     "metadata": {},
     "output_type": "execute_result"
    }
   ],
   "source": [
    "sign_change = F.relu(-0.5*sign_diff)\n",
    "\n",
    "mask = (torch.cumsum(sign_change, dim=2) == 1).float()\n",
    "first_sign_change_index = sign_change * mask\n",
    "first_sign_change_index.shape"
   ]
  },
  {
   "cell_type": "code",
   "execution_count": 18,
   "metadata": {},
   "outputs": [
    {
     "data": {
      "text/plain": [
       "torch.Size([365, 107, 240, 240])"
      ]
     },
     "execution_count": 18,
     "metadata": {},
     "output_type": "execute_result"
    }
   ],
   "source": [
    "first_sign_change_index= first_sign_change_index.squeeze().reshape(365,107,240,240)\n",
    "first_sign_change_index.shape"
   ]
  },
  {
   "cell_type": "code",
   "execution_count": 19,
   "metadata": {},
   "outputs": [
    {
     "data": {
      "text/plain": [
       "tensor([[[[0, 0, 0,  ..., 0, 0, 0],\n",
       "          [0, 0, 0,  ..., 0, 0, 0],\n",
       "          [0, 0, 0,  ..., 0, 0, 0],\n",
       "          ...,\n",
       "          [0, 0, 0,  ..., 0, 0, 0],\n",
       "          [0, 0, 0,  ..., 0, 0, 0],\n",
       "          [0, 0, 0,  ..., 0, 0, 0]],\n",
       "\n",
       "         [[0, 0, 0,  ..., 1, 1, 1],\n",
       "          [0, 0, 0,  ..., 1, 1, 1],\n",
       "          [0, 0, 0,  ..., 1, 1, 1],\n",
       "          ...,\n",
       "          [0, 0, 0,  ..., 0, 0, 0],\n",
       "          [0, 0, 0,  ..., 0, 0, 0],\n",
       "          [0, 0, 0,  ..., 0, 0, 0]],\n",
       "\n",
       "         [[1, 1, 1,  ..., 0, 0, 0],\n",
       "          [1, 1, 1,  ..., 0, 0, 0],\n",
       "          [0, 1, 1,  ..., 0, 0, 0],\n",
       "          ...,\n",
       "          [0, 0, 0,  ..., 0, 0, 0],\n",
       "          [0, 0, 0,  ..., 0, 0, 0],\n",
       "          [0, 0, 0,  ..., 0, 0, 0]],\n",
       "\n",
       "         ...,\n",
       "\n",
       "         [[0, 0, 0,  ..., 0, 0, 0],\n",
       "          [0, 0, 0,  ..., 0, 0, 0],\n",
       "          [0, 0, 0,  ..., 0, 0, 0],\n",
       "          ...,\n",
       "          [0, 0, 0,  ..., 0, 0, 0],\n",
       "          [0, 0, 0,  ..., 0, 0, 0],\n",
       "          [0, 0, 0,  ..., 0, 0, 0]],\n",
       "\n",
       "         [[0, 0, 0,  ..., 0, 0, 0],\n",
       "          [0, 0, 0,  ..., 0, 0, 0],\n",
       "          [0, 0, 0,  ..., 0, 0, 0],\n",
       "          ...,\n",
       "          [0, 0, 0,  ..., 0, 0, 0],\n",
       "          [0, 0, 0,  ..., 0, 0, 0],\n",
       "          [0, 0, 0,  ..., 0, 0, 0]],\n",
       "\n",
       "         [[0, 0, 0,  ..., 0, 0, 0],\n",
       "          [0, 0, 0,  ..., 0, 0, 0],\n",
       "          [0, 0, 0,  ..., 0, 0, 0],\n",
       "          ...,\n",
       "          [0, 0, 0,  ..., 0, 0, 0],\n",
       "          [0, 0, 0,  ..., 0, 0, 0],\n",
       "          [0, 0, 0,  ..., 0, 0, 0]]],\n",
       "\n",
       "\n",
       "        [[[0, 0, 0,  ..., 0, 0, 0],\n",
       "          [0, 0, 0,  ..., 0, 0, 0],\n",
       "          [0, 0, 0,  ..., 0, 0, 0],\n",
       "          ...,\n",
       "          [0, 0, 0,  ..., 0, 0, 0],\n",
       "          [0, 0, 0,  ..., 0, 0, 0],\n",
       "          [0, 0, 0,  ..., 0, 0, 0]],\n",
       "\n",
       "         [[1, 1, 1,  ..., 1, 1, 1],\n",
       "          [1, 1, 1,  ..., 1, 1, 1],\n",
       "          [1, 1, 1,  ..., 1, 1, 1],\n",
       "          ...,\n",
       "          [0, 0, 0,  ..., 1, 1, 1],\n",
       "          [0, 0, 0,  ..., 1, 1, 1],\n",
       "          [0, 0, 0,  ..., 1, 1, 1]],\n",
       "\n",
       "         [[0, 0, 0,  ..., 0, 0, 0],\n",
       "          [0, 0, 0,  ..., 0, 0, 0],\n",
       "          [0, 0, 0,  ..., 0, 0, 0],\n",
       "          ...,\n",
       "          [0, 0, 0,  ..., 0, 0, 0],\n",
       "          [0, 0, 0,  ..., 0, 0, 0],\n",
       "          [0, 0, 0,  ..., 0, 0, 0]],\n",
       "\n",
       "         ...,\n",
       "\n",
       "         [[0, 0, 0,  ..., 0, 0, 0],\n",
       "          [0, 0, 0,  ..., 0, 0, 0],\n",
       "          [0, 0, 0,  ..., 0, 0, 0],\n",
       "          ...,\n",
       "          [0, 0, 0,  ..., 0, 0, 0],\n",
       "          [0, 0, 0,  ..., 0, 0, 0],\n",
       "          [0, 0, 0,  ..., 0, 0, 0]],\n",
       "\n",
       "         [[0, 0, 0,  ..., 0, 0, 0],\n",
       "          [0, 0, 0,  ..., 0, 0, 0],\n",
       "          [0, 0, 0,  ..., 0, 0, 0],\n",
       "          ...,\n",
       "          [0, 0, 0,  ..., 0, 0, 0],\n",
       "          [0, 0, 0,  ..., 0, 0, 0],\n",
       "          [0, 0, 0,  ..., 0, 0, 0]],\n",
       "\n",
       "         [[0, 0, 0,  ..., 0, 0, 0],\n",
       "          [0, 0, 0,  ..., 0, 0, 0],\n",
       "          [0, 0, 0,  ..., 0, 0, 0],\n",
       "          ...,\n",
       "          [0, 0, 0,  ..., 0, 0, 0],\n",
       "          [0, 0, 0,  ..., 0, 0, 0],\n",
       "          [0, 0, 0,  ..., 0, 0, 0]]],\n",
       "\n",
       "\n",
       "        [[[0, 0, 0,  ..., 0, 0, 0],\n",
       "          [0, 0, 0,  ..., 0, 0, 0],\n",
       "          [0, 0, 0,  ..., 0, 0, 0],\n",
       "          ...,\n",
       "          [0, 0, 0,  ..., 0, 0, 0],\n",
       "          [0, 0, 0,  ..., 0, 0, 0],\n",
       "          [0, 0, 0,  ..., 0, 0, 0]],\n",
       "\n",
       "         [[1, 1, 1,  ..., 1, 1, 1],\n",
       "          [1, 1, 1,  ..., 1, 1, 1],\n",
       "          [1, 1, 1,  ..., 1, 1, 1],\n",
       "          ...,\n",
       "          [0, 0, 0,  ..., 1, 1, 1],\n",
       "          [0, 0, 0,  ..., 1, 1, 1],\n",
       "          [0, 0, 0,  ..., 1, 1, 1]],\n",
       "\n",
       "         [[0, 0, 0,  ..., 0, 0, 0],\n",
       "          [0, 0, 0,  ..., 0, 0, 0],\n",
       "          [0, 0, 0,  ..., 0, 0, 0],\n",
       "          ...,\n",
       "          [0, 0, 0,  ..., 0, 0, 0],\n",
       "          [0, 0, 0,  ..., 0, 0, 0],\n",
       "          [0, 0, 0,  ..., 0, 0, 0]],\n",
       "\n",
       "         ...,\n",
       "\n",
       "         [[0, 0, 0,  ..., 0, 0, 0],\n",
       "          [0, 0, 0,  ..., 0, 0, 0],\n",
       "          [0, 0, 0,  ..., 0, 0, 0],\n",
       "          ...,\n",
       "          [0, 0, 0,  ..., 0, 0, 0],\n",
       "          [0, 0, 0,  ..., 0, 0, 0],\n",
       "          [0, 0, 0,  ..., 0, 0, 0]],\n",
       "\n",
       "         [[0, 0, 0,  ..., 0, 0, 0],\n",
       "          [0, 0, 0,  ..., 0, 0, 0],\n",
       "          [0, 0, 0,  ..., 0, 0, 0],\n",
       "          ...,\n",
       "          [0, 0, 0,  ..., 0, 0, 0],\n",
       "          [0, 0, 0,  ..., 0, 0, 0],\n",
       "          [0, 0, 0,  ..., 0, 0, 0]],\n",
       "\n",
       "         [[0, 0, 0,  ..., 0, 0, 0],\n",
       "          [0, 0, 0,  ..., 0, 0, 0],\n",
       "          [0, 0, 0,  ..., 0, 0, 0],\n",
       "          ...,\n",
       "          [0, 0, 0,  ..., 0, 0, 0],\n",
       "          [0, 0, 0,  ..., 0, 0, 0],\n",
       "          [0, 0, 0,  ..., 0, 0, 0]]],\n",
       "\n",
       "\n",
       "        ...,\n",
       "\n",
       "\n",
       "        [[[0, 0, 0,  ..., 0, 0, 0],\n",
       "          [0, 0, 0,  ..., 0, 0, 0],\n",
       "          [0, 0, 0,  ..., 0, 0, 0],\n",
       "          ...,\n",
       "          [0, 0, 0,  ..., 0, 0, 0],\n",
       "          [0, 0, 0,  ..., 0, 0, 0],\n",
       "          [0, 0, 0,  ..., 0, 0, 0]],\n",
       "\n",
       "         [[1, 1, 1,  ..., 1, 1, 1],\n",
       "          [1, 1, 1,  ..., 1, 1, 1],\n",
       "          [1, 1, 1,  ..., 1, 1, 1],\n",
       "          ...,\n",
       "          [0, 0, 0,  ..., 1, 1, 1],\n",
       "          [0, 0, 0,  ..., 1, 0, 1],\n",
       "          [0, 0, 0,  ..., 1, 1, 1]],\n",
       "\n",
       "         [[0, 0, 0,  ..., 0, 0, 0],\n",
       "          [0, 0, 0,  ..., 0, 0, 0],\n",
       "          [0, 0, 0,  ..., 0, 0, 0],\n",
       "          ...,\n",
       "          [0, 0, 0,  ..., 0, 0, 0],\n",
       "          [0, 0, 0,  ..., 0, 0, 0],\n",
       "          [0, 0, 0,  ..., 0, 0, 0]],\n",
       "\n",
       "         ...,\n",
       "\n",
       "         [[0, 0, 0,  ..., 0, 0, 0],\n",
       "          [0, 0, 0,  ..., 0, 0, 0],\n",
       "          [0, 0, 0,  ..., 0, 0, 0],\n",
       "          ...,\n",
       "          [0, 0, 0,  ..., 0, 0, 0],\n",
       "          [0, 0, 0,  ..., 0, 0, 0],\n",
       "          [0, 0, 0,  ..., 0, 0, 0]],\n",
       "\n",
       "         [[0, 0, 0,  ..., 0, 0, 0],\n",
       "          [0, 0, 0,  ..., 0, 0, 0],\n",
       "          [0, 0, 0,  ..., 0, 0, 0],\n",
       "          ...,\n",
       "          [0, 0, 0,  ..., 0, 0, 0],\n",
       "          [0, 0, 0,  ..., 0, 0, 0],\n",
       "          [0, 0, 0,  ..., 0, 0, 0]],\n",
       "\n",
       "         [[0, 0, 0,  ..., 0, 0, 0],\n",
       "          [0, 0, 0,  ..., 0, 0, 0],\n",
       "          [0, 0, 0,  ..., 0, 0, 0],\n",
       "          ...,\n",
       "          [0, 0, 0,  ..., 0, 0, 0],\n",
       "          [0, 0, 0,  ..., 0, 0, 0],\n",
       "          [0, 0, 0,  ..., 0, 0, 0]]],\n",
       "\n",
       "\n",
       "        [[[0, 0, 0,  ..., 0, 0, 0],\n",
       "          [0, 0, 0,  ..., 0, 0, 0],\n",
       "          [0, 0, 0,  ..., 0, 0, 0],\n",
       "          ...,\n",
       "          [0, 0, 0,  ..., 0, 0, 0],\n",
       "          [0, 0, 0,  ..., 0, 0, 0],\n",
       "          [0, 0, 0,  ..., 0, 0, 0]],\n",
       "\n",
       "         [[1, 1, 1,  ..., 1, 1, 1],\n",
       "          [1, 1, 1,  ..., 1, 1, 1],\n",
       "          [1, 1, 1,  ..., 1, 1, 1],\n",
       "          ...,\n",
       "          [0, 0, 0,  ..., 1, 1, 1],\n",
       "          [0, 0, 0,  ..., 1, 1, 1],\n",
       "          [0, 0, 0,  ..., 1, 1, 1]],\n",
       "\n",
       "         [[0, 0, 0,  ..., 0, 0, 0],\n",
       "          [0, 0, 0,  ..., 0, 0, 0],\n",
       "          [0, 0, 0,  ..., 0, 0, 0],\n",
       "          ...,\n",
       "          [0, 0, 0,  ..., 0, 0, 0],\n",
       "          [0, 0, 0,  ..., 0, 0, 0],\n",
       "          [0, 0, 0,  ..., 0, 0, 0]],\n",
       "\n",
       "         ...,\n",
       "\n",
       "         [[0, 0, 0,  ..., 0, 0, 0],\n",
       "          [0, 0, 0,  ..., 0, 0, 0],\n",
       "          [0, 0, 0,  ..., 0, 0, 0],\n",
       "          ...,\n",
       "          [0, 0, 0,  ..., 0, 0, 0],\n",
       "          [0, 0, 0,  ..., 0, 0, 0],\n",
       "          [0, 0, 0,  ..., 0, 0, 0]],\n",
       "\n",
       "         [[0, 0, 0,  ..., 0, 0, 0],\n",
       "          [0, 0, 0,  ..., 0, 0, 0],\n",
       "          [0, 0, 0,  ..., 0, 0, 0],\n",
       "          ...,\n",
       "          [0, 0, 0,  ..., 0, 0, 0],\n",
       "          [0, 0, 0,  ..., 0, 0, 0],\n",
       "          [0, 0, 0,  ..., 0, 0, 0]],\n",
       "\n",
       "         [[0, 0, 0,  ..., 0, 0, 0],\n",
       "          [0, 0, 0,  ..., 0, 0, 0],\n",
       "          [0, 0, 0,  ..., 0, 0, 0],\n",
       "          ...,\n",
       "          [0, 0, 0,  ..., 0, 0, 0],\n",
       "          [0, 0, 0,  ..., 0, 0, 0],\n",
       "          [0, 0, 0,  ..., 0, 0, 0]]],\n",
       "\n",
       "\n",
       "        [[[0, 0, 0,  ..., 0, 0, 0],\n",
       "          [0, 0, 0,  ..., 0, 0, 0],\n",
       "          [0, 0, 0,  ..., 0, 0, 0],\n",
       "          ...,\n",
       "          [0, 0, 0,  ..., 0, 0, 0],\n",
       "          [0, 0, 0,  ..., 0, 0, 0],\n",
       "          [0, 0, 0,  ..., 0, 0, 0]],\n",
       "\n",
       "         [[1, 1, 1,  ..., 1, 1, 1],\n",
       "          [1, 1, 1,  ..., 1, 1, 1],\n",
       "          [1, 1, 1,  ..., 1, 1, 1],\n",
       "          ...,\n",
       "          [0, 0, 0,  ..., 1, 1, 1],\n",
       "          [0, 0, 0,  ..., 1, 1, 1],\n",
       "          [0, 0, 0,  ..., 1, 1, 1]],\n",
       "\n",
       "         [[0, 0, 0,  ..., 0, 0, 0],\n",
       "          [0, 0, 0,  ..., 0, 0, 0],\n",
       "          [0, 0, 0,  ..., 0, 0, 0],\n",
       "          ...,\n",
       "          [0, 0, 0,  ..., 0, 0, 0],\n",
       "          [0, 0, 0,  ..., 0, 0, 0],\n",
       "          [0, 0, 0,  ..., 0, 0, 0]],\n",
       "\n",
       "         ...,\n",
       "\n",
       "         [[0, 0, 0,  ..., 0, 0, 0],\n",
       "          [0, 0, 0,  ..., 0, 0, 0],\n",
       "          [0, 0, 0,  ..., 0, 0, 0],\n",
       "          ...,\n",
       "          [0, 0, 0,  ..., 0, 0, 0],\n",
       "          [0, 0, 0,  ..., 0, 0, 0],\n",
       "          [0, 0, 0,  ..., 0, 0, 0]],\n",
       "\n",
       "         [[0, 0, 0,  ..., 0, 0, 0],\n",
       "          [0, 0, 0,  ..., 0, 0, 0],\n",
       "          [0, 0, 0,  ..., 0, 0, 0],\n",
       "          ...,\n",
       "          [0, 0, 0,  ..., 0, 0, 0],\n",
       "          [0, 0, 0,  ..., 0, 0, 0],\n",
       "          [0, 0, 0,  ..., 0, 0, 0]],\n",
       "\n",
       "         [[0, 0, 0,  ..., 0, 0, 0],\n",
       "          [0, 0, 0,  ..., 0, 0, 0],\n",
       "          [0, 0, 0,  ..., 0, 0, 0],\n",
       "          ...,\n",
       "          [0, 0, 0,  ..., 0, 0, 0],\n",
       "          [0, 0, 0,  ..., 0, 0, 0],\n",
       "          [0, 0, 0,  ..., 0, 0, 0]]]], dtype=torch.int16)"
      ]
     },
     "execution_count": 19,
     "metadata": {},
     "output_type": "execute_result"
    }
   ],
   "source": [
    "\n",
    "first_sign_change_index = first_sign_change_index.short()\n",
    "first_sign_change_index"
   ]
  },
  {
   "cell_type": "code",
   "execution_count": 20,
   "metadata": {},
   "outputs": [],
   "source": [
    "z = xr.open_dataarray(ssp_path).z.data"
   ]
  },
  {
   "cell_type": "code",
   "execution_count": 21,
   "metadata": {},
   "outputs": [],
   "source": [
    "z_tensor = torch.tensor(z).unsqueeze(0).unsqueeze(-1).unsqueeze(-1)"
   ]
  },
  {
   "cell_type": "code",
   "execution_count": 22,
   "metadata": {},
   "outputs": [
    {
     "data": {
      "text/plain": [
       "torch.Size([365, 107, 240, 240])"
      ]
     },
     "execution_count": 22,
     "metadata": {},
     "output_type": "execute_result"
    }
   ],
   "source": [
    "(first_sign_change_index * z_tensor).shape"
   ]
  },
  {
   "cell_type": "code",
   "execution_count": 23,
   "metadata": {},
   "outputs": [
    {
     "data": {
      "text/plain": [
       "141.3820115025511"
      ]
     },
     "execution_count": 23,
     "metadata": {},
     "output_type": "execute_result"
    }
   ],
   "source": [
    "ecs_arr[364,235,231]"
   ]
  },
  {
   "cell_type": "code",
   "execution_count": 24,
   "metadata": {},
   "outputs": [
    {
     "data": {
      "text/plain": [
       "2.794210420277172"
      ]
     },
     "execution_count": 24,
     "metadata": {},
     "output_type": "execute_result"
    }
   ],
   "source": [
    "ecs_arr[0,0,0]"
   ]
  },
  {
   "cell_type": "code",
   "execution_count": 25,
   "metadata": {},
   "outputs": [
    {
     "data": {
      "text/plain": [
       "0.0"
      ]
     },
     "execution_count": 25,
     "metadata": {},
     "output_type": "execute_result"
    }
   ],
   "source": [
    "ecs_arr[25,25,25]"
   ]
  },
  {
   "cell_type": "code",
   "execution_count": 26,
   "metadata": {},
   "outputs": [
    {
     "data": {
      "text/plain": [
       "tensor([0, 0, 0, 0, 0, 0, 0, 0, 0, 0, 0, 0, 0, 0, 0, 0, 0, 0, 0, 0, 0, 0, 0, 0,\n",
       "        0, 0, 0, 0, 0, 0, 0, 0, 0, 0, 0, 0, 0, 1, 0, 0, 0, 0, 0, 0, 0, 0, 0, 0,\n",
       "        0, 0, 0, 0, 0, 0, 0, 0, 0, 0, 0, 0, 0, 0, 0, 0, 0, 0, 0, 0, 0, 0, 0, 0,\n",
       "        0, 0, 0, 0, 0, 0, 0, 0, 0, 0, 0, 0, 0, 0, 0, 0, 0, 0, 0, 0, 0, 0, 0, 0,\n",
       "        0, 0, 0, 0, 0, 0, 0, 0, 0, 0, 0], dtype=torch.int16)"
      ]
     },
     "execution_count": 26,
     "metadata": {},
     "output_type": "execute_result"
    }
   ],
   "source": [
    "first_sign_change_index[364,:,235,231]"
   ]
  },
  {
   "cell_type": "code",
   "execution_count": 27,
   "metadata": {},
   "outputs": [
    {
     "data": {
      "text/plain": [
       "tensor([0, 0, 1, 0, 0, 0, 0, 0, 0, 0, 0, 0, 0, 0, 0, 0, 0, 0, 0, 0, 0, 0, 0, 0,\n",
       "        0, 0, 0, 0, 0, 0, 0, 0, 0, 0, 0, 0, 0, 0, 0, 0, 0, 0, 0, 0, 0, 0, 0, 0,\n",
       "        0, 0, 0, 0, 0, 0, 0, 0, 0, 0, 0, 0, 0, 0, 0, 0, 0, 0, 0, 0, 0, 0, 0, 0,\n",
       "        0, 0, 0, 0, 0, 0, 0, 0, 0, 0, 0, 0, 0, 0, 0, 0, 0, 0, 0, 0, 0, 0, 0, 0,\n",
       "        0, 0, 0, 0, 0, 0, 0, 0, 0, 0, 0], dtype=torch.int16)"
      ]
     },
     "execution_count": 27,
     "metadata": {},
     "output_type": "execute_result"
    }
   ],
   "source": [
    "first_sign_change_index[0,:,0,0]"
   ]
  },
  {
   "cell_type": "code",
   "execution_count": 29,
   "metadata": {},
   "outputs": [
    {
     "data": {
      "text/plain": [
       "tensor([  0.0000,   0.0000,   0.0000,   0.0000,   0.0000,   0.0000,   0.0000,\n",
       "          0.0000,   0.0000,   0.0000,   0.0000,   0.0000,   0.0000,   0.0000,\n",
       "          0.0000,   0.0000,   0.0000,   0.0000,   0.0000,   0.0000,   0.0000,\n",
       "          0.0000,   0.0000,   0.0000,   0.0000,   0.0000,   0.0000,   0.0000,\n",
       "          0.0000,   0.0000,   0.0000,   0.0000,   0.0000,   0.0000,   0.0000,\n",
       "          0.0000,   0.0000, 148.3498,   0.0000,   0.0000,   0.0000,   0.0000,\n",
       "          0.0000,   0.0000,   0.0000,   0.0000,   0.0000,   0.0000,   0.0000,\n",
       "          0.0000,   0.0000,   0.0000,   0.0000,   0.0000,   0.0000,   0.0000,\n",
       "          0.0000,   0.0000,   0.0000,   0.0000,   0.0000,   0.0000,   0.0000,\n",
       "          0.0000,   0.0000,   0.0000,   0.0000,   0.0000,   0.0000,   0.0000,\n",
       "          0.0000,   0.0000,   0.0000,   0.0000,   0.0000,   0.0000,   0.0000,\n",
       "          0.0000,   0.0000,   0.0000,   0.0000,   0.0000,   0.0000,   0.0000,\n",
       "          0.0000,   0.0000,   0.0000,   0.0000,   0.0000,   0.0000,   0.0000,\n",
       "          0.0000,   0.0000,   0.0000,   0.0000,   0.0000,   0.0000,   0.0000,\n",
       "          0.0000,   0.0000,   0.0000,   0.0000,   0.0000,   0.0000,   0.0000,\n",
       "          0.0000,   0.0000], dtype=torch.float64)"
      ]
     },
     "execution_count": 29,
     "metadata": {},
     "output_type": "execute_result"
    }
   ],
   "source": [
    "(first_sign_change_index * z_tensor)[364,:,235,231]"
   ]
  },
  {
   "cell_type": "code",
   "execution_count": 2,
   "metadata": {},
   "outputs": [],
   "source": [
    "tensor_1 = torch.tensor([0., 2., 0., 0., 0., 0., 0., 0., 0., 2.,0.])\n",
    "tensor_2 = torch.tensor([1., 0., 0., 0., 0., 0., 2., 0., 0., 0.,0.])\n",
    "tensor_3 = torch.tensor([0., 0., 0., 0., 0., 0., 2., 1., 0., 0.,0.])"
   ]
  },
  {
   "cell_type": "code",
   "execution_count": 8,
   "metadata": {},
   "outputs": [
    {
     "data": {
      "text/plain": [
       "tensor([0.8808, 0.7311, 0.7311, 0.7311, 0.7311, 0.7311, 0.9526, 0.7311, 0.7311,\n",
       "        0.7311, 0.7311])"
      ]
     },
     "execution_count": 8,
     "metadata": {},
     "output_type": "execute_result"
    }
   ],
   "source": [
    "F.sigmoid((tensor_2+1))"
   ]
  },
  {
   "cell_type": "code",
   "execution_count": 9,
   "metadata": {},
   "outputs": [
    {
     "data": {
      "text/plain": [
       "[<matplotlib.lines.Line2D at 0x7f324d44c0d0>]"
      ]
     },
     "execution_count": 9,
     "metadata": {},
     "output_type": "execute_result"
    },
    {
     "data": {
      "image/png": "[encoded data removed]",
      "text/plain": [
       "<Figure size 640x480 with 1 Axes>"
      ]
     },
     "metadata": {},
     "output_type": "display_data"
    }
   ],
   "source": [
    "plt.plot(F.sigmoid(10*(tensor_2+1)))"
   ]
  },
  {
   "cell_type": "code",
   "execution_count": 17,
   "metadata": {},
   "outputs": [
    {
     "data": {
      "text/plain": [
       "tensor([1., 0., 0., 0., 0., 0., 1., 0., 0., 0., 0.])"
      ]
     },
     "execution_count": 17,
     "metadata": {},
     "output_type": "execute_result"
    }
   ],
   "source": [
    "F.tanh(10*tensor_2)"
   ]
  },
  {
   "cell_type": "code",
   "execution_count": 12,
   "metadata": {},
   "outputs": [
    {
     "data": {
      "text/plain": [
       "[<matplotlib.lines.Line2D at 0x7f324d44d450>]"
      ]
     },
     "execution_count": 12,
     "metadata": {},
     "output_type": "execute_result"
    },
    {
     "data": {
      "image/png": "[encoded data removed]",
      "text/plain": [
       "<Figure size 640x480 with 1 Axes>"
      ]
     },
     "metadata": {},
     "output_type": "display_data"
    }
   ],
   "source": [
    "plt.plot(F.tanh(tensor_2))"
   ]
  },
  {
   "cell_type": "code",
   "execution_count": null,
   "metadata": {},
   "outputs": [],
   "source": []
  }
 ],
 "metadata": {
  "kernelspec": {
   "display_name": "fsc_env",
   "language": "python",
   "name": "python3"
  },
  "language_info": {
   "codemirror_mode": {
    "name": "ipython",
    "version": 3
   },
   "file_extension": ".py",
   "mimetype": "text/x-python",
   "name": "python",
   "nbconvert_exporter": "python",
   "pygments_lexer": "ipython3",
   "version": "3.11.7"
  }
 },
 "nbformat": 4,
 "nbformat_minor": 2
}
