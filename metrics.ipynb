{
 "cells": [
  {
   "cell_type": "code",
   "execution_count": null,
   "metadata": {},
   "outputs": [],
   "source": [
    "import xarray as xr\n",
    "import numpy as np\n",
    "import torch\n",
    "import pytorch_lightning as pl\n",
    "import torch.nn as nn\n",
    "#import xrft\n",
    "import matplotlib.pyplot as plt\n",
    "#import pandas as pd\n",
    "from tqdm import tqdm\n",
    "import os\n",
    "import glob\n",
    "from pathlib import Path\n",
    "from typing import Union, List\n",
    "from sklearn.decomposition import PCA\n",
    "from sklearn.metrics import mean_squared_error\n",
    "from sklearn.metrics import r2_score\n",
    "import torch.nn.functional as F\n",
    "import cartopy.crs as ccrs\n",
    "import pickle"
   ]
  },
  {
   "cell_type": "code",
   "execution_count": null,
   "metadata": {},
   "outputs": [],
   "source": [
    "from src.utils import load_ssf_acoustic_variables, load_sound_speed_fields\n",
    "from src.data import TrainingItem, AutoEncoderDatamodule\n",
    "from src.acoustic_predictor import ConvBlock, AcousticPredictor\n",
    "from src.autoencoder import AutoEncoder"
   ]
  },
  {
   "cell_type": "code",
   "execution_count": null,
   "metadata": {},
   "outputs": [],
   "source": [
    "sound_speed_path = \"/DATASET/eNATL/eNATL60_BLB002_sound_speed_regrid_0_1000m.nc\"\n",
    "ecs_path = \"/DATASET/eNATL/eNATL60_BLB002_cutoff_freq_regrid_0_1000m.nc\""
   ]
  },
  {
   "cell_type": "code",
   "execution_count": null,
   "metadata": {},
   "outputs": [],
   "source": [
    "ae_path = \"/homes/o23gauvr/Documents/thèse/code/FASCINATION/outputs/AE_without_AP/4_4_relu_lr_0.001\"\n",
    "model_ae_path = glob.glob(f\"{ae_path}/**/*.ckpt\",recursive=True)[0]\n",
    "pickle_ae_path = glob.glob(f\"{ae_path}/**/*.pickle\",recursive=True)[0]\n",
    "arch_shape = '_'.join(ae_path.split('/')[-1].split('_')[:2])\n",
    "\n",
    "model_ap_path= \"/homes/o23gauvr/Documents/thèse/code/FASCINATION/outputs/accoustic_predictor/\"\n",
    "model_ap_path = glob.glob(f\"{model_ap_path}/**/*.ckpt\",recursive=True)[0]\n",
    "acoustic_predictor = AcousticPredictor.load_from_checkpoint(checkpoint_path = model_ap_path, input_depth= 107)"
   ]
  },
  {
   "cell_type": "code",
   "execution_count": null,
   "metadata": {},
   "outputs": [],
   "source": [
    "with open(pickle_ae_path, 'rb') as file:\n",
    "    time_idx_split = pickle.load(file)\n",
    "\n",
    "ss_da_test = ss_da.sel(time=time_idx_split['test'])\n",
    "ecs_da_test = ecs_da.sel(time=time_idx_split['test'])\n",
    "coords = ss_da_test.coords"
   ]
  },
  {
   "cell_type": "code",
   "execution_count": null,
   "metadata": {},
   "outputs": [],
   "source": [
    "y_min_axs = -20\n",
    "y_max_axs = 1020\n",
    "x_min_axs = 1450\n",
    "x_max_axs = 1550\n"
   ]
  }
 ],
 "metadata": {
  "language_info": {
   "name": "python"
  }
 },
 "nbformat": 4,
 "nbformat_minor": 2
}
